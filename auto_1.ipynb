{
 "cells": [
  {
   "cell_type": "code",
   "execution_count": null,
   "metadata": {},
   "outputs": [],
   "source": [
    "import pandas as pd\n",
    "import numpy as np\n",
    "import os\n",
    "import re\n",
    "import pptx \n",
    "import pyxlsb\n",
    "import datetime\n",
    "import xlrd\n",
    "from pptx import Presentation\n",
    "from pptx.util import Pt \n",
    "from pptx.enum.text import PP_ALIGN\n",
    "from pptx.dml.color import RGBColor\n",
    "from datetime import datetime\n",
    "import warnings\n",
    "warnings.filterwarnings(\"ignore\")\n",
    "from pptx.chart.data import ChartData"
   ]
  },
  {
   "cell_type": "markdown",
   "metadata": {},
   "source": [
    "Путь к расчетником (file_1 - самый старый) + путь и название презентации"
   ]
  },
  {
   "cell_type": "code",
   "execution_count": null,
   "metadata": {},
   "outputs": [],
   "source": [
    "file_1 = 'name_1.xlsb'\n",
    "file_2 = 'name_2.xlsb'\n",
    "file_3 = 'name_3.xlsb'\n",
    "presentation = 'Приложение.pptx'"
   ]
  },
  {
   "cell_type": "markdown",
   "metadata": {},
   "source": [
    "Значения МСФО для Gross Exposure"
   ]
  },
  {
   "cell_type": "code",
   "execution_count": null,
   "metadata": {},
   "outputs": [],
   "source": [
    "ifrs_1 = 133\n",
    "ifrs_2 = 134\n",
    "ifrs_3 = 141"
   ]
  },
  {
   "cell_type": "markdown",
   "metadata": {},
   "source": [
    "Проверяем значения триггера-warning для cib и смб.\n",
    "\n"
   ]
  },
  {
   "cell_type": "code",
   "execution_count": null,
   "metadata": {},
   "outputs": [],
   "source": [
    "trigger_cib = 1.03\n",
    "warning_cib= 1.04\n",
    "el_cib_1 = 1.05\n",
    "el_cib_2 = 1.06\n",
    "el_cib_3 = 1.07\n",
    "trigger_mcb = 1.08\n",
    "warning_mcb= 1.09\n",
    "el_mcb_1 = 1.10\n",
    "el_mcb_2 = 1.11\n",
    "el_mcb_3 = 1.12"
   ]
  },
  {
   "cell_type": "markdown",
   "metadata": {},
   "source": [
    "Проверяем правильные ли страницы слайдов указаны. (страница - 1 , так как счет идет с 0) "
   ]
  },
  {
   "cell_type": "code",
   "execution_count": null,
   "metadata": {},
   "outputs": [],
   "source": [
    "slide_cred_1 = 1\n",
    "slide_cred_2 = 2\n",
    "slide_corp = 3\n",
    "slide_dost = 4 \n",
    "slide_pr_1 = 25\n",
    "slide_pr_2 = 26\n",
    "slide_str_1 = 27\n",
    "slide_str_2 = 28"
   ]
  },
  {
   "cell_type": "markdown",
   "metadata": {},
   "source": [
    "Чтение базы PA"
   ]
  },
  {
   "cell_type": "code",
   "execution_count": null,
   "metadata": {},
   "outputs": [],
   "source": [
    "baza = pd.read_excel('База.xlsm','Реестр')\n",
    "baza.columns = baza.iloc[0]\n",
    "baza=baza.iloc[1:]"
   ]
  },
  {
   "cell_type": "markdown",
   "metadata": {},
   "source": [
    "### REF читаем для 25 и 26 слайда."
   ]
  },
  {
   "cell_type": "code",
   "execution_count": null,
   "metadata": {},
   "outputs": [],
   "source": [
    "ref = pd.read_excel('ref.xlsx')"
   ]
  },
  {
   "cell_type": "markdown",
   "metadata": {},
   "source": [
    "### ЭК читаем - данные на последнюю дату должны уже быть, иначе ошибка"
   ]
  },
  {
   "cell_type": "code",
   "execution_count": null,
   "metadata": {},
   "outputs": [],
   "source": [
    "ec = pd.read_excel('EC.xlsx')"
   ]
  },
  {
   "cell_type": "markdown",
   "metadata": {},
   "source": [
    "### Читаем расчетники"
   ]
  },
  {
   "cell_type": "code",
   "execution_count": null,
   "metadata": {},
   "outputs": [],
   "source": [
    "df_1_0 = pd.read_excel(file_1, 'Портфель', engine='pyxlsb') \n",
    "df_1_0 = df_1_0.loc[2:].reset_index(drop=True)\n",
    "for column in ['VTB_group_member', 'Type_product_id','LE_id','Gross_balance_MIX_mRUR', 'CAR_IRB_mRUR','LGD_MS']:\n",
    "    df_1_0[column] = pd.to_numeric(df_1_0[column], errors='coerce')\n",
    "datetime_date = xlrd.xldate_as_datetime(df_1_0['Report_date'][0], 0)\n",
    "date_object = datetime_date.date()\n",
    "string_date = date_object.isoformat()\n",
    "df_1_0['Report_date'] = string_date\n",
    "datetime_object = datetime.strptime(df_1_0.Report_date[0], '%Y-%m-%d')\n",
    "df_1_0.Report_date[0] = datetime_object.strftime('%d.%m.%Y')\n",
    "df_1_0.Report_date = df_1_0.Report_date[0]\n",
    "df_1_0['Gross_balance_MIX_mRUR']=df_1_0['Gross_balance_MIX_mRUR'].fillna(0)"
   ]
  },
  {
   "cell_type": "code",
   "execution_count": null,
   "metadata": {},
   "outputs": [],
   "source": [
    "df_2_0 = pd.read_excel(file_2, 'Портфель', engine='pyxlsb') \n",
    "df_2_0 = df_2_0.loc[2:].reset_index(drop=True)\n",
    "for column in ['VTB_group_member', 'Type_product_id','LE_id','Gross_balance_MIX_mRUR', 'CAR_IRB_mRUR','LGD_MS']:\n",
    "    df_2_0[column] = pd.to_numeric(df_2_0[column], errors='coerce')\n",
    "datetime_date = xlrd.xldate_as_datetime(df_2_0['Report_date'][0], 0)\n",
    "date_object = datetime_date.date()\n",
    "string_date = date_object.isoformat()\n",
    "df_2_0['Report_date'] = string_date\n",
    "datetime_object = datetime.strptime(df_2_0.Report_date[0], '%Y-%m-%d')\n",
    "df_2_0.Report_date[0] = datetime_object.strftime('%d.%m.%Y')\n",
    "df_2_0.Report_date = df_2_0.Report_date[0]\n",
    "df_2_0['Gross_balance_MIX_mRUR']=df_2_0['Gross_balance_MIX_mRUR'].fillna(0)"
   ]
  },
  {
   "cell_type": "code",
   "execution_count": null,
   "metadata": {},
   "outputs": [],
   "source": [
    "df_3_0 = pd.read_excel(file_3, 'Портфель', engine='pyxlsb') \n",
    "df_3_0 = df_3_0.loc[2:].reset_index(drop=True)\n",
    "for column in ['VTB_group_member', 'Type_product_id','LE_id','Gross_balance_MIX_mRUR', 'CAR_IRB_mRUR','LGD_MS']:\n",
    "    df_3_0[column] = pd.to_numeric(df_3_0[column], errors='coerce')\n",
    "datetime_date = xlrd.xldate_as_datetime(df_3_0['Report_date'][0], 0)\n",
    "date_object = datetime_date.date()\n",
    "string_date = date_object.isoformat()\n",
    "df_3_0['Report_date'] = string_date\n",
    "datetime_object = datetime.strptime(df_3_0.Report_date[0], '%Y-%m-%d')\n",
    "df_3_0.Report_date[0] = datetime_object.strftime('%d.%m.%Y')\n",
    "df_3_0.Report_date = df_3_0.Report_date[0]\n",
    "df_3_0['Gross_balance_MIX_mRUR']=df_3_0['Gross_balance_MIX_mRUR'].fillna(0)"
   ]
  },
  {
   "cell_type": "markdown",
   "metadata": {},
   "source": [
    "### Функции"
   ]
  },
  {
   "cell_type": "code",
   "execution_count": null,
   "metadata": {},
   "outputs": [],
   "source": [
    "def dates_heading(table_where_date, column, table_number, font):\n",
    "    table_number.table.cell(0,column).text = table_where_date.Report_date[0]\n",
    "    run = table_number.table.cell(0,column).text_frame.paragraphs[0]\n",
    "    run.font.bold = True\n",
    "    run.font.size = font\n",
    "    run.font.color.rgb = RGBColor(255,255,255)\n",
    "    cell = table_number.table.cell(0, column)\n",
    "    cell.text_frame.paragraphs[0].alignment=PP_ALIGN.CENTER \n",
    "def dates_heading_delta(table_where_date, column, table_number, font):\n",
    "    table_number.table.cell(0,column).text = '\\u0394'+' '+'c'+ ' ' + table_where_date.Report_date[0]\n",
    "    run = table_number.table.cell(0,column).text_frame.paragraphs[0]\n",
    "    run.font.bold = True\n",
    "    run.font.size = font\n",
    "    run.font.color.rgb = RGBColor(255,255,255)\n",
    "    cell = table_number.table.cell(0, column)\n",
    "    cell.text_frame.paragraphs[0].alignment=PP_ALIGN.CENTER \n",
    "def four_table_2(df_mb, df_bb):\n",
    "    itogo_mb = df_mb['Gross_balance_MIX_mRUR'].sum()/1000\n",
    "    other_mb = df_mb[(df_mb['DPD_cont'] <= 30)|(df_mb['DPD_cont'].isnull()==True)]['Gross_balance_MIX_mRUR'].sum()/1000\n",
    "    ppz_mb = df_mb[(df_mb['DPD_cont'] <= 90) & (df_mb['DPD_cont'] > 30)]['Gross_balance_MIX_mRUR'].sum()/1000\n",
    "    pz_mb = itogo_mb-other_mb-ppz_mb\n",
    "    itogo_bb = df_bb['Gross_balance_MIX_mRUR'].sum()/1000\n",
    "    ppz_bb = df_bb[df_bb['Status_gwl_id'] == 3]['Gross_balance_MIX_mRUR'].sum()/1000\n",
    "    pz_bb = df_bb[df_bb['Status_gwl_id'] >= 4]['Gross_balance_MIX_mRUR'].sum()/1000\n",
    "    other_bb = itogo_bb-ppz_bb-pz_bb\n",
    "    itogo_1_ = itogo_bb + itogo_mb\n",
    "    ppz_1_ = ppz_bb + ppz_mb\n",
    "    pz_1_ = pz_bb + pz_mb\n",
    "    other_1_ = other_bb + other_mb\n",
    "    return itogo_1_, ppz_1_, pz_1_, other_1_\n",
    "def four_table_2_reserv(df_mb, df_bb):\n",
    "    prov_ppz_bb = df_bb[(df_bb['Status_gwl_id'] == 3) & (df_bb['Type_product_id'] == 10)]['Provisions_IFRS_mRUR'].sum()/1000\n",
    "    prov_pz_bb = df_bb[(df_bb['Status_gwl_id'] >= 4) & (df_bb['Type_product_id'] == 10)]['Provisions_IFRS_mRUR'].sum()/1000\n",
    "    prov_other_bb = df_bb[((df_bb['Status_gwl_id'].isin([0,1,2]))|(df_bb['Status_gwl_id'].isnull()== True)) &(df_bb['Type_product_id'] == 10)]['Provisions_IFRS_mRUR'].sum()/1000\n",
    "    ifrs_ppz_bb = df_bb[(df_bb['Status_gwl_id'] == 3) & (df_bb['Type_product_id'] == 10)]['Gross_balance_IFRS_mRUR'].sum()/1000\n",
    "    ifrs_pz_bb = df_bb[(df_bb['Status_gwl_id'] >= 4) & (df_bb['Type_product_id'] == 10)]['Gross_balance_IFRS_mRUR'].sum()/1000\n",
    "    ifrs_other_bb = df_bb[((df_bb['Status_gwl_id'].isin([0,1,2]))|(df_bb['Status_gwl_id'].isnull()== True)) &(df_bb['Type_product_id'] == 10)]['Gross_balance_IFRS_mRUR'].sum()/1000\n",
    "    prov_other_mb = df_mb[((df_mb['DPD_cont'] <= 30)|(df_mb['DPD_cont'].isnull()==True)) & (df_mb['Type_product_id'] == 10)]['Provisions_IFRS_mRUR'].sum()/1000\n",
    "    prov_ppz_mb = df_mb[(df_mb['DPD_cont'] <= 90) & (df_mb['DPD_cont'] > 30) & (df_mb['Type_product_id'] == 10)]['Provisions_IFRS_mRUR'].sum()/1000\n",
    "    prov_pz_mb = df_mb[df_mb['Type_product_id'] == 10]['Provisions_IFRS_mRUR'].sum()/1000-prov_ppz_mb-prov_other_mb\n",
    "    ifrs_other_mb = df_mb[((df_mb['DPD_cont'] <= 30)|(df_mb['DPD_cont'].isnull()==True)) & (df_mb['Type_product_id'] == 10)]['Gross_balance_IFRS_mRUR'].sum()/1000\n",
    "    ifrs_ppz_mb = df_mb[(df_mb['DPD_cont'] <= 90) & (df_mb['DPD_cont'] > 30) & (df_mb['Type_product_id'] == 10)]['Gross_balance_IFRS_mRUR'].sum()/1000\n",
    "    ifrs_pz_mb = df_mb[df_mb['Type_product_id'] == 10]['Gross_balance_IFRS_mRUR'].sum()/1000-ifrs_ppz_mb-ifrs_other_mb\n",
    "    reserve_ppz = (prov_ppz_mb+prov_ppz_bb)/(ifrs_ppz_mb+ifrs_ppz_bb)*100\n",
    "    reserve_pz = (prov_pz_mb+prov_pz_bb)/(ifrs_pz_mb+ifrs_pz_bb)*100\n",
    "    reserve_other = (prov_other_mb+prov_other_bb)/(ifrs_other_mb+ifrs_other_bb)*100   \n",
    "    return reserve_other, reserve_ppz, reserve_pz\n",
    "def four_table_1(df):\n",
    "    itogo_ = df['Gross_balance_MIX_mRUR'].sum()/1000\n",
    "    ppz_ = df[df['Status_gwl_id'] == 3]['Gross_balance_MIX_mRUR'].sum()/1000\n",
    "    pz_ = df[df['Status_gwl_id'] >= 4]['Gross_balance_MIX_mRUR'].sum()/1000\n",
    "    other_ = itogo_-ppz_-pz_\n",
    "    return itogo_, ppz_, pz_, other_\n",
    "def four_table_1_reserv(df):\n",
    "    prov_ppz = df[(df['Status_gwl_id'] == 3) & (df['Type_product_id'] == 10)]['Provisions_IFRS_mRUR'].sum()/1000\n",
    "    prov_pz = df[(df['Status_gwl_id'] >= 4) & (df['Type_product_id'] == 10)]['Provisions_IFRS_mRUR'].sum()/1000\n",
    "    prov_other = df[df['Type_product_id'] == 10]['Provisions_IFRS_mRUR'].sum()/1000-prov_ppz-prov_pz\n",
    "    ifrs_ppz = df[(df['Status_gwl_id'] == 3) & (df['Type_product_id'] == 10)]['Gross_balance_IFRS_mRUR'].sum()/1000\n",
    "    ifrs_pz = df[(df['Status_gwl_id'] >= 4) & (df['Type_product_id'] == 10)]['Gross_balance_IFRS_mRUR'].sum()/1000\n",
    "    ifrs_other = df[df['Type_product_id'] == 10]['Gross_balance_IFRS_mRUR'].sum()/1000-ifrs_ppz-ifrs_pz\n",
    "    reserve_ppz = prov_ppz/ifrs_ppz*100\n",
    "    reserve_pz = prov_pz/ifrs_pz*100\n",
    "    reserve_other = prov_other/ifrs_other*100\n",
    "    return reserve_ppz, reserve_pz, reserve_other\n",
    "def slide_23_1(df):\n",
    "    cr_u_1 = df[df['Type_product_id'] == 10]['overdue'].sum()/1000\n",
    "    gar_1 = df[df['Type_product_id'] == 70]['overdue'].sum()/1000\n",
    "    cr_f_1 = df[(df['Type_product_id'] >= 20) & (df['Type_product_id'] <= 24)]['overdue'].sum()/1000\n",
    "    other_1 = (df['overdue'].sum() - cr_u_1*1000 - gar_1*1000 - cr_f_1*1000)/1000\n",
    "    itogo = df['overdue'].sum()/1000\n",
    "    return gar_1, cr_f_1, cr_u_1, other_1, itogo\n",
    "def slide_23_2(df):\n",
    "    vtb = df[df['LE_id'] == 1]['overdue'].sum()/1000\n",
    "    bm = df[df['LE_id'] == 5]['overdue'].sum()/1000\n",
    "    kapital = df[df['LE_id'] == 2]['overdue'].sum()/1000\n",
    "    liz = df[df['LE_id'] == 3]['overdue'].sum()/1000\n",
    "    itogo = df['overdue'].sum()/1000\n",
    "    other = itogo - vtb-bm-kapital-liz\n",
    "    return vtb, bm, kapital, liz, other, itogo\n",
    "def slide_23_3(df):\n",
    "    cib = df[df['type_business'] == 'CIB']['overdue'].sum()/1000\n",
    "    mcb = df[df['type_business'] == 'MCB']['overdue'].sum()/1000\n",
    "    rtl = df[df['type_business'] == 'RTL']['overdue'].sum()/1000\n",
    "    treasury = df[df['type_business'] == 'TREASURY']['overdue'].sum()/1000\n",
    "    itogo = df['overdue'].sum()/1000\n",
    "    other = itogo -cib-mcb-rtl-treasury\n",
    "    return cib, mcb, other,rtl,treasury,itogo\n",
    "def slide_23_4(df):\n",
    "    first = df[(df['DPD_cont'] > 0) &(df['DPD_cont'] <= 30)]['overdue'].sum()/1000\n",
    "    second = df[(df['DPD_cont'] >=31)&(df['DPD_cont'] <=90)]['overdue'].sum()/1000\n",
    "    itogo = df['overdue'].sum()/1000\n",
    "    third = itogo-first-second\n",
    "    return first, second, third, itogo\n",
    "def slide_24_1(df):\n",
    "    cr_u_1 = df[df['Type_product_id'] == 10]['overdue'].sum()/1000\n",
    "    gar_1 = df[df['Type_product_id'] == 70]['overdue'].sum()/1000\n",
    "    cr_f_1 = df[(df['Type_product_id'] >= 20) & (df['Type_product_id'] <= 24)]['overdue'].sum()/1000\n",
    "    itogo = df['overdue'].sum()/1000\n",
    "    return gar_1, cr_f_1, cr_u_1, itogo\n",
    "def text_data(number):   \n",
    "    text_frame = slide_text[number].text_frame\n",
    "    text_frame.clear()\n",
    "    p = text_frame.paragraphs[0]\n",
    "    run = p.add_run()\n",
    "    run.text = df_3_0.Report_date[0]\n",
    "    run.font.size = Pt(10)\n",
    "def rating_df(date,df):\n",
    "    summa = df[df['Report_date'] == date]['Gross_balance_MIX_mRUR'].sum()\n",
    "    ma =  df[(df['Report_date'] == date)&(df['Rating_short'] == 'MA')]['Gross_balance_MIX_mRUR'].sum()/summa\n",
    "    mb =df[(df['Report_date'] == date)&(df['Rating_short'] == 'MB')]['Gross_balance_MIX_mRUR'].sum()/summa\n",
    "    mc =df[(df['Report_date'] == date)&(df['Rating_short'] == 'MC')]['Gross_balance_MIX_mRUR'].sum()/summa\n",
    "    md =df[(df['Report_date'] == date)&(df['Rating_short'] == 'MD')]['Gross_balance_MIX_mRUR'].sum()/summa\n",
    "    me =df[(df['Report_date'] == date)&(df['Rating_short'] == 'ME')]['Gross_balance_MIX_mRUR'].sum()/summa\n",
    "    mf = df[(df['Report_date'] == date)&(df['Rating_short'] == 'MF')]['Gross_balance_MIX_mRUR'].sum()/summa\n",
    "    mg = df[(df['Report_date'] == date)&(df['Rating_short'] == 'MG')]['Gross_balance_MIX_mRUR'].sum()/summa\n",
    "    ms = df[(df['Report_date'] == date)&(df['Rating_short'] == 'MS')]['Gross_balance_MIX_mRUR'].sum()/summa\n",
    "    return ma, mb, mc, md, me, mf, mg, ms\n",
    "def colls(df):\n",
    "    df['collateral_sum_cut'] = df[['Gross_balance_MIX_mRUR','collateral_sum']].min(axis=1)\n",
    "    df['Coll_cash_cut'] = (df['Coll_cash'] / df['collateral_sum'] * df['collateral_sum_cut'])\n",
    "    df['Coll_securities_cut'] = (df['Coll_securities'] / df['collateral_sum'] * df['collateral_sum_cut'])\n",
    "    df['Coll_real_estate_cut'] = (df['Coll_real_estate'] / df['collateral_sum'] * df['collateral_sum_cut'])\n",
    "    df['Coll_receivables_cut'] = (df['Coll_receivables'] / df['collateral_sum'] * df['collateral_sum_cut'])\n",
    "    df['Coll_equp_moveables_cut'] = (df['Coll_equp_moveables'] / df['collateral_sum'] * df['collateral_sum_cut'])\n",
    "    df['Coll_guarantees_cut'] = (df['Coll_guar'] / df['collateral_sum'] * df['collateral_sum_cut'])\n",
    "    df['Coll_goods_cut'] = (df['Coll_goods'] / df['collateral_sum'] * df['collateral_sum_cut'])\n",
    "    df['Coll_other_cut'] = (df['Coll_other'] / df['collateral_sum'] * df['collateral_sum_cut'])\n",
    "    Cash = int(df['Coll_cash_cut'].sum()/1000)\n",
    "    Securities=int(df['Coll_securities_cut'].sum()/1000)\n",
    "    Real_estate=int(df['Coll_real_estate_cut'].sum()/1000)\n",
    "    Receivables=int(df['Coll_receivables_cut'].sum()/1000)\n",
    "    Equipment_and_moveables=int(df['Coll_equp_moveables_cut'].sum()/1000)\n",
    "    Goods=int(df['Coll_goods_cut'].sum()/1000)\n",
    "    Guarantees=int(df['Coll_guarantees_cut'].sum()/1000)\n",
    "    Oth_collateral=int(df['Coll_other_cut'].sum()/1000)\n",
    "    Total_collateral=int(df['collateral_sum_cut'].sum()/1000)\n",
    "    return Cash, Securities, Real_estate,Receivables,Equipment_and_moveables,Goods,Guarantees,Oth_collateral,Total_collateral\n",
    "def rating_df_ms(date,df):\n",
    "    summa_a = df[(df['Report_date'] == date)&(df['Rating_short'] == 'MA')]['PD_GB'].sum()\n",
    "    summa_b = df[(df['Report_date'] == date)&(df['Rating_short'] == 'MB')]['PD_GB'].sum()\n",
    "    summa_c = df[(df['Report_date'] == date)&(df['Rating_short'] == 'MC')]['PD_GB'].sum()\n",
    "    summa_d = df[(df['Report_date'] == date)&(df['Rating_short'] == 'MD')]['PD_GB'].sum()\n",
    "    summa_e = df[(df['Report_date'] == date)&(df['Rating_short'] == 'ME')]['PD_GB'].sum()\n",
    "    summa_f = df[(df['Report_date'] == date)&(df['Rating_short'] == 'MF')]['PD_GB'].sum()\n",
    "    summa_g = df[(df['Report_date'] == date)&(df['Rating_short'] == 'MG')]['PD_GB'].sum()\n",
    "    summa_s = df[(df['Report_date'] == date)&(df['Rating_short'] == 'MS')]['PD_GB'].sum()\n",
    "    ma =  summa_a/df[(df['Report_date'] == date)&(df['Rating_short'] == 'MA')]['Gross_balance_MIX_mRUR'].sum()*100\n",
    "    mb =summa_b/df[(df['Report_date'] == date)&(df['Rating_short'] == 'MB')]['Gross_balance_MIX_mRUR'].sum()*100\n",
    "    mc =summa_c/df[(df['Report_date'] == date)&(df['Rating_short'] == 'MC')]['Gross_balance_MIX_mRUR'].sum()*100\n",
    "    md =summa_d/df[(df['Report_date'] == date)&(df['Rating_short'] == 'MD')]['Gross_balance_MIX_mRUR'].sum()*100\n",
    "    me = summa_e/df[(df['Report_date'] == date)&(df['Rating_short'] == 'ME')]['Gross_balance_MIX_mRUR'].sum()*100\n",
    "    mf = summa_f/df[(df['Report_date'] == date)&(df['Rating_short'] == 'MF')]['Gross_balance_MIX_mRUR'].sum()*100\n",
    "    mg = summa_g/df[(df['Report_date'] == date)&(df['Rating_short'] == 'MG')]['Gross_balance_MIX_mRUR'].sum()*100\n",
    "    ms = summa_s/df[(df['Report_date'] == date)&(df['Rating_short'] == 'MS')]['Gross_balance_MIX_mRUR'].sum()*100\n",
    "    return ma, mb, mc, md, me, mf, mg, ms\n",
    "def graph_1_f_1(date,d1,d2):\n",
    "    cr = d1[(d1['Report_date'] == date)&(d1['Rating_model_name_FINAL'] == 'Крупные и 10+')]['Gross_balance_MIX_mRUR'].sum()\n",
    "    sr = d1[(d1['Report_date'] == date)&(d1['Rating_model_name_FINAL'] == 'Средние и 10-')]['Gross_balance_MIX_mRUR'].sum()\n",
    "    bank = d1[(d1['Report_date'] == date)&(d1['Rating_model_name_FINAL'] == 'Банки, суверены, администрации')]['Gross_balance_MIX_mRUR'].sum()\n",
    "    dev = d1[(d1['Report_date'] == date)&(d1['Rating_model_name_FINAL'] == 'Девелоперы и инвестиционные проекты')]['Gross_balance_MIX_mRUR'].sum()\n",
    "    ipot = d1[(d1['Report_date'] == date)&(d1['Rating_model_name_FINAL'] == 'Ипотека')]['Gross_balance_MIX_mRUR'].sum()\n",
    "    auto = d1[(d1['Report_date'] == date)&(d1['Rating_model_name_FINAL'] == 'КН, авто, КК')]['Gross_balance_MIX_mRUR'].sum()\n",
    "    other = d1[(d1['Report_date'] == date)]['Gross_balance_MIX_mRUR'].sum()-cr-sr-bank-dev-ipot-auto\n",
    "    sum_=cr+sr+bank+dev+ipot+auto+other\n",
    "    cr_pr = cr/sum_\n",
    "    sr_pr = sr/sum_\n",
    "    bank_pr = bank/sum_\n",
    "    dev_pr = dev/sum_\n",
    "    ipot_pr = ipot/sum_\n",
    "    auto_pr = auto/sum_\n",
    "    other_pr = other/sum_\n",
    "    return cr, sr, bank, dev, ipot, auto, other, cr_pr, sr_pr, bank_pr, dev_pr, ipot_pr, auto_pr, other_pr\n",
    "def text(number, text_there):   \n",
    "    text_frame = slide_text[number].text_frame\n",
    "    text_frame.clear()\n",
    "    p = text_frame.paragraphs[0]\n",
    "    run = p.add_run()\n",
    "    run.text = text_there\n",
    "    run.font.size = Pt(8)\n",
    "    run.font.color.rgb = RGBColor(127, 127, 127)\n",
    "def rating_df_0(date,df):\n",
    "    summa = df[df['Report_date'] == date]['Gross_balance_MIX_mRUR'].sum()\n",
    "    ma =  df[(df['Report_date'] == date)&(df['Rating_short'] == 'MA')]['Gross_balance_MIX_mRUR'].sum()/summa*100\n",
    "    mb =df[(df['Report_date'] == date)&(df['Rating_short'] == 'MB')]['Gross_balance_MIX_mRUR'].sum()/summa*100\n",
    "    mc =df[(df['Report_date'] == date)&(df['Rating_short'] == 'MC')]['Gross_balance_MIX_mRUR'].sum()/summa*100\n",
    "    md =df[(df['Report_date'] == date)&(df['Rating_short'] == 'MD')]['Gross_balance_MIX_mRUR'].sum()/summa*100\n",
    "    me =df[(df['Report_date'] == date)&(df['Rating_short'] == 'ME')]['Gross_balance_MIX_mRUR'].sum()/summa*100\n",
    "    mf = df[(df['Report_date'] == date)&(df['Rating_short'] == 'MF')]['Gross_balance_MIX_mRUR'].sum()/summa*100\n",
    "    return ma, mb, mc, md, me, mf\n",
    "def graph_1_f(date,d1,d2):\n",
    "    cr = d1[(d1['Report_date'] == date)&(d1['Rating_model_name_FINAL'] == 'Крупные и 10+')]['Gross_balance_MIX_mRUR'].sum()\n",
    "    sr = d1[(d1['Report_date'] == date)&(d1['Rating_model_name_FINAL'] == 'Средние и 10-')]['Gross_balance_MIX_mRUR'].sum()\n",
    "    bank = d1[(d1['Report_date'] == date)&(d1['Rating_model_name_FINAL'] == 'Банки, суверены, администрации')]['Gross_balance_MIX_mRUR'].sum()\n",
    "    dev = d1[(d1['Report_date'] == date)&(d1['Rating_model_name_FINAL'] == 'Девелоперы и инвестиционные проекты')]['Gross_balance_MIX_mRUR'].sum()\n",
    "    ipot = d1[(d1['Report_date'] == date)&(d1['Rating_model_name_FINAL'] == 'Ипотека')]['Gross_balance_MIX_mRUR'].sum()\n",
    "    auto = d1[(d1['Report_date'] == date)&(d1['Rating_model_name_FINAL'] == 'КН, авто, КК')]['Gross_balance_MIX_mRUR'].sum()\n",
    "    dk = d2[(d2['LE'] != 'Банк ВТБ')&(d2['Rating_short'] != 'MS')&(d2['Report_date'] == date)]['Gross_balance_MIX_mRUR'].sum()\n",
    "    other = d1[(d1['Report_date'] == date)]['Gross_balance_MIX_mRUR'].sum()-cr-sr-bank-dev-ipot-auto\n",
    "    sum_=cr+sr+bank+dev+ipot+auto+dk+other\n",
    "    cr_pr = cr/sum_\n",
    "    sr_pr = sr/sum_\n",
    "    bank_pr = bank/sum_\n",
    "    dev_pr = dev/sum_\n",
    "    ipot_pr = ipot/sum_\n",
    "    auto_pr = auto/sum_\n",
    "    dk_pr = dk/sum_\n",
    "    other_pr = other/sum_\n",
    "    return cr, sr, bank, dev, ipot, auto, dk, other, cr_pr, sr_pr, bank_pr, dev_pr, ipot_pr, auto_pr, dk_pr, other_pr"
   ]
  },
  {
   "cell_type": "markdown",
   "metadata": {},
   "source": [
    "## 3 слайд"
   ]
  },
  {
   "cell_type": "code",
   "execution_count": null,
   "metadata": {},
   "outputs": [],
   "source": [
    "df_1 = df_1_0.query('VTB_group_member != 1 and LE_id != 21 and Type_product_id not in [90, 91]').reset_index(drop=True)\n",
    "df_1 =df_1[['VTB_group_member','LE_id','Type_product_id','Type_product',\n",
    "'LGD_MS','Gross_balance_MIX_mRUR', 'CAR_IRB_mRUR','Report_date']]"
   ]
  },
  {
   "cell_type": "code",
   "execution_count": null,
   "metadata": {},
   "outputs": [],
   "source": [
    "df_2 = df_2_0.query('VTB_group_member != 1 and LE_id != 21 and Type_product_id not in [90, 91]').reset_index(drop=True)\n",
    "df_2 =df_2[['VTB_group_member','LE_id','Type_product_id','Type_product',\n",
    "'LGD_MS','Gross_balance_MIX_mRUR', 'CAR_IRB_mRUR','Report_date']]"
   ]
  },
  {
   "cell_type": "code",
   "execution_count": null,
   "metadata": {},
   "outputs": [],
   "source": [
    "df_3 = df_3_0.query('VTB_group_member != 1 and LE_id != 21 and Type_product_id not in [90, 91]').reset_index(drop=True)\n",
    "df_3 =df_3[['VTB_group_member','LE_id','Type_product_id','Type_product',\n",
    "'LGD_MS','Gross_balance_MIX_mRUR', 'CAR_IRB_mRUR','Report_date']]"
   ]
  },
  {
   "cell_type": "code",
   "execution_count": null,
   "metadata": {},
   "outputs": [],
   "source": [
    "def merged_one(df):\n",
    "    df['vzves'] = df['LGD_MS'] * df['Gross_balance_MIX_mRUR']\n",
    "    df.loc[df['Type_product_id'] == 10, 'Type_product'] = 'Кредиты ЮЛ'\n",
    "    df.loc[df['Type_product_id'] == 70, 'Type_product'] = 'Гарантии'\n",
    "    df.loc[df['Type_product_id'].isin([30,33]), 'Type_product'] = 'МБК'\n",
    "    df.loc[df['Type_product_id'].isin([11,12,31,34]), 'Type_product'] = 'Репо'\n",
    "    df.loc[df['Type_product_id'].isin([60,61,62]), 'Type_product'] = 'Кредитные линии'\n",
    "    df.loc[df['Type_product_id'].isin([80,81]), 'Type_product'] = 'Срочные сделки и деривативы'\n",
    "    df.loc[df['Type_product_id'].isin([20,21,22,23,24]), 'Type_product'] = 'Кредиты ФЛ'\n",
    "    df.loc[np.invert(df['Type_product_id'].isin([10, 70, 30, 33, 11, 12, 31, 34, 60,61,62,80,81,20,21,22,23,24])), 'Type_product'] = 'Прочее'\n",
    "    pivot_1 = df.pivot_table(index = 'Type_product', values = ['LGD_MS','Gross_balance_MIX_mRUR', \n",
    "    'CAR_IRB_mRUR','vzves'], aggfunc='sum').reset_index()\n",
    "    pivot_1['LGD'] = (pivot_1['vzves']/pivot_1['Gross_balance_MIX_mRUR']*100)\n",
    "    pivot_1['Gross_balance_MIX_mRUR'] = (pivot_1['Gross_balance_MIX_mRUR']/1000)\n",
    "    pivot_1['CAR_IRB_mRUR'] = (pivot_1['CAR_IRB_mRUR']/1000)\n",
    "    pivot_1 = pivot_1.drop(['vzves','LGD_MS'],axis=1).sort_values(by='Gross_balance_MIX_mRUR', ascending = False)\n",
    "    pivot_1.loc[8] = pd.Series(pivot_1[['Gross_balance_MIX_mRUR', 'CAR_IRB_mRUR']].sum(),index=['Gross_balance_MIX_mRUR', 'CAR_IRB_mRUR'])\n",
    "    pivot_1.loc[8,'Type_product'] = 'Итого'\n",
    "    pivot_1[['Gross_balance_MIX_mRUR', 'CAR_IRB_mRUR','LGD']] = pivot_1[['Gross_balance_MIX_mRUR', 'CAR_IRB_mRUR','LGD']].round(1)\n",
    "    pivot_1 = pivot_1.fillna('')\n",
    "    pivot_1 = pivot_1.rename(columns={'Type_product':'Тип продукта', 'CAR_IRB_mRUR':'ЭК по кредитному риску, млрд рублей',\n",
    "                     'Gross_balance_MIX_mRUR':'Портфель, млрд рублей', 'LGD':'Средний LGD*, %'})\n",
    "    pivot_names = [\"Тип продукта\", \"Портфель, млрд рублей\", \"ЭК по кредитному риску, млрд рублей\", \"Средний LGD*, %\"]\n",
    "    pivot_1 = pivot_1.reindex(columns=pivot_names)\n",
    "    pivot_1.insert(0, 'Дата', df.Report_date[0])\n",
    "    return pivot_1"
   ]
  },
  {
   "cell_type": "code",
   "execution_count": null,
   "metadata": {},
   "outputs": [],
   "source": [
    "pivot_1 = merged_one(df_1)\n",
    "pivot_2 = merged_one(df_2)\n",
    "pivot_3 = merged_one(df_3)"
   ]
  },
  {
   "cell_type": "code",
   "execution_count": null,
   "metadata": {},
   "outputs": [],
   "source": [
    "merged = pd.merge(pd.merge(pivot_1, pivot_2,on='Тип продукта'), \n",
    "         pivot_3, on='Тип продукта').sort_values(by='Портфель, млрд рублей', ascending=False)"
   ]
  },
  {
   "cell_type": "code",
   "execution_count": null,
   "metadata": {},
   "outputs": [],
   "source": [
    "i = merged[merged['Тип продукта'] == \"Прочее\"].index.tolist()\n",
    "target_row = merged.loc[i,:]\n",
    "merged.drop(merged[merged['Тип продукта'] == \"Прочее\"].index, axis=0,inplace=True)\n",
    "merged = pd.concat([merged, target_row], axis=0)"
   ]
  },
  {
   "cell_type": "code",
   "execution_count": null,
   "metadata": {},
   "outputs": [],
   "source": [
    "i = merged[merged['Тип продукта'] == \"Итого\"].index.tolist()\n",
    "target_row = merged.loc[i,:]\n",
    "merged.drop(merged[merged['Тип продукта'] == \"Итого\"].index, axis=0,inplace=True)\n",
    "merged = pd.concat([merged, target_row], axis=0)"
   ]
  },
  {
   "cell_type": "code",
   "execution_count": null,
   "metadata": {},
   "outputs": [],
   "source": [
    "merged.loc[10,'Портфель, млрд рублей_x'] = merged['Дата_x'][0]\n",
    "merged.loc[10,'Портфель, млрд рублей_y'] = merged['Дата_y'][0]\n",
    "merged.loc[10,'Портфель, млрд рублей'] = merged['Дата'][0]\n",
    "data_1 =  merged['Дата_x'][0]\n",
    "data_2 = merged['Дата_y'][0]\n",
    "data_3 = merged['Дата'][0]\n",
    "merged_first= merged.rename(columns={'Тип продукта':'Product'})"
   ]
  },
  {
   "cell_type": "code",
   "execution_count": null,
   "metadata": {},
   "outputs": [],
   "source": [
    "itogo_1 = float(merged_first.query('Product == \"Итого\"')['Портфель, млрд рублей_x'])\n",
    "itogo_2 = float(merged_first.query('Product == \"Итого\"')['Портфель, млрд рублей_y'])\n",
    "itogo_3 = float(merged_first.query('Product == \"Итого\"')['Портфель, млрд рублей'])"
   ]
  },
  {
   "cell_type": "code",
   "execution_count": null,
   "metadata": {},
   "outputs": [],
   "source": [
    "try:\n",
    "    ec_1 = round(ec[(ec[\"Дата\"] == data_1) & (ec[\"Подход\"] == \"Групповой\") & (ec[\"Методика\"] == \"Вер.2\")& (ec[\"Показатель\"] == \"ЭК\") \n",
    "       & (ec[\"ДК\"] != \"Почта Банк\") & (ec[\"Вид риска\"] == \"Кредитный\")\n",
    "    ]['Значение, млн.руб.'].sum()/1000,1)\n",
    "except:\n",
    "    ec_1 = 0\n",
    "try:\n",
    "    ec_2 = round(ec[(ec[\"Дата\"] == data_2) & (ec[\"Подход\"] == \"Групповой\") & (ec[\"Методика\"] == \"Вер.2\")& (ec[\"Показатель\"] == \"ЭК\") \n",
    "       & (ec[\"ДК\"] != \"Почта Банк\") & (ec[\"Вид риска\"] == \"Кредитный\")\n",
    "    ]['Значение, млн.руб.'].sum()/1000,1)\n",
    "except:\n",
    "    ec_2 = 0\n",
    "try:\n",
    "    ec_3 = round(ec[(ec[\"Дата\"] == data_3) & (ec[\"Подход\"] == \"Групповой\") & (ec[\"Методика\"] == \"Вер.2\")& (ec[\"Показатель\"] == \"ЭК\") \n",
    "       & (ec[\"ДК\"] != \"Почта Банк\") & (ec[\"Вид риска\"] == \"Кредитный\")\n",
    "    ]['Значение, млн.руб.'].sum()/1000,1)\n",
    "except:\n",
    "    ec_3 = 0"
   ]
  },
  {
   "cell_type": "code",
   "execution_count": null,
   "metadata": {},
   "outputs": [],
   "source": [
    "if ec_1 !=0:\n",
    "    merged.iloc[8,3] = ec_1\n",
    "if ec_2 !=0:\n",
    "    merged.iloc[8,7] = ec_2\n",
    "if ec_3 !=0:\n",
    "    merged.iloc[8,11] = ec_3"
   ]
  },
  {
   "cell_type": "code",
   "execution_count": null,
   "metadata": {},
   "outputs": [],
   "source": [
    "merged = merged.drop(['Дата_x', 'Дата_y', 'Дата'], axis=1).rename(columns={'Портфель, млрд рублей_x':'Портфель, млрд рублей', 'ЭК по кредитному риску, млрд рублей_x':'ЭК по кредитному риску, млрд рублей',\n",
    "                     'Средний LGD*, %_x':'Средний LGD*, %', 'Портфель, млрд рублей_y':'Портфель, млрд рублей', 'ЭК по кредитному риску, млрд рублей_y':'ЭК по кредитному риску, млрд рублей',\n",
    "                     'Средний LGD*, %_y':'Средний LGD*, %'})"
   ]
  },
  {
   "cell_type": "code",
   "execution_count": null,
   "metadata": {},
   "outputs": [],
   "source": [
    "dates = np.array(['', data_1, '', '', data_2, '',\n",
    "       '', data_3, '', ''])\n",
    "merged=merged.reset_index(drop=True)"
   ]
  },
  {
   "cell_type": "code",
   "execution_count": null,
   "metadata": {},
   "outputs": [],
   "source": [
    "prs = Presentation(presentation)"
   ]
  },
  {
   "cell_type": "code",
   "execution_count": null,
   "metadata": {},
   "outputs": [],
   "source": [
    "for i in range(0, merged.shape[0]-1):\n",
    "    for j in range(1, merged.shape[1]):\n",
    "        merged.iloc[i,j] = str(merged.iloc[i,j]).replace('.',',')"
   ]
  },
  {
   "cell_type": "code",
   "execution_count": null,
   "metadata": {},
   "outputs": [],
   "source": [
    "slide = prs.slides[slide_cred_2]\n",
    "table = [shape for shape in slide.shapes if shape.has_table]"
   ]
  },
  {
   "cell_type": "code",
   "execution_count": null,
   "metadata": {},
   "outputs": [],
   "source": [
    "for i in range(2,11):\n",
    "        table[0].table.cell(i,0).text = str(merged.iloc[i-2, 0])\n",
    "        run = table[0].table.cell(i,0).text_frame.paragraphs[0]\n",
    "        run.font.bold = False\n",
    "        run.font.size = Pt(8)\n",
    "        cell = table[0].table.cell(i, 0)\n",
    "        cell.text_frame.paragraphs[0].alignment=PP_ALIGN.LEFT\n",
    "for i in range(2,11):\n",
    "    for j in range(1,10):\n",
    "        table[0].table.cell(i,j).text = str(merged.iloc[i-2, j])\n",
    "        run = table[0].table.cell(i,j).text_frame.paragraphs[0]\n",
    "        run.font.bold = False\n",
    "        run.font.size = Pt(8)\n",
    "        cell = table[0].table.cell(i, j)\n",
    "        cell.text_frame.paragraphs[0].alignment=PP_ALIGN.CENTER\n",
    "for j in range(0,10):\n",
    "    run = table[0].table.cell(10,j).text_frame.paragraphs[0]\n",
    "    run.font.bold = True"
   ]
  },
  {
   "cell_type": "code",
   "execution_count": null,
   "metadata": {},
   "outputs": [],
   "source": [
    "dates_heading(df_1_0, 1, table[0],Pt(8))\n",
    "dates_heading(df_2_0, 4, table[0], Pt(8))\n",
    "dates_heading(df_3_0, 7, table[0], Pt(8))"
   ]
  },
  {
   "cell_type": "code",
   "execution_count": null,
   "metadata": {},
   "outputs": [],
   "source": [
    "slide_text = [shape for shape in slide.shapes if shape.has_text_frame]\n",
    "text_data(1)"
   ]
  },
  {
   "cell_type": "code",
   "execution_count": null,
   "metadata": {},
   "outputs": [],
   "source": [
    "prs.save(presentation)"
   ]
  },
  {
   "cell_type": "markdown",
   "metadata": {},
   "source": [
    "## 2 слайд"
   ]
  },
  {
   "cell_type": "markdown",
   "metadata": {},
   "source": [
    "### 1 таблица"
   ]
  },
  {
   "cell_type": "markdown",
   "metadata": {},
   "source": [
    "\n",
    "\n",
    "\n",
    "\n",
    "\n",
    "\n",
    "\n",
    "\n",
    "\n",
    "\n",
    "#### Динамика Gross Exposure\u000b",
    " по типам инструментов "
   ]
  },
  {
   "cell_type": "markdown",
   "metadata": {},
   "source": [
    "\n",
    "\n",
    "\n",
    "\n",
    "\n",
    "\n",
    "\n",
    "\n",
    "\n",
    "\n",
    "##### Значения по МСФО добавлять самим"
   ]
  },
  {
   "cell_type": "code",
   "execution_count": null,
   "metadata": {},
   "outputs": [],
   "source": [
    "itogo_1 = float(merged_first.query('Product == \"Итого\"')['Портфель, млрд рублей_x'])\n",
    "itogo_2 = float(merged_first.query('Product == \"Итого\"')['Портфель, млрд рублей_y'])\n",
    "itogo_3 = float(merged_first.query('Product == \"Итого\"')['Портфель, млрд рублей'])\n",
    "guar_1 = float(merged_first.query('Product == \"Гарантии\"')['Портфель, млрд рублей_x'])\n",
    "guar_2 = float(merged_first.query('Product == \"Гарантии\"')['Портфель, млрд рублей_y'])\n",
    "guar_3 = float(merged_first.query('Product == \"Гарантии\"')['Портфель, млрд рублей'])\n",
    "credit_1 =  float(merged_first.query('Product == \"Кредитные линии\"')['Портфель, млрд рублей_x'])\n",
    "credit_2 =  float(merged_first.query('Product == \"Кредитные линии\"')['Портфель, млрд рублей_y'])\n",
    "credit_3 =  float(merged_first.query('Product == \"Кредитные линии\"')['Портфель, млрд рублей'])\n",
    "other_1 = np.round(float(itogo_1 - ifrs_1 - guar_1 - credit_1),1)\n",
    "other_2 = np.round(float(itogo_2 - ifrs_2 - guar_2 - credit_2),1)\n",
    "other_3 = np.round(float(itogo_3 - ifrs_3 - guar_3 - credit_3),1)"
   ]
  },
  {
   "cell_type": "code",
   "execution_count": null,
   "metadata": {},
   "outputs": [],
   "source": [
    "data = {'':['КП МСФО','Гарантии','Кредитные линии','Прочие продукты'],data_1:[ifrs_1, guar_1, credit_1, other_1], data_2:[ifrs_2, guar_2, credit_2, other_2],\n",
    "       data_3: [ifrs_3, guar_3, credit_3, other_3]}\n",
    "df=pd.DataFrame(data=data)\n",
    "df.loc[4,:] = 'Итого'\n",
    "df.iloc[4,1] = itogo_1\n",
    "df.iloc[4,2] = itogo_2\n",
    "df.iloc[4,3] = itogo_3"
   ]
  },
  {
   "cell_type": "code",
   "execution_count": null,
   "metadata": {},
   "outputs": [],
   "source": [
    "date_time_obj_1 = datetime.strptime(df_3_0.Report_date[0], '%d.%m.%Y')\n",
    "date_time_obj_2 = datetime.strptime(df_1_0.Report_date[0], '%d.%m.%Y')\n",
    "if (date_time_obj_2-date_time_obj_1).days < -366:\n",
    "    df['Изменение'] = (df.iloc[:,3] - df.iloc[:,2])/df.iloc[:,2]*100\n",
    "else:\n",
    "    df['Изменение'] = (df.iloc[:,3] - df.iloc[:,1])/df.iloc[:,1]*100\n",
    "for i in range(0,df.shape[0]):\n",
    "    if df['Изменение'][i] > 0:\n",
    "        df['Изменение'][i] = \"{0:.1f}\".format(df['Изменение'][i])\n",
    "        df['Изменение'][i] = '+'+str(df['Изменение'][i])+'%'\n",
    "    else:\n",
    "        df['Изменение'][i] = \"{0:.1f}%\".format(df['Изменение'][i])"
   ]
  },
  {
   "cell_type": "code",
   "execution_count": null,
   "metadata": {},
   "outputs": [],
   "source": [
    "for i in range(0, df.shape[0]):\n",
    "    for j in range(1, df.shape[1]):\n",
    "        df.iloc[i,j] = str(df.iloc[i,j]).replace('.',',')"
   ]
  },
  {
   "cell_type": "code",
   "execution_count": null,
   "metadata": {},
   "outputs": [],
   "source": [
    "slide = prs.slides[slide_cred_1]\n",
    "table = [shape for shape in slide.shapes if shape.has_table]"
   ]
  },
  {
   "cell_type": "code",
   "execution_count": null,
   "metadata": {},
   "outputs": [],
   "source": [
    "for i in range(1,6):\n",
    "    for j in range(1,5):\n",
    "        table[0].table.cell(i,j).text = str(df.iloc[i-1, j])\n",
    "        run = table[0].table.cell(i,j).text_frame.paragraphs[0]\n",
    "        run.font.bold = False\n",
    "        run.font.size = Pt(7)\n",
    "        cell = table[0].table.cell(i, j)\n",
    "        cell.text_frame.paragraphs[0].alignment=PP_ALIGN.CENTER\n",
    "for j in range(1,5):\n",
    "    run = table[0].table.cell(5,j).text_frame.paragraphs[0]\n",
    "    run.font.bold = True"
   ]
  },
  {
   "cell_type": "code",
   "execution_count": null,
   "metadata": {},
   "outputs": [],
   "source": [
    "dates_heading(df_1_0,1, table[0], Pt(7))\n",
    "dates_heading(df_2_0,2, table[0], Pt(7))\n",
    "dates_heading(df_3_0,3, table[0], Pt(7))"
   ]
  },
  {
   "cell_type": "code",
   "execution_count": null,
   "metadata": {},
   "outputs": [],
   "source": [
    "if (date_time_obj_2-date_time_obj_1).days < -366:\n",
    "    dates_heading_delta(df_2_0,4,table[0], Pt(7))\n",
    "else:\n",
    "    dates_heading_delta(df_1_0,4,table[0], Pt(7))"
   ]
  },
  {
   "cell_type": "code",
   "execution_count": null,
   "metadata": {},
   "outputs": [],
   "source": [
    "slide_text = [shape for shape in slide.shapes if shape.has_text_frame]"
   ]
  },
  {
   "cell_type": "code",
   "execution_count": null,
   "metadata": {},
   "outputs": [],
   "source": [
    "text_data(2)"
   ]
  },
  {
   "cell_type": "code",
   "execution_count": null,
   "metadata": {},
   "outputs": [],
   "source": [
    "prs.save(presentation)"
   ]
  },
  {
   "cell_type": "markdown",
   "metadata": {},
   "source": [
    "\n",
    "\n",
    "\n",
    "\n",
    "\n",
    "\n",
    "\n",
    "\n",
    "\n",
    "\n",
    "\n",
    "\n",
    "\n",
    "\n",
    "\n",
    "\n",
    "\n",
    "\n",
    "\n",
    "\n",
    "\n",
    "\n",
    "\n",
    "\n",
    "\n",
    "\n",
    "### 2 таблица"
   ]
  },
  {
   "cell_type": "markdown",
   "metadata": {},
   "source": [
    "Динамика Gross Exposure по ГБЛ\n"
   ]
  },
  {
   "cell_type": "code",
   "execution_count": null,
   "metadata": {},
   "outputs": [],
   "source": [
    "def merged_first_2_1(df):\n",
    "    df_ = df.query('VTB_group_member != 1 and LE_id != 21 and Type_product_id not in [90, 91]').reset_index(drop=True)\n",
    "    df_ = df_.query('Gross_balance_MIX_mRUR != 0').reset_index(drop=True)\n",
    "    df_ =df_[['VTB_group_member','LE_id','Type_product_id','Type_product', 'LGD_MS','Gross_balance_MIX_mRUR', 'CAR_IRB_mRUR','Report_date','type_business']]\n",
    "    df_ = df_.pivot_table(index ='type_business', values = 'Gross_balance_MIX_mRUR', aggfunc='sum').reset_index()\n",
    "    df_.loc[5,'type_business'] = 'Прочие бизнес линии'\n",
    "    df_.iloc[5,1]=df_.query('type_business == \"TREASURY\"')['Gross_balance_MIX_mRUR'].values+df_.query('type_business == \"OTH\"')['Gross_balance_MIX_mRUR'].values\n",
    "    df_['type_business'] = df_['type_business'].replace({'CIB':'КИБ', 'MCB':'СМБ', 'RTL':'РБ'})\n",
    "    df_ = df_.query('type_business == \"КИБ\" or type_business == \"СМБ\" or type_business == \"РБ\" or type_business == \"Прочие бизнес линии\"')\n",
    "    df_['Gross_balance_MIX_mRUR'] = df_['Gross_balance_MIX_mRUR']/1000\n",
    "    return df_"
   ]
  },
  {
   "cell_type": "code",
   "execution_count": null,
   "metadata": {},
   "outputs": [],
   "source": [
    "df_3_ = merged_first_2_1(df_3_0)\n",
    "df_2_ = merged_first_2_1(df_2_0)\n",
    "df_1_ = merged_first_2_1(df_1_0)"
   ]
  },
  {
   "cell_type": "code",
   "execution_count": null,
   "metadata": {},
   "outputs": [],
   "source": [
    "data = {'': df_1_['type_business'].values, df_1.Report_date[0]:df_1_['Gross_balance_MIX_mRUR'].values, df_2.Report_date[0]:df_2_['Gross_balance_MIX_mRUR'].values,\n",
    "       df_3.Report_date[0]: df_3_['Gross_balance_MIX_mRUR'].values}\n",
    "df=pd.DataFrame(data=data)"
   ]
  },
  {
   "cell_type": "code",
   "execution_count": null,
   "metadata": {},
   "outputs": [],
   "source": [
    "df.loc[4,:] = 'Итого'\n",
    "df.iloc[4,1] = df.iloc[0:4,1].sum()\n",
    "df.iloc[4,2] = df.iloc[0:4,2].sum()\n",
    "df.iloc[4,3] = df.iloc[0:4,3].sum()\n",
    "df.iloc[3,0] = 'Прочие бизнес линии'\n",
    "df.iloc[:,1]=df.iloc[:,1]\n",
    "df.iloc[:,2]=df.iloc[:,2]\n",
    "df.iloc[:,3]=df.iloc[:,3]"
   ]
  },
  {
   "cell_type": "code",
   "execution_count": null,
   "metadata": {},
   "outputs": [],
   "source": [
    "if (date_time_obj_2-date_time_obj_1).days < -366:\n",
    "    df['Изменение'] = (df.iloc[:,3] - df.iloc[:,2])/df.iloc[:,2]*100\n",
    "else:\n",
    "    df['Изменение'] = (df.iloc[:,3] - df.iloc[:,1])/df.iloc[:,1]*100\n",
    "for i in range(0,df.shape[0]):\n",
    "    if df['Изменение'][i] > 0:\n",
    "        df['Изменение'][i] = \"{0:.1f}\".format(df['Изменение'][i])\n",
    "        df['Изменение'][i] = '+'+str(df['Изменение'][i])+'%'\n",
    "    else:\n",
    "        df['Изменение'][i] = \"{0:.1f}%\".format(df['Изменение'][i])"
   ]
  },
  {
   "cell_type": "code",
   "execution_count": null,
   "metadata": {},
   "outputs": [],
   "source": [
    "for i in range(0, 5):\n",
    "    for j in range (1,4):\n",
    "        df.iloc[i,j] = np.round(df.iloc[i,j],1)\n",
    "for i in range(0, df.shape[0]):\n",
    "    for j in range(1, df.shape[1]):\n",
    "        df.iloc[i,j] = str(df.iloc[i,j]).replace('.',',')\n",
    "for i in range(1,6):\n",
    "    for j in range(1,5):\n",
    "        table[1].table.cell(i,j).text = str(df.iloc[i-1, j])\n",
    "        run = table[1].table.cell(i,j).text_frame.paragraphs[0]\n",
    "        run.font.bold = False\n",
    "        run.font.size = Pt(7)\n",
    "        cell = table[1].table.cell(i, j)\n",
    "        cell.text_frame.paragraphs[0].alignment=PP_ALIGN.CENTER\n",
    "for j in range(1,5):\n",
    "    run = table[1].table.cell(5,j).text_frame.paragraphs[0]\n",
    "    run.font.bold = True"
   ]
  },
  {
   "cell_type": "code",
   "execution_count": null,
   "metadata": {},
   "outputs": [],
   "source": [
    "dates_heading(df_1_0,1,table[1], Pt(7))\n",
    "dates_heading(df_2_0,2,table[1], Pt(7))\n",
    "dates_heading(df_3_0,3,table[1], Pt(7))"
   ]
  },
  {
   "cell_type": "code",
   "execution_count": null,
   "metadata": {},
   "outputs": [],
   "source": [
    "if (date_time_obj_2-date_time_obj_1).days < -366:\n",
    "    dates_heading_delta(df_2_0,4,table[1], Pt(7))\n",
    "else:\n",
    "    dates_heading_delta(df_1_0,4,table[1], Pt(7))"
   ]
  },
  {
   "cell_type": "code",
   "execution_count": null,
   "metadata": {},
   "outputs": [],
   "source": [
    "prs.save(presentation)"
   ]
  },
  {
   "cell_type": "markdown",
   "metadata": {},
   "source": [
    "### Текст"
   ]
  },
  {
   "cell_type": "code",
   "execution_count": null,
   "metadata": {},
   "outputs": [],
   "source": [
    "if (date_time_obj_2-date_time_obj_1).days < -366:\n",
    "    text_frame = slide_text[14].text_frame\n",
    "    text_frame.clear()\n",
    "    p = text_frame.paragraphs[0]\n",
    "    run = p.add_run()\n",
    "    run.text = 'За '+df_2_0['Report_date'][0]+'-'+df_3_0['Report_date'][0] +' кредитный портфель (по показателю Gross Exposure, GE) Группы изменился на '+str(df.iloc[4,4]).replace('.',',')+', в т.ч.:'\n",
    "    run.font.size = Pt(8)   \n",
    "else:\n",
    "    dates_heading_delta(df_1_0,4,table[0], Pt(7))\n",
    "    text_frame = slide_text[14].text_frame\n",
    "    text_frame.clear()\n",
    "    p = text_frame.paragraphs[0]\n",
    "    run = p.add_run()\n",
    "    run.text = 'За '+ df_1_0['Report_date'][0]+'-'+df_3_0['Report_date'][0] +' кредитный портфель (по показателю Gross Exposure, GE) Группы изменился на '+str(df.iloc[4,4]).replace('.',',')+', в т.ч.:'\n",
    "    run.font.size = Pt(8)"
   ]
  },
  {
   "cell_type": "code",
   "execution_count": null,
   "metadata": {},
   "outputs": [],
   "source": [
    "text_frame = slide_text[11].text_frame\n",
    "text_frame.clear()\n",
    "p = text_frame.paragraphs[0]\n",
    "run = p.add_run()\n",
    "run.text = str(df.iloc[0,4]).replace('.',',')\n",
    "run.font.size = Pt(8)\n",
    "text_frame = slide_text[12].text_frame\n",
    "text_frame.clear()\n",
    "p = text_frame.paragraphs[0]\n",
    "run = p.add_run()\n",
    "run.text = str(df.iloc[1,4]).replace('.',',')\n",
    "run.font.size = Pt(8)\n",
    "text_frame = slide_text[13].text_frame\n",
    "text_frame.clear()\n",
    "p = text_frame.paragraphs[0]\n",
    "run = p.add_run()\n",
    "run.text = str(df.iloc[2,4]).replace('.',',')\n",
    "run.font.size = Pt(8)"
   ]
  },
  {
   "cell_type": "code",
   "execution_count": null,
   "metadata": {},
   "outputs": [],
   "source": [
    "prs.save(presentation)"
   ]
  },
  {
   "cell_type": "markdown",
   "metadata": {},
   "source": [
    "### 3 таблица"
   ]
  },
  {
   "cell_type": "code",
   "execution_count": null,
   "metadata": {},
   "outputs": [],
   "source": [
    "df_1=df_1_0.query('VTB_group_member != 1 and LE_id != 21 and Type_product_id not in [90, 91]').reset_index(drop=True)\n",
    "df_2=df_2_0.query('VTB_group_member != 1 and LE_id != 21 and Type_product_id not in [90, 91]').reset_index(drop=True)\n",
    "df_3=df_3_0.query('VTB_group_member != 1 and LE_id != 21 and Type_product_id not in [90, 91]').reset_index(drop=True)"
   ]
  },
  {
   "cell_type": "code",
   "execution_count": null,
   "metadata": {},
   "outputs": [],
   "source": [
    "list_1 =(31, 51, 112, 268, 398, 417, 762, 795, 804,860)\n",
    "list_2 = (40, 56, 86, 92,100 ,136 ,191 ,196 ,203 ,208 ,233 ,246 ,250 ,276 ,300 ,304 ,336 ,348 ,352 ,372 ,380 ,428, 438, \n",
    "440 ,442 ,470, 528,578,616, 620,642,703,705,724,752,756,826,831,832)"
   ]
  },
  {
   "cell_type": "code",
   "execution_count": null,
   "metadata": {},
   "outputs": [],
   "source": [
    "def first_slide_third(df_, itogo):\n",
    "    df_ = df_.query('Gross_balance_MIX_mRUR != 0').reset_index(drop=True)\n",
    "    df_ =df_[['Gross_balance_MIX_mRUR','Country_risk_id']]\n",
    "    russia = df_[df_['Country_risk_id'] == 643]['Gross_balance_MIX_mRUR'].sum()/1000\n",
    "    sng=df_[df_['Country_risk_id'].isin(list_1)]['Gross_balance_MIX_mRUR'].sum()/1000\n",
    "    es=df_[df_['Country_risk_id'].isin(list_2)]['Gross_balance_MIX_mRUR'].sum()/1000\n",
    "    other = itogo-russia-sng-es\n",
    "    return russia, sng, es, other, itogo"
   ]
  },
  {
   "cell_type": "code",
   "execution_count": null,
   "metadata": {},
   "outputs": [],
   "source": [
    "russia_1, sng_1, es_1, other_1, itogo_1 = first_slide_third(df_1, itogo_1)\n",
    "russia_2, sng_2, es_2, other_2, itogo_2 = first_slide_third(df_2, itogo_2)\n",
    "russia_3, sng_3, es_3, other_3, itogo_3 = first_slide_third(df_3, itogo_3)"
   ]
  },
  {
   "cell_type": "code",
   "execution_count": null,
   "metadata": {},
   "outputs": [],
   "source": [
    "data = {'': ['Россия','СНГ','ЕС','Прочие страны','Итого'], data_1:[russia_1, sng_1, es_1, other_1, itogo_1],\n",
    "       data_2:[russia_2, sng_2, es_2, other_2, itogo_2],data_3:[russia_3, sng_3, es_3, other_3, itogo_3]}\n",
    "df=pd.DataFrame(data=data)"
   ]
  },
  {
   "cell_type": "code",
   "execution_count": null,
   "metadata": {},
   "outputs": [],
   "source": [
    "if (date_time_obj_2-date_time_obj_1).days < -366:\n",
    "    df['Изменение'] = (df.iloc[:,3] - df.iloc[:,2])/df.iloc[:,2]*100\n",
    "else:\n",
    "    df['Изменение'] = (df.iloc[:,3] - df.iloc[:,1])/df.iloc[:,1]*100\n",
    "for i in range(0,df.shape[0]):\n",
    "    if df['Изменение'][i] > 0:\n",
    "        df['Изменение'][i] = \"{0:.1f}\".format(df['Изменение'][i])\n",
    "        df['Изменение'][i] = '+'+str(df['Изменение'][i])+'%'\n",
    "    else:\n",
    "        df['Изменение'][i] = \"{0:.1f}%\".format(df['Изменение'][i])"
   ]
  },
  {
   "cell_type": "code",
   "execution_count": null,
   "metadata": {},
   "outputs": [],
   "source": [
    "for i in range(0, 5):\n",
    "    for j in range (1,4):\n",
    "        df.iloc[i,j] = np.round(df.iloc[i,j],1)\n",
    "for i in range(0, df.shape[0]):\n",
    "    for j in range(1, df.shape[1]):\n",
    "        df.iloc[i,j] = str(df.iloc[i,j]).replace('.',',')\n",
    "for i in range(1,6):\n",
    "    for j in range(1,5):\n",
    "        table[2].table.cell(i,j).text = str(df.iloc[i-1, j])\n",
    "        run = table[2].table.cell(i,j).text_frame.paragraphs[0]\n",
    "        run.font.bold = False\n",
    "        run.font.size = Pt(7)\n",
    "        cell = table[2].table.cell(i, j)\n",
    "        cell.text_frame.paragraphs[0].alignment=PP_ALIGN.CENTER\n",
    "for j in range(1,5):\n",
    "    run = table[2].table.cell(5,j).text_frame.paragraphs[0]\n",
    "    run.font.bold = True"
   ]
  },
  {
   "cell_type": "code",
   "execution_count": null,
   "metadata": {},
   "outputs": [],
   "source": [
    "dates_heading(df_1_0,1,table[2], Pt(7))\n",
    "dates_heading(df_2_0,2,table[2], Pt(7))\n",
    "dates_heading(df_3_0,3,table[2], Pt(7))"
   ]
  },
  {
   "cell_type": "code",
   "execution_count": null,
   "metadata": {},
   "outputs": [],
   "source": [
    "if (date_time_obj_2-date_time_obj_1).days < -366:\n",
    "    dates_heading_delta(df_2_0,4,table[2], Pt(7))\n",
    "else:\n",
    "    dates_heading_delta(df_1_0,4,table[2], Pt(7))"
   ]
  },
  {
   "cell_type": "code",
   "execution_count": null,
   "metadata": {},
   "outputs": [],
   "source": [
    "prs.save(presentation)"
   ]
  },
  {
   "cell_type": "markdown",
   "metadata": {},
   "source": [
    "### 4 таблица"
   ]
  },
  {
   "cell_type": "code",
   "execution_count": null,
   "metadata": {},
   "outputs": [],
   "source": [
    "df_1=df_1_0.query('VTB_group_member != 1 and LE_id != 21 and Type_product_id not in [90, 91]').reset_index(drop=True)\n",
    "df_2=df_2_0.query('VTB_group_member != 1 and LE_id != 21 and Type_product_id not in [90, 91]').reset_index(drop=True)\n",
    "df_3=df_3_0.query('VTB_group_member != 1 and LE_id != 21 and Type_product_id not in [90, 91]').reset_index(drop=True)"
   ]
  },
  {
   "cell_type": "code",
   "execution_count": null,
   "metadata": {},
   "outputs": [],
   "source": [
    "def first_slide_fourth(df_, itogo):\n",
    "    df_ = df_.query('Gross_balance_MIX_mRUR != 0').reset_index(drop=True)\n",
    "    df_ =df_[['Gross_balance_MIX_mRUR','Cur_KIS_id']]\n",
    "    rub = df_[df_['Cur_KIS_id'] == 'RUB']['Gross_balance_MIX_mRUR'].sum()/1000+df_[df_['Cur_KIS_id'] == 'RUR']['Gross_balance_MIX_mRUR'].sum()/1000\n",
    "    usd=df_[df_['Cur_KIS_id'] == 'USD']['Gross_balance_MIX_mRUR'].sum()/1000\n",
    "    eur=df_[df_['Cur_KIS_id'] == 'EUR']['Gross_balance_MIX_mRUR'].sum()/1000\n",
    "    other = itogo-usd-rub-eur\n",
    "    return rub, eur, usd, other, itogo"
   ]
  },
  {
   "cell_type": "code",
   "execution_count": null,
   "metadata": {},
   "outputs": [],
   "source": [
    "rub_1, eur_1, usd_1, other_1, itogo_1 = first_slide_fourth(df_1, itogo_1)\n",
    "rub_2, eur_2, usd_2, other_2, itogo_2= first_slide_fourth(df_2, itogo_2)\n",
    "rub_3, eur_3, usd_3, other_3, itogo_3 = first_slide_fourth(df_3, itogo_3)"
   ]
  },
  {
   "cell_type": "code",
   "execution_count": null,
   "metadata": {},
   "outputs": [],
   "source": [
    "data = {'': ['RUB','EUR','USD','Прочие валюты','Итого'], data_1:[rub_1, eur_1, usd_1, other_1, itogo_1],\n",
    "       data_2:[rub_2, eur_2, usd_2, other_2, itogo_2],data_3:[rub_3, eur_3, usd_3, other_3, itogo_3]}\n",
    "df=pd.DataFrame(data=data)\n",
    "if (date_time_obj_2-date_time_obj_1).days < -366:\n",
    "    df['Изменение'] = (df.iloc[:,3] - df.iloc[:,2])/df.iloc[:,2]*100\n",
    "else:\n",
    "    df['Изменение'] = (df.iloc[:,3] - df.iloc[:,1])/df.iloc[:,1]*100"
   ]
  },
  {
   "cell_type": "code",
   "execution_count": null,
   "metadata": {},
   "outputs": [],
   "source": [
    "pr_last=str(\"{0:.1f}%\".format((df.iloc[4,3]-df.iloc[0,3])/df.iloc[4,3]*100)).replace('.',',')\n",
    "pr_not_last=str(\"{0:.1f}%\".format((df.iloc[4,2]-df.iloc[0,2])/df.iloc[4,2]*100)).replace('.',',')"
   ]
  },
  {
   "cell_type": "code",
   "execution_count": null,
   "metadata": {},
   "outputs": [],
   "source": [
    "text_frame = slide_text[17].text_frame\n",
    "text_frame.clear()\n",
    "p = text_frame.paragraphs[0]\n",
    "run = p.add_run()\n",
    "run.text = pr_last\n",
    "run.font.size = Pt(8)"
   ]
  },
  {
   "cell_type": "code",
   "execution_count": null,
   "metadata": {},
   "outputs": [],
   "source": [
    "text_frame = slide_text[18].text_frame\n",
    "text_frame.clear()\n",
    "p = text_frame.paragraphs[0]\n",
    "run = p.add_run()\n",
    "run.text = '('+pr_not_last+' - '+ df_2_0['Report_date'][0] +')'\n",
    "run.font.size = Pt(8)"
   ]
  },
  {
   "cell_type": "code",
   "execution_count": null,
   "metadata": {},
   "outputs": [],
   "source": [
    "prs.save(presentation)"
   ]
  },
  {
   "cell_type": "code",
   "execution_count": null,
   "metadata": {},
   "outputs": [],
   "source": [
    "for i in range(0,df.shape[0]):\n",
    "    if df['Изменение'][i] > 0:\n",
    "        df['Изменение'][i] = \"{0:.1f}\".format(df['Изменение'][i])\n",
    "        df['Изменение'][i] = '+'+str(df['Изменение'][i])+'%'\n",
    "    else:\n",
    "        df['Изменение'][i] = \"{0:.1f}%\".format(df['Изменение'][i])\n",
    "for i in range(0, 5):\n",
    "    for j in range (1,4):\n",
    "        df.iloc[i,j] = np.round(df.iloc[i,j],1)\n",
    "for i in range(0, df.shape[0]):\n",
    "    for j in range(1, df.shape[1]):\n",
    "        df.iloc[i,j] = str(df.iloc[i,j]).replace('.',',')\n",
    "for i in range(1,6):\n",
    "    for j in range(1,5):\n",
    "        table[3].table.cell(i,j).text = str(df.iloc[i-1, j])\n",
    "        run = table[3].table.cell(i,j).text_frame.paragraphs[0]\n",
    "        run.font.bold = False\n",
    "        run.font.size = Pt(7)\n",
    "        cell = table[3].table.cell(i, j)\n",
    "        cell.text_frame.paragraphs[0].alignment=PP_ALIGN.CENTER\n",
    "for j in range(1,5):\n",
    "    run = table[3].table.cell(5,j).text_frame.paragraphs[0]\n",
    "    run.font.bold = True"
   ]
  },
  {
   "cell_type": "code",
   "execution_count": null,
   "metadata": {},
   "outputs": [],
   "source": [
    "dates_heading(df_1_0,1,table[3], Pt(7))\n",
    "dates_heading(df_2_0,2,table[3], Pt(7))\n",
    "dates_heading(df_3_0,3,table[3], Pt(7))"
   ]
  },
  {
   "cell_type": "code",
   "execution_count": null,
   "metadata": {},
   "outputs": [],
   "source": [
    "if (date_time_obj_2-date_time_obj_1).days < -366:\n",
    "    dates_heading_delta(df_2_0,4,table[3], Pt(7))\n",
    "else:\n",
    "    dates_heading_delta(df_1_0,4,table[3], Pt(7))"
   ]
  },
  {
   "cell_type": "code",
   "execution_count": null,
   "metadata": {},
   "outputs": [],
   "source": [
    "prs.save(presentation)"
   ]
  },
  {
   "cell_type": "markdown",
   "metadata": {},
   "source": [
    "## 4 слайд"
   ]
  },
  {
   "cell_type": "markdown",
   "metadata": {},
   "source": [
    "### 1 таблица"
   ]
  },
  {
   "cell_type": "code",
   "execution_count": null,
   "metadata": {},
   "outputs": [],
   "source": [
    "df_1 = df_1_0.query('VTB_group_member != 1 and LE_id != 21 and Type_product_id not in [90, 91]').reset_index(drop=True)\n",
    "df_1 = df_1[(df_1['Type_business_id'] == 1)|(df_1['Type_business_id'] == 2)|(df_1['Type_business_id'] == 3)|(df_1['Type_business_id'] == 4)].reset_index(drop=True)\n",
    "df_2 = df_2_0.query('VTB_group_member != 1 and LE_id != 21 and Type_product_id not in [90, 91]').reset_index(drop=True)\n",
    "df_2 = df_2[(df_2['Type_business_id'] == 1)|(df_2['Type_business_id'] == 2)|(df_2['Type_business_id'] == 3)|(df_2['Type_business_id'] == 4)].reset_index(drop=True)\n",
    "df_3 = df_3_0.query('VTB_group_member != 1 and LE_id != 21 and Type_product_id not in [90, 91]').reset_index(drop=True)\n",
    "df_3 = df_3[(df_3['Type_business_id'] == 1)|(df_3['Type_business_id'] == 2)|(df_3['Type_business_id'] == 3)|(df_3['Type_business_id'] == 4)].reset_index(drop=True)"
   ]
  },
  {
   "cell_type": "code",
   "execution_count": null,
   "metadata": {},
   "outputs": [],
   "source": [
    "itogo_1, ppz_1, pz_1, other_1 = four_table_1(df_1)\n",
    "itogo_2, ppz_2, pz_2, other_2 = four_table_1(df_2)\n",
    "itogo_3, ppz_3, pz_3, other_3 = four_table_1(df_3)"
   ]
  },
  {
   "cell_type": "code",
   "execution_count": null,
   "metadata": {},
   "outputs": [],
   "source": [
    "data = {'': ['Рабочий + Наблюдение','ППЗ','ПЗ','Итого'], data_1:[other_1, ppz_1, pz_1, itogo_1],\n",
    "       data_2:[other_2, ppz_2, pz_2, itogo_2],data_3:[other_3, ppz_3, pz_3, itogo_3]}\n",
    "df=pd.DataFrame(data=data)\n",
    "if (date_time_obj_2-date_time_obj_1).days < -366:\n",
    "    df['Изменение'] = (df.iloc[:,3] - df.iloc[:,2])/df.iloc[:,2]*100\n",
    "else:\n",
    "    df['Изменение'] = (df.iloc[:,3] - df.iloc[:,1])/df.iloc[:,1]*100\n",
    "for i in range(0,df.shape[0]):\n",
    "    if df['Изменение'][i] > 0:\n",
    "        df['Изменение'][i] = \"{0:.1f}\".format(df['Изменение'][i])\n",
    "        df['Изменение'][i] = '+'+str(df['Изменение'][i])+'%'\n",
    "    else:\n",
    "        df['Изменение'][i] = \"{0:.1f}%\".format(df['Изменение'][i])\n",
    "for i in range(0, 4):\n",
    "    for j in range (1,4):\n",
    "        df.iloc[i,j] = np.round(df.iloc[i,j],1)"
   ]
  },
  {
   "cell_type": "code",
   "execution_count": null,
   "metadata": {},
   "outputs": [],
   "source": [
    "reserve_other_1, reserve_ppz_1, reserve_pz_1 = four_table_1_reserv(df_1)\n",
    "reserve_other_2, reserve_ppz_2, reserve_pz_2 = four_table_1_reserv(df_2)\n",
    "reserve_other_3, reserve_ppz_3, reserve_pz_3 = four_table_1_reserv(df_3)"
   ]
  },
  {
   "cell_type": "code",
   "execution_count": null,
   "metadata": {},
   "outputs": [],
   "source": [
    "data = {'': ['Рабочий + Наблюдение','ППЗ','ПЗ'], data_1:[reserve_other_1, reserve_ppz_1, reserve_pz_1],\n",
    "       data_2:[reserve_other_2, reserve_ppz_2, reserve_pz_2],data_3:[reserve_other_3, reserve_ppz_3, reserve_pz_3]}\n",
    "df_=pd.DataFrame(data=data)"
   ]
  },
  {
   "cell_type": "code",
   "execution_count": null,
   "metadata": {},
   "outputs": [],
   "source": [
    "for i in range(0,3):\n",
    "    for j in range(1,4):\n",
    "        df_.iloc[i,j] = \"{0:.1f}%\".format(df_.iloc[i,j])"
   ]
  },
  {
   "cell_type": "code",
   "execution_count": null,
   "metadata": {},
   "outputs": [],
   "source": [
    "data = {'': ['Рабочий + Наблюдение','ППЗ','ПЗ','Итого'], data_1:[df.iloc[0,1], df.iloc[1,1],df.iloc[2,1],df.iloc[3,1]],'new':[df_.iloc[0,1],df_.iloc[1,1],df_.iloc[2,1],''],\n",
    "       data_2:[df.iloc[0,2], df.iloc[1,2],df.iloc[2,2],df.iloc[3,2]],'new_2':[df_.iloc[0,2],df_.iloc[1,2],df_.iloc[2,2],''],\n",
    "       data_3:[df.iloc[0,3], df.iloc[1,3],df.iloc[2,3],df.iloc[3,3]],'new_3':[df_.iloc[0,3],df_.iloc[1,3],df_.iloc[2,3],''],\n",
    "       'Изменение':[df.iloc[0,4],df.iloc[1,4],df.iloc[2,4],df.iloc[3,4]]}\n",
    "df__=pd.DataFrame(data=data)"
   ]
  },
  {
   "cell_type": "code",
   "execution_count": null,
   "metadata": {},
   "outputs": [],
   "source": [
    "for i in range(0, df__.shape[0]):\n",
    "    for j in range(1, df__.shape[1]):\n",
    "        df__.iloc[i,j] = str(df__.iloc[i,j]).replace('.',',')"
   ]
  },
  {
   "cell_type": "code",
   "execution_count": null,
   "metadata": {},
   "outputs": [],
   "source": [
    "slide = prs.slides[slide_corp]\n",
    "table = [shape for shape in slide.shapes if shape.has_table]"
   ]
  },
  {
   "cell_type": "code",
   "execution_count": null,
   "metadata": {},
   "outputs": [],
   "source": [
    "for i in range(2,6):\n",
    "    for j in range(1,8):\n",
    "        table[0].table.cell(i,j).text = str(df__.iloc[i-2, j])\n",
    "        run = table[0].table.cell(i,j).text_frame.paragraphs[0]\n",
    "        run.font.bold = False\n",
    "        run.font.size = Pt(7)\n",
    "        cell = table[0].table.cell(i, j)\n",
    "        cell.text_frame.paragraphs[0].alignment=PP_ALIGN.CENTER\n",
    "for j in range(1,8):\n",
    "    run = table[0].table.cell(5,j).text_frame.paragraphs[0]\n",
    "    run.font.bold = True"
   ]
  },
  {
   "cell_type": "code",
   "execution_count": null,
   "metadata": {},
   "outputs": [],
   "source": [
    "dates_heading(df_1_0, 1, table[0], Pt(7))\n",
    "dates_heading(df_2_0,3,table[0], Pt(7))\n",
    "dates_heading(df_3_0,5,table[0], Pt(7))"
   ]
  },
  {
   "cell_type": "code",
   "execution_count": null,
   "metadata": {},
   "outputs": [],
   "source": [
    "if (date_time_obj_2-date_time_obj_1).days < -366:\n",
    "    dates_heading_delta(df_2_0,7,table[0], Pt(7))\n",
    "else:\n",
    "    dates_heading_delta(df_1_0,7,table[0], Pt(7))"
   ]
  },
  {
   "cell_type": "code",
   "execution_count": null,
   "metadata": {},
   "outputs": [],
   "source": [
    "slide_text = [shape for shape in slide.shapes if shape.has_text_frame]\n",
    "text_data(7)"
   ]
  },
  {
   "cell_type": "code",
   "execution_count": null,
   "metadata": {},
   "outputs": [],
   "source": [
    "prs.save(presentation)"
   ]
  },
  {
   "cell_type": "markdown",
   "metadata": {},
   "source": [
    "### 2 таблица"
   ]
  },
  {
   "cell_type": "code",
   "execution_count": null,
   "metadata": {},
   "outputs": [],
   "source": [
    "df_1_mb = df_1_0.query('VTB_group_member != 1 and LE_id != 21 and Type_product_id not in [90, 91]').reset_index(drop=True)\n",
    "df_1_mb = df_1_mb[(df_1_mb['Type_business_id'].isin([18,19,20,52,53,62,63,72,73]))|((df_1_mb['Type_business_id'].isin([9,10])) & (df_1_mb['Type_product_id'].isin([10,60,70])))].reset_index(drop=True)"
   ]
  },
  {
   "cell_type": "code",
   "execution_count": null,
   "metadata": {},
   "outputs": [],
   "source": [
    "df_1_bb = df_1_0.query('VTB_group_member != 1 and LE_id != 21 and Type_product_id not in [90, 91]').reset_index(drop=True)\n",
    "df_1_bb = df_1_bb[(df_1_bb['Type_business_id'].isin([5, 6, 7, 8, 51, 61, 71]))].reset_index(drop=True)"
   ]
  },
  {
   "cell_type": "code",
   "execution_count": null,
   "metadata": {},
   "outputs": [],
   "source": [
    "df_2_mb = df_2_0.query('VTB_group_member != 1 and LE_id != 21 and Type_product_id not in [90, 91]').reset_index(drop=True)\n",
    "df_2_mb = df_2_mb[(df_2_mb['Type_business_id'].isin([18,19,20,52,53,62,63,72,73]))|((df_2_mb['Type_business_id'].isin([9,10])) & (df_2_mb['Type_product_id'].isin([10,60,70])))].reset_index(drop=True)\n",
    "df_2_bb = df_2_0.query('VTB_group_member != 1 and LE_id != 21 and Type_product_id not in [90, 91]').reset_index(drop=True)\n",
    "df_2_bb = df_2_bb[(df_2_bb['Type_business_id'].isin([5, 6, 7, 8, 51, 61, 71]))].reset_index(drop=True)\n",
    "df_3_mb = df_3_0.query('VTB_group_member != 1 and LE_id != 21 and Type_product_id not in [90, 91]').reset_index(drop=True)\n",
    "df_3_mb = df_3_mb[(df_3_mb['Type_business_id'].isin([18,19,20,52,53,62,63,72,73]))|((df_3_mb['Type_business_id'].isin([9,10])) & (df_3_mb['Type_product_id'].isin([10,60,70])))].reset_index(drop=True)\n",
    "df_3_bb = df_3_0.query('VTB_group_member != 1 and LE_id != 21 and Type_product_id not in [90, 91]').reset_index(drop=True)\n",
    "df_3_bb = df_3_bb[(df_3_bb['Type_business_id'].isin([5, 6, 7, 8, 51, 61, 71]))].reset_index(drop=True)"
   ]
  },
  {
   "cell_type": "code",
   "execution_count": null,
   "metadata": {},
   "outputs": [],
   "source": [
    "itogo_1, ppz_1, pz_1, other_1 = four_table_2(df_1_mb, df_1_bb)\n",
    "itogo_2, ppz_2, pz_2, other_2 = four_table_2(df_2_mb, df_2_bb)\n",
    "itogo_3, ppz_3, pz_3, other_3 = four_table_2(df_3_mb, df_3_bb)"
   ]
  },
  {
   "cell_type": "code",
   "execution_count": null,
   "metadata": {},
   "outputs": [],
   "source": [
    "data = {'': ['Рабочий + Наблюдение','ППЗ','ПЗ','Итого'], data_1:[other_1, ppz_1, pz_1, itogo_1],\n",
    "       data_2:[other_2, ppz_2, pz_2, itogo_2],data_3:[other_3, ppz_3, pz_3, itogo_3]}\n",
    "df=pd.DataFrame(data=data)\n",
    "if (date_time_obj_2-date_time_obj_1).days < -366:\n",
    "    df['Изменение'] = (df.iloc[:,3] - df.iloc[:,2])/df.iloc[:,2]*100\n",
    "else:\n",
    "    df['Изменение'] = (df.iloc[:,3] - df.iloc[:,1])/df.iloc[:,1]*100\n",
    "for i in range(0,df.shape[0]):\n",
    "    if df['Изменение'][i] > 0:\n",
    "        df['Изменение'][i] = \"{0:.1f}\".format(df['Изменение'][i])\n",
    "        df['Изменение'][i] = '+'+str(df['Изменение'][i])+'%'\n",
    "    else:\n",
    "        df['Изменение'][i] = \"{0:.1f}%\".format(df['Изменение'][i])\n",
    "for i in range(0, 4):\n",
    "    for j in range (1,4):\n",
    "        df.iloc[i,j] = np.round(df.iloc[i,j],1)"
   ]
  },
  {
   "cell_type": "code",
   "execution_count": null,
   "metadata": {},
   "outputs": [],
   "source": [
    "reserve_other_1, reserve_ppz_1, reserve_pz_1 = four_table_2_reserv(df_1_mb, df_1_bb)\n",
    "reserve_other_2, reserve_ppz_2, reserve_pz_2 = four_table_2_reserv(df_2_mb, df_2_bb)\n",
    "reserve_other_3, reserve_ppz_3, reserve_pz_3 = four_table_2_reserv(df_3_mb, df_3_bb)"
   ]
  },
  {
   "cell_type": "code",
   "execution_count": null,
   "metadata": {},
   "outputs": [],
   "source": [
    "data = {'': ['Рабочий + Наблюдение','ППЗ','ПЗ'], data_1:[reserve_other_1, reserve_ppz_1, reserve_pz_1],\n",
    "       data_2:[reserve_other_2, reserve_ppz_2, reserve_pz_2],data_3:[reserve_other_3, reserve_ppz_3, reserve_pz_3]}\n",
    "df_=pd.DataFrame(data=data)"
   ]
  },
  {
   "cell_type": "code",
   "execution_count": null,
   "metadata": {},
   "outputs": [],
   "source": [
    "for i in range(0,3):\n",
    "    for j in range(1,4):\n",
    "        df_.iloc[i,j] = \"{0:.1f}%\".format(df_.iloc[i,j])"
   ]
  },
  {
   "cell_type": "code",
   "execution_count": null,
   "metadata": {},
   "outputs": [],
   "source": [
    "data = {'': ['Рабочий + Наблюдение','ППЗ','ПЗ','Итого'], data_1:[df.iloc[0,1], df.iloc[1,1],df.iloc[2,1],df.iloc[3,1]],'new':[df_.iloc[0,1],df_.iloc[1,1],df_.iloc[2,1],''],\n",
    "       data_2:[df.iloc[0,2], df.iloc[1,2],df.iloc[2,2],df.iloc[3,2]],'new_2':[df_.iloc[0,2],df_.iloc[1,2],df_.iloc[2,2],''],\n",
    "       data_3:[df.iloc[0,3], df.iloc[1,3],df.iloc[2,3],df.iloc[3,3]],'new_3':[df_.iloc[0,3],df_.iloc[1,3],df_.iloc[2,3],''],\n",
    "       'Изменение':[df.iloc[0,4],df.iloc[1,4],df.iloc[2,4],df.iloc[3,4]]}\n",
    "df__=pd.DataFrame(data=data)"
   ]
  },
  {
   "cell_type": "code",
   "execution_count": null,
   "metadata": {},
   "outputs": [],
   "source": [
    "for i in range(0, df__.shape[0]):\n",
    "    for j in range(1, df__.shape[1]):\n",
    "        df__.iloc[i,j] = str(df__.iloc[i,j]).replace('.',',')"
   ]
  },
  {
   "cell_type": "code",
   "execution_count": null,
   "metadata": {},
   "outputs": [],
   "source": [
    "for i in range(2,6):\n",
    "    for j in range(1,8):\n",
    "        table[1].table.cell(i,j).text = str(df__.iloc[i-2, j])\n",
    "        run = table[1].table.cell(i,j).text_frame.paragraphs[0]\n",
    "        run.font.bold = False\n",
    "        run.font.size = Pt(7)\n",
    "        cell = table[1].table.cell(i, j)\n",
    "        cell.text_frame.paragraphs[0].alignment=PP_ALIGN.CENTER\n",
    "for j in range(1,8):\n",
    "    run = table[1].table.cell(5,j).text_frame.paragraphs[0]\n",
    "    run.font.bold = True"
   ]
  },
  {
   "cell_type": "code",
   "execution_count": null,
   "metadata": {},
   "outputs": [],
   "source": [
    "dates_heading(df_1_0, 1, table[1], Pt(7))\n",
    "dates_heading(df_2_0,3,table[1], Pt(7))\n",
    "dates_heading(df_3_0,5,table[1], Pt(7))"
   ]
  },
  {
   "cell_type": "code",
   "execution_count": null,
   "metadata": {},
   "outputs": [],
   "source": [
    "if (date_time_obj_2-date_time_obj_1).days < -366:\n",
    "    dates_heading_delta(df_2_0,7,table[1], Pt(7))\n",
    "else:\n",
    "    dates_heading_delta(df_1_0,7,table[1], Pt(7))"
   ]
  },
  {
   "cell_type": "code",
   "execution_count": null,
   "metadata": {},
   "outputs": [],
   "source": [
    "prs.save(presentation)"
   ]
  },
  {
   "cell_type": "markdown",
   "metadata": {},
   "source": [
    "# Графики"
   ]
  },
  {
   "cell_type": "code",
   "execution_count": null,
   "metadata": {},
   "outputs": [],
   "source": [
    "slide_chart = [shape for shape in slide.shapes if shape.has_chart]\n",
    "chart_data = ChartData()\n",
    "chart_data.categories = [data_1, data_2, data_3]\n",
    "chart_data.add_series('warning',    (warning_cib/100, warning_cib/100, warning_cib/100))\n",
    "chart_data.add_series('trigger',    (trigger_cib/100, trigger_cib/100,  trigger_cib/100))\n",
    "chart_data.add_series('EL', (el_cib_1/100, el_cib_2/100, el_cib_3/100))\n",
    "\n",
    "chart_data.has_data_labels = True\n",
    "slide_chart[0].chart.replace_data(chart_data)"
   ]
  },
  {
   "cell_type": "code",
   "execution_count": null,
   "metadata": {},
   "outputs": [],
   "source": [
    "chart_data = ChartData()\n",
    "chart_data.categories = [data_1, data_2, data_3]\n",
    "chart_data.add_series('warning',    (warning_mcb/100, warning_mcb/100, warning_mcb/100))\n",
    "chart_data.add_series('trigger',    (trigger_mcb/100, trigger_mcb/100, trigger_mcb/100))\n",
    "chart_data.add_series('EL', (el_mcb_1/100, el_mcb_2/100, el_mcb_3/100))"
   ]
  },
  {
   "cell_type": "code",
   "execution_count": null,
   "metadata": {},
   "outputs": [],
   "source": [
    "slide_chart[1].chart.replace_data(chart_data)"
   ]
  },
  {
   "cell_type": "code",
   "execution_count": null,
   "metadata": {},
   "outputs": [],
   "source": [
    "prs.save(presentation)"
   ]
  },
  {
   "cell_type": "markdown",
   "metadata": {},
   "source": [
    "## 5 слайд"
   ]
  },
  {
   "cell_type": "markdown",
   "metadata": {},
   "source": [
    "### 1 таблица"
   ]
  },
  {
   "cell_type": "code",
   "execution_count": null,
   "metadata": {},
   "outputs": [],
   "source": [
    "EC_1 = ec[(ec['Подход'] == 'Групповой')& (ec['Методика'] == 'Вер.2')& (ec['Показатель'] == 'ЭК')& (ec['ДК'] != 'Почта Банк')].reset_index(drop=True)"
   ]
  },
  {
   "cell_type": "code",
   "execution_count": null,
   "metadata": {},
   "outputs": [],
   "source": [
    "for i in range (0, len(EC_1)): \n",
    "    datetime_object = EC_1['Дата'][i]\n",
    "    EC_1['Дата'][i] = datetime_object.strftime('%d.%m.%Y')"
   ]
  },
  {
   "cell_type": "code",
   "execution_count": null,
   "metadata": {},
   "outputs": [],
   "source": [
    "data_1 =  df_1_0.Report_date[0]\n",
    "data_2 = df_2_0.Report_date[0]\n",
    "data_3 = df_3_0.Report_date[0]"
   ]
  },
  {
   "cell_type": "code",
   "execution_count": null,
   "metadata": {},
   "outputs": [],
   "source": [
    "data_dir = {}\n",
    "for i in [data_1,data_2, data_3]:\n",
    "    try:\n",
    "        data_dir['credit_' + i] = EC_1[(EC_1['Дата'] == i) & (EC_1['Вид риска'] == 'Кредитный')]['Значение, млн.руб.'].sum()/1000\n",
    "    except:\n",
    "        data_dir['credit_' + i] = 0\n",
    "    try:\n",
    "        data_dir['trading_' + i] = EC_1[(EC_1['Дата'] == i) & (EC_1['Вид риска'] == 'Рыночный')]['Значение, млн.руб.'].sum()/1000\n",
    "    except:\n",
    "        data_dir['trading_' + i] = 0\n",
    "    try:\n",
    "        data_dir['percent_' + i] = EC_1[(EC_1['Дата'] == i) & (EC_1['Вид риска'] == 'Рыночный')& (EC_1['Подвид риска'] == 'Процентный')]['Значение, млн.руб.'].sum()/1000\n",
    "    except:\n",
    "        data_dir['percent_' + i] = 0    \n",
    "    try:\n",
    "        data_dir['currency_' + i] = EC_1[(EC_1['Дата'] == i) & (EC_1['Вид риска'] == 'Рыночный')& (EC_1['Подвид риска'] == 'Валютный')]['Значение, млн.руб.'].sum()/1000\n",
    "    except:\n",
    "        data_dir['currency_' + i] = 0\n",
    "    try:   \n",
    "        data_dir['market_' + i] = EC_1[(EC_1['Дата'] == i) & (EC_1['Вид риска'] == 'Рыночный')& (EC_1['Подвид риска'] == 'Торговый')]['Значение, млн.руб.'].sum()/1000\n",
    "    except:\n",
    "        data_dir['market_' + i] = 0\n",
    "    try:     \n",
    "        data_dir['operational_' + i] = EC_1[(EC_1['Дата'] == i) & (EC_1['Вид риска'] == 'Операционный')]['Значение, млн.руб.'].sum()/1000\n",
    "    except:\n",
    "        data_dir['operational_' + i] = 0\n",
    "    try:     \n",
    "        data_dir['estate_' + i] = EC_1[(EC_1['Дата'] == i) & (EC_1['Вид риска'] == 'Недвижимость')]['Значение, млн.руб.'].sum()/1000\n",
    "    except:\n",
    "        data_dir['estate_' + i] = 0\n",
    "    try:     \n",
    "        data_dir['liquidity_' + i] = EC_1[(EC_1['Дата'] == i) & (EC_1['Вид риска'] == 'Ликвидности')]['Значение, млн.руб.'].sum()/1000\n",
    "    except:\n",
    "        data_dir['liquidity_' + i] = 0\n",
    "    try:     \n",
    "        data_dir['country_' + i] = EC_1[(EC_1['Дата'] == i) & (EC_1['Вид риска'] == 'Страновой')]['Значение, млн.руб.'].sum()/1000\n",
    "    except:\n",
    "        data_dir['country_' + i] = 0\n",
    "    try:     \n",
    "        data_dir['model_' + i] = EC_1[(EC_1['Дата'] == i) & (EC_1['Вид риска'] == 'Модельный')]['Значение, млн.руб.'].sum()/1000\n",
    "    except:\n",
    "        data_dir['model_' + i] = 0\n",
    "    try:     \n",
    "        data_dir['concentration_' + i] = EC_1[(EC_1['Дата'] == i) & (EC_1['Вид риска'] == 'Концентрации')]['Значение, млн.руб.'].sum()/1000\n",
    "    except:\n",
    "        data_dir['concentration_' + i] = 0\n",
    "    try:     \n",
    "        data_dir['pension_' + i] = EC_1[(EC_1['Дата'] == i) & (EC_1['Вид риска'] == 'Пенсионный')]['Значение, млн.руб.'].sum()/1000\n",
    "    except:\n",
    "        data_dir['pension_' + i] = 0\n",
    "    try:     \n",
    "        data_dir['securitiz_' + i] = EC_1[(EC_1['Дата'] == i) & (EC_1['Вид риска'] == 'Секъюритизации')]['Значение, млн.руб.'].sum()/1000\n",
    "    except:\n",
    "        data_dir['securitiz_' + i] = 0\n",
    "    try:     \n",
    "        data_dir['bufer_' + i] = EC_1[(EC_1['Дата'] == i)]['Буфер ЭК'].sum()/1000\n",
    "    except:\n",
    "        data_dir['bufer_' + i] = 0\n",
    "    try:     \n",
    "        data_dir['itogo_' + i] = EC_1[(EC_1['Дата'] == i)]['ЭК с учетом буфера'].sum()/1000\n",
    "    except:\n",
    "        data_dir['itogo_' + i] = 0"
   ]
  },
  {
   "cell_type": "code",
   "execution_count": null,
   "metadata": {},
   "outputs": [],
   "source": [
    "data_1_ =[]\n",
    "for i in range (0,15):\n",
    "    data_1_.append(list(data_dir.values())[i])\n",
    "data_2_ =[]\n",
    "for i in range (15,30):\n",
    "    data_2_.append(list(data_dir.values())[i])\n",
    "data_3_ =[]\n",
    "for i in range (30,45):\n",
    "    data_3_.append(list(data_dir.values())[i])"
   ]
  },
  {
   "cell_type": "code",
   "execution_count": null,
   "metadata": {},
   "outputs": [],
   "source": [
    "data = {'Вид риска':['Кредитный','Рыночный, в т. ч.:','Процентный','Валютный','Торговый','Операционный','Недвижимости',\n",
    "                    'Ликвидности','Страновой','Модельный','Концентрации','Пенсионный','Секъюритизации','Буфер капитала','Итого'],\n",
    "        data_1:data_1_, data_2:data_2_,\n",
    "       data_3: data_3_}\n",
    "df=pd.DataFrame(data=data)"
   ]
  },
  {
   "cell_type": "code",
   "execution_count": null,
   "metadata": {},
   "outputs": [],
   "source": [
    "df['Изменение'] = (df.iloc[:,3] - df.iloc[:,2])/df.iloc[:,2]*100\n",
    "for i in range(0,df.shape[0]):\n",
    "    if df['Изменение'][i] > 0:\n",
    "        df['Изменение'][i] = \"{0:.1f}\".format(df['Изменение'][i])\n",
    "        df['Изменение'][i] = '+'+str(df['Изменение'][i])+'%'\n",
    "    else:\n",
    "        df['Изменение'][i] = \"{0:.1f}%\".format(df['Изменение'][i])\n",
    "for i in range(0, len(df)):\n",
    "    for j in range (1,4):\n",
    "        df.iloc[i,j] = \"{0:.0f}\".format(df.iloc[i,j])"
   ]
  },
  {
   "cell_type": "code",
   "execution_count": null,
   "metadata": {},
   "outputs": [],
   "source": [
    "slide = prs.slides[slide_dost]\n",
    "table = [shape for shape in slide.shapes if shape.has_table]"
   ]
  },
  {
   "cell_type": "code",
   "execution_count": null,
   "metadata": {},
   "outputs": [],
   "source": [
    "for i in range(1,16):\n",
    "    for j in range(1,5):\n",
    "        table[0].table.cell(i,j).text = str(df.iloc[i-1, j])\n",
    "        run = table[0].table.cell(i,j).text_frame.paragraphs[0]\n",
    "        run.font.bold = False\n",
    "        run.font.size = Pt(6)\n",
    "        cell = table[0].table.cell(i, j)\n",
    "        cell.text_frame.paragraphs[0].alignment=PP_ALIGN.RIGHT\n",
    "for j in range(1,5):\n",
    "    run = table[0].table.cell(15,j).text_frame.paragraphs[0]\n",
    "    run.font.bold = True"
   ]
  },
  {
   "cell_type": "code",
   "execution_count": null,
   "metadata": {},
   "outputs": [],
   "source": [
    "dates_heading(df_1_0, 1, table[0], Pt(6))\n",
    "dates_heading(df_2_0, 2, table[0], Pt(6))\n",
    "dates_heading(df_3_0, 3, table[0], Pt(6))\n",
    "dates_heading_delta(df_2_0,4,table[0], Pt(6))"
   ]
  },
  {
   "cell_type": "code",
   "execution_count": null,
   "metadata": {},
   "outputs": [],
   "source": [
    "slide_text = [shape for shape in slide.shapes if shape.has_text_frame]"
   ]
  },
  {
   "cell_type": "code",
   "execution_count": null,
   "metadata": {},
   "outputs": [],
   "source": [
    "text_data(6)"
   ]
  },
  {
   "cell_type": "code",
   "execution_count": null,
   "metadata": {},
   "outputs": [],
   "source": [
    "prs.save(presentation)"
   ]
  },
  {
   "cell_type": "markdown",
   "metadata": {},
   "source": [
    "### 2 таблица"
   ]
  },
  {
   "cell_type": "code",
   "execution_count": null,
   "metadata": {},
   "outputs": [],
   "source": [
    "EC_1_1 = EC_1"
   ]
  },
  {
   "cell_type": "code",
   "execution_count": null,
   "metadata": {},
   "outputs": [],
   "source": [
    "CIB = ['CIB', 'КИБ']\n",
    "MCB = ['MCB', 'MCB_MASS', 'MCB_STANDART', 'MCB_TOP', 'SMALL', 'Средний и малый бизнес']\n",
    "Retail = ['Retail', 'Retail_Mass', 'Retail_other', 'Retail_Private', 'Retail_Privelege', 'Розничный бизнес']\n",
    "Treasury = ['Treasury', 'Казначейство', 'Corp_centre']\n",
    "#Прочее - все остальное"
   ]
  },
  {
   "cell_type": "code",
   "execution_count": null,
   "metadata": {},
   "outputs": [],
   "source": [
    "EC_1_1['ГБЛ'] = EC_1_1['ГБЛ'].apply(lambda x : 'ГБЛ КИБ' if x in CIB \n",
    "else 'ГБЛ СМБ' if x in MCB else 'ГБЛ РБ' if x in Retail\n",
    "else 'Прочее')"
   ]
  },
  {
   "cell_type": "code",
   "execution_count": null,
   "metadata": {},
   "outputs": [],
   "source": [
    "data_dir_2 = {}\n",
    "for i in [data_1,data_2, data_3]:\n",
    "    try:\n",
    "        data_dir_2['CIB_' + i] = EC_1_1[(EC_1_1['Дата'] == i) & (EC_1_1['ГБЛ'] == 'ГБЛ КИБ')]['ЭК с учетом буфера'].sum()/1000\n",
    "    except:\n",
    "        data_dir_2['CIB_' + i] = 0\n",
    "    try:\n",
    "        data_dir_2['RB_' + i] = EC_1_1[(EC_1_1['Дата'] == i) & (EC_1_1['ГБЛ'] == 'ГБЛ РБ')]['ЭК с учетом буфера'].sum()/1000\n",
    "    except:\n",
    "        data_dir_2['RB_' + i] = 0\n",
    "    try:\n",
    "        data_dir_2['SMB_' + i] = EC_1_1[(EC_1_1['Дата'] == i) & (EC_1_1['ГБЛ'] == 'ГБЛ СМБ')]['ЭК с учетом буфера'].sum()/1000\n",
    "    except:\n",
    "        data_dir_2['SMB_' + i] = 0\n",
    "    try:\n",
    "        data_dir_2['Other_' + i] = EC_1_1[(EC_1_1['Дата'] == i) & (EC_1_1['ГБЛ'] == 'Прочее')]['ЭК с учетом буфера'].sum()/1000\n",
    "    except:\n",
    "        data_dir_2['Other_' + i] = 0\n",
    "    try:     \n",
    "        data_dir_2['itogo_' + i] = EC_1_1[(EC_1_1['Дата'] == i)]['ЭК с учетом буфера'].sum()/1000\n",
    "    except:\n",
    "        data_dir_2['itogo_' + i] = 0"
   ]
  },
  {
   "cell_type": "code",
   "execution_count": null,
   "metadata": {},
   "outputs": [],
   "source": [
    "data_1_ =[]\n",
    "for i in range (0,5):\n",
    "    data_1_.append(list(data_dir_2.values())[i])\n",
    "data_2_ =[]\n",
    "for i in range (5,10):\n",
    "    data_2_.append(list(data_dir_2.values())[i])\n",
    "data_3_ =[]\n",
    "for i in range (10,15):\n",
    "    data_3_.append(list(data_dir_2.values())[i])"
   ]
  },
  {
   "cell_type": "code",
   "execution_count": null,
   "metadata": {},
   "outputs": [],
   "source": [
    "data = {'ГБЛ':['КИБ','РБ','СМБ','Прочее','Итого'],\n",
    "        data_1:data_1_, data_2:data_2_,\n",
    "       data_3: data_3_}\n",
    "df=pd.DataFrame(data=data)"
   ]
  },
  {
   "cell_type": "code",
   "execution_count": null,
   "metadata": {},
   "outputs": [],
   "source": [
    "for i in range(0, len(df)):\n",
    "    for j in range (1,4):\n",
    "        df.iloc[i,j] = \"{0:.0f}\".format(df.iloc[i,j])"
   ]
  },
  {
   "cell_type": "code",
   "execution_count": null,
   "metadata": {},
   "outputs": [],
   "source": [
    "for i in range(1,6):\n",
    "    for j in range(1,4):\n",
    "        table[1].table.cell(i,j).text = str(df.iloc[i-1, j])\n",
    "        run = table[1].table.cell(i,j).text_frame.paragraphs[0]\n",
    "        run.font.bold = False\n",
    "        run.font.size = Pt(6)\n",
    "        cell = table[1].table.cell(i, j)\n",
    "        cell.text_frame.paragraphs[0].alignment=PP_ALIGN.RIGHT\n",
    "for j in range(1,4):\n",
    "    run = table[1].table.cell(5,j).text_frame.paragraphs[0]\n",
    "    run.font.bold = True"
   ]
  },
  {
   "cell_type": "code",
   "execution_count": null,
   "metadata": {},
   "outputs": [],
   "source": [
    "dates_heading(df_1_0, 1, table[1], Pt(6))\n",
    "dates_heading(df_2_0, 2, table[1], Pt(6))\n",
    "dates_heading(df_3_0, 3, table[1], Pt(6))"
   ]
  },
  {
   "cell_type": "code",
   "execution_count": null,
   "metadata": {},
   "outputs": [],
   "source": [
    "prs.save(presentation)"
   ]
  },
  {
   "cell_type": "markdown",
   "metadata": {},
   "source": [
    "## Графики"
   ]
  },
  {
   "cell_type": "code",
   "execution_count": null,
   "metadata": {},
   "outputs": [],
   "source": [
    "data_1 =  df_1_0.Report_date[0]\n",
    "data_2 = df_2_0.Report_date[0]\n",
    "data_3 = df_3_0.Report_date[0]"
   ]
  },
  {
   "cell_type": "code",
   "execution_count": null,
   "metadata": {},
   "outputs": [],
   "source": [
    "data_1_time = datetime.strptime(data_1, '%d.%m.%Y')\n",
    "data_2_time = datetime.strptime(data_2, '%d.%m.%Y')\n",
    "data_3_time = datetime.strptime(data_3, '%d.%m.%Y')"
   ]
  },
  {
   "cell_type": "code",
   "execution_count": null,
   "metadata": {},
   "outputs": [],
   "source": [
    "sr_rsbu_1 = baza[(baza['Дата'] == data_1_time)&(baza['Компания Группы'] == 'Группа ВТБ')&(baza['Показатель риск-аппетита'] == 'Собственные средства (капитал) РСБУ')]['Значение (число)']\n",
    "sr_rsbu_2 = baza[(baza['Дата'] == data_2_time)&(baza['Компания Группы'] == 'Группа ВТБ')&(baza['Показатель риск-аппетита'] == 'Собственные средства (капитал) РСБУ')]['Значение (число)']\n",
    "sr_rsbu_3 = baza[(baza['Дата'] == data_3_time)&(baza['Компания Группы'] == 'Группа ВТБ')&(baza['Показатель риск-аппетита'] == 'Собственные средства (капитал) РСБУ')]['Значение (число)']\n",
    "sr_msfo_1 = baza[(baza['Дата'] == data_1_time)&(baza['Компания Группы'] == 'Группа ВТБ')&(baza['Показатель риск-аппетита'] == 'Собственные средства Группы (МСФО)')]['Значение (число)']\n",
    "sr_msfo_2 = baza[(baza['Дата'] == data_2_time)&(baza['Компания Группы'] == 'Группа ВТБ')&(baza['Показатель риск-аппетита'] == 'Собственные средства Группы (МСФО)')]['Значение (число)']\n",
    "sr_msfo_3 = baza[(baza['Дата'] == data_3_time)&(baza['Компания Группы'] == 'Группа ВТБ')&(baza['Показатель риск-аппетита'] == 'Собственные средства Группы (МСФО)')]['Значение (число)']\n",
    "cap_1 = EC_1_1[(EC_1_1['Дата'] == data_1)]['ЭК с учетом буфера'].sum()/1000\n",
    "cap_2 = EC_1_1[(EC_1_1['Дата'] == data_1)]['ЭК с учетом буфера'].sum()/1000\n",
    "cap_3 = EC_1_1[(EC_1_1['Дата'] == data_3)]['ЭК с учетом буфера'].sum()/1000\n",
    "cap_1_d = float(sr_rsbu_1)/float(cap_1)\n",
    "cap_2_d = float(sr_rsbu_2)/float(cap_2)\n",
    "try:\n",
    "    cap_3_d = float(sr_rsbu_3)/float(cap_3)\n",
    "except:\n",
    "    cap_3_d=0"
   ]
  },
  {
   "cell_type": "code",
   "execution_count": null,
   "metadata": {},
   "outputs": [],
   "source": [
    "if pd.isna(cap_3_d) == False:    \n",
    "    slide_chart = [shape for shape in slide.shapes if shape.has_chart]\n",
    "    chart_data = ChartData()\n",
    "    chart_data.categories = [df_1_0.Report_date[0], df_2_0.Report_date[0], df_3_0.Report_date[0]]\n",
    "    chart_data.add_series('Достаточность ЭК',    (cap_1_d, cap_2_d, cap_3_d))\n",
    "    chart_data.add_series('Лимит (100%)',    (1, 1, 1))\n",
    "    chart_data.add_series('Триггер (110%)', (1.1, 1.1, 1.1))\n",
    "    chart_data.has_data_labels = True\n",
    "    slide_chart[0].chart.replace_data(chart_data)"
   ]
  },
  {
   "cell_type": "code",
   "execution_count": null,
   "metadata": {},
   "outputs": [],
   "source": [
    "tr_kap_10 = float(sr_rsbu_1)/float(baza[(baza['Дата'] == data_1_time)&(baza['Компания Группы'] == 'Группа ВТБ')&(baza['Показатель риск-аппетита'] == 'Достаточность капитала (Н20.0, РСБУ, %)')]['Значение (число)'])*8\n",
    "tr_kap_11 = float(sr_rsbu_1)/float(baza[(baza['Дата'] == data_1_time)&(baza['Компания Группы'] == 'Группа ВТБ')&(baza['Показатель риск-аппетита'] == 'Достаточность капитала (Н20.0, РСБУ, %)')]['Значение (число)'])*3.5\n",
    "tr_kap_20 = float(sr_rsbu_2)/float(baza[(baza['Дата'] == data_2_time)&(baza['Компания Группы'] == 'Группа ВТБ')&(baza['Показатель риск-аппетита'] == 'Достаточность капитала (Н20.0, РСБУ, %)')]['Значение (число)'])*8\n",
    "tr_kap_21 = float(sr_rsbu_2)/float(baza[(baza['Дата'] == data_2_time)&(baza['Компания Группы'] == 'Группа ВТБ')&(baza['Показатель риск-аппетита'] == 'Достаточность капитала (Н20.0, РСБУ, %)')]['Значение (число)'])*3.5\n",
    "tr_kap_30 = float(sr_rsbu_3)/float(baza[(baza['Дата'] == data_3_time)&(baza['Компания Группы'] == 'Группа ВТБ')&(baza['Показатель риск-аппетита'] == 'Достаточность капитала (Н20.0, РСБУ, %)')]['Значение (число)'])*8\n",
    "tr_kap_31 = float(sr_rsbu_3)/float(baza[(baza['Дата'] == data_3_time)&(baza['Компания Группы'] == 'Группа ВТБ')&(baza['Показатель риск-аппетита'] == 'Достаточность капитала (Н20.0, РСБУ, %)')]['Значение (число)'])*3.5"
   ]
  },
  {
   "cell_type": "code",
   "execution_count": null,
   "metadata": {},
   "outputs": [],
   "source": [
    "data_1 = (float(sr_msfo_1), float(sr_msfo_2), float(sr_msfo_3))\n",
    "data_3 = (float(cap_1), float(cap_2), float(cap_3))\n",
    "data_4 = (float(tr_kap_10), float(tr_kap_20), float(tr_kap_30))\n",
    "data_2 = (float(sr_rsbu_1), float(sr_rsbu_2), float(sr_rsbu_3))\n",
    "data_11 = (float(tr_kap_11), float(tr_kap_21), float(tr_kap_31))"
   ]
  },
  {
   "cell_type": "code",
   "execution_count": null,
   "metadata": {},
   "outputs": [],
   "source": [
    "tr_kap_1=\"{0:.0f}\".format(float(tr_kap_11))\n",
    "tr_kap_2=\"{0:.0f}\".format(float(tr_kap_21))\n",
    "tr_kap_3=\"{0:.0f}\".format(float(tr_kap_31))"
   ]
  },
  {
   "cell_type": "code",
   "execution_count": null,
   "metadata": {},
   "outputs": [],
   "source": [
    "def text_data_2(number, textt):   \n",
    "    text_frame = slide_text[number].text_frame\n",
    "    text_frame.clear()\n",
    "    p = text_frame.paragraphs[0]\n",
    "    run = p.add_run()\n",
    "    run.text = textt\n",
    "    run.font.size = Pt(7)\n",
    "    run.font.color.rgb = RGBColor(255, 255, 255)"
   ]
  },
  {
   "cell_type": "code",
   "execution_count": null,
   "metadata": {},
   "outputs": [],
   "source": [
    "text_data_2(0,tr_kap_1)\n",
    "text_data_2(2,tr_kap_2)\n",
    "text_data_2(1,tr_kap_3)"
   ]
  },
  {
   "cell_type": "code",
   "execution_count": null,
   "metadata": {},
   "outputs": [],
   "source": [
    "if pd.isna(float(sr_msfo_3)) == False and pd.isna(float(cap_3)) == False and pd.isna(float(tr_kap_30)) == False and pd.isna(float(sr_rsbu_3)) == False: \n",
    "    chart_data = ChartData()\n",
    "    chart_data.categories = [df_1_0.Report_date[0],df_2_0.Report_date[0],df_3_0.Report_date[0]]\n",
    "    chart_data.add_series('Собственные средства МСФО', data_1)\n",
    "    chart_data.add_series('Собственные средства РСБУ', data_2)\n",
    "    chart_data.add_series('Экономический капитал', data_3)\n",
    "    chart_data.add_series('Регуляторные требования к капиталу', data_4)\n",
    "\n",
    "    slide_chart[1].chart.replace_data(chart_data)"
   ]
  },
  {
   "cell_type": "code",
   "execution_count": null,
   "metadata": {},
   "outputs": [],
   "source": [
    "def text_data_21(number, tr_kap, tr_kap_):   \n",
    "    text_frame = slide_text[number].text_frame\n",
    "    text_frame.clear()\n",
    "    p = text_frame.paragraphs[0]\n",
    "    run = p.add_run()\n",
    "    run.text = \"{0:.0f}\".format(float(tr_kap) + float(tr_kap_))\n",
    "    run.font.size = Pt(8)\n",
    "text_data_21(15, tr_kap_10, tr_kap_11)\n",
    "text_data_21(16, tr_kap_20, tr_kap_21)\n",
    "text_data_21(17, tr_kap_30, tr_kap_31)\n",
    "prs.save(presentation)"
   ]
  },
  {
   "cell_type": "markdown",
   "metadata": {},
   "source": [
    "## Слайд 23"
   ]
  },
  {
   "cell_type": "markdown",
   "metadata": {},
   "source": [
    "### Просрочка"
   ]
  },
  {
   "cell_type": "markdown",
   "metadata": {},
   "source": [
    "1 ТАБЛИЦА"
   ]
  },
  {
   "cell_type": "code",
   "execution_count": null,
   "metadata": {},
   "outputs": [],
   "source": [
    "for i in ['Overdue_body_NAS_mRUR','Overdue_other_NAS_mRUR', 'Overdue_percent_NAS_mRUR']:\n",
    "    df_1_0[i] = pd.to_numeric(df_1_0[i], errors='coerce')\n",
    "    df_2_0[i] = pd.to_numeric(df_2_0[i], errors='coerce')\n",
    "    df_3_0[i] = pd.to_numeric(df_3_0[i], errors='coerce')\n",
    "for i in ['Overdue_body_NAS_mRUR','Overdue_other_NAS_mRUR', 'Overdue_percent_NAS_mRUR']:\n",
    "    df_1_0[i].fillna(0, inplace=True)\n",
    "    df_3_0[i].fillna(0, inplace=True)\n",
    "    df_2_0[i].fillna(0, inplace=True)\n",
    "df_1_0['overdue'] = df_1_0['Overdue_body_NAS_mRUR'] + df_1_0['Overdue_other_NAS_mRUR'] + df_1_0['Overdue_percent_NAS_mRUR']\n",
    "df_2_0['overdue'] = df_2_0['Overdue_body_NAS_mRUR'] + df_2_0['Overdue_other_NAS_mRUR'] + df_2_0['Overdue_percent_NAS_mRUR']\n",
    "df_3_0['overdue'] = df_3_0['Overdue_body_NAS_mRUR'] + df_3_0['Overdue_other_NAS_mRUR'] + df_3_0['Overdue_percent_NAS_mRUR']"
   ]
  },
  {
   "cell_type": "code",
   "execution_count": null,
   "metadata": {},
   "outputs": [],
   "source": [
    "df_1 = df_1_0.query('VTB_group_member != 1 and LE_id != 21 and Type_product_id not in [90, 91]').reset_index(drop=True)\n",
    "df_1=df_1[(df_1['DPD_cont'] != 0)& (df_1['DPD_cont'].isnull() == False)].reset_index(drop=True)\n",
    "df_2 = df_2_0.query('VTB_group_member != 1 and LE_id != 21 and Type_product_id not in [90, 91]').reset_index(drop=True)\n",
    "df_2=df_2[(df_2['DPD_cont'] != 0)& (df_2['DPD_cont'].isnull() == False)].reset_index(drop=True)\n",
    "df_3 = df_3_0.query('VTB_group_member != 1 and LE_id != 21 and Type_product_id not in [90, 91]').reset_index(drop=True)\n",
    "df_3=df_3[(df_3['DPD_cont'] != 0)& (df_3['DPD_cont'].isnull() == False)].reset_index(drop=True)"
   ]
  },
  {
   "cell_type": "code",
   "execution_count": null,
   "metadata": {},
   "outputs": [],
   "source": [
    "gar_1, cr_f_1, cr_u_1, other_1, itogo_1 = slide_23_1(df_1)\n",
    "gar_2, cr_f_2, cr_u_2, other_2, itogo_2 = slide_23_1(df_2)\n",
    "gar_3,cr_f_3,cr_u_3,other_3,itogo_3= slide_23_1(df_3)"
   ]
  },
  {
   "cell_type": "code",
   "execution_count": null,
   "metadata": {},
   "outputs": [],
   "source": [
    "data = {'Тип инструмента':['Гарантии','Кредиты ФЛ','Кредиты ЮЛ','Прочие','Итого'],\n",
    "        data_1:[gar_1, cr_f_1, cr_u_1, other_1, itogo_1], data_2:[gar_2, cr_f_2, cr_u_2, other_2, itogo_2],\n",
    "       data_3: [gar_3,cr_f_3,cr_u_3,other_3,itogo_3]}\n",
    "df=pd.DataFrame(data=data)"
   ]
  },
  {
   "cell_type": "code",
   "execution_count": null,
   "metadata": {},
   "outputs": [],
   "source": [
    "for i in range(0, len(df)):\n",
    "    for j in range (1,4):\n",
    "        df.iloc[i,j] = \"{0:.0f}\".format(df.iloc[i,j])"
   ]
  },
  {
   "cell_type": "code",
   "execution_count": null,
   "metadata": {},
   "outputs": [],
   "source": [
    "slide = prs.slides[slide_pr_1]\n",
    "table = [shape for shape in slide.shapes if shape.has_table]"
   ]
  },
  {
   "cell_type": "code",
   "execution_count": null,
   "metadata": {},
   "outputs": [],
   "source": [
    "slide_text = [shape for shape in slide.shapes if shape.has_text_frame]"
   ]
  },
  {
   "cell_type": "code",
   "execution_count": null,
   "metadata": {},
   "outputs": [],
   "source": [
    "text_data(2)"
   ]
  },
  {
   "cell_type": "code",
   "execution_count": null,
   "metadata": {},
   "outputs": [],
   "source": [
    "for i in range(1,6):\n",
    "    for j in range(1,4):\n",
    "        table[2].table.cell(i,j).text = df.iloc[i-1, j]\n",
    "        run = table[2].table.cell(i,j).text_frame.paragraphs[0]\n",
    "        run.font.bold = False\n",
    "        run.font.size = Pt(8)\n",
    "        cell = table[2].table.cell(i, j)\n",
    "        cell.text_frame.paragraphs[0].alignment=PP_ALIGN.CENTER\n",
    "for j in range(1,4):\n",
    "    run = table[2].table.cell(5,j).text_frame.paragraphs[0]\n",
    "    run.font.bold = True"
   ]
  },
  {
   "cell_type": "code",
   "execution_count": null,
   "metadata": {},
   "outputs": [],
   "source": [
    "dates_heading(df_1_0, 1, table[2], Pt(8))\n",
    "dates_heading(df_2_0, 2, table[2], Pt(8))\n",
    "dates_heading(df_3_0, 3, table[2], Pt(8))"
   ]
  },
  {
   "cell_type": "code",
   "execution_count": null,
   "metadata": {},
   "outputs": [],
   "source": [
    "prs.save(presentation)"
   ]
  },
  {
   "cell_type": "markdown",
   "metadata": {},
   "source": [
    "2 ТАБЛИЦА"
   ]
  },
  {
   "cell_type": "code",
   "execution_count": null,
   "metadata": {},
   "outputs": [],
   "source": [
    "vtb_1, bm_1, kapital_1, liz_1, other_1, itogo_1 = slide_23_2(df_1)\n",
    "vtb_2, bm_2, kapital_2, liz_2, other_2, itogo_2 = slide_23_2(df_2)\n",
    "vtb_3, bm_3, kapital_3, liz_3, other_3, itogo_3 = slide_23_2(df_3)"
   ]
  },
  {
   "cell_type": "code",
   "execution_count": null,
   "metadata": {},
   "outputs": [],
   "source": [
    "data = {'Компания группы':['Банк ВТБ','БМ Банк','ВТБ Капитал','ВТБ Лизинг','Прочие ДК','Итого'],\n",
    "        data_1:[vtb_1, bm_1, kapital_1, liz_1, other_1, itogo_1], data_2:[vtb_2, bm_2, kapital_2, liz_2, other_2, itogo_2],\n",
    "       data_3: [vtb_3, bm_3, kapital_3, liz_3, other_3, itogo_3]}\n",
    "df=pd.DataFrame(data=data)"
   ]
  },
  {
   "cell_type": "code",
   "execution_count": null,
   "metadata": {},
   "outputs": [],
   "source": [
    "for i in range(0, len(df)):\n",
    "    for j in range (1,4):\n",
    "        df.iloc[i,j] = \"{0:.0f}\".format(df.iloc[i,j])\n",
    "for i in range(1,7):\n",
    "    for j in range(1,4):\n",
    "        table[1].table.cell(i,j).text = df.iloc[i-1, j]\n",
    "        run = table[1].table.cell(i,j).text_frame.paragraphs[0]\n",
    "        run.font.bold = False\n",
    "        run.font.size = Pt(8)\n",
    "        cell = table[1].table.cell(i, j)\n",
    "        cell.text_frame.paragraphs[0].alignment=PP_ALIGN.CENTER\n",
    "for j in range(1,4):\n",
    "    run = table[1].table.cell(6,j).text_frame.paragraphs[0]\n",
    "    run.font.bold = True"
   ]
  },
  {
   "cell_type": "code",
   "execution_count": null,
   "metadata": {},
   "outputs": [],
   "source": [
    "dates_heading(df_1_0, 1, table[1], Pt(8))\n",
    "dates_heading(df_2_0, 2, table[1], Pt(8))\n",
    "dates_heading(df_3_0, 3, table[1], Pt(8))"
   ]
  },
  {
   "cell_type": "code",
   "execution_count": null,
   "metadata": {},
   "outputs": [],
   "source": [
    "prs.save(presentation)"
   ]
  },
  {
   "cell_type": "markdown",
   "metadata": {},
   "source": [
    "3 ТАБЛИЦА"
   ]
  },
  {
   "cell_type": "code",
   "execution_count": null,
   "metadata": {},
   "outputs": [],
   "source": [
    "cib_1, mcb_1, other_1, rtl_1, treasury_1, itogo_1 = slide_23_3(df_1)\n",
    "cib_2, mcb_2, other_2, rtl_2, treasury_2, itogo_2 = slide_23_3(df_2)\n",
    "cib_3, mcb_3, other_3, rtl_3, treasury_3, itogo_3 = slide_23_3(df_3)"
   ]
  },
  {
   "cell_type": "code",
   "execution_count": null,
   "metadata": {},
   "outputs": [],
   "source": [
    "data = {'ГБЛ':['КИБ','СМБ','Прочие','РБ','Казначейство','Итого'],\n",
    "        data_1:[cib_1, mcb_1, other_1, rtl_1, treasury_1, itogo_1], data_2:[cib_2, mcb_2, other_2, rtl_2, treasury_2, itogo_2],\n",
    "       data_3: [cib_3, mcb_3, other_3, rtl_3, treasury_3, itogo_3]}\n",
    "df=pd.DataFrame(data=data)"
   ]
  },
  {
   "cell_type": "code",
   "execution_count": null,
   "metadata": {},
   "outputs": [],
   "source": [
    "for i in range(0, len(df)):\n",
    "    for j in range (1,4):\n",
    "        df.iloc[i,j] = \"{0:.0f}\".format(df.iloc[i,j])\n",
    "for i in range(1,7):\n",
    "    for j in range(1,4):\n",
    "        table[0].table.cell(i,j).text = df.iloc[i-1, j]\n",
    "        run = table[0].table.cell(i,j).text_frame.paragraphs[0]\n",
    "        run.font.bold = False\n",
    "        run.font.size = Pt(8)\n",
    "        cell = table[0].table.cell(i, j)\n",
    "        cell.text_frame.paragraphs[0].alignment=PP_ALIGN.CENTER\n",
    "for j in range(1,4):\n",
    "    run = table[0].table.cell(6,j).text_frame.paragraphs[0]\n",
    "    run.font.bold = True"
   ]
  },
  {
   "cell_type": "code",
   "execution_count": null,
   "metadata": {},
   "outputs": [],
   "source": [
    "dates_heading(df_1_0, 1, table[0], Pt(8))\n",
    "dates_heading(df_2_0, 2, table[0], Pt(8))\n",
    "dates_heading(df_3_0, 3, table[0], Pt(8))"
   ]
  },
  {
   "cell_type": "code",
   "execution_count": null,
   "metadata": {},
   "outputs": [],
   "source": [
    "prs.save(presentation)"
   ]
  },
  {
   "cell_type": "markdown",
   "metadata": {},
   "source": [
    "4 ТАБЛИЦА"
   ]
  },
  {
   "cell_type": "code",
   "execution_count": null,
   "metadata": {},
   "outputs": [],
   "source": [
    "first_1, second_1, third_1, itogo_1 = slide_23_4(df_1)\n",
    "first_2, second_2, third_2, itogo_2 = slide_23_4(df_2)\n",
    "first_3, second_3, third_3, itogo_3 = slide_23_4(df_3)"
   ]
  },
  {
   "cell_type": "code",
   "execution_count": null,
   "metadata": {},
   "outputs": [],
   "source": [
    "data = {'Cрок':['1','2','3','Итого'],\n",
    "        data_1:[first_1, second_1, third_1, itogo_1], data_2:[first_2, second_2, third_2, itogo_2],\n",
    "       data_3: [first_3, second_3, third_3, itogo_3]}\n",
    "df=pd.DataFrame(data=data)"
   ]
  },
  {
   "cell_type": "code",
   "execution_count": null,
   "metadata": {},
   "outputs": [],
   "source": [
    "for i in range(0, len(df)):\n",
    "    for j in range (1,4):\n",
    "        df.iloc[i,j] = \"{0:.0f}\".format(df.iloc[i,j])\n",
    "for i in range(1,5):\n",
    "    for j in range(1,4):\n",
    "        table[3].table.cell(i,j).text = df.iloc[i-1, j]\n",
    "        run = table[3].table.cell(i,j).text_frame.paragraphs[0]\n",
    "        run.font.bold = False\n",
    "        run.font.size = Pt(8)\n",
    "        cell = table[3].table.cell(i, j)\n",
    "        cell.text_frame.paragraphs[0].alignment=PP_ALIGN.CENTER\n",
    "for j in range(1,4):\n",
    "    run = table[3].table.cell(4,j).text_frame.paragraphs[0]\n",
    "    run.font.bold = True"
   ]
  },
  {
   "cell_type": "code",
   "execution_count": null,
   "metadata": {},
   "outputs": [],
   "source": [
    "dates_heading(df_1_0, 1, table[3], Pt(8))\n",
    "dates_heading(df_2_0, 2, table[3], Pt(8))\n",
    "dates_heading(df_3_0, 3, table[3], Pt(8))"
   ]
  },
  {
   "cell_type": "code",
   "execution_count": null,
   "metadata": {},
   "outputs": [],
   "source": [
    "prs.save(presentation)"
   ]
  },
  {
   "cell_type": "markdown",
   "metadata": {},
   "source": [
    "### График"
   ]
  },
  {
   "cell_type": "code",
   "execution_count": null,
   "metadata": {},
   "outputs": [],
   "source": [
    "list_2 = ['Value_cash_mRUR', 'Value_qusi_cash_mRUR', 'Value_equity_mRUR','Value_other_securities_mRUR',\n",
    "         'Value_real_estate_mRUR', 'Value_rec_mRUR', 'Value_equipment_mRUR', 'Value_moveable_mRUR', 'Value_goods_mRUR',\n",
    "         'Value_guaranty_mRUR', 'Value_other_mRUR']"
   ]
  },
  {
   "cell_type": "code",
   "execution_count": null,
   "metadata": {},
   "outputs": [],
   "source": [
    "for i in list_2:\n",
    "    df_1_0[i] = pd.to_numeric(df_1_0[i], errors='coerce')\n",
    "    df_2_0[i] = pd.to_numeric(df_2_0[i], errors='coerce')\n",
    "    df_3_0[i] = pd.to_numeric(df_3_0[i], errors='coerce')\n",
    "for i in list_2:\n",
    "    df_1_0[i].fillna(0, inplace=True)\n",
    "    df_3_0[i].fillna(0, inplace=True)\n",
    "    df_2_0[i].fillna(0, inplace=True)"
   ]
  },
  {
   "cell_type": "code",
   "execution_count": null,
   "metadata": {},
   "outputs": [],
   "source": [
    "df_1 = df_1_0.query('VTB_group_member != 1 and LE_id != 21 and Type_product_id not in [90, 91]').reset_index(drop=True)\n",
    "df_2 = df_2_0.query('VTB_group_member != 1 and LE_id != 21 and Type_product_id not in [90, 91]').reset_index(drop=True)\n",
    "df_3 = df_3_0.query('VTB_group_member != 1 and LE_id != 21 and Type_product_id not in [90, 91]').reset_index(drop=True)\n",
    "df_1=df_1[(df_1['Gross_balance_MIX_mRUR'] != 0)].reset_index(drop=True)\n",
    "df_2=df_2[(df_2['Gross_balance_MIX_mRUR'] != 0)].reset_index(drop=True)\n",
    "df_3=df_3[(df_3['Gross_balance_MIX_mRUR'] != 0)].reset_index(drop=True)"
   ]
  },
  {
   "cell_type": "code",
   "execution_count": null,
   "metadata": {},
   "outputs": [],
   "source": [
    "for df in [df_1, df_2, df_3]:\n",
    "    df['Coll_cash'] = df['Value_cash_mRUR'] + df['Value_qusi_cash_mRUR']\n",
    "    df['Coll_securities'] = df['Value_equity_mRUR'] + df['Value_other_securities_mRUR']\n",
    "    df['Coll_real_estate'] = df['Value_real_estate_mRUR']\n",
    "    df['Coll_receivables'] = df['Value_rec_mRUR']\n",
    "    df['Coll_equp_moveables'] = df['Value_equipment_mRUR'] + df['Value_moveable_mRUR']\n",
    "    df['Coll_goods'] = df['Value_goods_mRUR']\n",
    "    df['Coll_guar'] = df['Value_guaranty_mRUR']\n",
    "    df['Coll_other'] = df['Value_other_mRUR']\n",
    "    df['collateral_sum'] = df['Coll_cash']+df['Coll_securities']+df['Coll_real_estate']+df['Coll_receivables']+df['Coll_equp_moveables']+df['Coll_goods']+df['Coll_guar']+df['Coll_other']"
   ]
  },
  {
   "cell_type": "code",
   "execution_count": null,
   "metadata": {},
   "outputs": [],
   "source": [
    "df_1_1 = df_1.pivot_table(index = ['LE', 'LE_id', 'type_business','client_name_final_upd'], \n",
    "                         values = ['Gross_balance_MIX_mRUR','Coll_cash','Coll_securities','Coll_real_estate','Coll_receivables','Coll_equp_moveables',\n",
    "                                  'Coll_goods', 'Coll_guar', 'Coll_other', 'collateral_sum'], \n",
    "                          #columns=['LE','LE_id','Type_business','client_name_final_upd'], \n",
    "                         aggfunc = 'sum').reset_index()\n",
    "df_2_2 = df_2.pivot_table(index = ['LE', 'LE_id', 'type_business','client_name_final_upd'], \n",
    "                         values = ['Gross_balance_MIX_mRUR','Coll_cash', 'Coll_securities','Coll_real_estate','Coll_receivables','Coll_equp_moveables',\n",
    "                                  'Coll_goods', 'Coll_guar', 'Coll_other', 'collateral_sum'], \n",
    "                         aggfunc = 'sum').reset_index()\n",
    "df_3_3 = df_3.pivot_table(index = ['LE', 'LE_id', 'type_business','client_name_final_upd'], \n",
    "                         values = ['Gross_balance_MIX_mRUR','Coll_cash', 'Coll_securities','Coll_real_estate','Coll_receivables','Coll_equp_moveables',\n",
    "                                  'Coll_goods', 'Coll_guar', 'Coll_other', 'collateral_sum'], \n",
    "                         aggfunc = 'sum').reset_index()"
   ]
  },
  {
   "cell_type": "code",
   "execution_count": null,
   "metadata": {},
   "outputs": [],
   "source": [
    "Cash_1, Securities_1, Real_estate_1, Receivables_1, Equipment_and_moveables_1, Goods_1,Guarantees_1, Oth_collateral_1, Total_collateral_1 = colls(df_1_1)\n",
    "Cash_2, Securities_2, Real_estate_2, Receivables_2, Equipment_and_moveables_2, Goods_2,Guarantees_2, Oth_collateral_2, Total_collateral_2 = colls(df_2_2)\n",
    "Cash_3, Securities_3, Real_estate_3, Receivables_3, Equipment_and_moveables_3, Goods_3,Guarantees_3, Oth_collateral_3, Total_collateral_3 = colls(df_3_3)"
   ]
  },
  {
   "cell_type": "code",
   "execution_count": null,
   "metadata": {},
   "outputs": [],
   "source": [
    "data_1 = (Cash_1, Securities_1, Real_estate_1, Receivables_1, Equipment_and_moveables_1, Goods_1,Guarantees_1, Oth_collateral_1)\n",
    "data_2 = (Cash_2, Securities_2, Real_estate_2, Receivables_2, Equipment_and_moveables_2, Goods_2,Guarantees_2, Oth_collateral_2)\n",
    "data_3 = (Cash_3, Securities_3, Real_estate_3, Receivables_3, Equipment_and_moveables_3, Goods_3,Guarantees_3, Oth_collateral_3)"
   ]
  },
  {
   "cell_type": "code",
   "execution_count": null,
   "metadata": {},
   "outputs": [],
   "source": [
    "slide_chart = [shape for shape in slide.shapes if shape.has_chart]\n",
    "chart_data = ChartData()\n",
    "chart_data.categories = ['Финансовое и квазифинансовое обеспечение', 'Акции и прочие ценные бумаги', 'Недвижимое имущество',\n",
    "                        'Дебиторская задолженность', 'Оборудование и движимое имущество', 'Товары в обороте', \n",
    "                        'Гарантии', 'Прочее обеспечение']\n",
    "chart_data.add_series(df_1_0.Report_date[0], (data_1))\n",
    "chart_data.add_series(df_2_0.Report_date[0], (data_2))\n",
    "chart_data.add_series(df_3_0.Report_date[0], (data_3))\n",
    "\n",
    "slide_chart[0].chart.replace_data(chart_data)"
   ]
  },
  {
   "cell_type": "code",
   "execution_count": null,
   "metadata": {},
   "outputs": [],
   "source": [
    "prs.save(presentation)"
   ]
  },
  {
   "cell_type": "markdown",
   "metadata": {},
   "source": [
    "## Слайд 24"
   ]
  },
  {
   "cell_type": "markdown",
   "metadata": {},
   "source": [
    "### 1 таблица"
   ]
  },
  {
   "cell_type": "code",
   "execution_count": null,
   "metadata": {},
   "outputs": [],
   "source": [
    "df_1 = df_1_0.query('VTB_group_member != 1 and LE_id == 1 and Type_product_id not in [90, 91]').reset_index(drop=True)\n",
    "df_1=df_1[(df_1['DPD_cont'] != 0)& (df_1['DPD_cont'].isnull() == False)].reset_index(drop=True)\n",
    "df_2 = df_2_0.query('VTB_group_member != 1 and LE_id == 1 and Type_product_id not in [90, 91]').reset_index(drop=True)\n",
    "df_2=df_2[(df_2['DPD_cont'] != 0)& (df_2['DPD_cont'].isnull() == False)].reset_index(drop=True)\n",
    "df_3 = df_3_0.query('VTB_group_member != 1 and LE_id == 1 and Type_product_id not in [90, 91]').reset_index(drop=True)\n",
    "df_3=df_3[(df_3['DPD_cont'] != 0)& (df_3['DPD_cont'].isnull() == False)].reset_index(drop=True)"
   ]
  },
  {
   "cell_type": "code",
   "execution_count": null,
   "metadata": {},
   "outputs": [],
   "source": [
    "gar_1, cr_f_1, cr_u_1, itogo_1 = slide_24_1(df_1)\n",
    "gar_2, cr_f_2, cr_u_2, itogo_2 = slide_24_1(df_2)\n",
    "gar_3, cr_f_3, cr_u_3, itogo_3 = slide_24_1(df_3)"
   ]
  },
  {
   "cell_type": "code",
   "execution_count": null,
   "metadata": {},
   "outputs": [],
   "source": [
    "data = {'Тип инструмента':['Гарантии','Кредиты ФЛ','Кредиты ЮЛ','Итого'],\n",
    "        data_1:[gar_1, cr_f_1, cr_u_1, itogo_1], data_2:[gar_2, cr_f_2, cr_u_2, itogo_2],\n",
    "       data_3: [gar_3,cr_f_3,cr_u_3,itogo_3]}\n",
    "df=pd.DataFrame(data=data)"
   ]
  },
  {
   "cell_type": "code",
   "execution_count": null,
   "metadata": {},
   "outputs": [],
   "source": [
    "for i in range(0, len(df)):\n",
    "    for j in range (1,4):\n",
    "        df.iloc[i,j] = \"{0:.0f}\".format(df.iloc[i,j])"
   ]
  },
  {
   "cell_type": "code",
   "execution_count": null,
   "metadata": {},
   "outputs": [],
   "source": [
    "slide = prs.slides[slide_pr_2]\n",
    "table = [shape for shape in slide.shapes if shape.has_table]"
   ]
  },
  {
   "cell_type": "code",
   "execution_count": null,
   "metadata": {},
   "outputs": [],
   "source": [
    "for i in range(1,5):\n",
    "    for j in range(1,4):\n",
    "        table[1].table.cell(i,j).text = df.iloc[i-1, j]\n",
    "        run = table[1].table.cell(i,j).text_frame.paragraphs[0]\n",
    "        run.font.bold = False\n",
    "        run.font.size = Pt(8)\n",
    "        cell = table[1].table.cell(i, j)\n",
    "        cell.text_frame.paragraphs[0].alignment=PP_ALIGN.CENTER\n",
    "for j in range(1,4):\n",
    "    run = table[1].table.cell(4,j).text_frame.paragraphs[0]\n",
    "    run.font.bold = True"
   ]
  },
  {
   "cell_type": "code",
   "execution_count": null,
   "metadata": {},
   "outputs": [],
   "source": [
    "dates_heading(df_1_0, 1, table[1], Pt(8))\n",
    "dates_heading(df_2_0, 2, table[1], Pt(8))\n",
    "dates_heading(df_3_0, 3, table[1], Pt(8))"
   ]
  },
  {
   "cell_type": "code",
   "execution_count": null,
   "metadata": {},
   "outputs": [],
   "source": [
    "slide_text = [shape for shape in slide.shapes if shape.has_text_frame]"
   ]
  },
  {
   "cell_type": "code",
   "execution_count": null,
   "metadata": {},
   "outputs": [],
   "source": [
    "text_data(5)"
   ]
  },
  {
   "cell_type": "markdown",
   "metadata": {},
   "source": [
    "### 2 таблица"
   ]
  },
  {
   "cell_type": "code",
   "execution_count": null,
   "metadata": {},
   "outputs": [],
   "source": [
    "cib_1, mcb_1, other_1, rtl_1, treasury_1, itogo_1 = slide_23_3(df_1)\n",
    "cib_2, mcb_2, other_2, rtl_2, treasury_2, itogo_2 = slide_23_3(df_2)\n",
    "cib_3, mcb_3, other_3, rtl_3, treasury_3, itogo_3 = slide_23_3(df_3)"
   ]
  },
  {
   "cell_type": "code",
   "execution_count": null,
   "metadata": {},
   "outputs": [],
   "source": [
    "data = {'ГБЛ':['КИБ','СМБ','Прочие','РБ','Казначейство','Итого'],\n",
    "        data_1:[cib_1, mcb_1, other_1, rtl_1, treasury_1, itogo_1], data_2:[cib_2, mcb_2, other_2, rtl_2, treasury_2, itogo_2],\n",
    "       data_3: [cib_3, mcb_3, other_3, rtl_3, treasury_3, itogo_3]}\n",
    "df=pd.DataFrame(data=data)"
   ]
  },
  {
   "cell_type": "code",
   "execution_count": null,
   "metadata": {},
   "outputs": [],
   "source": [
    "for i in range(0, len(df)):\n",
    "    for j in range (1,4):\n",
    "        df.iloc[i,j] = \"{0:.0f}\".format(df.iloc[i,j])\n",
    "for i in range(1,7):\n",
    "    for j in range(1,4):\n",
    "        table[0].table.cell(i,j).text = df.iloc[i-1, j]\n",
    "        run = table[0].table.cell(i,j).text_frame.paragraphs[0]\n",
    "        run.font.bold = False\n",
    "        run.font.size = Pt(8)\n",
    "        cell = table[0].table.cell(i, j)\n",
    "        cell.text_frame.paragraphs[0].alignment=PP_ALIGN.CENTER\n",
    "for j in range(1,4):\n",
    "    run = table[0].table.cell(6,j).text_frame.paragraphs[0]\n",
    "    run.font.bold = True"
   ]
  },
  {
   "cell_type": "code",
   "execution_count": null,
   "metadata": {},
   "outputs": [],
   "source": [
    "dates_heading(df_1_0, 1, table[0], Pt(8))\n",
    "dates_heading(df_2_0, 2, table[0], Pt(8))\n",
    "dates_heading(df_3_0, 3, table[0], Pt(8))"
   ]
  },
  {
   "cell_type": "code",
   "execution_count": null,
   "metadata": {},
   "outputs": [],
   "source": [
    "prs.save(presentation)"
   ]
  },
  {
   "cell_type": "markdown",
   "metadata": {},
   "source": [
    "### 3 таблица"
   ]
  },
  {
   "cell_type": "code",
   "execution_count": null,
   "metadata": {},
   "outputs": [],
   "source": [
    "first_1, second_1, third_1, itogo_1 = slide_23_4(df_1)\n",
    "first_2, second_2, third_2, itogo_2 = slide_23_4(df_2)\n",
    "first_3, second_3, third_3, itogo_3 = slide_23_4(df_3)"
   ]
  },
  {
   "cell_type": "code",
   "execution_count": null,
   "metadata": {},
   "outputs": [],
   "source": [
    "data = {'Cрок':['1','2','3','Итого'],\n",
    "        data_1:[first_1, second_1, third_1, itogo_1], data_2:[first_2, second_2, third_2, itogo_2],\n",
    "       data_3: [first_3, second_3, third_3, itogo_3]}\n",
    "df=pd.DataFrame(data=data)\n",
    "for i in range(0, len(df)):\n",
    "    for j in range (1,4):\n",
    "        df.iloc[i,j] = \"{0:.0f}\".format(df.iloc[i,j])\n",
    "for i in range(1,5):\n",
    "    for j in range(1,4):\n",
    "        table[2].table.cell(i,j).text = df.iloc[i-1, j]\n",
    "        run = table[2].table.cell(i,j).text_frame.paragraphs[0]\n",
    "        run.font.bold = False\n",
    "        run.font.size = Pt(8)\n",
    "        cell = table[2].table.cell(i, j)\n",
    "        cell.text_frame.paragraphs[0].alignment=PP_ALIGN.CENTER\n",
    "for j in range(1,4):\n",
    "    run = table[2].table.cell(4,j).text_frame.paragraphs[0]\n",
    "    run.font.bold = True"
   ]
  },
  {
   "cell_type": "code",
   "execution_count": null,
   "metadata": {},
   "outputs": [],
   "source": [
    "dates_heading(df_1_0, 1, table[2], Pt(8))\n",
    "dates_heading(df_2_0, 2, table[2], Pt(8))\n",
    "dates_heading(df_3_0, 3, table[2], Pt(8))"
   ]
  },
  {
   "cell_type": "code",
   "execution_count": null,
   "metadata": {},
   "outputs": [],
   "source": [
    "prs.save(presentation)"
   ]
  },
  {
   "cell_type": "markdown",
   "metadata": {},
   "source": [
    "### График"
   ]
  },
  {
   "cell_type": "code",
   "execution_count": null,
   "metadata": {},
   "outputs": [],
   "source": [
    "df_1 = df_1_0.query('VTB_group_member != 1 and LE_id == 1 and Type_product_id not in [90, 91]').reset_index(drop=True)\n",
    "df_2 = df_2_0.query('VTB_group_member != 1 and LE_id == 1 and Type_product_id not in [90, 91]').reset_index(drop=True)\n",
    "df_3 = df_3_0.query('VTB_group_member != 1 and LE_id == 1 and Type_product_id not in [90, 91]').reset_index(drop=True)"
   ]
  },
  {
   "cell_type": "code",
   "execution_count": null,
   "metadata": {},
   "outputs": [],
   "source": [
    "df_1=df_1[(df_1['Gross_balance_MIX_mRUR'] != 0) ].reset_index(drop=True)\n",
    "df_2=df_2[(df_2['Gross_balance_MIX_mRUR'] != 0)].reset_index(drop=True)\n",
    "df_3=df_3[(df_3['Gross_balance_MIX_mRUR'] != 0)].reset_index(drop=True)"
   ]
  },
  {
   "cell_type": "code",
   "execution_count": null,
   "metadata": {},
   "outputs": [],
   "source": [
    "for df in [df_1, df_2, df_3]:\n",
    "    df['Coll_cash'] = df['Value_cash_mRUR'] + df['Value_qusi_cash_mRUR']\n",
    "    df['Coll_securities'] = df['Value_equity_mRUR'] + df['Value_other_securities_mRUR']\n",
    "    df['Coll_real_estate'] = df['Value_real_estate_mRUR']\n",
    "    df['Coll_receivables'] = df['Value_rec_mRUR']\n",
    "    df['Coll_equp_moveables'] = df['Value_equipment_mRUR'] + df['Value_moveable_mRUR']\n",
    "    df['Coll_goods'] = df['Value_goods_mRUR']\n",
    "    df['Coll_guar'] = df['Value_guaranty_mRUR']\n",
    "    df['Coll_other'] = df['Value_other_mRUR']\n",
    "    df['collateral_sum'] = df['Coll_cash']+df['Coll_securities']+df['Coll_real_estate']+df['Coll_receivables']+df['Coll_equp_moveables']+df['Coll_goods']+df['Coll_guar']+df['Coll_other']"
   ]
  },
  {
   "cell_type": "code",
   "execution_count": null,
   "metadata": {},
   "outputs": [],
   "source": [
    "df_1_1 = df_1.pivot_table(index = ['LE', 'LE_id', 'type_business','client_name_final_upd'], \n",
    "                         values = ['Gross_balance_MIX_mRUR','Coll_cash','Coll_securities','Coll_real_estate','Coll_receivables','Coll_equp_moveables',\n",
    "                                  'Coll_goods', 'Coll_guar', 'Coll_other', 'collateral_sum'], \n",
    "                         aggfunc = 'sum').reset_index(drop=True)\n",
    "df_2_2 = df_2.pivot_table(index = ['LE', 'LE_id', 'type_business','client_name_final_upd'], \n",
    "                         values = ['Gross_balance_MIX_mRUR','Coll_cash', 'Coll_securities','Coll_real_estate','Coll_receivables','Coll_equp_moveables',\n",
    "                                  'Coll_goods', 'Coll_guar', 'Coll_other', 'collateral_sum'], \n",
    "                         aggfunc = 'sum').reset_index(drop=True)\n",
    "df_3_3 = df_3.pivot_table(index = ['LE', 'LE_id', 'type_business','client_name_final_upd'], \n",
    "                         values = ['Gross_balance_MIX_mRUR','Coll_cash', 'Coll_securities','Coll_real_estate','Coll_receivables','Coll_equp_moveables',\n",
    "                                  'Coll_goods', 'Coll_guar', 'Coll_other', 'collateral_sum'], \n",
    "                         aggfunc = 'sum').reset_index(drop=True)"
   ]
  },
  {
   "cell_type": "code",
   "execution_count": null,
   "metadata": {},
   "outputs": [],
   "source": [
    "Cash_1, Securities_1, Real_estate_1, Receivables_1, Equipment_and_moveables_1, Goods_1,Guarantees_1, Oth_collateral_1, Total_collateral_1 = colls(df_1_1)\n",
    "Cash_2, Securities_2, Real_estate_2, Receivables_2, Equipment_and_moveables_2, Goods_2,Guarantees_2, Oth_collateral_2, Total_collateral_2 = colls(df_2_2)\n",
    "Cash_3, Securities_3, Real_estate_3, Receivables_3, Equipment_and_moveables_3, Goods_3,Guarantees_3, Oth_collateral_3, Total_collateral_3 = colls(df_3_3)\n"
   ]
  },
  {
   "cell_type": "code",
   "execution_count": null,
   "metadata": {},
   "outputs": [],
   "source": [
    "data_1 = (Cash_1, Securities_1, Real_estate_1, Receivables_1, Equipment_and_moveables_1, Goods_1,Guarantees_1, Oth_collateral_1)\n",
    "data_2 = (Cash_2, Securities_2, Real_estate_2, Receivables_2, Equipment_and_moveables_2, Goods_2,Guarantees_2, Oth_collateral_2)\n",
    "data_3 = (Cash_3, Securities_3, Real_estate_3, Receivables_3, Equipment_and_moveables_3, Goods_3,Guarantees_3, Oth_collateral_3)"
   ]
  },
  {
   "cell_type": "code",
   "execution_count": null,
   "metadata": {},
   "outputs": [],
   "source": [
    "slide_chart = [shape for shape in slide.shapes if shape.has_chart]\n",
    "chart_data = ChartData()\n",
    "chart_data.categories = ['Финансовое и квазифинансовое обеспечение', 'Акции и прочие ценные бумаги', 'Недвижимое имущество',\n",
    "                        'Дебиторская задолженность', 'Оборудование и движимое имущество', 'Товары в обороте', \n",
    "                        'Гарантии', 'Прочее обеспечение']\n",
    "chart_data.add_series(df_1_0.Report_date[0], (data_1))\n",
    "chart_data.add_series(df_2_0.Report_date[0], (data_2))\n",
    "chart_data.add_series(df_3_0.Report_date[0], (data_3))\n",
    "\n",
    "slide_chart[0].chart.replace_data(chart_data)"
   ]
  },
  {
   "cell_type": "code",
   "execution_count": null,
   "metadata": {},
   "outputs": [],
   "source": [
    "prs.save(presentation)"
   ]
  },
  {
   "cell_type": "markdown",
   "metadata": {},
   "source": [
    "## Слайд 25"
   ]
  },
  {
   "cell_type": "code",
   "execution_count": null,
   "metadata": {},
   "outputs": [],
   "source": [
    "dat_1 = df_1_0.query('VTB_group_member != 1 and LE_id != 21 and Type_product_id not in [90, 91] and Gross_balance_MIX_mRUR != 0').reset_index(drop=True)"
   ]
  },
  {
   "cell_type": "code",
   "execution_count": null,
   "metadata": {},
   "outputs": [],
   "source": [
    "dat_2 = df_2_0.query('VTB_group_member != 1 and LE_id != 21 and Type_product_id not in [90, 91] and Gross_balance_MIX_mRUR != 0').reset_index(drop=True)"
   ]
  },
  {
   "cell_type": "code",
   "execution_count": null,
   "metadata": {},
   "outputs": [],
   "source": [
    "dat_3 = df_3_0.query('VTB_group_member != 1 and LE_id != 21 and Type_product_id not in [90, 91] and Gross_balance_MIX_mRUR != 0').reset_index(drop=True)"
   ]
  },
  {
   "cell_type": "code",
   "execution_count": null,
   "metadata": {},
   "outputs": [],
   "source": [
    "ref = ref[['key','Model_description']]\n",
    "ref.drop_duplicates(inplace=True)"
   ]
  },
  {
   "cell_type": "code",
   "execution_count": null,
   "metadata": {},
   "outputs": [],
   "source": [
    "for dat in [dat_1, dat_2, dat_3]:    \n",
    "    dat['Rating_short'] = dat['Rating_MS'].apply(lambda x: str(x)[:2])"
   ]
  },
  {
   "cell_type": "code",
   "execution_count": null,
   "metadata": {},
   "outputs": [],
   "source": [
    "dat_1 = dat_1[['Report_date', 'LE', 'LE_id', 'type_business', 'client_name_final_upd',\n",
    "               'Rating_model_name','Rating_model_name_itog','Rating_short','Gross_balance_MIX_mRUR','PD_GB']]\n",
    "dat_2 = dat_2[['Report_date', 'LE', 'LE_id', 'type_business', 'client_name_final_upd',\n",
    "               'Rating_model_name','Rating_model_name_itog','Rating_short','Gross_balance_MIX_mRUR','PD_GB']]\n",
    "dat_3 = dat_3[['Report_date', 'LE', 'LE_id', 'type_business', 'client_name_final_upd',\n",
    "               'Rating_model_name','Rating_model_name_itog','Rating_short','Gross_balance_MIX_mRUR','PD_GB']]"
   ]
  },
  {
   "cell_type": "code",
   "execution_count": null,
   "metadata": {},
   "outputs": [],
   "source": [
    "dat = pd.concat([dat_1, dat_2, dat_3], ignore_index=True)"
   ]
  },
  {
   "cell_type": "code",
   "execution_count": null,
   "metadata": {},
   "outputs": [],
   "source": [
    "dat['Rating_model_name'] = dat['Rating_model_name'].fillna('')\n",
    "dat['Rating_model_name_itog'] = dat['Rating_model_name_itog'].fillna('')\n",
    "dat['LE_id'] = dat['LE_id'].fillna('')\n",
    "dat['key'] = dat['LE_id'].astype(str)+dat['Rating_model_name']\n",
    "dat['Rating_model_name'] = dat['Rating_model_name'].replace('', np.nan)\n",
    "dat['Rating_model_name_itog'] = dat['Rating_model_name_itog'].replace('', np.nan)\n",
    "dat = dat.merge(ref, how='left', on = 'key').rename(columns={'Model_description' : 'Rating_model_name_+'})\n",
    "dat['Rating_model_name_+'] = dat['Rating_model_name_+'].fillna(dat['Rating_model_name_itog'])\n",
    "dat['Rating_model_name_+'] = dat['Rating_model_name_+'].fillna(dat['Rating_model_name'])\n",
    "dat['Rating_model_name_FINAL'] = dat['Rating_model_name_+']\n",
    "for i in range (0, dat.shape[0]):\n",
    "    if dat['LE_id'][i] == 2:\n",
    "        dat['Rating_model_name_FINAL'][i] = 'ВТБ Капитал - все сегменты' \n",
    "for i in range (0, dat.shape[0]):\n",
    "    if dat['LE_id'][i] != 2 and (dat['Rating_model_name_+'][i] == 2 or dat['Rating_model_name_+'][i] == 5):\n",
    "        dat['Rating_model_name_FINAL'][i] = 'Нет рейтинга'\n",
    "for i in range (0, dat.shape[0]):\n",
    "    if dat['type_business'][i] == 'RTL' and dat['LE'][i] == 'Банк ВТБ':\n",
    "        if dat['client_name_final_upd'][i] == 'Автокредиты':\n",
    "            dat['Rating_model_name_FINAL'][i] = 'Автокредиты'\n",
    "        if dat['client_name_final_upd'][i] == 'Жилищные кредиты':\n",
    "            dat['Rating_model_name_FINAL'][i] = 'Ипотека'\n",
    "        if dat['client_name_final_upd'][i] == 'Кредитные карты':\n",
    "df_notnull = dat.loc[~pd.isnull(dat['client_name_final_upd']), :]\n",
    "\n",
    "index_1=df_notnull.loc[like(df_notnull['client_name_final_upd'], '.*Автокредит.*'), :].query('type_business == \"RTL\"').index\n",
    "index_2=df_notnull.loc[like(df_notnull['client_name_final_upd'], '.*автокредит.*'),:].query('type_business == \"RTL\"').index\n",
    "index_3=df_notnull.loc[like(df_notnull['client_name_final_upd'], '.*автокре.*'),:].query('type_business == \"RTL\"').index\n",
    "index_4=df_notnull.loc[like(df_notnull['client_name_final_upd'], '.*Кредиты на покупку автомобиля.*'),:].query('type_business == \"RTL\"').index          dat['Rating_model_name_FINAL'][i] = 'Кредитные карты'\n",
    "        if dat['client_name_final_upd'][i] == 'Кредиты наличными':\n",
    "            dat['Rating_model_name_FINAL'][i] = 'Кредиты наличными'\n",
    "for i in range (0, dat.shape[0]):\n",
    "    if dat['client_name_final_upd'][i] == 'State of Qatar':\n",
    "        dat['Rating_model_name_FINAL'][i] = 'Суверен'\n",
    "dat = dat[['key','Report_date', 'LE', 'LE_id', 'type_business', 'client_name_final_upd', \n",
    "            'Rating_model_name', 'Rating_model_name_itog', 'Rating_short', 'Gross_balance_MIX_mRUR', 'Rating_model_name_+', 'Rating_model_name_FINAL','PD_GB']]"
   ]
  },
  {
   "cell_type": "code",
   "execution_count": null,
   "metadata": {},
   "outputs": [],
   "source": [
    "def like(x, pattern):\n",
    "    r = re.compile(pattern)\n",
    "    vlike = np.vectorize(lambda val: bool(r.fullmatch(val)))\n",
    "    return vlike(x)"
   ]
  },
  {
   "cell_type": "code",
   "execution_count": null,
   "metadata": {},
   "outputs": [],
   "source": [
    "df_notnull = dat.loc[~pd.isnull(dat['client_name_final_upd']), :]\n",
    "index_1=df_notnull.loc[like(df_notnull['client_name_final_upd'], '.*Автокредит.*'), :].query('type_business == \"RTL\"').index\n",
    "index_2=df_notnull.loc[like(df_notnull['client_name_final_upd'], '.*автокредит.*'),:].query('type_business == \"RTL\"').index\n",
    "index_3=df_notnull.loc[like(df_notnull['client_name_final_upd'], '.*автокре.*'),:].query('type_business == \"RTL\"').index\n",
    "index_4=df_notnull.loc[like(df_notnull['client_name_final_upd'], '.*Кредиты на покупку автомобиля.*'),:].query('type_business == \"RTL\"').index"
   ]
  },
  {
   "cell_type": "code",
   "execution_count": null,
   "metadata": {},
   "outputs": [],
   "source": [
    "index = [*index_1, *index_2,*index_3, *index_4]"
   ]
  },
  {
   "cell_type": "code",
   "execution_count": null,
   "metadata": {},
   "outputs": [],
   "source": [
    "for i in index:\n",
    "    dat['Rating_model_name_FINAL'][i] = 'Автокредиты'"
   ]
  },
  {
   "cell_type": "code",
   "execution_count": null,
   "metadata": {},
   "outputs": [],
   "source": [
    "index_1=df_notnull.loc[like(df_notnull['client_name_final_upd'], '.*Ипоте.*'),:].query('type_business == \"RTL\"').index\n",
    "index_2=df_notnull.loc[like(df_notnull['client_name_final_upd'], '.*ипоте.*'),:].query('type_business == \"RTL\"').index\n",
    "index = [*index_1, *index_2]\n",
    "for i in index:\n",
    "    dat['Rating_model_name_FINAL'][i] = 'Ипотека'\n",
    "index_1=df_notnull.loc[like(df_notnull['client_name_final_upd'], '.*Кредитная карта.*'),:].query('type_business == \"RTL\"').index\n",
    "index_2=df_notnull.loc[like(df_notnull['client_name_final_upd'], '.*Кредитные карты.*'),:].query('type_business == \"RTL\"').index\n",
    "index_3=df_notnull.loc[like(df_notnull['client_name_final_upd'], '.*кредитная карта.*'),:].query('type_business == \"RTL\"').index\n",
    "index_4=df_notnull.loc[like(df_notnull['client_name_final_upd'], '.*кредитные карты.*'),:].query('type_business == \"RTL\"').index\n",
    "index_5=df_notnull.loc[like(df_notnull['client_name_final_upd'], '.*Карты.*'),:].query('type_business == \"RTL\"').index\n",
    "index = [*index_1, *index_2,*index_3, *index_4, *index_5]\n",
    "for i in index:\n",
    "    dat['Rating_model_name_FINAL'][i] = 'Кредитные карты'\n",
    "index_1=df_notnull.loc[like(df_notnull['client_name_final_upd'], '.*кредиты наличными.*'),:].query('type_business == \"RTL\"').index\n",
    "index_2=df_notnull.loc[like(df_notnull['client_name_final_upd'], '.*Потребительские.*'),:].query('type_business == \"RTL\"').index\n",
    "index = [*index_1, *index_2]\n",
    "for i in index:\n",
    "    dat['Rating_model_name_FINAL'][i] = 'Кредиты наличными'\n",
    "df_notnull = dat.loc[~pd.isnull(dat['Rating_model_name_FINAL']), :]\n",
    "index=df_notnull.loc[like(df_notnull['Rating_model_name_FINAL'], '.*Сувер.*'),:].index\n",
    "for i in index:\n",
    "    dat['Rating_model_name_FINAL'][i] = 'Суверен'\n",
    "index=df_notnull.loc[like(df_notnull['Rating_model_name_FINAL'], '.*сувер.*'),:].index\n",
    "for i in index:\n",
    "    dat['Rating_model_name_FINAL'][i] = 'Суверен'\n",
    "index=df_notnull.loc[like(df_notnull['Rating_model_name_FINAL'], '.*Инвест.*'),:].index\n",
    "for i in index:\n",
    "    dat['Rating_model_name_FINAL'][i] = 'Инвестпроекты'\n",
    "index=df_notnull.loc[like(df_notnull['Rating_model_name_FINAL'], '.*инвест.*'),:].index\n",
    "for i in index:\n",
    "    dat['Rating_model_name_FINAL'][i] = 'Инвестпроекты'\n",
    "index=df_notnull.loc[like(df_notnull['Rating_model_name_FINAL'], '.*Адми.*'),:].index\n",
    "for i in index:\n",
    "    dat['Rating_model_name_FINAL'][i] = 'Администрации'\n",
    "df_notnull = dat.loc[~pd.isnull(dat['client_name_final_upd']), :]"
   ]
  },
  {
   "cell_type": "code",
   "execution_count": null,
   "metadata": {},
   "outputs": [],
   "source": [
    "index_1=df_notnull.loc[like(df_notnull['client_name_final_upd'], '.*Central Bank.*'),:].index\n",
    "index_2=df_notnull.loc[like(df_notnull['client_name_final_upd'], '.*Центральный Банк.*'),:].index\n",
    "index_3=df_notnull.loc[like(df_notnull['client_name_final_upd'], '.*RITZIO CENTRAL ,BERL.*'),:].index\n",
    "index_4=df_notnull.loc[like(df_notnull['client_name_final_upd'], '.*Министерство финансов Республики.*'),:].index\n",
    "index_5=df_notnull.loc[like(df_notnull['client_name_final_upd'], '.*Министерство Финансов РФ.*'),:].index\n",
    "index_6=df_notnull.loc[like(df_notnull['client_name_final_upd'], '.*Национальный банк.*'),:].index\n",
    "index_7=df_notnull.loc[like(df_notnull['client_name_final_upd'], '.*НАЦИОНАЛЬНЫЙ БАНК.*'),:].index\n",
    "index_8=df_notnull.loc[like(df_notnull['client_name_final_upd'], '.*National Bank.*'),:].index\n",
    "index_9=df_notnull.loc[like(df_notnull['client_name_final_upd'], '.*NATIONAL BANK.*'),:].index\n",
    "index = [*index_1, *index_2, *index_3, *index_4, *index_5, *index_6, *index_7, *index_8, *index_9]\n",
    "for i in index:\n",
    "    dat['Rating_model_name_FINAL'][i] = 'Суверен'"
   ]
  },
  {
   "cell_type": "code",
   "execution_count": null,
   "metadata": {},
   "outputs": [],
   "source": [
    "df_notnull = dat.loc[~pd.isnull(dat['Rating_model_name_FINAL']), :]\n",
    "index=df_notnull.loc[like(df_notnull['Rating_model_name_FINAL'], '.*средний.*'),:].index\n",
    "for i in index:\n",
    "    dat['Rating_model_name_FINAL'][i] = 'Средние и 10-'\n",
    "dat[\"Rating_model_name_FINAL\"].replace({\"Средний (до 3 млрд.)\": \"Средние и 10-\", \"Средний (свыше 3 млрд.)\": \"Средние и 10-\",\n",
    "                                       \"Средний\":\"Средние и 10-\", \"Средний плюс\":\"Средние и 10-\"}, inplace=True)\n",
    "index=df_notnull.loc[like(df_notnull['Rating_model_name_FINAL'], '.*Сред*'),:].index\n",
    "for i in index:\n",
    "    dat['Rating_model_name_FINAL'][i] = 'Средние и 10-'\n",
    "dat[\"Rating_model_name_FINAL\"].replace({\"Крупный\": \"Крупные и 10+\",\"Крупные\": \"Крупные и 10+\"}, inplace=True)\n",
    "index=df_notnull.loc[like(df_notnull['Rating_model_name_FINAL'], '.*круп.*'),:].index\n",
    "for i in index:\n",
    "    dat['Rating_model_name_FINAL'][i] = 'Крупные и 10+'\n",
    "index=df_notnull.loc[like(df_notnull['Rating_model_name_FINAL'], '.*Круп*'),:].index\n",
    "for i in index:\n",
    "    dat['Rating_model_name_FINAL'][i] = 'Крупные и 10+'"
   ]
  },
  {
   "cell_type": "code",
   "execution_count": null,
   "metadata": {},
   "outputs": [],
   "source": [
    "dat.to_excel('R_models_df.xlsx')"
   ]
  },
  {
   "cell_type": "markdown",
   "metadata": {},
   "source": [
    "## Таблица - суверены для 25 слайда по группе"
   ]
  },
  {
   "cell_type": "code",
   "execution_count": null,
   "metadata": {},
   "outputs": [],
   "source": [
    "data_1 = df_1_0.Report_date[0]\n",
    "data_2 = df_2_0.Report_date[0]\n",
    "data_3 = df_3_0.Report_date[0]"
   ]
  },
  {
   "cell_type": "code",
   "execution_count": null,
   "metadata": {},
   "outputs": [],
   "source": [
    "dat_new = dat[(dat['Rating_short'] != 'MS')&((dat['Rating_model_name_FINAL'] == 'Суверен')|(dat['Rating_model_name_FINAL'] == '1.7')|(dat['Rating_model_name_FINAL'] == '0_S'))]"
   ]
  },
  {
   "cell_type": "code",
   "execution_count": null,
   "metadata": {},
   "outputs": [],
   "source": [
    "ma_1, mb_1, mc_1, md_1, me_1, mf_1 = rating_df_0(data_1,dat_new)\n",
    "ma_2, mb_2, mc_2, md_2, me_2, mf_2 = rating_df_0(data_2,dat_new)\n",
    "ma_3, mb_3, mc_3, md_3, me_3, mf_3 = rating_df_0(data_3,dat_new)"
   ]
  },
  {
   "cell_type": "code",
   "execution_count": null,
   "metadata": {},
   "outputs": [],
   "source": [
    "slide = prs.slides[slide_str_1]\n",
    "table = [shape for shape in slide.shapes if shape.has_table]"
   ]
  },
  {
   "cell_type": "code",
   "execution_count": null,
   "metadata": {},
   "outputs": [],
   "source": [
    "data = {'h':['1','2','3','4','5', '6'],\n",
    "        data_1:[ma_1, mb_1, mc_1, md_1, me_1, mf_1], data_2:[ma_2, mb_2, mc_2, md_2, me_2, mf_2],\n",
    "       data_3: [ma_3, mb_3, mc_3, md_3, me_3, mf_3]}\n",
    "df=pd.DataFrame(data=data)\n",
    "for i in range(0, len(df)):\n",
    "    for j in range (1,4):\n",
    "        df.iloc[i,j] = \"{0:.1f}%\".format(df.iloc[i,j])"
   ]
  },
  {
   "cell_type": "code",
   "execution_count": null,
   "metadata": {},
   "outputs": [],
   "source": [
    "for i in range(0, df.shape[0]):\n",
    "    for j in range(1, df.shape[1]):\n",
    "        df.iloc[i,j] = str(df.iloc[i,j]).replace('.',',')"
   ]
  },
  {
   "cell_type": "code",
   "execution_count": null,
   "metadata": {},
   "outputs": [],
   "source": [
    "for i in range(1,7):\n",
    "    for j in range(1,4):\n",
    "        table[0].table.cell(i,j).text = df.iloc[i-1, j]\n",
    "        run = table[0].table.cell(i,j).text_frame.paragraphs[0]\n",
    "        run.font.bold = False\n",
    "        run.font.size = Pt(8)\n",
    "        cell = table[0].table.cell(i, j)\n",
    "        cell.text_frame.paragraphs[0].alignment=PP_ALIGN.CENTER"
   ]
  },
  {
   "cell_type": "code",
   "execution_count": null,
   "metadata": {},
   "outputs": [],
   "source": [
    "dates_heading(df_1_0, 1, table[0], Pt(8))\n",
    "dates_heading(df_2_0, 2, table[0], Pt(8))\n",
    "dates_heading(df_3_0, 3, table[0], Pt(8))"
   ]
  },
  {
   "cell_type": "code",
   "execution_count": null,
   "metadata": {},
   "outputs": [],
   "source": [
    "prs.save(presentation)"
   ]
  },
  {
   "cell_type": "markdown",
   "metadata": {},
   "source": [
    "## Таблица - суверены для 26 слайда по банку - уточни"
   ]
  },
  {
   "cell_type": "code",
   "execution_count": null,
   "metadata": {},
   "outputs": [],
   "source": [
    "dat_new_1 = dat_new[dat_new['LE'] == 'Банк ВТБ']"
   ]
  },
  {
   "cell_type": "code",
   "execution_count": null,
   "metadata": {},
   "outputs": [],
   "source": [
    "data_1 = df_1_0.Report_date[0]\n",
    "data_2 = df_2_0.Report_date[0]\n",
    "data_3 = df_3_0.Report_date[0]"
   ]
  },
  {
   "cell_type": "code",
   "execution_count": null,
   "metadata": {},
   "outputs": [],
   "source": [
    "ma_1, mb_1, mc_1, md_1, me_1, mf_1 = rating_df_0(data_1,dat_new_1)\n",
    "ma_2, mb_2, mc_2, md_2, me_2, mf_2 = rating_df_0(data_2,dat_new_1)\n",
    "ma_3, mb_3, mc_3, md_3, me_3, mf_3 = rating_df_0(data_3,dat_new_1)"
   ]
  },
  {
   "cell_type": "code",
   "execution_count": null,
   "metadata": {},
   "outputs": [],
   "source": [
    "slide = prs.slides[slide_str_2]\n",
    "table = [shape for shape in slide.shapes if shape.has_table]"
   ]
  },
  {
   "cell_type": "code",
   "execution_count": null,
   "metadata": {},
   "outputs": [],
   "source": [
    "data = {'h':['1','2','3','4','5', '6'],\n",
    "        data_1:[ma_1, mb_1, mc_1, md_1, me_1, mf_1], data_2:[ma_2, mb_2, mc_2, md_2, me_2, mf_2],\n",
    "       data_3: [ma_3, mb_3, mc_3, md_3, me_3, mf_3]}\n",
    "df=pd.DataFrame(data=data)\n",
    "for i in range(0, len(df)):\n",
    "    for j in range (1,4):\n",
    "        df.iloc[i,j] = \"{0:.1f}%\".format(df.iloc[i,j])"
   ]
  },
  {
   "cell_type": "code",
   "execution_count": null,
   "metadata": {},
   "outputs": [],
   "source": [
    "for i in range(0, df.shape[0]):\n",
    "    for j in range(1, df.shape[1]):\n",
    "        df.iloc[i,j] = str(df.iloc[i,j]).replace('.',',')"
   ]
  },
  {
   "cell_type": "code",
   "execution_count": null,
   "metadata": {},
   "outputs": [],
   "source": [
    "for i in range(1,7):\n",
    "    for j in range(1,4):\n",
    "        table[0].table.cell(i,j).text = df.iloc[i-1, j]\n",
    "        run = table[0].table.cell(i,j).text_frame.paragraphs[0]\n",
    "        run.font.bold = False\n",
    "        run.font.size = Pt(8)\n",
    "        cell = table[0].table.cell(i, j)\n",
    "        cell.text_frame.paragraphs[0].alignment=PP_ALIGN.CENTER"
   ]
  },
  {
   "cell_type": "code",
   "execution_count": null,
   "metadata": {},
   "outputs": [],
   "source": [
    "dates_heading(df_1_0, 1, table[0], Pt(8))\n",
    "dates_heading(df_2_0, 2, table[0], Pt(8))\n",
    "dates_heading(df_3_0, 3, table[0], Pt(8))"
   ]
  },
  {
   "cell_type": "code",
   "execution_count": null,
   "metadata": {},
   "outputs": [],
   "source": [
    "prs.save(presentation)"
   ]
  },
  {
   "cell_type": "markdown",
   "metadata": {},
   "source": [
    "Дальнейшие преобразования"
   ]
  },
  {
   "cell_type": "code",
   "execution_count": null,
   "metadata": {},
   "outputs": [],
   "source": [
    "dat[\"Rating_model_name_FINAL\"].replace({\"Суверен\": \"Банки, суверены, администрации\",\n",
    "                                       \"Администрации\": \"Банки, суверены, администрации\",\"Иностранные банки\": \"Банки, суверены, администрации\",\n",
    "                                       \"Российские банки\": \"Банки, суверены, администрации\"}, inplace=True)"
   ]
  },
  {
   "cell_type": "code",
   "execution_count": null,
   "metadata": {},
   "outputs": [],
   "source": [
    "dat[\"Rating_model_name_FINAL\"].replace({\"Девелопер\": \"Девелоперы и инвестиционные проекты\",\n",
    "                                       \"Инвестпроекты\": \"Девелоперы и инвестиционные проекты\"}, inplace=True)"
   ]
  },
  {
   "cell_type": "code",
   "execution_count": null,
   "metadata": {},
   "outputs": [],
   "source": [
    "dat[\"Rating_model_name_FINAL\"].replace({\"Автокредиты\": \"КН, авто, КК\",\n",
    "                                       'Кредиты наличными': \"КН, авто, КК\",'Кредитные карты': \"КН, авто, КК\"}, inplace=True)"
   ]
  },
  {
   "cell_type": "code",
   "execution_count": null,
   "metadata": {},
   "outputs": [],
   "source": [
    "graph_1 = dat[(dat['LE'] == 'Банк ВТБ')&(dat['Rating_short'] != 'MS')]"
   ]
  },
  {
   "cell_type": "markdown",
   "metadata": {},
   "source": [
    "## График 1 - Структура рабочего портфеля Группы по моделям\n"
   ]
  },
  {
   "cell_type": "code",
   "execution_count": null,
   "metadata": {},
   "outputs": [],
   "source": [
    "data_1 = df_1_0.Report_date[0]\n",
    "data_2 = df_2_0.Report_date[0]\n",
    "data_3 = df_3_0.Report_date[0]"
   ]
  },
  {
   "cell_type": "code",
   "execution_count": null,
   "metadata": {},
   "outputs": [],
   "source": [
    "cr_1, sr_1, bank_1, dev_1, ipot_1, auto_1, dk_1, other_1, cr_1_pr, sr_1_pr, bank_1_pr, dev_1_pr, ipot_1_pr, auto_1_pr, dk_1_pr, other_1_pr = graph_1_f(data_1,graph_1, dat)\n",
    "cr_2, sr_2, bank_2, dev_2, ipot_2, auto_2, dk_2, other_2, cr_2_pr, sr_2_pr, bank_2_pr, dev_2_pr, ipot_2_pr, auto_2_pr, dk_2_pr, other_2_pr = graph_1_f(data_2,graph_1, dat)\n",
    "cr_3, sr_3, bank_3, dev_3, ipot_3, auto_3, dk_3, other_3, cr_3_pr, sr_3_pr, bank_3_pr, dev_3_pr, ipot_3_pr, auto_3_pr, dk_3_pr, other_3_pr = graph_1_f(data_3,graph_1, dat) "
   ]
  },
  {
   "cell_type": "code",
   "execution_count": null,
   "metadata": {},
   "outputs": [],
   "source": [
    "data_1 = (cr_1_pr, sr_1_pr, bank_1_pr, dev_1_pr, ipot_1_pr, auto_1_pr, dk_1_pr, other_1_pr)\n",
    "data_2 = (cr_2_pr, sr_2_pr, bank_2_pr, dev_2_pr, ipot_2_pr, auto_2_pr, dk_2_pr, other_2_pr)\n",
    "data_3 = (cr_3_pr, sr_3_pr, bank_3_pr, dev_3_pr, ipot_3_pr, auto_3_pr, dk_3_pr, other_3_pr)"
   ]
  },
  {
   "cell_type": "code",
   "execution_count": null,
   "metadata": {},
   "outputs": [],
   "source": [
    "slide = prs.slides[slide_str_1]"
   ]
  },
  {
   "cell_type": "code",
   "execution_count": null,
   "metadata": {},
   "outputs": [],
   "source": [
    "slide_chart = [shape for shape in slide.shapes if shape.has_chart]\n",
    "chart_data = ChartData()\n",
    "chart_data.categories = ['Крупные и 10+', 'Средние и 10-', 'Банки, суверены, администрации', 'Девелоперы и инвестиционные проекты',\n",
    "                        'Ипотека', 'КН, авто, КК', 'ДК', 'Прочие']\n",
    "chart_data.add_series(df_1_0.Report_date[0], (data_1))\n",
    "chart_data.add_series(df_2_0.Report_date[0], (data_2))\n",
    "chart_data.add_series(df_3_0.Report_date[0], (data_3))\n",
    "\n",
    "slide_chart[0].chart.replace_data(chart_data)"
   ]
  },
  {
   "cell_type": "code",
   "execution_count": null,
   "metadata": {},
   "outputs": [],
   "source": [
    "prs.save(presentation)"
   ]
  },
  {
   "cell_type": "markdown",
   "metadata": {},
   "source": [
    "### График 2 - Структура кредитного риска Группы по разрядам рейтинговой Мастер-шкалы"
   ]
  },
  {
   "cell_type": "code",
   "execution_count": null,
   "metadata": {},
   "outputs": [],
   "source": [
    "data_1 = df_1_0.Report_date[0]\n",
    "data_2 = df_2_0.Report_date[0]\n",
    "data_3 = df_3_0.Report_date[0]"
   ]
  },
  {
   "cell_type": "code",
   "execution_count": null,
   "metadata": {},
   "outputs": [],
   "source": [
    "ma_1, mb_1, mc_1, md_1, me_1, mf_1, mg_1, ms_1 = rating_df(data_1,dat)\n",
    "ma_2, mb_2, mc_2, md_2, me_2, mf_2, mg_2, ms_2 = rating_df(data_2,dat)\n",
    "ma_3, mb_3, mc_3, md_3, me_3, mf_3, mg_3, ms_3 = rating_df(data_3,dat)\n",
    "data_1 = (ma_1, mb_1, mc_1, md_1, me_1, mf_1, mg_1, ms_1)\n",
    "data_2 = (ma_2, mb_2, mc_2, md_2, me_2, mf_2, mg_2, ms_2)\n",
    "data_3 = (ma_3, mb_3, mc_3, md_3, me_3, mf_3, mg_3, ms_3)"
   ]
  },
  {
   "cell_type": "code",
   "execution_count": null,
   "metadata": {},
   "outputs": [],
   "source": [
    "slide_chart = [shape for shape in slide.shapes if shape.has_chart]\n",
    "chart_data = ChartData()\n",
    "chart_data.categories = ['MA', 'MB', 'MC', 'MD',\n",
    "                        'ME', 'MF', 'MG', 'MS']\n",
    "chart_data.add_series(df_1_0.Report_date[0], (data_1))\n",
    "chart_data.add_series(df_2_0.Report_date[0], (data_2))\n",
    "chart_data.add_series(df_3_0.Report_date[0], (data_3))\n",
    "\n",
    "slide_chart[1].chart.replace_data(chart_data)"
   ]
  },
  {
   "cell_type": "code",
   "execution_count": null,
   "metadata": {},
   "outputs": [],
   "source": [
    "prs.save(presentation)"
   ]
  },
  {
   "cell_type": "code",
   "execution_count": null,
   "metadata": {},
   "outputs": [],
   "source": [
    "data_3 = df_3_0.Report_date[0]"
   ]
  },
  {
   "cell_type": "code",
   "execution_count": null,
   "metadata": {},
   "outputs": [],
   "source": [
    "ma, mb, mc, md, me, mf, mg, ms = rating_df_ms(data_3,dat)"
   ]
  },
  {
   "cell_type": "code",
   "execution_count": null,
   "metadata": {},
   "outputs": [],
   "source": [
    "ma = \"{0:.2f}%\".format(ma)\n",
    "last = [mb, mc, md, me, mf, mg, ms]\n",
    "last_a=[]\n",
    "for dats in last:\n",
    "    dats = \"{0:.1f}%\".format(dats)\n",
    "    last_a.append(dats)\n",
    "mb=last_a[0]\n",
    "mc=last_a[1]\n",
    "md=last_a[2]\n",
    "me=last_a[3]\n",
    "mf=last_a[4]\n",
    "mg=last_a[5]\n",
    "ms=last_a[6]"
   ]
  },
  {
   "cell_type": "code",
   "execution_count": null,
   "metadata": {},
   "outputs": [],
   "source": [
    "ma=ma.replace('.',',')\n",
    "mb=mb.replace('.',',')\n",
    "mc=mc.replace('.',',')\n",
    "md=md.replace('.',',')\n",
    "me=me.replace('.',',')\n",
    "mf=mf.replace('.',',')\n",
    "mg=mg.replace('.',',')\n",
    "ms=ms.replace('.',',')"
   ]
  },
  {
   "cell_type": "code",
   "execution_count": null,
   "metadata": {},
   "outputs": [],
   "source": [
    "slide_text = [shape for shape in slide.shapes if shape.has_text_frame]"
   ]
  },
  {
   "cell_type": "code",
   "execution_count": null,
   "metadata": {},
   "outputs": [],
   "source": [
    "text_data(3)"
   ]
  },
  {
   "cell_type": "code",
   "execution_count": null,
   "metadata": {},
   "outputs": [],
   "source": [
    "text(9,ma)\n",
    "text(10,mb)\n",
    "text(11,mc)\n",
    "text(12,md)\n",
    "text(13,me)\n",
    "text(14,mf)\n",
    "text(15,mg)\n",
    "text(16,ms)"
   ]
  },
  {
   "cell_type": "code",
   "execution_count": null,
   "metadata": {},
   "outputs": [],
   "source": [
    "prs.save(presentation)"
   ]
  },
  {
   "cell_type": "markdown",
   "metadata": {},
   "source": [
    "## Cлайд 26"
   ]
  },
  {
   "cell_type": "markdown",
   "metadata": {},
   "source": [
    "### 1 график - Структура рабочего портфеля Банка по моделям\n"
   ]
  },
  {
   "cell_type": "code",
   "execution_count": null,
   "metadata": {},
   "outputs": [],
   "source": [
    "data_1 = df_1_0.Report_date[0]\n",
    "data_2 = df_2_0.Report_date[0]\n",
    "data_3 = df_3_0.Report_date[0]"
   ]
  },
  {
   "cell_type": "code",
   "execution_count": null,
   "metadata": {},
   "outputs": [],
   "source": [
    "cr_1, sr_1, bank_1, dev_1, ipot_1, auto_1, other_1, cr_1_pr, sr_1_pr, bank_1_pr, dev_1_pr, ipot_1_pr, auto_1_pr, other_1_pr = graph_1_f_1(data_1,graph_1, dat)\n",
    "cr_2, sr_2, bank_2, dev_2, ipot_2, auto_2, other_2, cr_2_pr, sr_2_pr, bank_2_pr, dev_2_pr, ipot_2_pr, auto_2_pr, other_2_pr = graph_1_f_1(data_2,graph_1, dat) \n",
    "cr_3, sr_3, bank_3, dev_3, ipot_3, auto_3, other_3, cr_3_pr, sr_3_pr, bank_3_pr, dev_3_pr, ipot_3_pr, auto_3_pr, other_3_pr = graph_1_f_1(data_3,graph_1, dat) "
   ]
  },
  {
   "cell_type": "code",
   "execution_count": null,
   "metadata": {},
   "outputs": [],
   "source": [
    "data_1 = (cr_1_pr, sr_1_pr, bank_1_pr, dev_1_pr, ipot_1_pr, auto_1_pr, other_1_pr)\n",
    "data_2 = (cr_2_pr, sr_2_pr, bank_2_pr, dev_2_pr, ipot_2_pr, auto_2_pr, other_2_pr)\n",
    "data_3 = (cr_3_pr, sr_3_pr, bank_3_pr, dev_3_pr, ipot_3_pr, auto_3_pr, other_3_pr)"
   ]
  },
  {
   "cell_type": "code",
   "execution_count": null,
   "metadata": {},
   "outputs": [],
   "source": [
    "slide = prs.slides[slide_str_2]"
   ]
  },
  {
   "cell_type": "code",
   "execution_count": null,
   "metadata": {},
   "outputs": [],
   "source": [
    "slide_chart = [shape for shape in slide.shapes if shape.has_chart]\n",
    "chart_data = ChartData()\n",
    "chart_data.categories = ['Крупные и 10+', 'Средние и 10-', 'Банки, суверены, администрации', 'Девелоперы и инвестиционные проекты',\n",
    "                        'Ипотека', 'КН, авто, КК', 'Прочие']\n",
    "chart_data.add_series(df_1_0.Report_date[0], (data_1))\n",
    "chart_data.add_series(df_2_0.Report_date[0], (data_2))\n",
    "chart_data.add_series(df_3_0.Report_date[0], (data_3))\n",
    "\n",
    "slide_chart[0].chart.replace_data(chart_data)"
   ]
  },
  {
   "cell_type": "code",
   "execution_count": null,
   "metadata": {},
   "outputs": [],
   "source": [
    "prs.save(presentation)"
   ]
  },
  {
   "cell_type": "markdown",
   "metadata": {},
   "source": [
    "### График 2 - Структура кредитного риска Группы по разрядам рейтинговой Мастер-шкалы"
   ]
  },
  {
   "cell_type": "code",
   "execution_count": null,
   "metadata": {},
   "outputs": [],
   "source": [
    "dat_new = dat[dat['LE'] == 'Банк ВТБ']"
   ]
  },
  {
   "cell_type": "code",
   "execution_count": null,
   "metadata": {},
   "outputs": [],
   "source": [
    "data_1 = df_1_0.Report_date[0]\n",
    "data_2 = df_2_0.Report_date[0]\n",
    "data_3 = df_3_0.Report_date[0]"
   ]
  },
  {
   "cell_type": "code",
   "execution_count": null,
   "metadata": {},
   "outputs": [],
   "source": [
    "ma_1, mb_1, mc_1, md_1, me_1, mf_1, mg_1, ms_1 = rating_df(data_1,dat_new)\n",
    "ma_2, mb_2, mc_2, md_2, me_2, mf_2, mg_2, ms_2 = rating_df(data_2,dat_new)\n",
    "ma_3, mb_3, mc_3, md_3, me_3, mf_3, mg_3, ms_3 = rating_df(data_3,dat_new)"
   ]
  },
  {
   "cell_type": "code",
   "execution_count": null,
   "metadata": {},
   "outputs": [],
   "source": [
    "data_1 = (ma_1, mb_1, mc_1, md_1, me_1, mf_1, mg_1, ms_1)\n",
    "data_2 = (ma_2, mb_2, mc_2, md_2, me_2, mf_2, mg_2, ms_2)\n",
    "data_3 = (ma_3, mb_3, mc_3, md_3, me_3, mf_3, mg_3, ms_3)"
   ]
  },
  {
   "cell_type": "code",
   "execution_count": null,
   "metadata": {},
   "outputs": [],
   "source": [
    "slide_chart = [shape for shape in slide.shapes if shape.has_chart]\n",
    "chart_data = ChartData()\n",
    "chart_data.categories = ['MA', 'MB', 'MC', 'MD',\n",
    "                        'ME', 'MF', 'MG', 'MS']\n",
    "chart_data.add_series(df_1_0.Report_date[0], (data_1))\n",
    "chart_data.add_series(df_2_0.Report_date[0], (data_2))\n",
    "chart_data.add_series(df_3_0.Report_date[0], (data_3))\n",
    "\n",
    "slide_chart[1].chart.replace_data(chart_data)"
   ]
  },
  {
   "cell_type": "code",
   "execution_count": null,
   "metadata": {},
   "outputs": [],
   "source": [
    "prs.save(presentation)"
   ]
  },
  {
   "cell_type": "code",
   "execution_count": null,
   "metadata": {},
   "outputs": [],
   "source": [
    "data_3 = df_3_0.Report_date[0]"
   ]
  },
  {
   "cell_type": "code",
   "execution_count": null,
   "metadata": {},
   "outputs": [],
   "source": [
    "ma, mb, mc, md, me, mf, mg, ms = rating_df_ms(data_3,dat_new)"
   ]
  },
  {
   "cell_type": "code",
   "execution_count": null,
   "metadata": {},
   "outputs": [],
   "source": [
    "ma = \"{0:.2f}%\".format(ma)\n",
    "last = [mb, mc, md, me, mf, mg, ms]\n",
    "last_a=[]\n",
    "for dats in last:\n",
    "    dats = \"{0:.1f}%\".format(dats)\n",
    "    last_a.append(dats)\n",
    "mb=last_a[0]\n",
    "mc=last_a[1]\n",
    "md=last_a[2]\n",
    "me=last_a[3]\n",
    "mf=last_a[4]\n",
    "mg=last_a[5]\n",
    "ms=last_a[6]"
   ]
  },
  {
   "cell_type": "code",
   "execution_count": null,
   "metadata": {},
   "outputs": [],
   "source": [
    "ma=ma.replace('.',',')\n",
    "mb=mb.replace('.',',')\n",
    "mc=mc.replace('.',',')\n",
    "md=md.replace('.',',')\n",
    "me=me.replace('.',',')\n",
    "mf=mf.replace('.',',')\n",
    "mg=mg.replace('.',',')\n",
    "ms=ms.replace('.',',')"
   ]
  },
  {
   "cell_type": "code",
   "execution_count": null,
   "metadata": {},
   "outputs": [],
   "source": [
    "slide_text = [shape for shape in slide.shapes if shape.has_text_frame]"
   ]
  },
  {
   "cell_type": "code",
   "execution_count": null,
   "metadata": {},
   "outputs": [],
   "source": [
    "text(9,ma)\n",
    "text(10,mb)\n",
    "text(11,mc)\n",
    "text(12,md)\n",
    "text(13,me)\n",
    "text(14,mf)\n",
    "text(15,mg)\n",
    "text(16,ms)"
   ]
  },
  {
   "cell_type": "code",
   "execution_count": null,
   "metadata": {},
   "outputs": [],
   "source": [
    "text_data(3)"
   ]
  },
  {
   "cell_type": "code",
   "execution_count": null,
   "metadata": {},
   "outputs": [],
   "source": [
    "prs.save(presentation)\n",
    "os.startfile(presentation)"
   ]
  },
  {
   "cell_type": "code",
   "execution_count": null,
   "metadata": {},
   "outputs": [],
   "source": []
  },
  {
   "cell_type": "code",
   "execution_count": null,
   "metadata": {},
   "outputs": [],
   "source": []
  },
  {
   "cell_type": "code",
   "execution_count": null,
   "metadata": {},
   "outputs": [],
   "source": []
  },
  {
   "cell_type": "code",
   "execution_count": null,
   "metadata": {},
   "outputs": [],
   "source": []
  },
  {
   "cell_type": "code",
   "execution_count": null,
   "metadata": {},
   "outputs": [],
   "source": []
  }
 ],
 "metadata": {
  "anaconda-cloud": {},
  "kernelspec": {
   "display_name": "Python 3",
   "language": "python",
   "name": "python3"
  },
  "language_info": {
   "codemirror_mode": {
    "name": "ipython",
    "version": 3
   },
   "file_extension": ".py",
   "mimetype": "text/x-python",
   "name": "python",
   "nbconvert_exporter": "python",
   "pygments_lexer": "ipython3",
   "version": "3.8.5"
  }
 },
 "nbformat": 4,
 "nbformat_minor": 1
}
