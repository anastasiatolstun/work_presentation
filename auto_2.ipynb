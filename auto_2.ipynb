{
 "cells": [
  {
   "cell_type": "code",
   "execution_count": null,
   "metadata": {},
   "outputs": [],
   "source": [
    "import pandas as pd\n",
    "import numpy as np\n",
    "import pptx \n",
    "import pyxlsb\n",
    "import xlrd\n",
    "from pptx import Presentation\n",
    "from pptx.util import Pt \n",
    "from pptx.enum.text import PP_ALIGN\n",
    "from pptx.dml.color import RGBColor\n",
    "from datetime import datetime\n",
    "import warnings\n",
    "warnings.filterwarnings(\"ignore\")\n",
    "from pptx.chart.data import ChartData\n",
    "import re"
   ]
  },
  {
   "cell_type": "markdown",
   "metadata": {},
   "source": [
    "Путь к расчетником (file_1 - самый старый) + путь и название презентации"
   ]
  },
  {
   "cell_type": "code",
   "execution_count": null,
   "metadata": {},
   "outputs": [],
   "source": [
    "file_1 = '1.xlsb'\n",
    "file_2 = '2.xlsb'\n",
    "file_3 = '3.xlsb'\n",
    "presentation = 'Отчет.pptx'"
   ]
  },
  {
   "cell_type": "markdown",
   "metadata": {},
   "source": [
    "Значения МСФО для Gross Exposure для Банка"
   ]
  },
  {
   "cell_type": "code",
   "execution_count": null,
   "metadata": {},
   "outputs": [],
   "source": [
    "ifrs_1 = 131\n",
    "ifrs_2 = 131\n",
    "ifrs_3 = 137"
   ]
  },
  {
   "cell_type": "markdown",
   "metadata": {},
   "source": [
    "Проверяем правильные ли страницы слайдов указаны. (страница - 1 , так как счет идет с 0)  "
   ]
  },
  {
   "cell_type": "code",
   "execution_count": null,
   "metadata": {},
   "outputs": [],
   "source": [
    "slide_cred_1_1_1 = 0\n",
    "slide_cred_1_1_2 = 1\n",
    "slide_cred_1_2 = 2\n",
    "slide_cred_1_4 = 3\n",
    "slide_cred_1_5 = 4\n",
    "slide_6_1 = 5\n",
    "slide_6_2 = 6\n",
    "slide_6_3 = 7\n",
    "slide_6_4 = 8\n",
    "slide_cred_7_1 = 9\n",
    "slide_cred_7_3 = 10\n",
    "slide_cred_7_4 = 11\n",
    "slide_cred_7_5 = 12"
   ]
  },
  {
   "cell_type": "markdown",
   "metadata": {},
   "source": [
    "### Читаем расчетники"
   ]
  },
  {
   "cell_type": "code",
   "execution_count": null,
   "metadata": {},
   "outputs": [],
   "source": [
    "df_1_0 = pd.read_excel(file_1, 'Портфель', engine='pyxlsb') \n",
    "df_1_0 = df_1_0.loc[2:].reset_index(drop=True)\n",
    "for column in ['VTB_group_member', 'Type_product_id','LE_id','Gross_balance_MIX_mRUR', 'CAR_IRB_mRUR','LGD_MS']:\n",
    "    df_1_0[column] = pd.to_numeric(df_1_0[column], errors='coerce')\n",
    "datetime_date = xlrd.xldate_as_datetime(df_1_0['Report_date'][0], 0)\n",
    "date_object = datetime_date.date()\n",
    "string_date = date_object.isoformat()\n",
    "df_1_0['Report_date'] = string_date\n",
    "datetime_object = datetime.strptime(df_1_0.Report_date[0], '%Y-%m-%d')\n",
    "df_1_0.Report_date[0] = datetime_object.strftime('%d.%m.%Y')\n",
    "df_1_0.Report_date = df_1_0.Report_date[0]\n",
    "df_1_0['Gross_balance_MIX_mRUR']=df_1_0['Gross_balance_MIX_mRUR'].fillna(0)"
   ]
  },
  {
   "cell_type": "code",
   "execution_count": null,
   "metadata": {},
   "outputs": [],
   "source": [
    "df_2_0 = pd.read_excel(file_2, 'Портфель', engine='pyxlsb') \n",
    "df_2_0 = df_2_0.loc[2:].reset_index(drop=True)\n",
    "for column in ['VTB_group_member', 'Type_product_id','LE_id','Gross_balance_MIX_mRUR', 'CAR_IRB_mRUR','LGD_MS']:\n",
    "    df_2_0[column] = pd.to_numeric(df_2_0[column], errors='coerce')\n",
    "datetime_date = xlrd.xldate_as_datetime(df_2_0['Report_date'][0], 0)\n",
    "date_object = datetime_date.date()\n",
    "string_date = date_object.isoformat()\n",
    "df_2_0['Report_date'] = string_date\n",
    "datetime_object = datetime.strptime(df_2_0.Report_date[0], '%Y-%m-%d')\n",
    "df_2_0.Report_date[0] = datetime_object.strftime('%d.%m.%Y')\n",
    "df_2_0.Report_date = df_2_0.Report_date[0]\n",
    "df_2_0['Gross_balance_MIX_mRUR']=df_2_0['Gross_balance_MIX_mRUR'].fillna(0)"
   ]
  },
  {
   "cell_type": "code",
   "execution_count": null,
   "metadata": {},
   "outputs": [],
   "source": [
    "df_3_0 = pd.read_excel(file_3, 'Портфель', engine='pyxlsb') \n",
    "df_3_0 = df_3_0.loc[2:].reset_index(drop=True)\n",
    "for column in ['VTB_group_member', 'Type_product_id','LE_id','Gross_balance_MIX_mRUR', 'CAR_IRB_mRUR','LGD_MS']:\n",
    "    df_3_0[column] = pd.to_numeric(df_3_0[column], errors='coerce')\n",
    "datetime_date = xlrd.xldate_as_datetime(df_3_0['Report_date'][0], 0)\n",
    "date_object = datetime_date.date()\n",
    "string_date = date_object.isoformat()\n",
    "df_3_0['Report_date'] = string_date\n",
    "datetime_object = datetime.strptime(df_3_0.Report_date[0], '%Y-%m-%d')\n",
    "df_3_0.Report_date[0] = datetime_object.strftime('%d.%m.%Y')\n",
    "df_3_0.Report_date = df_3_0.Report_date[0]\n",
    "df_3_0['Gross_balance_MIX_mRUR']=df_3_0['Gross_balance_MIX_mRUR'].fillna(0)"
   ]
  },
  {
   "cell_type": "code",
   "execution_count": null,
   "metadata": {},
   "outputs": [],
   "source": [
    "ec = pd.read_excel('EC data в10.xlsx', 'Data new')"
   ]
  },
  {
   "cell_type": "code",
   "execution_count": null,
   "metadata": {},
   "outputs": [],
   "source": [
    "ref = pd.read_excel('ref.xlsx')"
   ]
  },
  {
   "cell_type": "code",
   "execution_count": null,
   "metadata": {},
   "outputs": [],
   "source": [
    "baza = pd.read_excel('База_РА_Каскад_2021_300821.xlsm','Реестр РА ДК')\n",
    "baza.columns = baza.iloc[0]\n",
    "baza=baza.iloc[1:].reset_index(drop=True)"
   ]
  },
  {
   "cell_type": "markdown",
   "metadata": {},
   "source": [
    "### Функции"
   ]
  },
  {
   "cell_type": "code",
   "execution_count": null,
   "metadata": {},
   "outputs": [],
   "source": [
    "def dates_heading(table_where_date, column, table_number, font):\n",
    "    table_number.table.cell(0,column).text = table_where_date.Report_date[0]\n",
    "    run = table_number.table.cell(0,column).text_frame.paragraphs[0]\n",
    "    run.font.bold = True\n",
    "    run.font.size = font\n",
    "    run.font.color.rgb = RGBColor(255,255,255)\n",
    "    cell = table_number.table.cell(0, column)\n",
    "    cell.text_frame.paragraphs[0].alignment=PP_ALIGN.CENTER \n",
    "def dates_heading_delta(table_where_date, column, table_number, font):\n",
    "    table_number.table.cell(0,column).text = '\\u0394'+' '+'c'+ ' ' + table_where_date.Report_date[0]\n",
    "    run = table_number.table.cell(0,column).text_frame.paragraphs[0]\n",
    "    run.font.bold = True\n",
    "    run.font.size = font\n",
    "    run.font.color.rgb = RGBColor(255,255,255)\n",
    "    cell = table_number.table.cell(0, column)\n",
    "    cell.text_frame.paragraphs[0].alignment=PP_ALIGN.CENTER \n",
    "def text_data(number):   \n",
    "    text_frame = slide_text[number].text_frame\n",
    "    text_frame.clear()\n",
    "    p = text_frame.paragraphs[0]\n",
    "    run = p.add_run()\n",
    "    run.text = df_3_0.Report_date[0]\n",
    "    run.font.size = Pt(10)\n",
    "def rating_df(date,df):\n",
    "    summa = df[df['Report_date'] == date]['Gross_balance_MIX_mRUR'].sum()\n",
    "    ma =  df[(df['Report_date'] == date)&(df['Rating_short'] == 'MA')]['Gross_balance_MIX_mRUR'].sum()/summa\n",
    "    mb =df[(df['Report_date'] == date)&(df['Rating_short'] == 'MB')]['Gross_balance_MIX_mRUR'].sum()/summa\n",
    "    mc =df[(df['Report_date'] == date)&(df['Rating_short'] == 'MC')]['Gross_balance_MIX_mRUR'].sum()/summa\n",
    "    md =df[(df['Report_date'] == date)&(df['Rating_short'] == 'MD')]['Gross_balance_MIX_mRUR'].sum()/summa\n",
    "    me =df[(df['Report_date'] == date)&(df['Rating_short'] == 'ME')]['Gross_balance_MIX_mRUR'].sum()/summa\n",
    "    mf = df[(df['Report_date'] == date)&(df['Rating_short'] == 'MF')]['Gross_balance_MIX_mRUR'].sum()/summa\n",
    "    mg = df[(df['Report_date'] == date)&(df['Rating_short'] == 'MG')]['Gross_balance_MIX_mRUR'].sum()/summa\n",
    "    ms = df[(df['Report_date'] == date)&(df['Rating_short'] == 'MS')]['Gross_balance_MIX_mRUR'].sum()/summa\n",
    "    return ma, mb, mc, md, me, mf, mg, ms\n",
    "def rating_df_0(date,df):\n",
    "    summa = df[df['Report_date'] == date]['Gross_balance_MIX_mRUR'].sum()\n",
    "    ma =  df[(df['Report_date'] == date)&(df['Rating_short'] == 'MA')]['Gross_balance_MIX_mRUR'].sum()/summa*100\n",
    "    mb =df[(df['Report_date'] == date)&(df['Rating_short'] == 'MB')]['Gross_balance_MIX_mRUR'].sum()/summa*100\n",
    "    mc =df[(df['Report_date'] == date)&(df['Rating_short'] == 'MC')]['Gross_balance_MIX_mRUR'].sum()/summa*100\n",
    "    md =df[(df['Report_date'] == date)&(df['Rating_short'] == 'MD')]['Gross_balance_MIX_mRUR'].sum()/summa*100\n",
    "    me =df[(df['Report_date'] == date)&(df['Rating_short'] == 'ME')]['Gross_balance_MIX_mRUR'].sum()/summa*100\n",
    "    mf = df[(df['Report_date'] == date)&(df['Rating_short'] == 'MF')]['Gross_balance_MIX_mRUR'].sum()/summa*100\n",
    "    return ma, mb, mc, md, me, mf\n",
    "def graph_1_f(date,d1,d2):\n",
    "    cr = d1[(d1['Report_date'] == date)&(d1['Rating_model_name_FINAL'] == 'Крупные и 10+')]['Gross_balance_MIX_mRUR'].sum()\n",
    "    sr = d1[(d1['Report_date'] == date)&(d1['Rating_model_name_FINAL'] == 'Средние и 10-')]['Gross_balance_MIX_mRUR'].sum()\n",
    "    bank = d1[(d1['Report_date'] == date)&(d1['Rating_model_name_FINAL'] == 'Банки, суверены, администрации')]['Gross_balance_MIX_mRUR'].sum()\n",
    "    dev = d1[(d1['Report_date'] == date)&(d1['Rating_model_name_FINAL'] == 'Девелоперы и инвестиционные проекты')]['Gross_balance_MIX_mRUR'].sum()\n",
    "    ipot = d1[(d1['Report_date'] == date)&(d1['Rating_model_name_FINAL'] == 'Ипотека')]['Gross_balance_MIX_mRUR'].sum()\n",
    "    auto = d1[(d1['Report_date'] == date)&(d1['Rating_model_name_FINAL'] == 'КН, авто, КК')]['Gross_balance_MIX_mRUR'].sum()\n",
    "    dk = d2[(d2['LE'] != 'Банк ВТБ')&(d2['Rating_short'] != 'MS')&(d2['Report_date'] == date)]['Gross_balance_MIX_mRUR'].sum()\n",
    "    other = d1[(d1['Report_date'] == date)]['Gross_balance_MIX_mRUR'].sum()-cr-sr-bank-dev-ipot-auto\n",
    "    sum_=cr+sr+bank+dev+ipot+auto+dk+other\n",
    "    cr_pr = cr/sum_\n",
    "    sr_pr = sr/sum_\n",
    "    bank_pr = bank/sum_\n",
    "    dev_pr = dev/sum_\n",
    "    ipot_pr = ipot/sum_\n",
    "    auto_pr = auto/sum_\n",
    "    dk_pr = dk/sum_\n",
    "    other_pr = other/sum_\n",
    "    return cr, sr, bank, dev, ipot, auto, dk, other, cr_pr, sr_pr, bank_pr, dev_pr, ipot_pr, auto_pr, dk_pr, other_pr\n",
    "def rating_df_ms(date,df):\n",
    "    summa_a = df[(df['Report_date'] == date)&(df['Rating_short'] == 'MA')]['PD_GB'].sum()\n",
    "    summa_b = df[(df['Report_date'] == date)&(df['Rating_short'] == 'MB')]['PD_GB'].sum()\n",
    "    summa_c = df[(df['Report_date'] == date)&(df['Rating_short'] == 'MC')]['PD_GB'].sum()\n",
    "    summa_d = df[(df['Report_date'] == date)&(df['Rating_short'] == 'MD')]['PD_GB'].sum()\n",
    "    summa_e = df[(df['Report_date'] == date)&(df['Rating_short'] == 'ME')]['PD_GB'].sum()\n",
    "    summa_f = df[(df['Report_date'] == date)&(df['Rating_short'] == 'MF')]['PD_GB'].sum()\n",
    "    summa_g = df[(df['Report_date'] == date)&(df['Rating_short'] == 'MG')]['PD_GB'].sum()\n",
    "    summa_s = df[(df['Report_date'] == date)&(df['Rating_short'] == 'MS')]['PD_GB'].sum()\n",
    "    ma =  summa_a/df[(df['Report_date'] == date)&(df['Rating_short'] == 'MA')]['Gross_balance_MIX_mRUR'].sum()*100\n",
    "    mb =summa_b/df[(df['Report_date'] == date)&(df['Rating_short'] == 'MB')]['Gross_balance_MIX_mRUR'].sum()*100\n",
    "    mc =summa_c/df[(df['Report_date'] == date)&(df['Rating_short'] == 'MC')]['Gross_balance_MIX_mRUR'].sum()*100\n",
    "    md =summa_d/df[(df['Report_date'] == date)&(df['Rating_short'] == 'MD')]['Gross_balance_MIX_mRUR'].sum()*100\n",
    "    me = summa_e/df[(df['Report_date'] == date)&(df['Rating_short'] == 'ME')]['Gross_balance_MIX_mRUR'].sum()*100\n",
    "    mf = summa_f/df[(df['Report_date'] == date)&(df['Rating_short'] == 'MF')]['Gross_balance_MIX_mRUR'].sum()*100\n",
    "    mg = summa_g/df[(df['Report_date'] == date)&(df['Rating_short'] == 'MG')]['Gross_balance_MIX_mRUR'].sum()*100\n",
    "    ms = summa_s/df[(df['Report_date'] == date)&(df['Rating_short'] == 'MS')]['Gross_balance_MIX_mRUR'].sum()*100\n",
    "    return ma, mb, mc, md, me, mf, mg, ms\n",
    "def text(number, text_there):   \n",
    "    text_frame = slide_text[number].text_frame\n",
    "    text_frame.clear()\n",
    "    p = text_frame.paragraphs[0]\n",
    "    run = p.add_run()\n",
    "    run.text = text_there\n",
    "    run.font.size = Pt(8)\n",
    "    run.font.color.rgb = RGBColor(127, 127, 127)\n",
    "def slide_23_1(df):\n",
    "    cr_u_1 = df[df['Type_product_id'] == 10]['overdue'].sum()/1000\n",
    "    gar_1 = df[df['Type_product_id'] == 70]['overdue'].sum()/1000\n",
    "    cr_f_1 = df[(df['Type_product_id'] >= 20) & (df['Type_product_id'] <= 24)]['overdue'].sum()/1000\n",
    "    other_1 = (df['overdue'].sum() - cr_u_1*1000 - gar_1*1000 - cr_f_1*1000)/1000\n",
    "    itogo = df['overdue'].sum()/1000\n",
    "    return gar_1, cr_f_1, cr_u_1, other_1, itogo\n",
    "def slide_23_2(df):\n",
    "    vtb = df[df['LE_id'] == 1]['overdue'].sum()/1000\n",
    "    bm = df[df['LE_id'] == 5]['overdue'].sum()/1000\n",
    "    kapital = df[df['LE_id'] == 2]['overdue'].sum()/1000\n",
    "    liz = df[df['LE_id'] == 3]['overdue'].sum()/1000\n",
    "    itogo = df['overdue'].sum()/1000\n",
    "    other = itogo - vtb-bm-kapital-liz\n",
    "    return vtb, bm, kapital, liz, other, itogo\n",
    "def slide_23_3(df):\n",
    "    cib = df[df['type_business'] == 'CIB']['overdue'].sum()/1000\n",
    "    mcb = df[df['type_business'] == 'MCB']['overdue'].sum()/1000\n",
    "    rtl = df[df['type_business'] == 'RTL']['overdue'].sum()/1000\n",
    "    treasury = df[df['type_business'] == 'TREASURY']['overdue'].sum()/1000\n",
    "    itogo = df['overdue'].sum()/1000\n",
    "    other = itogo -cib-mcb-rtl-treasury\n",
    "    return cib, mcb, other,rtl,treasury,itogo\n",
    "def slide_23_4(df):\n",
    "    first = df[(df['DPD_cont'] > 0) &(df['DPD_cont'] <= 30)]['overdue'].sum()/1000\n",
    "    second = df[(df['DPD_cont'] >=31)&(df['DPD_cont'] <=90)]['overdue'].sum()/1000\n",
    "    itogo = df['overdue'].sum()/1000\n",
    "    third = itogo-first-second\n",
    "    return first, second, third, itogo\n",
    "def graph_1_f_1(date,d1,d2):\n",
    "    cr = d1[(d1['Report_date'] == date)&(d1['Rating_model_name_FINAL'] == 'Крупные и 10+')]['Gross_balance_MIX_mRUR'].sum()\n",
    "    sr = d1[(d1['Report_date'] == date)&(d1['Rating_model_name_FINAL'] == 'Средние и 10-')]['Gross_balance_MIX_mRUR'].sum()\n",
    "    bank = d1[(d1['Report_date'] == date)&(d1['Rating_model_name_FINAL'] == 'Банки, суверены, администрации')]['Gross_balance_MIX_mRUR'].sum()\n",
    "    dev = d1[(d1['Report_date'] == date)&(d1['Rating_model_name_FINAL'] == 'Девелоперы и инвестиционные проекты')]['Gross_balance_MIX_mRUR'].sum()\n",
    "    ipot = d1[(d1['Report_date'] == date)&(d1['Rating_model_name_FINAL'] == 'Ипотека')]['Gross_balance_MIX_mRUR'].sum()\n",
    "    auto = d1[(d1['Report_date'] == date)&(d1['Rating_model_name_FINAL'] == 'КН, авто, КК')]['Gross_balance_MIX_mRUR'].sum()\n",
    "    other = d1[(d1['Report_date'] == date)]['Gross_balance_MIX_mRUR'].sum()-cr-sr-bank-dev-ipot-auto\n",
    "    sum_=cr+sr+bank+dev+ipot+auto+other\n",
    "    cr_pr = cr/sum_\n",
    "    sr_pr = sr/sum_\n",
    "    bank_pr = bank/sum_\n",
    "    dev_pr = dev/sum_\n",
    "    ipot_pr = ipot/sum_\n",
    "    auto_pr = auto/sum_\n",
    "    other_pr = other/sum_\n",
    "    return cr, sr, bank, dev, ipot, auto, other, cr_pr, sr_pr, bank_pr, dev_pr, ipot_pr, auto_pr, other_pr\n",
    "def colls(df):\n",
    "    df['collateral_sum_cut'] = df[['Gross_balance_MIX_mRUR','collateral_sum']].min(axis=1)\n",
    "    df['Coll_cash_cut'] = (df['Coll_cash'] / df['collateral_sum'] * df['collateral_sum_cut'])\n",
    "    df['Coll_securities_cut'] = (df['Coll_securities'] / df['collateral_sum'] * df['collateral_sum_cut'])\n",
    "    df['Coll_real_estate_cut'] = (df['Coll_real_estate'] / df['collateral_sum'] * df['collateral_sum_cut'])\n",
    "    df['Coll_receivables_cut'] = (df['Coll_receivables'] / df['collateral_sum'] * df['collateral_sum_cut'])\n",
    "    df['Coll_equp_moveables_cut'] = (df['Coll_equp_moveables'] / df['collateral_sum'] * df['collateral_sum_cut'])\n",
    "    df['Coll_guarantees_cut'] = (df['Coll_guar'] / df['collateral_sum'] * df['collateral_sum_cut'])\n",
    "    df['Coll_goods_cut'] = (df['Coll_goods'] / df['collateral_sum'] * df['collateral_sum_cut'])\n",
    "    df['Coll_other_cut'] = (df['Coll_other'] / df['collateral_sum'] * df['collateral_sum_cut'])\n",
    "    Cash = int(df['Coll_cash_cut'].sum()/1000)\n",
    "    Securities=int(df['Coll_securities_cut'].sum()/1000)\n",
    "    Real_estate=int(df['Coll_real_estate_cut'].sum()/1000)\n",
    "    Receivables=int(df['Coll_receivables_cut'].sum()/1000)\n",
    "    Equipment_and_moveables=int(df['Coll_equp_moveables_cut'].sum()/1000)\n",
    "    Goods=int(df['Coll_goods_cut'].sum()/1000)\n",
    "    Guarantees=int(df['Coll_guarantees_cut'].sum()/1000)\n",
    "    Oth_collateral=int(df['Coll_other_cut'].sum()/1000)\n",
    "    Total_collateral=int(df['collateral_sum_cut'].sum()/1000)\n",
    "    return Cash, Securities, Real_estate,Receivables,Equipment_and_moveables,Goods,Guarantees,Oth_collateral,Total_collateral\n",
    "def slide_24_1(df):\n",
    "    cr_u_1 = df[df['Type_product_id'] == 10]['overdue'].sum()/1000\n",
    "    gar_1 = df[df['Type_product_id'] == 70]['overdue'].sum()/1000\n",
    "    cr_f_1 = df[(df['Type_product_id'] >= 20) & (df['Type_product_id'] <= 24)]['overdue'].sum()/1000\n",
    "    itogo = df['overdue'].sum()/1000\n",
    "    return gar_1, cr_f_1, cr_u_1, itogo"
   ]
  },
  {
   "cell_type": "markdown",
   "metadata": {},
   "source": [
    "## слайд 1_1_2"
   ]
  },
  {
   "cell_type": "code",
   "execution_count": null,
   "metadata": {},
   "outputs": [],
   "source": [
    "df_1 = df_1_0.query('VTB_group_member != 1 and LE_id != 21 and Type_product_id not in [90, 91]').reset_index(drop=True)\n",
    "df_1 =df_1[['VTB_group_member','LE_id','Type_product_id','Type_product',\n",
    "'LGD_MS','Gross_balance_MIX_mRUR', 'CAR_IRB_mRUR','Report_date']]"
   ]
  },
  {
   "cell_type": "code",
   "execution_count": null,
   "metadata": {},
   "outputs": [],
   "source": [
    "df_2 = df_2_0.query('VTB_group_member != 1 and LE_id != 21 and Type_product_id not in [90, 91]').reset_index(drop=True)\n",
    "df_2 =df_2[['VTB_group_member','LE_id','Type_product_id','Type_product',\n",
    "'LGD_MS','Gross_balance_MIX_mRUR', 'CAR_IRB_mRUR','Report_date']]"
   ]
  },
  {
   "cell_type": "code",
   "execution_count": null,
   "metadata": {},
   "outputs": [],
   "source": [
    "df_3 = df_3_0.query('VTB_group_member != 1 and LE_id != 21 and Type_product_id not in [90, 91]').reset_index(drop=True)\n",
    "df_3 =df_3[['VTB_group_member','LE_id','Type_product_id','Type_product',\n",
    "'LGD_MS','Gross_balance_MIX_mRUR', 'CAR_IRB_mRUR','Report_date']]"
   ]
  },
  {
   "cell_type": "code",
   "execution_count": null,
   "metadata": {},
   "outputs": [],
   "source": [
    "def merged_one(df):\n",
    "    df['vzves'] = df['LGD_MS'] * df['Gross_balance_MIX_mRUR']\n",
    "    df.loc[df['Type_product_id'] == 10, 'Type_product'] = 'Кредиты ЮЛ'\n",
    "    df.loc[df['Type_product_id'] == 70, 'Type_product'] = 'Гарантии'\n",
    "    df.loc[df['Type_product_id'].isin([30,33]), 'Type_product'] = 'МБК'\n",
    "    df.loc[df['Type_product_id'].isin([11,12,31,34]), 'Type_product'] = 'Репо'\n",
    "    df.loc[df['Type_product_id'].isin([60,61,62]), 'Type_product'] = 'Кредитные линии'\n",
    "    df.loc[df['Type_product_id'].isin([80,81]), 'Type_product'] = 'Срочные сделки и деривативы'\n",
    "    df.loc[df['Type_product_id'].isin([20,21,22,23,24]), 'Type_product'] = 'Кредиты ФЛ'\n",
    "    df.loc[np.invert(df['Type_product_id'].isin([10, 70, 30, 33, 11, 12, 31, 34, 60,61,62,80,81,20,21,22,23,24])), 'Type_product'] = 'Прочее'\n",
    "    pivot_1 = df.pivot_table(index = 'Type_product', values = ['LGD_MS','Gross_balance_MIX_mRUR', \n",
    "    'CAR_IRB_mRUR','vzves'], aggfunc='sum').reset_index()\n",
    "    pivot_1['LGD'] = (pivot_1['vzves']/pivot_1['Gross_balance_MIX_mRUR']*100)\n",
    "    pivot_1['Gross_balance_MIX_mRUR'] = (pivot_1['Gross_balance_MIX_mRUR']/1000)\n",
    "    pivot_1['CAR_IRB_mRUR'] = (pivot_1['CAR_IRB_mRUR']/1000)\n",
    "    pivot_1 = pivot_1.drop(['vzves','LGD_MS'],axis=1).sort_values(by='Gross_balance_MIX_mRUR', ascending = False)\n",
    "    pivot_1.loc[8] = pd.Series(pivot_1[['Gross_balance_MIX_mRUR', 'CAR_IRB_mRUR']].sum(),index=['Gross_balance_MIX_mRUR', 'CAR_IRB_mRUR'])\n",
    "    pivot_1.loc[8,'Type_product'] = 'Итого'\n",
    "    pivot_1[['Gross_balance_MIX_mRUR', 'CAR_IRB_mRUR','LGD']] = pivot_1[['Gross_balance_MIX_mRUR', 'CAR_IRB_mRUR','LGD']].round(1)\n",
    "    pivot_1 = pivot_1.fillna('')\n",
    "    pivot_1 = pivot_1.rename(columns={'Type_product':'Тип продукта', 'CAR_IRB_mRUR':'ЭК по кредитному риску, млрд рублей',\n",
    "                     'Gross_balance_MIX_mRUR':'Портфель, млрд рублей', 'LGD':'Средний LGD*, %'})\n",
    "    pivot_names = [\"Тип продукта\", \"Портфель, млрд рублей\", \"ЭК по кредитному риску, млрд рублей\", \"Средний LGD*, %\"]\n",
    "    pivot_1 = pivot_1.reindex(columns=pivot_names)\n",
    "    pivot_1.insert(0, 'Дата', df.Report_date[0])\n",
    "    return pivot_1"
   ]
  },
  {
   "cell_type": "code",
   "execution_count": null,
   "metadata": {},
   "outputs": [],
   "source": [
    "pivot_1 = merged_one(df_1)\n",
    "pivot_2 = merged_one(df_2)\n",
    "pivot_3 = merged_one(df_3)"
   ]
  },
  {
   "cell_type": "code",
   "execution_count": null,
   "metadata": {},
   "outputs": [],
   "source": [
    "def merged_two(pivot_1, pivot_2, pivot_3):\n",
    "    merged = pd.merge(pd.merge(pivot_1, pivot_2,on='Тип продукта'), \n",
    "         pivot_3, on='Тип продукта').sort_values(by='Портфель, млрд рублей', ascending=False)\n",
    "    i = merged[merged['Тип продукта'] == \"Прочее\"].index.tolist()\n",
    "    target_row = merged.loc[i,:]\n",
    "    merged.drop(merged[merged['Тип продукта'] == \"Прочее\"].index, axis=0,inplace=True)\n",
    "    merged = pd.concat([merged, target_row], axis=0)\n",
    "    i = merged[merged['Тип продукта'] == \"Итого\"].index.tolist()\n",
    "    target_row = merged.loc[i,:]\n",
    "    merged.drop(merged[merged['Тип продукта'] == \"Итого\"].index, axis=0,inplace=True)\n",
    "    merged = pd.concat([merged, target_row], axis=0)\n",
    "    merged.loc[10,'Портфель, млрд рублей_x'] = merged['Дата_x'][0]\n",
    "    merged.loc[10,'Портфель, млрд рублей_y'] = merged['Дата_y'][0]\n",
    "    merged.loc[10,'Портфель, млрд рублей'] = merged['Дата'][0]\n",
    "    merged_first= merged.rename(columns={'Тип продукта':'Product'})\n",
    "    return merged_first"
   ]
  },
  {
   "cell_type": "code",
   "execution_count": null,
   "metadata": {},
   "outputs": [],
   "source": [
    "merged_first = merged_two(pivot_1, pivot_2, pivot_3)"
   ]
  },
  {
   "cell_type": "code",
   "execution_count": null,
   "metadata": {},
   "outputs": [],
   "source": [
    "data_1 =  df_1_0['Report_date'][0]\n",
    "data_2 = df_2_0['Report_date'][0]\n",
    "data_3 = df_3_0['Report_date'][0]"
   ]
  },
  {
   "cell_type": "code",
   "execution_count": null,
   "metadata": {},
   "outputs": [],
   "source": [
    "itogo_1 = float(merged_first.query('Product == \"Итого\"')['Портфель, млрд рублей_x'])\n",
    "itogo_2 = float(merged_first.query('Product == \"Итого\"')['Портфель, млрд рублей_y'])\n",
    "itogo_3 = float(merged_first.query('Product == \"Итого\"')['Портфель, млрд рублей'])"
   ]
  },
  {
   "cell_type": "code",
   "execution_count": null,
   "metadata": {},
   "outputs": [],
   "source": [
    "merged=merged_first"
   ]
  },
  {
   "cell_type": "code",
   "execution_count": null,
   "metadata": {},
   "outputs": [],
   "source": [
    "try:\n",
    "    ec_1 = round(ec[(ec[\"Дата\"] == data_1) & (ec[\"Подход\"] == \"Групповой\") & (ec[\"Методика\"] == \"Вер.2\")& (ec[\"Показатель\"] == \"ЭК\") \n",
    "       & (ec[\"ДК\"] != \"Почта Банк\") & (ec[\"Вид риска\"] == \"Кредитный\")\n",
    "    ]['Значение, млн.руб.'].sum()/1000,1)\n",
    "except:\n",
    "    ec_1 = 0\n",
    "try:\n",
    "    ec_2 = round(ec[(ec[\"Дата\"] == data_2) & (ec[\"Подход\"] == \"Групповой\") & (ec[\"Методика\"] == \"Вер.2\")& (ec[\"Показатель\"] == \"ЭК\") \n",
    "       & (ec[\"ДК\"] != \"Почта Банк\") & (ec[\"Вид риска\"] == \"Кредитный\")\n",
    "    ]['Значение, млн.руб.'].sum()/1000,1)\n",
    "except:\n",
    "    ec_2 = 0\n",
    "try:\n",
    "    ec_3 = round(ec[(ec[\"Дата\"] == data_3) & (ec[\"Подход\"] == \"Групповой\") & (ec[\"Методика\"] == \"Вер.2\")& (ec[\"Показатель\"] == \"ЭК\") \n",
    "       & (ec[\"ДК\"] != \"Почта Банк\") & (ec[\"Вид риска\"] == \"Кредитный\")\n",
    "    ]['Значение, млн.руб.'].sum()/1000,1)\n",
    "except:\n",
    "    ec_3 = 0"
   ]
  },
  {
   "cell_type": "code",
   "execution_count": null,
   "metadata": {},
   "outputs": [],
   "source": [
    "if ec_1 !=0:\n",
    "    merged.iloc[8,3] = ec_1\n",
    "if ec_2 !=0:\n",
    "    merged.iloc[8,7] = ec_2\n",
    "if ec_3 !=0:\n",
    "    merged.iloc[8,11] = ec_3"
   ]
  },
  {
   "cell_type": "code",
   "execution_count": null,
   "metadata": {},
   "outputs": [],
   "source": [
    "merged = merged.drop(['Дата_x', 'Дата_y', 'Дата'], axis=1).rename(columns={'Портфель, млрд рублей_x':'Портфель, млрд рублей', 'ЭК по кредитному риску, млрд рублей_x':'ЭК по кредитному риску, млрд рублей',\n",
    "                     'Средний LGD*, %_x':'Средний LGD*, %', 'Портфель, млрд рублей_y':'Портфель, млрд рублей', 'ЭК по кредитному риску, млрд рублей_y':'ЭК по кредитному риску, млрд рублей',\n",
    "                     'Средний LGD*, %_y':'Средний LGD*, %'})"
   ]
  },
  {
   "cell_type": "code",
   "execution_count": null,
   "metadata": {},
   "outputs": [],
   "source": [
    "dates = np.array(['', data_1, '', '', data_2, '',\n",
    "       '', data_3, '', ''])\n",
    "merged=merged.reset_index(drop=True)"
   ]
  },
  {
   "cell_type": "code",
   "execution_count": null,
   "metadata": {},
   "outputs": [],
   "source": [
    "prs = Presentation(presentation)"
   ]
  },
  {
   "cell_type": "code",
   "execution_count": null,
   "metadata": {},
   "outputs": [],
   "source": [
    "for i in range(0, merged.shape[0]-1):\n",
    "    for j in range(1, merged.shape[1]):\n",
    "        merged.iloc[i,j] = str(merged.iloc[i,j]).replace('.',',')"
   ]
  },
  {
   "cell_type": "code",
   "execution_count": null,
   "metadata": {},
   "outputs": [],
   "source": [
    "slide = prs.slides[slide_cred_1_1_2]\n",
    "table = [shape for shape in slide.shapes if shape.has_table]"
   ]
  },
  {
   "cell_type": "code",
   "execution_count": null,
   "metadata": {},
   "outputs": [],
   "source": [
    "for i in range(2,11):\n",
    "        table[0].table.cell(i,0).text = str(merged.iloc[i-2, 0])\n",
    "        run = table[0].table.cell(i,0).text_frame.paragraphs[0]\n",
    "        run.font.bold = False\n",
    "        run.font.size = Pt(8)\n",
    "        cell = table[0].table.cell(i, 0)\n",
    "        cell.text_frame.paragraphs[0].alignment=PP_ALIGN.LEFT\n",
    "for i in range(2,11):\n",
    "    for j in range(1,10):\n",
    "        table[0].table.cell(i,j).text = str(merged.iloc[i-2, j])\n",
    "        run = table[0].table.cell(i,j).text_frame.paragraphs[0]\n",
    "        run.font.bold = False\n",
    "        run.font.size = Pt(8)\n",
    "        cell = table[0].table.cell(i, j)\n",
    "        cell.text_frame.paragraphs[0].alignment=PP_ALIGN.CENTER\n",
    "for j in range(0,10):\n",
    "    run = table[0].table.cell(10,j).text_frame.paragraphs[0]\n",
    "    run.font.bold = True"
   ]
  },
  {
   "cell_type": "code",
   "execution_count": null,
   "metadata": {},
   "outputs": [],
   "source": [
    "dates_heading(df_1_0, 1, table[0],Pt(8))\n",
    "dates_heading(df_2_0, 4, table[0], Pt(8))\n",
    "dates_heading(df_3_0, 7, table[0], Pt(8))"
   ]
  },
  {
   "cell_type": "code",
   "execution_count": null,
   "metadata": {},
   "outputs": [],
   "source": [
    "slide_text = [shape for shape in slide.shapes if shape.has_text_frame]\n",
    "text_data(1)"
   ]
  },
  {
   "cell_type": "code",
   "execution_count": null,
   "metadata": {},
   "outputs": [],
   "source": [
    "prs.save(presentation)"
   ]
  },
  {
   "cell_type": "markdown",
   "metadata": {},
   "source": [
    "## слайд 1_1_1"
   ]
  },
  {
   "cell_type": "markdown",
   "metadata": {},
   "source": [
    "### 1 таблица"
   ]
  },
  {
   "cell_type": "markdown",
   "metadata": {},
   "source": [
    "\n",
    "\n",
    "\n",
    "\n",
    "\n",
    "\n",
    "\n",
    "\n",
    "\n",
    "\n",
    "#### Динамика Gross Exposure\u000b",
    " по типам инструментов "
   ]
  },
  {
   "cell_type": "code",
   "execution_count": null,
   "metadata": {},
   "outputs": [],
   "source": [
    "def merged_first_1(data,ifrs_1,ifrs_2,ifrs_3):\n",
    "    itogo_1 = float(data.query('Product == \"Итого\"')['Портфель, млрд рублей_x'])\n",
    "    itogo_2 = float(data.query('Product == \"Итого\"')['Портфель, млрд рублей_y'])\n",
    "    itogo_3 = float(data.query('Product == \"Итого\"')['Портфель, млрд рублей'])\n",
    "    guar_1 = float(data.query('Product == \"Гарантии\"')['Портфель, млрд рублей_x'])\n",
    "    guar_2 = float(data.query('Product == \"Гарантии\"')['Портфель, млрд рублей_y'])\n",
    "    guar_3 = float(data.query('Product == \"Гарантии\"')['Портфель, млрд рублей'])\n",
    "    credit_1 =  float(data.query('Product == \"Кредитные линии\"')['Портфель, млрд рублей_x'])\n",
    "    credit_2 =  float(data.query('Product == \"Кредитные линии\"')['Портфель, млрд рублей_y'])\n",
    "    credit_3 =  float(data.query('Product == \"Кредитные линии\"')['Портфель, млрд рублей'])\n",
    "    other_1 = np.round(float(itogo_1 - ifrs_1 - guar_1 - credit_1),1)\n",
    "    other_2 = np.round(float(itogo_2 - ifrs_2 - guar_2 - credit_2),1)\n",
    "    other_3 = np.round(float(itogo_3 - ifrs_3 - guar_3 - credit_3),1)\n",
    "    data = {'':['КП МСФО','Гарантии','Кредитные линии','Прочие продукты'],data_1:[ifrs_1, guar_1, credit_1, other_1], data_2:[ifrs_2, guar_2, credit_2, other_2],\n",
    "       data_3: [ifrs_3, guar_3, credit_3, other_3]}\n",
    "    df=pd.DataFrame(data=data)\n",
    "    df.loc[4,:] = 'Итого'\n",
    "    df.iloc[4,1] = itogo_1\n",
    "    df.iloc[4,2] = itogo_2\n",
    "    df.iloc[4,3] = itogo_3\n",
    "    date_time_obj_1 = datetime.strptime(df_3_0.Report_date[0], '%d.%m.%Y')\n",
    "    date_time_obj_2 = datetime.strptime(df_1_0.Report_date[0], '%d.%m.%Y')\n",
    "    if (date_time_obj_2-date_time_obj_1).days < -366:\n",
    "        df['Изменение'] = (df.iloc[:,3] - df.iloc[:,2])/df.iloc[:,2]*100\n",
    "    else:\n",
    "        df['Изменение'] = (df.iloc[:,3] - df.iloc[:,1])/df.iloc[:,1]*100\n",
    "    for i in range(0,df.shape[0]):\n",
    "        if df['Изменение'][i] > 0:\n",
    "            df['Изменение'][i] = \"{0:.1f}\".format(df['Изменение'][i])\n",
    "            df['Изменение'][i] = '+'+str(df['Изменение'][i])+'%'\n",
    "        else:\n",
    "            df['Изменение'][i] = \"{0:.1f}%\".format(df['Изменение'][i])\n",
    "    return df"
   ]
  },
  {
   "cell_type": "code",
   "execution_count": null,
   "metadata": {},
   "outputs": [],
   "source": [
    "date_time_obj_1 = datetime.strptime(df_3_0.Report_date[0], '%d.%m.%Y')\n",
    "date_time_obj_2 = datetime.strptime(df_1_0.Report_date[0], '%d.%m.%Y')"
   ]
  },
  {
   "cell_type": "code",
   "execution_count": null,
   "metadata": {},
   "outputs": [],
   "source": [
    "df = merged_first_1(merged_first,ifrs_1,ifrs_2,ifrs_3)"
   ]
  },
  {
   "cell_type": "code",
   "execution_count": null,
   "metadata": {},
   "outputs": [],
   "source": [
    "for i in range(0, df.shape[0]):\n",
    "    for j in range(1, df.shape[1]):\n",
    "        df.iloc[i,j] = str(df.iloc[i,j]).replace('.',',')"
   ]
  },
  {
   "cell_type": "code",
   "execution_count": null,
   "metadata": {},
   "outputs": [],
   "source": [
    "slide = prs.slides[slide_cred_1_1_1]\n",
    "table = [shape for shape in slide.shapes if shape.has_table]"
   ]
  },
  {
   "cell_type": "code",
   "execution_count": null,
   "metadata": {},
   "outputs": [],
   "source": [
    "for i in range(1,6):\n",
    "    for j in range(1,5):\n",
    "        table[1].table.cell(i,j).text = str(df.iloc[i-1, j])\n",
    "        run = table[1].table.cell(i,j).text_frame.paragraphs[0]\n",
    "        run.font.bold = False\n",
    "        run.font.size = Pt(7)\n",
    "        cell = table[1].table.cell(i, j)\n",
    "        cell.text_frame.paragraphs[0].alignment=PP_ALIGN.CENTER\n",
    "for j in range(1,5):\n",
    "    run = table[1].table.cell(5,j).text_frame.paragraphs[0]\n",
    "    run.font.bold = True\n",
    "dates_heading(df_1_0,1, table[1], Pt(7))\n",
    "dates_heading(df_2_0,2, table[1], Pt(7))\n",
    "dates_heading(df_3_0,3, table[1], Pt(7))   \n",
    "if (date_time_obj_2-date_time_obj_1).days < -366:\n",
    "    dates_heading_delta(df_2_0,4,table[1], Pt(7))\n",
    "else:\n",
    "    dates_heading_delta(df_1_0,4,table[1], Pt(7))"
   ]
  },
  {
   "cell_type": "code",
   "execution_count": null,
   "metadata": {},
   "outputs": [],
   "source": [
    "slide_text = [shape for shape in slide.shapes if shape.has_text_frame]\n",
    "text_data(9)"
   ]
  },
  {
   "cell_type": "code",
   "execution_count": null,
   "metadata": {},
   "outputs": [],
   "source": [
    "prs.save(presentation)"
   ]
  },
  {
   "cell_type": "markdown",
   "metadata": {},
   "source": [
    "\n",
    "\n",
    "\n",
    "\n",
    "\n",
    "\n",
    "\n",
    "\n",
    "\n",
    "\n",
    "\n",
    "\n",
    "\n",
    "\n",
    "\n",
    "\n",
    "\n",
    "\n",
    "\n",
    "\n",
    "\n",
    "\n",
    "\n",
    "\n",
    "\n",
    "\n",
    "### 2 таблица"
   ]
  },
  {
   "cell_type": "markdown",
   "metadata": {},
   "source": [
    "Динамика Gross Exposure по ГБЛ\n"
   ]
  },
  {
   "cell_type": "code",
   "execution_count": null,
   "metadata": {},
   "outputs": [],
   "source": [
    "def merged_first_2_1(df):\n",
    "    df_ = df.query('VTB_group_member != 1 and LE_id != 21 and Type_product_id not in [90, 91]').reset_index(drop=True)\n",
    "    df_ = df_.query('Gross_balance_MIX_mRUR != 0').reset_index(drop=True)\n",
    "    df_ =df_[['VTB_group_member','LE_id','Type_product_id','Type_product', 'LGD_MS','Gross_balance_MIX_mRUR', 'CAR_IRB_mRUR','Report_date','type_business']]\n",
    "    df_ = df_.pivot_table(index ='type_business', values = 'Gross_balance_MIX_mRUR', aggfunc='sum').reset_index()\n",
    "    df_.loc[5,'type_business'] = 'Прочие бизнес линии'\n",
    "    df_.iloc[5,1]=df_.query('type_business == \"TREASURY\"')['Gross_balance_MIX_mRUR'].values+df_.query('type_business == \"OTH\"')['Gross_balance_MIX_mRUR'].values\n",
    "    df_['type_business'] = df_['type_business'].replace({'CIB':'КИБ', 'MCB':'СМБ', 'RTL':'РБ'})\n",
    "    df_ = df_.query('type_business == \"КИБ\" or type_business == \"СМБ\" or type_business == \"РБ\" or type_business == \"Прочие бизнес линии\"')\n",
    "    df_['Gross_balance_MIX_mRUR'] = df_['Gross_balance_MIX_mRUR']/1000\n",
    "    return df_"
   ]
  },
  {
   "cell_type": "code",
   "execution_count": null,
   "metadata": {},
   "outputs": [],
   "source": [
    "df_3_ = merged_first_2_1(df_3_0)\n",
    "df_2_ = merged_first_2_1(df_2_0)\n",
    "df_1_ = merged_first_2_1(df_1_0)"
   ]
  },
  {
   "cell_type": "code",
   "execution_count": null,
   "metadata": {},
   "outputs": [],
   "source": [
    "data = {'': df_1_['type_business'].values, df_1.Report_date[0]:df_1_['Gross_balance_MIX_mRUR'].values, df_2.Report_date[0]:df_2_['Gross_balance_MIX_mRUR'].values,\n",
    "       df_3.Report_date[0]: df_3_['Gross_balance_MIX_mRUR'].values}\n",
    "df=pd.DataFrame(data=data)"
   ]
  },
  {
   "cell_type": "code",
   "execution_count": null,
   "metadata": {},
   "outputs": [],
   "source": [
    "df.loc[4,:] = 'Итого'\n",
    "df.iloc[4,1] = df.iloc[0:4,1].sum()\n",
    "df.iloc[4,2] = df.iloc[0:4,2].sum()\n",
    "df.iloc[4,3] = df.iloc[0:4,3].sum()\n",
    "df.iloc[3,0] = 'Прочие бизнес линии'\n",
    "df.iloc[:,1]=df.iloc[:,1]\n",
    "df.iloc[:,2]=df.iloc[:,2]\n",
    "df.iloc[:,3]=df.iloc[:,3]"
   ]
  },
  {
   "cell_type": "code",
   "execution_count": null,
   "metadata": {},
   "outputs": [],
   "source": [
    "if (date_time_obj_2-date_time_obj_1).days < -366:\n",
    "    df['Изменение'] = (df.iloc[:,3] - df.iloc[:,2])/df.iloc[:,2]*100\n",
    "else:\n",
    "    df['Изменение'] = (df.iloc[:,3] - df.iloc[:,1])/df.iloc[:,1]*100\n",
    "for i in range(0,df.shape[0]):\n",
    "    if df['Изменение'][i] > 0:\n",
    "        df['Изменение'][i] = \"{0:.1f}\".format(df['Изменение'][i])\n",
    "        df['Изменение'][i] = '+'+str(df['Изменение'][i])+'%'\n",
    "    else:\n",
    "        df['Изменение'][i] = \"{0:.1f}%\".format(df['Изменение'][i])"
   ]
  },
  {
   "cell_type": "code",
   "execution_count": null,
   "metadata": {},
   "outputs": [],
   "source": [
    "for i in range(0, 5):\n",
    "    for j in range (1,4):\n",
    "        df.iloc[i,j] = np.round(df.iloc[i,j],1)"
   ]
  },
  {
   "cell_type": "code",
   "execution_count": null,
   "metadata": {},
   "outputs": [],
   "source": [
    "for i in range(0, df.shape[0]):\n",
    "    for j in range(1, df.shape[1]):\n",
    "        df.iloc[i,j] = str(df.iloc[i,j]).replace('.',',')"
   ]
  },
  {
   "cell_type": "code",
   "execution_count": null,
   "metadata": {},
   "outputs": [],
   "source": [
    "for i in range(1,6):\n",
    "    for j in range(1,5):\n",
    "        table[2].table.cell(i,j).text = str(df.iloc[i-1, j])\n",
    "        run = table[2].table.cell(i,j).text_frame.paragraphs[0]\n",
    "        run.font.bold = False\n",
    "        run.font.size = Pt(7)\n",
    "        cell = table[2].table.cell(i, j)\n",
    "        cell.text_frame.paragraphs[0].alignment=PP_ALIGN.CENTER\n",
    "for j in range(1,5):\n",
    "    run = table[2].table.cell(5,j).text_frame.paragraphs[0]\n",
    "    run.font.bold = True\n",
    "dates_heading(df_1_0,1,table[2], Pt(7))\n",
    "dates_heading(df_2_0,2,table[2], Pt(7))\n",
    "dates_heading(df_3_0,3,table[2], Pt(7))\n",
    "if (date_time_obj_2-date_time_obj_1).days < -366:\n",
    "    dates_heading_delta(df_2_0,4,table[2], Pt(7))\n",
    "else:\n",
    "    dates_heading_delta(df_1_0,4,table[2], Pt(7))"
   ]
  },
  {
   "cell_type": "code",
   "execution_count": null,
   "metadata": {},
   "outputs": [],
   "source": [
    "prs.save(presentation)"
   ]
  },
  {
   "cell_type": "markdown",
   "metadata": {},
   "source": [
    "### 3 таблица"
   ]
  },
  {
   "cell_type": "code",
   "execution_count": null,
   "metadata": {},
   "outputs": [],
   "source": [
    "df_1=df_1_0.query('VTB_group_member != 1 and LE_id != 21 and Type_product_id not in [90, 91]').reset_index(drop=True)\n",
    "df_2=df_2_0.query('VTB_group_member != 1 and LE_id != 21 and Type_product_id not in [90, 91]').reset_index(drop=True)\n",
    "df_3=df_3_0.query('VTB_group_member != 1 and LE_id != 21 and Type_product_id not in [90, 91]').reset_index(drop=True)"
   ]
  },
  {
   "cell_type": "code",
   "execution_count": null,
   "metadata": {},
   "outputs": [],
   "source": [
    "list_1 =(31, 51, 112, 268, 398, 417, 762, 795, 804,860)\n",
    "list_2 = (40, 56, 86, 92,100 ,136 ,191 ,196 ,203 ,208 ,233 ,246 ,250 ,276 ,300 ,304 ,336 ,348 ,352 ,372 ,380 ,428, 438, \n",
    "440 ,442 ,470, 528,578,616, 620,642,703,705,724,752,756,826,831,832)"
   ]
  },
  {
   "cell_type": "code",
   "execution_count": null,
   "metadata": {},
   "outputs": [],
   "source": [
    "def first_slide_third(df_, itogo):\n",
    "    df_ = df_.query('Gross_balance_MIX_mRUR != 0').reset_index(drop=True)\n",
    "    df_ =df_[['Gross_balance_MIX_mRUR','Country_risk_id']]\n",
    "    russia = df_[df_['Country_risk_id'] == 643]['Gross_balance_MIX_mRUR'].sum()/1000\n",
    "    sng=df_[df_['Country_risk_id'].isin(list_1)]['Gross_balance_MIX_mRUR'].sum()/1000\n",
    "    es=df_[df_['Country_risk_id'].isin(list_2)]['Gross_balance_MIX_mRUR'].sum()/1000\n",
    "    other = itogo-russia-sng-es\n",
    "    return russia, sng, es, other, itogo"
   ]
  },
  {
   "cell_type": "code",
   "execution_count": null,
   "metadata": {},
   "outputs": [],
   "source": [
    "russia_1, sng_1, es_1, other_1, itogo_1 = first_slide_third(df_1, itogo_1)\n",
    "russia_2, sng_2, es_2, other_2, itogo_2 = first_slide_third(df_2, itogo_2)\n",
    "russia_3, sng_3, es_3, other_3, itogo_3 = first_slide_third(df_3, itogo_3)\n",
    "data = {'': ['Россия','СНГ','ЕС','Прочие страны','Итого'], data_1:[russia_1, sng_1, es_1, other_1, itogo_1],\n",
    "       data_2:[russia_2, sng_2, es_2, other_2, itogo_2],data_3:[russia_3, sng_3, es_3, other_3, itogo_3]}\n",
    "df=pd.DataFrame(data=data)\n",
    "if (date_time_obj_2-date_time_obj_1).days < -366:\n",
    "    df['Изменение'] = (df.iloc[:,3] - df.iloc[:,2])/df.iloc[:,2]*100\n",
    "else:\n",
    "    df['Изменение'] = (df.iloc[:,3] - df.iloc[:,1])/df.iloc[:,1]*100\n",
    "for i in range(0,df.shape[0]):\n",
    "    if df['Изменение'][i] > 0:\n",
    "        df['Изменение'][i] = \"{0:.1f}\".format(df['Изменение'][i])\n",
    "        df['Изменение'][i] = '+'+str(df['Изменение'][i])+'%'\n",
    "    else:\n",
    "        df['Изменение'][i] = \"{0:.1f}%\".format(df['Изменение'][i])\n",
    "for i in range(0, 5):\n",
    "    for j in range (1,4):\n",
    "        df.iloc[i,j] = np.round(df.iloc[i,j],1)"
   ]
  },
  {
   "cell_type": "code",
   "execution_count": null,
   "metadata": {},
   "outputs": [],
   "source": [
    "for i in range(0, df.shape[0]):\n",
    "    for j in range(1, df.shape[1]):\n",
    "        df.iloc[i,j] = str(df.iloc[i,j]).replace('.',',')"
   ]
  },
  {
   "cell_type": "code",
   "execution_count": null,
   "metadata": {},
   "outputs": [],
   "source": [
    "for i in range(1,6):\n",
    "    for j in range(1,5):\n",
    "        table[3].table.cell(i,j).text = str(df.iloc[i-1, j])\n",
    "        run = table[3].table.cell(i,j).text_frame.paragraphs[0]\n",
    "        run.font.bold = False\n",
    "        run.font.size = Pt(7)\n",
    "        cell = table[3].table.cell(i, j)\n",
    "        cell.text_frame.paragraphs[0].alignment=PP_ALIGN.CENTER\n",
    "for j in range(1,5):\n",
    "    run = table[3].table.cell(5,j).text_frame.paragraphs[0]\n",
    "    run.font.bold = True\n",
    "dates_heading(df_1_0,1,table[3], Pt(7))\n",
    "dates_heading(df_2_0,2,table[3], Pt(7))\n",
    "dates_heading(df_3_0,3,table[3], Pt(7))\n",
    "if (date_time_obj_2-date_time_obj_1).days < -366:\n",
    "    dates_heading_delta(df_2_0,4,table[3], Pt(7))\n",
    "else:\n",
    "    dates_heading_delta(df_1_0,4,table[3], Pt(7))"
   ]
  },
  {
   "cell_type": "code",
   "execution_count": null,
   "metadata": {},
   "outputs": [],
   "source": [
    "prs.save(presentation)"
   ]
  },
  {
   "cell_type": "markdown",
   "metadata": {},
   "source": [
    "### 4 таблица"
   ]
  },
  {
   "cell_type": "code",
   "execution_count": null,
   "metadata": {},
   "outputs": [],
   "source": [
    "df_1=df_1_0.query('VTB_group_member != 1 and LE_id != 21 and Type_product_id not in [90, 91]').reset_index(drop=True)\n",
    "df_2=df_2_0.query('VTB_group_member != 1 and LE_id != 21 and Type_product_id not in [90, 91]').reset_index(drop=True)\n",
    "df_3=df_3_0.query('VTB_group_member != 1 and LE_id != 21 and Type_product_id not in [90, 91]').reset_index(drop=True)"
   ]
  },
  {
   "cell_type": "code",
   "execution_count": null,
   "metadata": {},
   "outputs": [],
   "source": [
    "def first_slide_fourth(df_, itogo):\n",
    "    df_ = df_.query('Gross_balance_MIX_mRUR != 0').reset_index(drop=True)\n",
    "    df_ =df_[['Gross_balance_MIX_mRUR','Cur_KIS_id']]\n",
    "    rub = df_[df_['Cur_KIS_id'] == 'RUB']['Gross_balance_MIX_mRUR'].sum()/1000+df_[df_['Cur_KIS_id'] == 'RUR']['Gross_balance_MIX_mRUR'].sum()/1000\n",
    "    usd=df_[df_['Cur_KIS_id'] == 'USD']['Gross_balance_MIX_mRUR'].sum()/1000\n",
    "    eur=df_[df_['Cur_KIS_id'] == 'EUR']['Gross_balance_MIX_mRUR'].sum()/1000\n",
    "    other = itogo-usd-rub-eur\n",
    "    return rub, eur, usd, other, itogo"
   ]
  },
  {
   "cell_type": "code",
   "execution_count": null,
   "metadata": {},
   "outputs": [],
   "source": [
    "rub_1, eur_1, usd_1, other_1, itogo_1 = first_slide_fourth(df_1, itogo_1)\n",
    "rub_2, eur_2, usd_2, other_2, itogo_2= first_slide_fourth(df_2, itogo_2)\n",
    "rub_3, eur_3, usd_3, other_3, itogo_3 = first_slide_fourth(df_3, itogo_3)\n",
    "data = {'': ['RUB','EUR','USD','Прочие валюты','Итого'], data_1:[rub_1, eur_1, usd_1, other_1, itogo_1],\n",
    "       data_2:[rub_2, eur_2, usd_2, other_2, itogo_2],data_3:[rub_3, eur_3, usd_3, other_3, itogo_3]}\n",
    "df=pd.DataFrame(data=data)\n",
    "if (date_time_obj_2-date_time_obj_1).days < -366:\n",
    "    df['Изменение'] = (df.iloc[:,3] - df.iloc[:,2])/df.iloc[:,2]*100\n",
    "else:\n",
    "    df['Изменение'] = (df.iloc[:,3] - df.iloc[:,1])/df.iloc[:,1]*100"
   ]
  },
  {
   "cell_type": "code",
   "execution_count": null,
   "metadata": {},
   "outputs": [],
   "source": [
    "for i in range(0,df.shape[0]):\n",
    "    if df['Изменение'][i] > 0:\n",
    "        df['Изменение'][i] = \"{0:.1f}\".format(df['Изменение'][i])\n",
    "        df['Изменение'][i] = '+'+str(df['Изменение'][i])+'%'\n",
    "    else:\n",
    "        df['Изменение'][i] = \"{0:.1f}%\".format(df['Изменение'][i])\n",
    "for i in range(0, 5):\n",
    "    for j in range (1,4):\n",
    "        df.iloc[i,j] = np.round(df.iloc[i,j],1)\n",
    "for i in range(0, df.shape[0]):\n",
    "    for j in range(1, df.shape[1]):\n",
    "        df.iloc[i,j] = str(df.iloc[i,j]).replace('.',',')\n",
    "for i in range(1,6):\n",
    "    for j in range(1,5):\n",
    "        table[4].table.cell(i,j).text = str(df.iloc[i-1, j])\n",
    "        run = table[4].table.cell(i,j).text_frame.paragraphs[0]\n",
    "        run.font.bold = False\n",
    "        run.font.size = Pt(7)\n",
    "        cell = table[4].table.cell(i, j)\n",
    "        cell.text_frame.paragraphs[0].alignment=PP_ALIGN.CENTER\n",
    "for j in range(1,5):\n",
    "    run = table[4].table.cell(5,j).text_frame.paragraphs[0]\n",
    "    run.font.bold = True"
   ]
  },
  {
   "cell_type": "code",
   "execution_count": null,
   "metadata": {},
   "outputs": [],
   "source": [
    "dates_heading(df_1_0,1,table[4], Pt(7))\n",
    "dates_heading(df_2_0,2,table[4], Pt(7))\n",
    "dates_heading(df_3_0,3,table[4], Pt(7))\n",
    "if (date_time_obj_2-date_time_obj_1).days < -366:\n",
    "    dates_heading_delta(df_2_0,4,table[4], Pt(7))\n",
    "else:\n",
    "    dates_heading_delta(df_1_0,4,table[4], Pt(7))\n",
    "prs.save(presentation)"
   ]
  },
  {
   "cell_type": "markdown",
   "metadata": {},
   "source": [
    "### Динамика Gross Exposure по компаниям Группы\n"
   ]
  },
  {
   "cell_type": "code",
   "execution_count": null,
   "metadata": {},
   "outputs": [],
   "source": [
    "df_1_ = df_1_0.query('VTB_group_member != 1 and LE_id != 21 and Type_product_id not in [90, 91]').reset_index(drop=True)\n",
    "df_1_ = df_1_.query('Gross_balance_MIX_mRUR != 0').reset_index(drop=True)"
   ]
  },
  {
   "cell_type": "code",
   "execution_count": null,
   "metadata": {},
   "outputs": [],
   "source": [
    "df_2_ = df_2_0.query('VTB_group_member != 1 and LE_id != 21 and Type_product_id not in [90, 91]').reset_index(drop=True)\n",
    "df_2_ = df_2_.query('Gross_balance_MIX_mRUR != 0').reset_index(drop=True)"
   ]
  },
  {
   "cell_type": "code",
   "execution_count": null,
   "metadata": {},
   "outputs": [],
   "source": [
    "df_3_ = df_3_0.query('VTB_group_member != 1 and LE_id != 21 and Type_product_id not in [90, 91]').reset_index(drop=True)\n",
    "df_3_ = df_3_.query('Gross_balance_MIX_mRUR != 0').reset_index(drop=True)"
   ]
  },
  {
   "cell_type": "code",
   "execution_count": null,
   "metadata": {},
   "outputs": [],
   "source": [
    "def gross_exp(df):\n",
    "    group = df['Gross_balance_MIX_mRUR'].sum()/1000\n",
    "    vtb = df[df['LE_id'] == 1]['Gross_balance_MIX_mRUR'].sum()/1000\n",
    "    kapital = df[df['LE_id'] == 2]['Gross_balance_MIX_mRUR'].sum()/1000\n",
    "    europa = df[df['LE_id'] == 23]['Gross_balance_MIX_mRUR'].sum()/1000\n",
    "    lizing = df[df['LE_id'] == 3]['Gross_balance_MIX_mRUR'].sum()/1000\n",
    "    factoring = df[df['LE_id'] == 6]['Gross_balance_MIX_mRUR'].sum()/1000\n",
    "    bm = df[df['LE_id'] == 5]['Gross_balance_MIX_mRUR'].sum()/1000\n",
    "    try:\n",
    "        vozr = df[df['LE_id'] == 25]['Gross_balance_MIX_mRUR'].sum()/1000\n",
    "    except:\n",
    "        vozr='-'\n",
    "    if vozr== 0:\n",
    "        vozr='-'\n",
    "    belarus = df[df['LE_id'] == 13]['Gross_balance_MIX_mRUR'].sum()/1000\n",
    "    zs = df[df['LE_id'] == 26]['Gross_balance_MIX_mRUR'].sum()/1000\n",
    "    kazahstan = df[df['LE_id'] == 12]['Gross_balance_MIX_mRUR'].sum()/1000\n",
    "    arm = df[df['LE_id'] == 16]['Gross_balance_MIX_mRUR'].sum()/1000\n",
    "    gruzia = df[df['LE_id'] == 15]['Gross_balance_MIX_mRUR'].sum()/1000\n",
    "    sarov = df[df['LE_id'] == 27]['Gross_balance_MIX_mRUR'].sum()/1000\n",
    "    africa = df[df['LE_id'] == 18]['Gross_balance_MIX_mRUR'].sum()/1000\n",
    "    npf = df[df['LE_id'] == 24]['Gross_balance_MIX_mRUR'].sum()/1000\n",
    "    azer = df[df['LE_id'] == 14]['Gross_balance_MIX_mRUR'].sum()/1000\n",
    "    return group, vtb, kapital, europa, lizing, factoring, bm, vozr,belarus, zs, kazahstan, arm, gruzia, sarov, africa, npf, azer"
   ]
  },
  {
   "cell_type": "code",
   "execution_count": null,
   "metadata": {},
   "outputs": [],
   "source": [
    "group_1, vtb_1, kapital_1, europa_1, lizing_1, factoring_1, bm_1, vozr_1,belarus_1, zs_1, kazahstan_1, arm_1, gruzia_1, sarov_1, africa_1, npf_1, azer_1 = gross_exp(df_1_)"
   ]
  },
  {
   "cell_type": "code",
   "execution_count": null,
   "metadata": {},
   "outputs": [],
   "source": [
    "group_2, vtb_2, kapital_2, europa_2, lizing_2, factoring_2, bm_2, vozr_2,belarus_2, zs_2, kazahstan_2, arm_2, gruzia_2, sarov_2, africa_2, npf_2, azer_2 = gross_exp(df_2_)"
   ]
  },
  {
   "cell_type": "code",
   "execution_count": null,
   "metadata": {},
   "outputs": [],
   "source": [
    "group_3, vtb_3, kapital_3, europa_3, lizing_3, factoring_3, bm_3, vozr_3,belarus_3, zs_3, kazahstan_3, arm_3, gruzia_3, sarov_3, africa_3, npf_3, azer_3 = gross_exp(df_3_)"
   ]
  },
  {
   "cell_type": "code",
   "execution_count": null,
   "metadata": {},
   "outputs": [],
   "source": [
    "data = {'g': ['Группа','Банк ВТБ','g','','','','','','','','','','','','','',''], data_1:[group_1, vtb_1, kapital_1, europa_1, lizing_1, factoring_1, bm_1, vozr_1, belarus_1, zs_1, kazahstan_1, arm_1, gruzia_1, sarov_1, africa_1, npf_1, azer_1],\n",
    "       data_2:[group_2, vtb_2, kapital_2, europa_2, lizing_2, factoring_2, bm_2, vozr_2, belarus_2, zs_2, kazahstan_2, arm_2, gruzia_2, sarov_2, africa_2, npf_2, azer_2],data_3:[group_3, vtb_3, kapital_3, europa_3, lizing_3, factoring_3, bm_3, vozr_3, belarus_3, zs_3, kazahstan_3, arm_3, gruzia_3, sarov_3, africa_3, npf_3, azer_3]}\n",
    "df=pd.DataFrame(data=data)"
   ]
  },
  {
   "cell_type": "code",
   "execution_count": null,
   "metadata": {},
   "outputs": [],
   "source": [
    "for i in range(0, len(df)):\n",
    "    for j in range (1,4):\n",
    "        if df.iloc[i,j]!='-':\n",
    "            df.iloc[i,j] = \"{0:.1f}\".format(df.iloc[i,j])\n",
    "            df.iloc[i,j] = str(df.iloc[i,j]).replace('.',',')"
   ]
  },
  {
   "cell_type": "code",
   "execution_count": null,
   "metadata": {},
   "outputs": [],
   "source": [
    "for i in range(1,17):\n",
    "    for j in range(1,4):\n",
    "        table[0].table.cell(i,j).text = str(df.iloc[i-1, j])\n",
    "        run = table[0].table.cell(i,j).text_frame.paragraphs[0]\n",
    "        run.font.bold = False\n",
    "        run.font.size = Pt(7)\n",
    "        cell = table[0].table.cell(i, j)\n",
    "        cell.text_frame.paragraphs[0].alignment=PP_ALIGN.RIGHT\n",
    "for j in range(1,4):\n",
    "    run = table[0].table.cell(1,j).text_frame.paragraphs[0]\n",
    "    run.font.bold = True"
   ]
  },
  {
   "cell_type": "code",
   "execution_count": null,
   "metadata": {},
   "outputs": [],
   "source": [
    "dates_heading(df_1_0,1,table[0], Pt(7))\n",
    "dates_heading(df_2_0,2,table[0], Pt(7))\n",
    "dates_heading(df_3_0,3,table[0], Pt(7))"
   ]
  },
  {
   "cell_type": "code",
   "execution_count": null,
   "metadata": {},
   "outputs": [],
   "source": [
    "prs.save(presentation)"
   ]
  },
  {
   "cell_type": "markdown",
   "metadata": {},
   "source": [
    "## Слайд 1_2"
   ]
  },
  {
   "cell_type": "code",
   "execution_count": null,
   "metadata": {},
   "outputs": [],
   "source": [
    "df_3 = df_3_0.query('VTB_group_member != 1 and LE_id != 21 and Type_product_id not in [90, 91]').reset_index(drop=True)\n",
    "df_2 = df_2_0.query('VTB_group_member != 1 and LE_id != 21 and Type_product_id not in [90, 91]').reset_index(drop=True)\n",
    "df_1 = df_1_0.query('VTB_group_member != 1 and LE_id != 21 and Type_product_id not in [90, 91]').reset_index(drop=True)"
   ]
  },
  {
   "cell_type": "code",
   "execution_count": null,
   "metadata": {},
   "outputs": [],
   "source": [
    "def industries(df_3):\n",
    "    df_3['industry_id'] = df_3['industry_uc']\n",
    "    for i in range (0, len(df_3)):\n",
    "        if pd.isnull(df_3['industry_id'][i]) == True:\n",
    "            df_3['industry_id'][i] = df_3['Industry_KIS_id'][i]\n",
    "    df_3 = df_3[['industry_id','Gross_balance_MIX_mRUR','SLX_client_id','Client_name_final','Group_name_fin']]\n",
    "    df_3['Industry_final'] = ''\n",
    "    df_3.loc[df_3[df_3['industry_id'] == 54].index,'Industry_final'] = 'Банки'\n",
    "    df_3.loc[df_3[df_3['industry_id'] == 18].index,'Industry_final'] = 'Газодобывающая и газоперерабатывающая промышленность, трубопроводный транспорт в части транспортировки газа'\n",
    "    df_3.loc[df_3[df_3['industry_id'] == 22].index,'Industry_final'] = 'Добыча и производство драгоценных камней'\n",
    "    df_3.loc[df_3[df_3['industry_id'] == 52|(df_3['industry_id'] == 42)].index,'Industry_final'] = 'Другие, включая легкую промышленность'\n",
    "    df_3.loc[df_3[(df_3['industry_id'] == 38)|(df_3['industry_id'] == 39)|(df_3['industry_id'] == 40)].index,'Industry_final'] = 'Лесная, деревообрабатывающая и целлюлозно-бумажная промышленность'\n",
    "    df_3.loc[df_3[df_3['industry_id'] == 51].index,'Industry_final'] = 'Массмедиа, издательская и полиграфическая деятельность'\n",
    "    df_3.loc[df_3[(df_3['industry_id'] == 28)|(df_3['industry_id'] == 29)|(df_3['industry_id'] == 30)|(df_3['industry_id'] == 31)|(df_3['industry_id'] == 33)|(df_3['industry_id'] == 59)|(df_3['industry_id'] == 60)].index,'Industry_final'] = 'Машиностроение (кроме оборонной и аэрокосмической промышленности)'\n",
    "    df_3.loc[df_3[(df_3['industry_id'] == 17)].index,'Industry_final'] = 'Нефтедобыча, нефтепереработка, нефтетрубопроводный транспорт'\n",
    "    df_3.loc[df_3[(df_3['industry_id'] == 32)|(df_3['industry_id'] == 58)].index,'Industry_final'] = 'Оборонная и аэрокосмическая промышленность'\n",
    "    df_3.loc[df_3[(df_3['industry_id'] == 37)].index,'Industry_final'] = 'Пищевая промышленность'\n",
    "    df_3.loc[df_3[(df_3['industry_id'] == 41)|(df_3['industry_id'] == 44)].index,'Industry_final'] = 'Промышленность строительных материалов'\n",
    "    df_3.loc[df_3[(df_3['industry_id'] == 34)|(df_3['industry_id'] == 50)].index,'Industry_final'] = 'Связь, почта и телекоммуникации'\n",
    "    df_3.loc[df_3[(df_3['industry_id'] == 35)|(df_3['industry_id'] == 36)].index,'Industry_final'] = 'Сельское хозяйство и рыболовство'\n",
    "    df_3.loc[df_3[(df_3['industry_id'] == 61)|(df_3['industry_id'] == 43)|(df_3['industry_id'] == 45)].index,'Industry_final'] = 'Строительство и операции с недвижимостью'\n",
    "    df_3.loc[df_3[(df_3['industry_id'] == 3)|(df_3['industry_id'] == 4)|(df_3['industry_id'] == 5)|(df_3['industry_id'] == 6)|(df_3['industry_id'] == 7)|(df_3['industry_id'] == 8)].index,'Industry_final'] = 'Торговля'\n",
    "    df_3.loc[df_3[(df_3['industry_id'] == 46)|(df_3['industry_id'] == 47)|(df_3['industry_id'] == 48)|(df_3['industry_id'] == 49)|(df_3['industry_id'] == 66)].index,'Industry_final'] = 'Транспорт (кроме трубопроводного)'\n",
    "    df_3.loc[df_3[(df_3['industry_id'] == 14)].index,'Industry_final'] = 'Угольная промышленность'\n",
    "    df_3.loc[df_3[(df_3['industry_id'] == 53)|(df_3['industry_id'] == 62)|(df_3['industry_id'] == 63)|(df_3['industry_id'] ==64)|(df_3['industry_id'] == 65)].index,'Industry_final'] = 'Услуги (за исключением услуг финансовых рынков)'\n",
    "    df_3.loc[df_3[(df_3['industry_id'] == 1)|(df_3['industry_id'] == 2)|(df_3['industry_id'] == 9)].index,'Industry_final'] = 'Федеральные органы власти, органы власти субъектов и муниципальных образований, посольства, центральные банки'\n",
    "    df_3.loc[df_3[(df_3['industry_id'] == 55)].index,'Industry_final'] = 'Физические лица'\n",
    "    df_3.loc[df_3[(df_3['industry_id'] == 10)|(df_3['industry_id'] == 11)|(df_3['industry_id'] == 12)|(df_3['industry_id'] == 13)|(df_3['industry_id'] == 26)].index,'Industry_final'] = 'Финансовые компании, страхование, лизинг'\n",
    "    df_3.loc[df_3[(df_3['industry_id'] == 23)|(df_3['industry_id'] == 24)|(df_3['industry_id'] == 25)|(df_3['industry_id'] == 27)].index,'Industry_final'] = 'Химическая  и нефтехимическая промышленность'\n",
    "    df_3.loc[df_3[(df_3['industry_id'] == 20)|(df_3['industry_id'] == 21)].index,'Industry_final'] = 'Цветная металлургия и добыча драгоценных металлов'\n",
    "    df_3.loc[df_3[(df_3['industry_id'] == 19)].index,'Industry_final'] = 'Черная металлургия'\n",
    "    df_3.loc[df_3[(df_3['industry_id'] == 15)|(df_3['industry_id'] == 16)].index,'Industry_final'] = 'Электроэнергетика'\n",
    "    df_3.loc[df_3[df_3['Industry_final'] == ''].index,'Industry_final'] = 'Другие, включая легкую промышленность'\n",
    "    df_pivot=df_3.pivot_table(index = ['Industry_final'], values = ['Gross_balance_MIX_mRUR'], aggfunc = 'sum').reset_index()\n",
    "    df_pivot.loc[df_pivot.index[-1]+1,'Industry_final']='Итого'\n",
    "    df_pivot.loc[df_pivot.index[-1],'Gross_balance_MIX_mRUR']=df_pivot.iloc[0:df_pivot.index[-1],1].sum()\n",
    "    for i in range(0,df_pivot.shape[0]):\n",
    "        df_pivot.loc[i,'%'] = df_pivot.loc[i,'Gross_balance_MIX_mRUR']/df_pivot.loc[df_pivot.index[-1],'Gross_balance_MIX_mRUR']*100\n",
    "        df_pivot['%'][i] = \"{0:.1f}%\".format(df_pivot['%'][i])\n",
    "        df_pivot['%'][i] = str(df_pivot['%'][i]).replace('.',',')\n",
    "    df_pivot=df_pivot.sort_values(by = 'Gross_balance_MIX_mRUR', ascending = False).reset_index(drop=True)\n",
    "    for i in range (0, len(df_pivot)):\n",
    "        df_pivot.loc[i,'Gross_balance_MIX_mRUR']=df_pivot.loc[i,'Gross_balance_MIX_mRUR']/1000\n",
    "    return df_pivot, df_3"
   ]
  },
  {
   "cell_type": "code",
   "execution_count": null,
   "metadata": {},
   "outputs": [],
   "source": [
    "df_3_pivot, df_3 = industries(df_3)\n",
    "df_2_pivot, df_2 = industries(df_2)\n",
    "df_1_pivot, df_1 = industries(df_1)"
   ]
  },
  {
   "cell_type": "code",
   "execution_count": null,
   "metadata": {},
   "outputs": [],
   "source": [
    "slide = prs.slides[slide_cred_1_2]"
   ]
  },
  {
   "cell_type": "code",
   "execution_count": null,
   "metadata": {},
   "outputs": [],
   "source": [
    "slide_chart = [shape for shape in slide.shapes if shape.has_chart]"
   ]
  },
  {
   "cell_type": "code",
   "execution_count": null,
   "metadata": {},
   "outputs": [],
   "source": [
    "chart_data = ChartData()\n",
    "chart_data.categories = [df_3_pivot.loc[12,'Industry_final'],df_3_pivot.loc[11,'Industry_final'],df_3_pivot.loc[10,'Industry_final'],df_3_pivot.loc[9,'Industry_final'],df_3_pivot.loc[8,'Industry_final'],df_3_pivot.loc[7,'Industry_final'],df_3_pivot.loc[6,'Industry_final'],df_3_pivot.loc[5,'Industry_final'],df_3_pivot.loc[4,'Industry_final'],df_3_pivot.loc[3,'Industry_final'],df_3_pivot.loc[2,'Industry_final'],df_3_pivot.loc[1,'Industry_final']]\n",
    "chart_data.add_series(df_2_0['Report_date'][0],    (df_2_pivot[df_2_pivot['Industry_final']==df_3_pivot.loc[12,'Industry_final']]['Gross_balance_MIX_mRUR'].values[0],df_2_pivot[df_2_pivot['Industry_final']==df_3_pivot.loc[11,'Industry_final']]['Gross_balance_MIX_mRUR'].values[0],df_2_pivot[df_2_pivot['Industry_final']==df_3_pivot.loc[10,'Industry_final']]['Gross_balance_MIX_mRUR'].values[0],df_2_pivot[df_2_pivot['Industry_final']==df_3_pivot.loc[9,'Industry_final']]['Gross_balance_MIX_mRUR'].values[0],df_2_pivot[df_2_pivot['Industry_final']==df_3_pivot.loc[8,'Industry_final']]['Gross_balance_MIX_mRUR'].values[0],df_2_pivot[df_2_pivot['Industry_final']==df_3_pivot.loc[7,'Industry_final']]['Gross_balance_MIX_mRUR'].values[0],df_2_pivot[df_2_pivot['Industry_final']==df_3_pivot.loc[6,'Industry_final']]['Gross_balance_MIX_mRUR'].values[0],df_2_pivot[df_2_pivot['Industry_final']==df_3_pivot.loc[5,'Industry_final']]['Gross_balance_MIX_mRUR'].values[0],df_2_pivot[df_2_pivot['Industry_final']==df_3_pivot.loc[4,'Industry_final']]['Gross_balance_MIX_mRUR'].values[0],df_2_pivot[df_2_pivot['Industry_final']==df_3_pivot.loc[3,'Industry_final']]['Gross_balance_MIX_mRUR'].values[0],df_2_pivot[df_2_pivot['Industry_final']==df_3_pivot.loc[2,'Industry_final']]['Gross_balance_MIX_mRUR'].values[0],df_2_pivot[df_2_pivot['Industry_final']==df_3_pivot.loc[1,'Industry_final']]['Gross_balance_MIX_mRUR'].values[0]))\n",
    "chart_data.add_series(df_3_0['Report_date'][0],    (df_3_pivot.loc[12,'Gross_balance_MIX_mRUR'],df_3_pivot.loc[11,'Gross_balance_MIX_mRUR'],df_3_pivot.loc[10,'Gross_balance_MIX_mRUR'],df_3_pivot.loc[9,'Gross_balance_MIX_mRUR'],df_3_pivot.loc[8,'Gross_balance_MIX_mRUR'],df_3_pivot.loc[7,'Gross_balance_MIX_mRUR'],df_3_pivot.loc[6,'Gross_balance_MIX_mRUR'],df_3_pivot.loc[5,'Gross_balance_MIX_mRUR'],df_3_pivot.loc[4,'Gross_balance_MIX_mRUR'],df_3_pivot.loc[3,'Gross_balance_MIX_mRUR'],df_3_pivot.loc[2,'Gross_balance_MIX_mRUR'],df_3_pivot.loc[1,'Gross_balance_MIX_mRUR']))\n",
    "slide_chart[1].chart.replace_data(chart_data)"
   ]
  },
  {
   "cell_type": "code",
   "execution_count": null,
   "metadata": {},
   "outputs": [],
   "source": [
    "chart_data = ChartData()\n",
    "chart_data.categories = [df_3_pivot.loc[25,'Industry_final'],df_3_pivot.loc[24,'Industry_final'],df_3_pivot.loc[23,'Industry_final'],df_3_pivot.loc[22,'Industry_final'],df_3_pivot.loc[21,'Industry_final'],df_3_pivot.loc[20,'Industry_final'],df_3_pivot.loc[19,'Industry_final'],df_3_pivot.loc[18,'Industry_final'],df_3_pivot.loc[17,'Industry_final'],df_3_pivot.loc[16,'Industry_final'],df_3_pivot.loc[15,'Industry_final'],df_3_pivot.loc[14,'Industry_final'],df_3_pivot.loc[13,'Industry_final']]\n",
    "chart_data.add_series(df_2_0['Report_date'][0],    (df_2_pivot[df_2_pivot['Industry_final']==df_3_pivot.loc[25,'Industry_final']]['Gross_balance_MIX_mRUR'].values[0],df_2_pivot[df_2_pivot['Industry_final']==df_3_pivot.loc[24,'Industry_final']]['Gross_balance_MIX_mRUR'].values[0],df_2_pivot[df_2_pivot['Industry_final']==df_3_pivot.loc[23,'Industry_final']]['Gross_balance_MIX_mRUR'].values[0],df_2_pivot[df_2_pivot['Industry_final']==df_3_pivot.loc[22,'Industry_final']]['Gross_balance_MIX_mRUR'].values[0],df_2_pivot[df_2_pivot['Industry_final']==df_3_pivot.loc[21,'Industry_final']]['Gross_balance_MIX_mRUR'].values[0],df_2_pivot[df_2_pivot['Industry_final']==df_3_pivot.loc[20,'Industry_final']]['Gross_balance_MIX_mRUR'].values[0],df_2_pivot[df_2_pivot['Industry_final']==df_3_pivot.loc[19,'Industry_final']]['Gross_balance_MIX_mRUR'].values[0],df_2_pivot[df_2_pivot['Industry_final']==df_3_pivot.loc[18,'Industry_final']]['Gross_balance_MIX_mRUR'].values[0],df_2_pivot[df_2_pivot['Industry_final']==df_3_pivot.loc[17,'Industry_final']]['Gross_balance_MIX_mRUR'].values[0],df_2_pivot[df_2_pivot['Industry_final']==df_3_pivot.loc[16,'Industry_final']]['Gross_balance_MIX_mRUR'].values[0],df_2_pivot[df_2_pivot['Industry_final']==df_3_pivot.loc[15,'Industry_final']]['Gross_balance_MIX_mRUR'].values[0],df_2_pivot[df_2_pivot['Industry_final']==df_3_pivot.loc[14,'Industry_final']]['Gross_balance_MIX_mRUR'].values[0],df_2_pivot[df_2_pivot['Industry_final']==df_3_pivot.loc[13,'Industry_final']]['Gross_balance_MIX_mRUR'].values[0]))\n",
    "chart_data.add_series(df_3_0['Report_date'][0],    (df_3_pivot.loc[25,'Gross_balance_MIX_mRUR'],df_3_pivot.loc[24,'Gross_balance_MIX_mRUR'],df_3_pivot.loc[23,'Gross_balance_MIX_mRUR'],df_3_pivot.loc[22,'Gross_balance_MIX_mRUR'],df_3_pivot.loc[21,'Gross_balance_MIX_mRUR'],df_3_pivot.loc[20,'Gross_balance_MIX_mRUR'],df_3_pivot.loc[19,'Gross_balance_MIX_mRUR'],df_3_pivot.loc[18,'Gross_balance_MIX_mRUR'],df_3_pivot.loc[17,'Gross_balance_MIX_mRUR'],df_3_pivot.loc[16,'Gross_balance_MIX_mRUR'],df_3_pivot.loc[15,'Gross_balance_MIX_mRUR'],df_3_pivot.loc[14,'Gross_balance_MIX_mRUR'],df_3_pivot.loc[13,'Gross_balance_MIX_mRUR']))\n",
    "slide_chart[2].chart.replace_data(chart_data)"
   ]
  },
  {
   "cell_type": "code",
   "execution_count": null,
   "metadata": {},
   "outputs": [],
   "source": [
    "chart_data = ChartData()\n",
    "chart_data.categories = [df_3_pivot.loc[0,'Industry_final']]\n",
    "chart_data.add_series(df_2_0['Report_date'][0],    (df_2_pivot[df_2_pivot['Industry_final']==df_3_pivot.loc[0,'Industry_final']]['Gross_balance_MIX_mRUR'].values[0],0))\n",
    "chart_data.add_series(df_3_0['Report_date'][0],    (df_3_pivot.loc[0,'Gross_balance_MIX_mRUR'],0))\n",
    "slide_chart[0].chart.replace_data(chart_data)"
   ]
  },
  {
   "cell_type": "code",
   "execution_count": null,
   "metadata": {},
   "outputs": [],
   "source": [
    "slide_text = [shape for shape in slide.shapes if shape.has_text_frame]"
   ]
  },
  {
   "cell_type": "code",
   "execution_count": null,
   "metadata": {},
   "outputs": [],
   "source": [
    "text_data(5)"
   ]
  },
  {
   "cell_type": "code",
   "execution_count": null,
   "metadata": {},
   "outputs": [],
   "source": [
    "def text_dat(number, dat):   \n",
    "    text_frame = slide_text[number].text_frame\n",
    "    text_frame.clear()\n",
    "    p = text_frame.paragraphs[0]\n",
    "    run = p.add_run()\n",
    "    run.text = 'Данные на '+ dat\n",
    "    run.font.size = Pt(7)"
   ]
  },
  {
   "cell_type": "code",
   "execution_count": null,
   "metadata": {},
   "outputs": [],
   "source": [
    "text_dat(7, df_3_0['Report_date'][0])\n",
    "text_dat(9, df_2_0['Report_date'][0])"
   ]
  },
  {
   "cell_type": "code",
   "execution_count": null,
   "metadata": {},
   "outputs": [],
   "source": [
    "def text_label(number, textt):   \n",
    "    text_frame = slide_text[number].text_frame\n",
    "    text_frame.clear()\n",
    "    p = text_frame.paragraphs[0]\n",
    "    run = p.add_run()\n",
    "    run.text = textt\n",
    "    run.font.size = Pt(7)"
   ]
  },
  {
   "cell_type": "code",
   "execution_count": null,
   "metadata": {},
   "outputs": [],
   "source": [
    "for i in range(12,38):\n",
    "    text_label(i,df_3_pivot['Industry_final'][i-12])"
   ]
  },
  {
   "cell_type": "code",
   "execution_count": null,
   "metadata": {},
   "outputs": [],
   "source": [
    "def text_perc(number, textt,RGB):   \n",
    "    text_frame = slide_text[number].text_frame\n",
    "    text_frame.clear()\n",
    "    p = text_frame.paragraphs[0]\n",
    "    run = p.add_run()\n",
    "    run.text = textt\n",
    "    run.font.size = Pt(8)\n",
    "    run.font.bold = True\n",
    "    run.font.color.rgb = RGB"
   ]
  },
  {
   "cell_type": "code",
   "execution_count": null,
   "metadata": {},
   "outputs": [],
   "source": [
    "for i in range (38, 64):\n",
    "    text_perc(i,df_3_pivot['%'][i-38],RGBColor(10,41,115))\n",
    "for i in range (64, 90):\n",
    "    text_perc(i,df_2_pivot['%'][i-64],RGBColor(104,106,106))"
   ]
  },
  {
   "cell_type": "code",
   "execution_count": null,
   "metadata": {},
   "outputs": [],
   "source": [
    "prs.save(presentation)"
   ]
  },
  {
   "cell_type": "markdown",
   "metadata": {},
   "source": [
    "# слайд 1_1_1 текст слева"
   ]
  },
  {
   "cell_type": "code",
   "execution_count": null,
   "metadata": {},
   "outputs": [],
   "source": [
    "dat2=df_3.pivot_table(index = ['Client_name_final','Industry_final'], values = ['Gross_balance_MIX_mRUR'], aggfunc = 'sum').reset_index()"
   ]
  },
  {
   "cell_type": "code",
   "execution_count": null,
   "metadata": {},
   "outputs": [],
   "source": [
    "dat1=df_2.pivot_table(index = ['Client_name_final','Industry_final'], values = ['Gross_balance_MIX_mRUR'], aggfunc = 'sum').reset_index()"
   ]
  },
  {
   "cell_type": "code",
   "execution_count": null,
   "metadata": {},
   "outputs": [],
   "source": [
    "merged=pd.merge(dat2, dat1, \n",
    "         on = ['Client_name_final','Industry_final'], how = 'outer')"
   ]
  },
  {
   "cell_type": "code",
   "execution_count": null,
   "metadata": {},
   "outputs": [],
   "source": [
    "merged['Gross_balance_MIX_mRUR_x']=merged['Gross_balance_MIX_mRUR_x'].fillna(0)\n",
    "merged['Gross_balance_MIX_mRUR_y']=merged['Gross_balance_MIX_mRUR_y'].fillna(0)\n",
    "merged['delta']=merged['Gross_balance_MIX_mRUR_x']-merged['Gross_balance_MIX_mRUR_y']"
   ]
  },
  {
   "cell_type": "code",
   "execution_count": null,
   "metadata": {},
   "outputs": [],
   "source": [
    "positive=merged.sort_values(by='delta',ascending=False).query('Industry_final != \"nan\" and Industry_final != \"Физические лица\"').head(5).reset_index()\n",
    "negative=merged.sort_values(by='delta',ascending=True).query('Industry_final != \"nan\" and Industry_final != \"Физические лица\"').head(5).reset_index()"
   ]
  },
  {
   "cell_type": "code",
   "execution_count": null,
   "metadata": {},
   "outputs": [],
   "source": [
    "slide = prs.slides[slide_cred_1_1_1]\n",
    "slide_text = [shape for shape in slide.shapes if shape.has_text_frame]"
   ]
  },
  {
   "cell_type": "code",
   "execution_count": null,
   "metadata": {},
   "outputs": [],
   "source": [
    "def industries_pos_neg(number_slide,df,simb):   \n",
    "    text_frame = slide_text[number_slide].text_frame\n",
    "    text_frame.clear()\n",
    "    p = text_frame.paragraphs[0]\n",
    "    run = p.add_run()\n",
    "    run.text = df.loc[0,'Industry_final']+' '+simb+str(\"{0:.1f}\".format(df.loc[0,'delta']/1000)).replace('.',',')+' млрд рублей'+';'+'\\n'+df.loc[1,'Industry_final']+' '+simb+str(\"{0:.1f}\".format(df.loc[1,'delta']/1000)).replace('.',',')+' млрд рублей'+';'+'\\n'+df.loc[2,'Industry_final']+' '+simb+str(\"{0:.1f}\".format(df.loc[2,'delta']/1000)).replace('.',',')+' млрд рублей'+';'+'\\n'+df.loc[3,'Industry_final']+' '+simb+str(\"{0:.1f}\".format(df.loc[3,'delta']/1000)).replace('.',',')+' млрд рублей'+';'+'\\n'+df.loc[4,'Industry_final']+' '+simb+str(\"{0:.1f}\".format(df.loc[4,'delta']/1000)).replace('.',',')+' млрд рублей'+'.'\n",
    "    run.font.size = Pt(8)"
   ]
  },
  {
   "cell_type": "code",
   "execution_count": null,
   "metadata": {},
   "outputs": [],
   "source": [
    "industries_pos_neg(10,positive,'+') \n",
    "industries_pos_neg(11,negative,'')  "
   ]
  },
  {
   "cell_type": "code",
   "execution_count": null,
   "metadata": {},
   "outputs": [],
   "source": [
    "prs.save(presentation)"
   ]
  },
  {
   "cell_type": "markdown",
   "metadata": {},
   "source": [
    "## Слайд 7.5"
   ]
  },
  {
   "cell_type": "code",
   "execution_count": null,
   "metadata": {},
   "outputs": [],
   "source": [
    "df_3 = df_3_0.query('VTB_group_member != 1 and LE_id == 1 and Type_product_id not in [90, 91]').reset_index(drop=True)\n",
    "df_2 = df_2_0.query('VTB_group_member != 1 and LE_id == 1 and Type_product_id not in [90, 91]').reset_index(drop=True)\n",
    "df_1 = df_1_0.query('VTB_group_member != 1 and LE_id == 1 and Type_product_id not in [90, 91]').reset_index(drop=True)"
   ]
  },
  {
   "cell_type": "code",
   "execution_count": null,
   "metadata": {},
   "outputs": [],
   "source": [
    "df_3_pivot,df_3 = industries(df_3)\n",
    "df_2_pivot,df_2 = industries(df_2)\n",
    "df_1_pivot,df_1 = industries(df_1)"
   ]
  },
  {
   "cell_type": "code",
   "execution_count": null,
   "metadata": {},
   "outputs": [],
   "source": [
    "prs.slides[8]"
   ]
  },
  {
   "cell_type": "code",
   "execution_count": null,
   "metadata": {},
   "outputs": [],
   "source": [
    "slide = prs.slides[slide_cred_7_5]"
   ]
  },
  {
   "cell_type": "code",
   "execution_count": null,
   "metadata": {},
   "outputs": [],
   "source": [
    "slide_chart = [shape for shape in slide.shapes if shape.has_chart]"
   ]
  },
  {
   "cell_type": "code",
   "execution_count": null,
   "metadata": {},
   "outputs": [],
   "source": [
    "chart_data = ChartData()\n",
    "chart_data.categories = [df_3_pivot.loc[12,'Industry_final'],df_3_pivot.loc[11,'Industry_final'],df_3_pivot.loc[10,'Industry_final'],df_3_pivot.loc[9,'Industry_final'],df_3_pivot.loc[8,'Industry_final'],df_3_pivot.loc[7,'Industry_final'],df_3_pivot.loc[6,'Industry_final'],df_3_pivot.loc[5,'Industry_final'],df_3_pivot.loc[4,'Industry_final'],df_3_pivot.loc[3,'Industry_final'],df_3_pivot.loc[2,'Industry_final'],df_3_pivot.loc[1,'Industry_final']]\n",
    "chart_data.add_series(df_2_0['Report_date'][0],    (df_2_pivot[df_2_pivot['Industry_final']==df_3_pivot.loc[12,'Industry_final']]['Gross_balance_MIX_mRUR'].values[0],df_2_pivot[df_2_pivot['Industry_final']==df_3_pivot.loc[11,'Industry_final']]['Gross_balance_MIX_mRUR'].values[0],df_2_pivot[df_2_pivot['Industry_final']==df_3_pivot.loc[10,'Industry_final']]['Gross_balance_MIX_mRUR'].values[0],df_2_pivot[df_2_pivot['Industry_final']==df_3_pivot.loc[9,'Industry_final']]['Gross_balance_MIX_mRUR'].values[0],df_2_pivot[df_2_pivot['Industry_final']==df_3_pivot.loc[8,'Industry_final']]['Gross_balance_MIX_mRUR'].values[0],df_2_pivot[df_2_pivot['Industry_final']==df_3_pivot.loc[7,'Industry_final']]['Gross_balance_MIX_mRUR'].values[0],df_2_pivot[df_2_pivot['Industry_final']==df_3_pivot.loc[6,'Industry_final']]['Gross_balance_MIX_mRUR'].values[0],df_2_pivot[df_2_pivot['Industry_final']==df_3_pivot.loc[5,'Industry_final']]['Gross_balance_MIX_mRUR'].values[0],df_2_pivot[df_2_pivot['Industry_final']==df_3_pivot.loc[4,'Industry_final']]['Gross_balance_MIX_mRUR'].values[0],df_2_pivot[df_2_pivot['Industry_final']==df_3_pivot.loc[3,'Industry_final']]['Gross_balance_MIX_mRUR'].values[0],df_2_pivot[df_2_pivot['Industry_final']==df_3_pivot.loc[2,'Industry_final']]['Gross_balance_MIX_mRUR'].values[0],df_2_pivot[df_2_pivot['Industry_final']==df_3_pivot.loc[1,'Industry_final']]['Gross_balance_MIX_mRUR'].values[0]))\n",
    "chart_data.add_series(df_3_0['Report_date'][0],    (df_3_pivot.loc[12,'Gross_balance_MIX_mRUR'],df_3_pivot.loc[11,'Gross_balance_MIX_mRUR'],df_3_pivot.loc[10,'Gross_balance_MIX_mRUR'],df_3_pivot.loc[9,'Gross_balance_MIX_mRUR'],df_3_pivot.loc[8,'Gross_balance_MIX_mRUR'],df_3_pivot.loc[7,'Gross_balance_MIX_mRUR'],df_3_pivot.loc[6,'Gross_balance_MIX_mRUR'],df_3_pivot.loc[5,'Gross_balance_MIX_mRUR'],df_3_pivot.loc[4,'Gross_balance_MIX_mRUR'],df_3_pivot.loc[3,'Gross_balance_MIX_mRUR'],df_3_pivot.loc[2,'Gross_balance_MIX_mRUR'],df_3_pivot.loc[1,'Gross_balance_MIX_mRUR']))\n",
    "slide_chart[1].chart.replace_data(chart_data)"
   ]
  },
  {
   "cell_type": "code",
   "execution_count": null,
   "metadata": {},
   "outputs": [],
   "source": [
    "chart_data = ChartData()\n",
    "chart_data.categories = [df_3_pivot.loc[25,'Industry_final'],df_3_pivot.loc[24,'Industry_final'],df_3_pivot.loc[23,'Industry_final'],df_3_pivot.loc[22,'Industry_final'],df_3_pivot.loc[21,'Industry_final'],df_3_pivot.loc[20,'Industry_final'],df_3_pivot.loc[19,'Industry_final'],df_3_pivot.loc[18,'Industry_final'],df_3_pivot.loc[17,'Industry_final'],df_3_pivot.loc[16,'Industry_final'],df_3_pivot.loc[15,'Industry_final'],df_3_pivot.loc[14,'Industry_final'],df_3_pivot.loc[13,'Industry_final']]\n",
    "chart_data.add_series(df_2_0['Report_date'][0],    (df_2_pivot[df_2_pivot['Industry_final']==df_3_pivot.loc[25,'Industry_final']]['Gross_balance_MIX_mRUR'].values[0],df_2_pivot[df_2_pivot['Industry_final']==df_3_pivot.loc[24,'Industry_final']]['Gross_balance_MIX_mRUR'].values[0],df_2_pivot[df_2_pivot['Industry_final']==df_3_pivot.loc[23,'Industry_final']]['Gross_balance_MIX_mRUR'].values[0],df_2_pivot[df_2_pivot['Industry_final']==df_3_pivot.loc[22,'Industry_final']]['Gross_balance_MIX_mRUR'].values[0],df_2_pivot[df_2_pivot['Industry_final']==df_3_pivot.loc[21,'Industry_final']]['Gross_balance_MIX_mRUR'].values[0],df_2_pivot[df_2_pivot['Industry_final']==df_3_pivot.loc[20,'Industry_final']]['Gross_balance_MIX_mRUR'].values[0],df_2_pivot[df_2_pivot['Industry_final']==df_3_pivot.loc[19,'Industry_final']]['Gross_balance_MIX_mRUR'].values[0],df_2_pivot[df_2_pivot['Industry_final']==df_3_pivot.loc[18,'Industry_final']]['Gross_balance_MIX_mRUR'].values[0],df_2_pivot[df_2_pivot['Industry_final']==df_3_pivot.loc[17,'Industry_final']]['Gross_balance_MIX_mRUR'].values[0],df_2_pivot[df_2_pivot['Industry_final']==df_3_pivot.loc[16,'Industry_final']]['Gross_balance_MIX_mRUR'].values[0],df_2_pivot[df_2_pivot['Industry_final']==df_3_pivot.loc[15,'Industry_final']]['Gross_balance_MIX_mRUR'].values[0],df_2_pivot[df_2_pivot['Industry_final']==df_3_pivot.loc[14,'Industry_final']]['Gross_balance_MIX_mRUR'].values[0],df_2_pivot[df_2_pivot['Industry_final']==df_3_pivot.loc[13,'Industry_final']]['Gross_balance_MIX_mRUR'].values[0]))\n",
    "chart_data.add_series(df_3_0['Report_date'][0],    (df_3_pivot.loc[25,'Gross_balance_MIX_mRUR'],df_3_pivot.loc[24,'Gross_balance_MIX_mRUR'],df_3_pivot.loc[23,'Gross_balance_MIX_mRUR'],df_3_pivot.loc[22,'Gross_balance_MIX_mRUR'],df_3_pivot.loc[21,'Gross_balance_MIX_mRUR'],df_3_pivot.loc[20,'Gross_balance_MIX_mRUR'],df_3_pivot.loc[19,'Gross_balance_MIX_mRUR'],df_3_pivot.loc[18,'Gross_balance_MIX_mRUR'],df_3_pivot.loc[17,'Gross_balance_MIX_mRUR'],df_3_pivot.loc[16,'Gross_balance_MIX_mRUR'],df_3_pivot.loc[15,'Gross_balance_MIX_mRUR'],df_3_pivot.loc[14,'Gross_balance_MIX_mRUR'],df_3_pivot.loc[13,'Gross_balance_MIX_mRUR']))\n",
    "slide_chart[2].chart.replace_data(chart_data)"
   ]
  },
  {
   "cell_type": "code",
   "execution_count": null,
   "metadata": {},
   "outputs": [],
   "source": [
    "chart_data = ChartData()\n",
    "chart_data.categories = [df_3_pivot.loc[0,'Industry_final']]\n",
    "chart_data.add_series(df_2_0['Report_date'][0],    (df_2_pivot[df_2_pivot['Industry_final']==df_3_pivot.loc[0,'Industry_final']]['Gross_balance_MIX_mRUR'].values[0],0))\n",
    "chart_data.add_series(df_3_0['Report_date'][0],    (df_3_pivot.loc[0,'Gross_balance_MIX_mRUR'],0))\n",
    "slide_chart[0].chart.replace_data(chart_data)"
   ]
  },
  {
   "cell_type": "code",
   "execution_count": null,
   "metadata": {},
   "outputs": [],
   "source": [
    "slide_text = [shape for shape in slide.shapes if shape.has_text_frame]"
   ]
  },
  {
   "cell_type": "code",
   "execution_count": null,
   "metadata": {},
   "outputs": [],
   "source": [
    "text_data(5)"
   ]
  },
  {
   "cell_type": "code",
   "execution_count": null,
   "metadata": {},
   "outputs": [],
   "source": [
    "text_dat(7, df_3_0['Report_date'][0])\n",
    "text_dat(9, df_2_0['Report_date'][0])"
   ]
  },
  {
   "cell_type": "code",
   "execution_count": null,
   "metadata": {},
   "outputs": [],
   "source": [
    "for i in range(12,38):\n",
    "    text_label(i,df_3_pivot['Industry_final'][i-12])"
   ]
  },
  {
   "cell_type": "code",
   "execution_count": null,
   "metadata": {},
   "outputs": [],
   "source": [
    "for i in range (38, 64):\n",
    "    text_perc(i,df_3_pivot['%'][i-38],RGBColor(10,41,115))\n",
    "for i in range (64, 90):\n",
    "    text_perc(i,df_2_pivot['%'][i-64],RGBColor(104,106,106))"
   ]
  },
  {
   "cell_type": "code",
   "execution_count": null,
   "metadata": {},
   "outputs": [],
   "source": [
    "prs.save(presentation)"
   ]
  },
  {
   "cell_type": "markdown",
   "metadata": {},
   "source": [
    "### Слайд 7_1 текст слева"
   ]
  },
  {
   "cell_type": "code",
   "execution_count": null,
   "metadata": {},
   "outputs": [],
   "source": [
    "dat2=df_3.pivot_table(index = ['Client_name_final','Industry_final'], values = ['Gross_balance_MIX_mRUR'], aggfunc = 'sum').reset_index()\n",
    "dat1=df_2.pivot_table(index = ['Client_name_final','Industry_final'], values = ['Gross_balance_MIX_mRUR'], aggfunc = 'sum').reset_index()"
   ]
  },
  {
   "cell_type": "code",
   "execution_count": null,
   "metadata": {},
   "outputs": [],
   "source": [
    "merged=pd.merge(dat2, dat1, \n",
    "         on = ['Client_name_final','Industry_final'], how = 'outer')"
   ]
  },
  {
   "cell_type": "code",
   "execution_count": null,
   "metadata": {},
   "outputs": [],
   "source": [
    "merged['Gross_balance_MIX_mRUR_x']=merged['Gross_balance_MIX_mRUR_x'].fillna(0)\n",
    "merged['Gross_balance_MIX_mRUR_y']=merged['Gross_balance_MIX_mRUR_y'].fillna(0)\n",
    "merged['delta']=merged['Gross_balance_MIX_mRUR_x']-merged['Gross_balance_MIX_mRUR_y']"
   ]
  },
  {
   "cell_type": "code",
   "execution_count": null,
   "metadata": {},
   "outputs": [],
   "source": [
    "positive=merged.sort_values(by='delta',ascending=False).query('Industry_final != \"nan\" and Industry_final != \"Физические лица\"').head(5).reset_index()\n",
    "negative=merged.sort_values(by='delta',ascending=True).query('Industry_final != \"nan\" and Industry_final != \"Физические лица\"').head(5).reset_index()"
   ]
  },
  {
   "cell_type": "code",
   "execution_count": null,
   "metadata": {},
   "outputs": [],
   "source": [
    "slide = prs.slides[slide_cred_7_1]\n",
    "slide_text = [shape for shape in slide.shapes if shape.has_text_frame]"
   ]
  },
  {
   "cell_type": "code",
   "execution_count": null,
   "metadata": {},
   "outputs": [],
   "source": [
    "industries_pos_neg(12,positive,'+') \n",
    "industries_pos_neg(13,negative,'')  "
   ]
  },
  {
   "cell_type": "code",
   "execution_count": null,
   "metadata": {},
   "outputs": [],
   "source": [
    "prs.save(presentation)"
   ]
  },
  {
   "cell_type": "markdown",
   "metadata": {},
   "source": [
    "## Слайд 7_1"
   ]
  },
  {
   "cell_type": "code",
   "execution_count": null,
   "metadata": {},
   "outputs": [],
   "source": [
    "df_1 = df_1_0.query('VTB_group_member != 1 and LE_id == 1 and Type_product_id not in [90, 91]').reset_index(drop=True)\n",
    "df_1 =df_1[['VTB_group_member','LE_id','Type_product_id','Type_product',\n",
    "'LGD_MS','Gross_balance_MIX_mRUR', 'CAR_IRB_mRUR','Report_date']]"
   ]
  },
  {
   "cell_type": "code",
   "execution_count": null,
   "metadata": {},
   "outputs": [],
   "source": [
    "df_2 = df_2_0.query('VTB_group_member != 1 and LE_id == 1 and Type_product_id not in [90, 91]').reset_index(drop=True)\n",
    "df_2 =df_2[['VTB_group_member','LE_id','Type_product_id','Type_product',\n",
    "'LGD_MS','Gross_balance_MIX_mRUR', 'CAR_IRB_mRUR','Report_date']]"
   ]
  },
  {
   "cell_type": "code",
   "execution_count": null,
   "metadata": {},
   "outputs": [],
   "source": [
    "df_3 = df_3_0.query('VTB_group_member != 1 and LE_id == 1 and Type_product_id not in [90, 91]').reset_index(drop=True)\n",
    "df_3 =df_3[['VTB_group_member','LE_id','Type_product_id','Type_product',\n",
    "'LGD_MS','Gross_balance_MIX_mRUR', 'CAR_IRB_mRUR','Report_date']]"
   ]
  },
  {
   "cell_type": "code",
   "execution_count": null,
   "metadata": {},
   "outputs": [],
   "source": [
    "pivot_1 = merged_one(df_1)\n",
    "pivot_2 = merged_one(df_2)\n",
    "pivot_3 = merged_one(df_3)"
   ]
  },
  {
   "cell_type": "code",
   "execution_count": null,
   "metadata": {},
   "outputs": [],
   "source": [
    "merged_first = merged_two(pivot_1, pivot_2, pivot_3)"
   ]
  },
  {
   "cell_type": "code",
   "execution_count": null,
   "metadata": {},
   "outputs": [],
   "source": [
    "itogo_1 = float(merged_first.query('Product == \"Итого\"')['Портфель, млрд рублей_x'])\n",
    "itogo_2 = float(merged_first.query('Product == \"Итого\"')['Портфель, млрд рублей_y'])\n",
    "itogo_3 = float(merged_first.query('Product == \"Итого\"')['Портфель, млрд рублей'])"
   ]
  },
  {
   "cell_type": "markdown",
   "metadata": {},
   "source": [
    "## 1 таблица"
   ]
  },
  {
   "cell_type": "code",
   "execution_count": null,
   "metadata": {},
   "outputs": [],
   "source": [
    "ifrs_1_bank = df_1[df_1['Type_product_id'].isin([10,20,21,22,23,24,30,31,32,33])]['Gross_balance_MIX_mRUR'].sum()/1000\n",
    "ifrs_2_bank = df_2[df_2['Type_product_id'].isin([10,20,21,22,23,24,30,31,32,33])]['Gross_balance_MIX_mRUR'].sum()/1000\n",
    "ifrs_3_bank = df_3[df_3['Type_product_id'].isin([10,20,21,22,23,24,30,31,32,33])]['Gross_balance_MIX_mRUR'].sum()/1000"
   ]
  },
  {
   "cell_type": "code",
   "execution_count": null,
   "metadata": {},
   "outputs": [],
   "source": [
    "df = merged_first_1(merged_first,ifrs_1_bank,ifrs_2_bank,ifrs_3_bank)"
   ]
  },
  {
   "cell_type": "code",
   "execution_count": null,
   "metadata": {},
   "outputs": [],
   "source": [
    "for j in range(1,4):\n",
    "    df.iloc[0,j] =\"{0:.1f}\".format(df.iloc[0,j])\n",
    "for i in range(0, df.shape[0]):\n",
    "    for j in range(1, df.shape[1]):\n",
    "        df.iloc[i,j] = str(df.iloc[i,j]).replace('.',',')"
   ]
  },
  {
   "cell_type": "code",
   "execution_count": null,
   "metadata": {},
   "outputs": [],
   "source": [
    "slide = prs.slides[slide_cred_7_1]\n",
    "table = [shape for shape in slide.shapes if shape.has_table]"
   ]
  },
  {
   "cell_type": "code",
   "execution_count": null,
   "metadata": {},
   "outputs": [],
   "source": [
    "for i in range(1,6):\n",
    "    for j in range(1,5):\n",
    "        table[0].table.cell(i,j).text = str(df.iloc[i-1, j])\n",
    "        run = table[0].table.cell(i,j).text_frame.paragraphs[0]\n",
    "        run.font.bold = False\n",
    "        run.font.size = Pt(7)\n",
    "        cell = table[0].table.cell(i, j)\n",
    "        cell.text_frame.paragraphs[0].alignment=PP_ALIGN.CENTER\n",
    "for j in range(1,5):\n",
    "    run = table[0].table.cell(5,j).text_frame.paragraphs[0]\n",
    "    run.font.bold = True\n",
    "dates_heading(df_1_0,1, table[0], Pt(7))\n",
    "dates_heading(df_2_0,2, table[0], Pt(7))\n",
    "dates_heading(df_3_0,3, table[0], Pt(7))   \n",
    "if (date_time_obj_2-date_time_obj_1).days < -366:\n",
    "    dates_heading_delta(df_2_0,4,table[0], Pt(7))\n",
    "else:\n",
    "    dates_heading_delta(df_1_0,4,table[0], Pt(7))"
   ]
  },
  {
   "cell_type": "code",
   "execution_count": null,
   "metadata": {},
   "outputs": [],
   "source": [
    "slide_text = [shape for shape in slide.shapes if shape.has_text_frame]"
   ]
  },
  {
   "cell_type": "code",
   "execution_count": null,
   "metadata": {},
   "outputs": [],
   "source": [
    "text_data(10)"
   ]
  },
  {
   "cell_type": "code",
   "execution_count": null,
   "metadata": {},
   "outputs": [],
   "source": [
    "prs.save(presentation)"
   ]
  },
  {
   "cell_type": "markdown",
   "metadata": {},
   "source": [
    "## 2 таблица"
   ]
  },
  {
   "cell_type": "code",
   "execution_count": null,
   "metadata": {},
   "outputs": [],
   "source": [
    "def merged_first_2_2(df):\n",
    "    df_ = df.query('VTB_group_member != 1 and LE_id == 1 and Type_product_id not in [90, 91]').reset_index(drop=True)\n",
    "    df_ = df_.query('Gross_balance_MIX_mRUR != 0').reset_index(drop=True)\n",
    "    df_ =df_[['VTB_group_member','LE_id','Type_product_id','Type_product', 'LGD_MS','Gross_balance_MIX_mRUR', 'CAR_IRB_mRUR','Report_date','type_business']]\n",
    "    df_ = df_.pivot_table(index ='type_business', values = 'Gross_balance_MIX_mRUR', aggfunc='sum').reset_index()\n",
    "    df_.loc[5,'type_business'] = 'Прочие бизнес линии'\n",
    "    df_.iloc[5,1]=df_.query('type_business == \"TREASURY\"')['Gross_balance_MIX_mRUR'].values+df_.query('type_business == \"OTH\"')['Gross_balance_MIX_mRUR'].values\n",
    "    df_['type_business'] = df_['type_business'].replace({'CIB':'КИБ', 'MCB':'СМБ', 'RTL':'РБ'})\n",
    "    df_ = df_.query('type_business == \"КИБ\" or type_business == \"СМБ\" or type_business == \"РБ\" or type_business == \"Прочие бизнес линии\"')\n",
    "    df_['Gross_balance_MIX_mRUR'] = df_['Gross_balance_MIX_mRUR']/1000\n",
    "    return df_"
   ]
  },
  {
   "cell_type": "code",
   "execution_count": null,
   "metadata": {},
   "outputs": [],
   "source": [
    "df_3_ = merged_first_2_2(df_3_0)\n",
    "df_2_ = merged_first_2_2(df_2_0)\n",
    "df_1_ = merged_first_2_2(df_1_0)"
   ]
  },
  {
   "cell_type": "code",
   "execution_count": null,
   "metadata": {},
   "outputs": [],
   "source": [
    "data = {'': df_1_['type_business'].values, df_1.Report_date[0]:df_1_['Gross_balance_MIX_mRUR'].values, df_2.Report_date[0]:df_2_['Gross_balance_MIX_mRUR'].values,\n",
    "       df_3.Report_date[0]: df_3_['Gross_balance_MIX_mRUR'].values}\n",
    "df=pd.DataFrame(data=data)"
   ]
  },
  {
   "cell_type": "code",
   "execution_count": null,
   "metadata": {},
   "outputs": [],
   "source": [
    "df.loc[4,:] = 'Итого'\n",
    "df.iloc[4,1] = df.iloc[0:4,1].sum()\n",
    "df.iloc[4,2] = df.iloc[0:4,2].sum()\n",
    "df.iloc[4,3] = df.iloc[0:4,3].sum()\n",
    "df.iloc[3,0] = 'Прочие бизнес линии'\n",
    "df.iloc[:,1]=df.iloc[:,1]\n",
    "df.iloc[:,2]=df.iloc[:,2]\n",
    "df.iloc[:,3]=df.iloc[:,3]"
   ]
  },
  {
   "cell_type": "code",
   "execution_count": null,
   "metadata": {},
   "outputs": [],
   "source": [
    "if (date_time_obj_2-date_time_obj_1).days < -366:\n",
    "    df['Изменение'] = (df.iloc[:,3] - df.iloc[:,2])/df.iloc[:,2]*100\n",
    "else:\n",
    "    df['Изменение'] = (df.iloc[:,3] - df.iloc[:,1])/df.iloc[:,1]*100\n",
    "for i in range(0,df.shape[0]):\n",
    "    if df['Изменение'][i] > 0:\n",
    "        df['Изменение'][i] = \"{0:.1f}\".format(df['Изменение'][i])\n",
    "        df['Изменение'][i] = '+'+str(df['Изменение'][i])+'%'\n",
    "    else:\n",
    "        df['Изменение'][i] = \"{0:.1f}%\".format(df['Изменение'][i])     "
   ]
  },
  {
   "cell_type": "code",
   "execution_count": null,
   "metadata": {},
   "outputs": [],
   "source": [
    "for i in range(0, 5):\n",
    "    for j in range (1,4):\n",
    "        df.iloc[i,j] = np.round(df.iloc[i,j],1)\n",
    "for i in range(0, df.shape[0]):\n",
    "    for j in range(1, df.shape[1]):\n",
    "        df.iloc[i,j] = str(df.iloc[i,j]).replace('.',',')\n",
    "for i in range(1,6):\n",
    "    for j in range(1,5):\n",
    "        table[1].table.cell(i,j).text = str(df.iloc[i-1, j])\n",
    "        run = table[1].table.cell(i,j).text_frame.paragraphs[0]\n",
    "        run.font.bold = False\n",
    "        run.font.size = Pt(7)\n",
    "        cell = table[1].table.cell(i, j)\n",
    "        cell.text_frame.paragraphs[0].alignment=PP_ALIGN.CENTER\n",
    "for j in range(1,5):\n",
    "    run = table[1].table.cell(5,j).text_frame.paragraphs[0]\n",
    "    run.font.bold = True\n",
    "dates_heading(df_1_0,1,table[1], Pt(7))\n",
    "dates_heading(df_2_0,2,table[1], Pt(7))\n",
    "dates_heading(df_3_0,3,table[1], Pt(7))\n",
    "if (date_time_obj_2-date_time_obj_1).days < -366:\n",
    "    dates_heading_delta(df_2_0,4,table[1], Pt(7))\n",
    "else:\n",
    "    dates_heading_delta(df_1_0,4,table[1], Pt(7))"
   ]
  },
  {
   "cell_type": "code",
   "execution_count": null,
   "metadata": {},
   "outputs": [],
   "source": [
    "prs.save(presentation)"
   ]
  },
  {
   "cell_type": "markdown",
   "metadata": {},
   "source": [
    "## 3 таблица"
   ]
  },
  {
   "cell_type": "code",
   "execution_count": null,
   "metadata": {},
   "outputs": [],
   "source": [
    "df_1=df_1_0.query('VTB_group_member != 1 and LE_id == 1 and Type_product_id not in [90, 91]').reset_index(drop=True)\n",
    "df_2=df_2_0.query('VTB_group_member != 1 and LE_id == 1 and Type_product_id not in [90, 91]').reset_index(drop=True)\n",
    "df_3=df_3_0.query('VTB_group_member != 1 and LE_id == 1 and Type_product_id not in [90, 91]').reset_index(drop=True)"
   ]
  },
  {
   "cell_type": "code",
   "execution_count": null,
   "metadata": {},
   "outputs": [],
   "source": [
    "russia_1, sng_1, es_1, other_1, itogo_1 = first_slide_third(df_1, itogo_1)\n",
    "russia_2, sng_2, es_2, other_2, itogo_2 = first_slide_third(df_2, itogo_2)\n",
    "russia_3, sng_3, es_3, other_3, itogo_3 = first_slide_third(df_3, itogo_3)\n",
    "data = {'': ['Россия','СНГ','ЕС','Прочие страны','Итого'], data_1:[russia_1, sng_1, es_1, other_1, itogo_1],\n",
    "       data_2:[russia_2, sng_2, es_2, other_2, itogo_2],data_3:[russia_3, sng_3, es_3, other_3, itogo_3]}\n",
    "df=pd.DataFrame(data=data)\n",
    "if (date_time_obj_2-date_time_obj_1).days < -366:\n",
    "    df['Изменение'] = (df.iloc[:,3] - df.iloc[:,2])/df.iloc[:,2]*100\n",
    "else:\n",
    "    df['Изменение'] = (df.iloc[:,3] - df.iloc[:,1])/df.iloc[:,1]*100\n",
    "for i in range(0,df.shape[0]):\n",
    "    if df['Изменение'][i] > 0:\n",
    "        df['Изменение'][i] = \"{0:.1f}\".format(df['Изменение'][i])\n",
    "        df['Изменение'][i] = '+'+str(df['Изменение'][i])+'%'\n",
    "    else:\n",
    "        df['Изменение'][i] = \"{0:.1f}%\".format(df['Изменение'][i])"
   ]
  },
  {
   "cell_type": "code",
   "execution_count": null,
   "metadata": {},
   "outputs": [],
   "source": [
    "for i in range(0, 5):\n",
    "    for j in range (1,4):\n",
    "        df.iloc[i,j] = np.round(df.iloc[i,j],1)\n",
    "for i in range(0, df.shape[0]):\n",
    "    for j in range(1, df.shape[1]):\n",
    "        df.iloc[i,j] = str(df.iloc[i,j]).replace('.',',')\n",
    "for i in range(1,6):\n",
    "    for j in range(1,5):\n",
    "        table[2].table.cell(i,j).text = str(df.iloc[i-1, j])\n",
    "        run = table[2].table.cell(i,j).text_frame.paragraphs[0]\n",
    "        run.font.bold = False\n",
    "        run.font.size = Pt(7)\n",
    "        cell = table[2].table.cell(i, j)\n",
    "        cell.text_frame.paragraphs[0].alignment=PP_ALIGN.CENTER\n",
    "for j in range(1,5):\n",
    "    run = table[2].table.cell(5,j).text_frame.paragraphs[0]\n",
    "    run.font.bold = True\n",
    "dates_heading(df_1_0,1,table[2], Pt(7))\n",
    "dates_heading(df_2_0,2,table[2], Pt(7))\n",
    "dates_heading(df_3_0,3,table[2], Pt(7))\n",
    "if (date_time_obj_2-date_time_obj_1).days < -366:\n",
    "    dates_heading_delta(df_2_0,4,table[2], Pt(7))\n",
    "else:\n",
    "    dates_heading_delta(df_1_0,4,table[2], Pt(7))"
   ]
  },
  {
   "cell_type": "code",
   "execution_count": null,
   "metadata": {},
   "outputs": [],
   "source": [
    "prs.save(presentation)"
   ]
  },
  {
   "cell_type": "markdown",
   "metadata": {},
   "source": [
    "## 4 таблица"
   ]
  },
  {
   "cell_type": "code",
   "execution_count": null,
   "metadata": {},
   "outputs": [],
   "source": [
    "df_1=df_1_0.query('VTB_group_member != 1 and LE_id == 1 and Type_product_id not in [90, 91]').reset_index(drop=True)\n",
    "df_2=df_2_0.query('VTB_group_member != 1 and LE_id == 1 and Type_product_id not in [90, 91]').reset_index(drop=True)\n",
    "df_3=df_3_0.query('VTB_group_member != 1 and LE_id == 1 and Type_product_id not in [90, 91]').reset_index(drop=True)"
   ]
  },
  {
   "cell_type": "code",
   "execution_count": null,
   "metadata": {},
   "outputs": [],
   "source": [
    "rub_1, eur_1, usd_1, other_1, itogo_1 = first_slide_fourth(df_1, itogo_1)\n",
    "rub_2, eur_2, usd_2, other_2, itogo_2= first_slide_fourth(df_2, itogo_2)\n",
    "rub_3, eur_3, usd_3, other_3, itogo_3 = first_slide_fourth(df_3, itogo_3)\n",
    "data = {'': ['RUB','EUR','USD','Прочие валюты','Итого'], data_1:[rub_1, eur_1, usd_1, other_1, itogo_1],\n",
    "       data_2:[rub_2, eur_2, usd_2, other_2, itogo_2],data_3:[rub_3, eur_3, usd_3, other_3, itogo_3]}\n",
    "df=pd.DataFrame(data=data)\n",
    "if (date_time_obj_2-date_time_obj_1).days < -366:\n",
    "    df['Изменение'] = (df.iloc[:,3] - df.iloc[:,2])/df.iloc[:,2]*100\n",
    "else:\n",
    "    df['Изменение'] = (df.iloc[:,3] - df.iloc[:,1])/df.iloc[:,1]*100"
   ]
  },
  {
   "cell_type": "code",
   "execution_count": null,
   "metadata": {},
   "outputs": [],
   "source": [
    "for i in range(0,df.shape[0]):\n",
    "    if df['Изменение'][i] > 0:\n",
    "        df['Изменение'][i] = \"{0:.1f}\".format(df['Изменение'][i])\n",
    "        df['Изменение'][i] = '+'+str(df['Изменение'][i])+'%'\n",
    "    else:\n",
    "        df['Изменение'][i] = \"{0:.1f}%\".format(df['Изменение'][i])\n",
    "for i in range(0, 5):\n",
    "    for j in range (1,4):\n",
    "        df.iloc[i,j] = np.round(df.iloc[i,j],1)\n",
    "for i in range(0, df.shape[0]):\n",
    "    for j in range(1, df.shape[1]):\n",
    "        df.iloc[i,j] = str(df.iloc[i,j]).replace('.',',')\n",
    "for i in range(1,6):\n",
    "    for j in range(1,5):\n",
    "        table[3].table.cell(i,j).text = str(df.iloc[i-1, j])\n",
    "        run = table[3].table.cell(i,j).text_frame.paragraphs[0]\n",
    "        run.font.bold = False\n",
    "        run.font.size = Pt(7)\n",
    "        cell = table[3].table.cell(i, j)\n",
    "        cell.text_frame.paragraphs[0].alignment=PP_ALIGN.CENTER\n",
    "for j in range(1,5):\n",
    "    run = table[3].table.cell(5,j).text_frame.paragraphs[0]\n",
    "    run.font.bold = True"
   ]
  },
  {
   "cell_type": "code",
   "execution_count": null,
   "metadata": {},
   "outputs": [],
   "source": [
    "dates_heading(df_1_0,1,table[3], Pt(7))\n",
    "dates_heading(df_2_0,2,table[3], Pt(7))\n",
    "dates_heading(df_3_0,3,table[3], Pt(7))\n",
    "if (date_time_obj_2-date_time_obj_1).days < -366:\n",
    "    dates_heading_delta(df_2_0,4,table[3], Pt(7))\n",
    "else:\n",
    "    dates_heading_delta(df_1_0,4,table[3], Pt(7))\n",
    "prs.save(presentation)"
   ]
  },
  {
   "cell_type": "markdown",
   "metadata": {},
   "source": [
    "## Слайд 1_4"
   ]
  },
  {
   "cell_type": "code",
   "execution_count": null,
   "metadata": {},
   "outputs": [],
   "source": [
    "dat_1 = df_1_0.query('VTB_group_member != 1 and LE_id != 21 and Type_product_id not in [90, 91] and Gross_balance_MIX_mRUR != 0').reset_index(drop=True)"
   ]
  },
  {
   "cell_type": "code",
   "execution_count": null,
   "metadata": {},
   "outputs": [],
   "source": [
    "dat_2 = df_2_0.query('VTB_group_member != 1 and LE_id != 21 and Type_product_id not in [90, 91] and Gross_balance_MIX_mRUR != 0').reset_index(drop=True)"
   ]
  },
  {
   "cell_type": "code",
   "execution_count": null,
   "metadata": {},
   "outputs": [],
   "source": [
    "dat_3 = df_3_0.query('VTB_group_member != 1 and LE_id != 21 and Type_product_id not in [90, 91] and Gross_balance_MIX_mRUR != 0').reset_index(drop=True)"
   ]
  },
  {
   "cell_type": "code",
   "execution_count": null,
   "metadata": {},
   "outputs": [],
   "source": [
    "ref = ref[['key','Model_description']]\n",
    "ref.drop_duplicates(inplace=True)"
   ]
  },
  {
   "cell_type": "code",
   "execution_count": null,
   "metadata": {},
   "outputs": [],
   "source": [
    "for dat in [dat_1, dat_2, dat_3]:    \n",
    "    dat['Rating_short'] = dat['Rating_MS'].apply(lambda x: str(x)[:2])"
   ]
  },
  {
   "cell_type": "code",
   "execution_count": null,
   "metadata": {},
   "outputs": [],
   "source": [
    "dat_1 = dat_1[['Report_date', 'LE', 'LE_id', 'type_business', 'client_name_final_upd',\n",
    "               'Rating_model_name','Rating_model_name_itog','Rating_short','Gross_balance_MIX_mRUR','PD_GB']]\n",
    "dat_2 = dat_2[['Report_date', 'LE', 'LE_id', 'type_business', 'client_name_final_upd',\n",
    "               'Rating_model_name','Rating_model_name_itog','Rating_short','Gross_balance_MIX_mRUR','PD_GB']]\n",
    "dat_3 = dat_3[['Report_date', 'LE', 'LE_id', 'type_business', 'client_name_final_upd',\n",
    "               'Rating_model_name','Rating_model_name_itog','Rating_short','Gross_balance_MIX_mRUR','PD_GB']]"
   ]
  },
  {
   "cell_type": "code",
   "execution_count": null,
   "metadata": {},
   "outputs": [],
   "source": [
    "dat = pd.concat([dat_1, dat_2, dat_3], ignore_index=True)"
   ]
  },
  {
   "cell_type": "code",
   "execution_count": null,
   "metadata": {},
   "outputs": [],
   "source": [
    "dat['Rating_model_name'] = dat['Rating_model_name'].fillna('')\n",
    "dat['Rating_model_name_itog'] = dat['Rating_model_name_itog'].fillna('')\n",
    "dat['LE_id'] = dat['LE_id'].fillna('')\n",
    "dat['key'] = dat['LE_id'].astype(str)+dat['Rating_model_name']\n",
    "dat['Rating_model_name'] = dat['Rating_model_name'].replace('', np.nan)\n",
    "dat['Rating_model_name_itog'] = dat['Rating_model_name_itog'].replace('', np.nan)\n",
    "dat = dat.merge(ref, how='left', on = 'key').rename(columns={'Model_description' : 'Rating_model_name_+'})\n",
    "dat['Rating_model_name_+'] = dat['Rating_model_name_+'].fillna(dat['Rating_model_name_itog'])\n",
    "dat['Rating_model_name_+'] = dat['Rating_model_name_+'].fillna(dat['Rating_model_name'])\n",
    "dat['Rating_model_name_FINAL'] = dat['Rating_model_name_+']\n",
    "for i in range (0, dat.shape[0]):\n",
    "    if dat['LE_id'][i] == 2:\n",
    "        dat['Rating_model_name_FINAL'][i] = 'ВТБ Капитал - все сегменты' \n",
    "for i in range (0, dat.shape[0]):\n",
    "    if dat['LE_id'][i] != 2 and (dat['Rating_model_name_+'][i] == 2 or dat['Rating_model_name_+'][i] == 5):\n",
    "        dat['Rating_model_name_FINAL'][i] = 'Нет рейтинга'\n",
    "for i in range (0, dat.shape[0]):\n",
    "    if dat['type_business'][i] == 'RTL' and dat['LE'][i] == 'Банк ВТБ':\n",
    "        if dat['client_name_final_upd'][i] == 'Автокредиты':\n",
    "            dat['Rating_model_name_FINAL'][i] = 'Автокредиты'\n",
    "        if dat['client_name_final_upd'][i] == 'Жилищные кредиты':\n",
    "            dat['Rating_model_name_FINAL'][i] = 'Ипотека'\n",
    "        if dat['client_name_final_upd'][i] == 'Кредитные карты':\n",
    "            dat['Rating_model_name_FINAL'][i] = 'Кредитные карты'\n",
    "        if dat['client_name_final_upd'][i] == 'Кредиты наличными':\n",
    "            dat['Rating_model_name_FINAL'][i] = 'Кредиты наличными'\n",
    "for i in range (0, dat.shape[0]):\n",
    "    if dat['client_name_final_upd'][i] == 'State of Qatar':\n",
    "        dat['Rating_model_name_FINAL'][i] = 'Суверен'\n",
    "dat = dat[['key','Report_date', 'LE', 'LE_id', 'type_business', 'client_name_final_upd', \n",
    "            'Rating_model_name', 'Rating_model_name_itog', 'Rating_short', 'Gross_balance_MIX_mRUR', 'Rating_model_name_+', 'Rating_model_name_FINAL','PD_GB']]"
   ]
  },
  {
   "cell_type": "code",
   "execution_count": null,
   "metadata": {},
   "outputs": [],
   "source": [
    "def like(x, pattern):\n",
    "    r = re.compile(pattern)\n",
    "    vlike = np.vectorize(lambda val: bool(r.fullmatch(val)))\n",
    "    return vlike(x)"
   ]
  },
  {
   "cell_type": "code",
   "execution_count": null,
   "metadata": {},
   "outputs": [],
   "source": [
    "df_notnull = dat.loc[~pd.isnull(dat['client_name_final_upd']), :]\n",
    "index_1=df_notnull.loc[like(df_notnull['client_name_final_upd'], '.*Автокредит.*'), :].query('type_business == \"RTL\"').index\n",
    "index_2=df_notnull.loc[like(df_notnull['client_name_final_upd'], '.*автокредит.*'),:].query('type_business == \"RTL\"').index\n",
    "index_3=df_notnull.loc[like(df_notnull['client_name_final_upd'], '.*автокре.*'),:].query('type_business == \"RTL\"').index\n",
    "index_4=df_notnull.loc[like(df_notnull['client_name_final_upd'], '.*Кредиты на покупку автомобиля.*'),:].query('type_business == \"RTL\"').index"
   ]
  },
  {
   "cell_type": "code",
   "execution_count": null,
   "metadata": {},
   "outputs": [],
   "source": [
    "index = [*index_1, *index_2,*index_3, *index_4]"
   ]
  },
  {
   "cell_type": "code",
   "execution_count": null,
   "metadata": {},
   "outputs": [],
   "source": [
    "for i in index:\n",
    "    dat['Rating_model_name_FINAL'][i] = 'Автокредиты'"
   ]
  },
  {
   "cell_type": "code",
   "execution_count": null,
   "metadata": {},
   "outputs": [],
   "source": [
    "index_1=df_notnull.loc[like(df_notnull['client_name_final_upd'], '.*Ипоте.*'),:].query('type_business == \"RTL\"').index\n",
    "index_2=df_notnull.loc[like(df_notnull['client_name_final_upd'], '.*ипоте.*'),:].query('type_business == \"RTL\"').index\n",
    "index = [*index_1, *index_2]\n",
    "for i in index:\n",
    "    dat['Rating_model_name_FINAL'][i] = 'Ипотека'\n",
    "index_1=df_notnull.loc[like(df_notnull['client_name_final_upd'], '.*Кредитная карта.*'),:].query('type_business == \"RTL\"').index\n",
    "index_2=df_notnull.loc[like(df_notnull['client_name_final_upd'], '.*Кредитные карты.*'),:].query('type_business == \"RTL\"').index\n",
    "index_3=df_notnull.loc[like(df_notnull['client_name_final_upd'], '.*кредитная карта.*'),:].query('type_business == \"RTL\"').index\n",
    "index_4=df_notnull.loc[like(df_notnull['client_name_final_upd'], '.*кредитные карты.*'),:].query('type_business == \"RTL\"').index\n",
    "index_5=df_notnull.loc[like(df_notnull['client_name_final_upd'], '.*Карты.*'),:].query('type_business == \"RTL\"').index\n",
    "index = [*index_1, *index_2,*index_3, *index_4, *index_5]\n",
    "for i in index:\n",
    "    dat['Rating_model_name_FINAL'][i] = 'Кредитные карты'\n",
    "index_1=df_notnull.loc[like(df_notnull['client_name_final_upd'], '.*кредиты наличными.*'),:].query('type_business == \"RTL\"').index\n",
    "index_2=df_notnull.loc[like(df_notnull['client_name_final_upd'], '.*Потребительские.*'),:].query('type_business == \"RTL\"').index\n",
    "index = [*index_1, *index_2]\n",
    "for i in index:\n",
    "    dat['Rating_model_name_FINAL'][i] = 'Кредиты наличными'\n",
    "df_notnull = dat.loc[~pd.isnull(dat['Rating_model_name_FINAL']), :]\n",
    "index=df_notnull.loc[like(df_notnull['Rating_model_name_FINAL'], '.*Сувер.*'),:].index\n",
    "for i in index:\n",
    "    dat['Rating_model_name_FINAL'][i] = 'Суверен'\n",
    "index=df_notnull.loc[like(df_notnull['Rating_model_name_FINAL'], '.*сувер.*'),:].index\n",
    "for i in index:\n",
    "    dat['Rating_model_name_FINAL'][i] = 'Суверен'\n",
    "index=df_notnull.loc[like(df_notnull['Rating_model_name_FINAL'], '.*Инвест.*'),:].index\n",
    "for i in index:\n",
    "    dat['Rating_model_name_FINAL'][i] = 'Инвестпроекты'\n",
    "index=df_notnull.loc[like(df_notnull['Rating_model_name_FINAL'], '.*инвест.*'),:].index\n",
    "for i in index:\n",
    "    dat['Rating_model_name_FINAL'][i] = 'Инвестпроекты'\n",
    "index=df_notnull.loc[like(df_notnull['Rating_model_name_FINAL'], '.*Адми.*'),:].index\n",
    "for i in index:\n",
    "    dat['Rating_model_name_FINAL'][i] = 'Администрации'\n",
    "df_notnull = dat.loc[~pd.isnull(dat['client_name_final_upd']), :]"
   ]
  },
  {
   "cell_type": "code",
   "execution_count": null,
   "metadata": {},
   "outputs": [],
   "source": [
    "index_1=df_notnull.loc[like(df_notnull['client_name_final_upd'], '.*Central Bank.*'),:].index\n",
    "index_2=df_notnull.loc[like(df_notnull['client_name_final_upd'], '.*Центральный Банк.*'),:].index\n",
    "index_3=df_notnull.loc[like(df_notnull['client_name_final_upd'], '.*RITZIO CENTRAL ,BERL.*'),:].index\n",
    "index_4=df_notnull.loc[like(df_notnull['client_name_final_upd'], '.*Министерство финансов Республики.*'),:].index\n",
    "index_5=df_notnull.loc[like(df_notnull['client_name_final_upd'], '.*Министерство Финансов РФ.*'),:].index\n",
    "index_6=df_notnull.loc[like(df_notnull['client_name_final_upd'], '.*Национальный банк.*'),:].index\n",
    "index_7=df_notnull.loc[like(df_notnull['client_name_final_upd'], '.*НАЦИОНАЛЬНЫЙ БАНК.*'),:].index\n",
    "index_8=df_notnull.loc[like(df_notnull['client_name_final_upd'], '.*National Bank.*'),:].index\n",
    "index_9=df_notnull.loc[like(df_notnull['client_name_final_upd'], '.*NATIONAL BANK.*'),:].index\n",
    "index = [*index_1, *index_2, *index_3, *index_4, *index_5, *index_6, *index_7, *index_8, *index_9]\n",
    "for i in index:\n",
    "    dat['Rating_model_name_FINAL'][i] = 'Суверен'"
   ]
  },
  {
   "cell_type": "code",
   "execution_count": null,
   "metadata": {},
   "outputs": [],
   "source": [
    "df_notnull = dat.loc[~pd.isnull(dat['Rating_model_name_FINAL']), :]\n",
    "index=df_notnull.loc[like(df_notnull['Rating_model_name_FINAL'], '.*средний.*'),:].index\n",
    "for i in index:\n",
    "    dat['Rating_model_name_FINAL'][i] = 'Средние и 10-'\n",
    "dat[\"Rating_model_name_FINAL\"].replace({\"Средний (до 3 млрд.)\": \"Средние и 10-\", \"Средний (свыше 3 млрд.)\": \"Средние и 10-\",\n",
    "                                       \"Средний\":\"Средние и 10-\", \"Средний плюс\":\"Средние и 10-\"}, inplace=True)\n",
    "index=df_notnull.loc[like(df_notnull['Rating_model_name_FINAL'], '.*Сред*'),:].index\n",
    "for i in index:\n",
    "    dat['Rating_model_name_FINAL'][i] = 'Средние и 10-'\n",
    "dat[\"Rating_model_name_FINAL\"].replace({\"Крупный\": \"Крупные и 10+\",\"Крупные\": \"Крупные и 10+\"}, inplace=True)\n",
    "index=df_notnull.loc[like(df_notnull['Rating_model_name_FINAL'], '.*круп.*'),:].index\n",
    "for i in index:\n",
    "    dat['Rating_model_name_FINAL'][i] = 'Крупные и 10+'\n",
    "index=df_notnull.loc[like(df_notnull['Rating_model_name_FINAL'], '.*Круп*'),:].index\n",
    "for i in index:\n",
    "    dat['Rating_model_name_FINAL'][i] = 'Крупные и 10+'"
   ]
  },
  {
   "cell_type": "code",
   "execution_count": null,
   "metadata": {},
   "outputs": [],
   "source": [
    "data_1 = df_1_0.Report_date[0]\n",
    "data_2 = df_2_0.Report_date[0]\n",
    "data_3 = df_3_0.Report_date[0]"
   ]
  },
  {
   "cell_type": "code",
   "execution_count": null,
   "metadata": {},
   "outputs": [],
   "source": [
    "dat_new = dat[(dat['Rating_short'] != 'MS')&((dat['Rating_model_name_FINAL'] == 'Суверен')|(dat['Rating_model_name_FINAL'] == '1.7')|(dat['Rating_model_name_FINAL'] == '0_S'))]"
   ]
  },
  {
   "cell_type": "code",
   "execution_count": null,
   "metadata": {},
   "outputs": [],
   "source": [
    "ma_1, mb_1, mc_1, md_1, me_1, mf_1 = rating_df_0(data_1,dat_new)\n",
    "ma_2, mb_2, mc_2, md_2, me_2, mf_2 = rating_df_0(data_2,dat_new)\n",
    "ma_3, mb_3, mc_3, md_3, me_3, mf_3 = rating_df_0(data_3,dat_new)"
   ]
  },
  {
   "cell_type": "code",
   "execution_count": null,
   "metadata": {},
   "outputs": [],
   "source": [
    "slide = prs.slides[slide_cred_1_4]\n",
    "table = [shape for shape in slide.shapes if shape.has_table]"
   ]
  },
  {
   "cell_type": "code",
   "execution_count": null,
   "metadata": {},
   "outputs": [],
   "source": [
    "data = {'h':['1','2','3','4','5', '6'],\n",
    "        data_1:[ma_1, mb_1, mc_1, md_1, me_1, mf_1], data_2:[ma_2, mb_2, mc_2, md_2, me_2, mf_2],\n",
    "       data_3: [ma_3, mb_3, mc_3, md_3, me_3, mf_3]}\n",
    "df=pd.DataFrame(data=data)\n",
    "for i in range(0, len(df)):\n",
    "    for j in range (1,4):\n",
    "        df.iloc[i,j] = \"{0:.1f}%\".format(df.iloc[i,j])"
   ]
  },
  {
   "cell_type": "code",
   "execution_count": null,
   "metadata": {},
   "outputs": [],
   "source": [
    "for i in range(0, df.shape[0]):\n",
    "    for j in range(1, df.shape[1]):\n",
    "        df.iloc[i,j] = str(df.iloc[i,j]).replace('.',',')"
   ]
  },
  {
   "cell_type": "code",
   "execution_count": null,
   "metadata": {},
   "outputs": [],
   "source": [
    "for i in range(1,7):\n",
    "    for j in range(1,4):\n",
    "        table[0].table.cell(i,j).text = df.iloc[i-1, j]\n",
    "        run = table[0].table.cell(i,j).text_frame.paragraphs[0]\n",
    "        run.font.bold = False\n",
    "        run.font.size = Pt(8)\n",
    "        cell = table[0].table.cell(i, j)\n",
    "        cell.text_frame.paragraphs[0].alignment=PP_ALIGN.CENTER"
   ]
  },
  {
   "cell_type": "code",
   "execution_count": null,
   "metadata": {},
   "outputs": [],
   "source": [
    "dates_heading(df_1_0, 1, table[0], Pt(8))\n",
    "dates_heading(df_2_0, 2, table[0], Pt(8))\n",
    "dates_heading(df_3_0, 3, table[0], Pt(8))"
   ]
  },
  {
   "cell_type": "code",
   "execution_count": null,
   "metadata": {},
   "outputs": [],
   "source": [
    "prs.save(presentation)"
   ]
  },
  {
   "cell_type": "markdown",
   "metadata": {},
   "source": [
    "### Слайд 7_4 суверены"
   ]
  },
  {
   "cell_type": "code",
   "execution_count": null,
   "metadata": {},
   "outputs": [],
   "source": [
    "dat_new_1 = dat_new[dat_new['LE'] == 'Банк ВТБ']"
   ]
  },
  {
   "cell_type": "code",
   "execution_count": null,
   "metadata": {},
   "outputs": [],
   "source": [
    "data_1 = df_1_0.Report_date[0]\n",
    "data_2 = df_2_0.Report_date[0]\n",
    "data_3 = df_3_0.Report_date[0]"
   ]
  },
  {
   "cell_type": "code",
   "execution_count": null,
   "metadata": {},
   "outputs": [],
   "source": [
    "ma_1, mb_1, mc_1, md_1, me_1, mf_1 = rating_df_0(data_1,dat_new_1)\n",
    "ma_2, mb_2, mc_2, md_2, me_2, mf_2 = rating_df_0(data_2,dat_new_1)\n",
    "ma_3, mb_3, mc_3, md_3, me_3, mf_3 = rating_df_0(data_3,dat_new_1)"
   ]
  },
  {
   "cell_type": "code",
   "execution_count": null,
   "metadata": {},
   "outputs": [],
   "source": [
    "slide = prs.slides[slide_cred_7_4]\n",
    "table = [shape for shape in slide.shapes if shape.has_table]"
   ]
  },
  {
   "cell_type": "code",
   "execution_count": null,
   "metadata": {},
   "outputs": [],
   "source": [
    "data = {'h':['1','2','3','4','5', '6'],\n",
    "        data_1:[ma_1, mb_1, mc_1, md_1, me_1, mf_1], data_2:[ma_2, mb_2, mc_2, md_2, me_2, mf_2],\n",
    "       data_3: [ma_3, mb_3, mc_3, md_3, me_3, mf_3]}\n",
    "df=pd.DataFrame(data=data)\n",
    "for i in range(0, len(df)):\n",
    "    for j in range (1,4):\n",
    "        df.iloc[i,j] = \"{0:.1f}%\".format(df.iloc[i,j])"
   ]
  },
  {
   "cell_type": "code",
   "execution_count": null,
   "metadata": {},
   "outputs": [],
   "source": [
    "for i in range(0, df.shape[0]):\n",
    "    for j in range(1, df.shape[1]):\n",
    "        df.iloc[i,j] = str(df.iloc[i,j]).replace('.',',')"
   ]
  },
  {
   "cell_type": "code",
   "execution_count": null,
   "metadata": {},
   "outputs": [],
   "source": [
    "for i in range(1,7):\n",
    "    for j in range(1,4):\n",
    "        table[0].table.cell(i,j).text = df.iloc[i-1, j]\n",
    "        run = table[0].table.cell(i,j).text_frame.paragraphs[0]\n",
    "        run.font.bold = False\n",
    "        run.font.size = Pt(8)\n",
    "        cell = table[0].table.cell(i, j)\n",
    "        cell.text_frame.paragraphs[0].alignment=PP_ALIGN.CENTER"
   ]
  },
  {
   "cell_type": "code",
   "execution_count": null,
   "metadata": {},
   "outputs": [],
   "source": [
    "dates_heading(df_1_0, 1, table[0], Pt(8))\n",
    "dates_heading(df_2_0, 2, table[0], Pt(8))\n",
    "dates_heading(df_3_0, 3, table[0], Pt(8))"
   ]
  },
  {
   "cell_type": "code",
   "execution_count": null,
   "metadata": {},
   "outputs": [],
   "source": [
    "prs.save(presentation)"
   ]
  },
  {
   "cell_type": "markdown",
   "metadata": {},
   "source": [
    "## 1_4 "
   ]
  },
  {
   "cell_type": "code",
   "execution_count": null,
   "metadata": {},
   "outputs": [],
   "source": [
    "dat[\"Rating_model_name_FINAL\"].replace({\"Суверен\": \"Банки, суверены, администрации\",\n",
    "                                       \"Администрации\": \"Банки, суверены, администрации\",\"Иностранные банки\": \"Банки, суверены, администрации\",\n",
    "                                       \"Российские банки\": \"Банки, суверены, администрации\"}, inplace=True)"
   ]
  },
  {
   "cell_type": "code",
   "execution_count": null,
   "metadata": {},
   "outputs": [],
   "source": [
    "dat[\"Rating_model_name_FINAL\"].replace({\"Девелопер\": \"Девелоперы и инвестиционные проекты\",\n",
    "                                       \"Инвестпроекты\": \"Девелоперы и инвестиционные проекты\"}, inplace=True)"
   ]
  },
  {
   "cell_type": "code",
   "execution_count": null,
   "metadata": {},
   "outputs": [],
   "source": [
    "dat[\"Rating_model_name_FINAL\"].replace({\"Автокредиты\": \"КН, авто, КК\",\n",
    "                                       'Кредиты наличными': \"КН, авто, КК\",'Кредитные карты': \"КН, авто, КК\"}, inplace=True)"
   ]
  },
  {
   "cell_type": "code",
   "execution_count": null,
   "metadata": {},
   "outputs": [],
   "source": [
    "graph_1 = dat[(dat['LE'] == 'Банк ВТБ')&(dat['Rating_short'] != 'MS')]"
   ]
  },
  {
   "cell_type": "markdown",
   "metadata": {},
   "source": [
    "## График 1 - Структура рабочего портфеля Группы по моделям\n"
   ]
  },
  {
   "cell_type": "code",
   "execution_count": null,
   "metadata": {},
   "outputs": [],
   "source": [
    "data_1 = df_1_0.Report_date[0]\n",
    "data_2 = df_2_0.Report_date[0]\n",
    "data_3 = df_3_0.Report_date[0]"
   ]
  },
  {
   "cell_type": "code",
   "execution_count": null,
   "metadata": {},
   "outputs": [],
   "source": [
    "cr_1, sr_1, bank_1, dev_1, ipot_1, auto_1, dk_1, other_1, cr_1_pr, sr_1_pr, bank_1_pr, dev_1_pr, ipot_1_pr, auto_1_pr, dk_1_pr, other_1_pr = graph_1_f(data_1,graph_1, dat)\n",
    "cr_2, sr_2, bank_2, dev_2, ipot_2, auto_2, dk_2, other_2, cr_2_pr, sr_2_pr, bank_2_pr, dev_2_pr, ipot_2_pr, auto_2_pr, dk_2_pr, other_2_pr = graph_1_f(data_2,graph_1, dat)\n",
    "cr_3, sr_3, bank_3, dev_3, ipot_3, auto_3, dk_3, other_3, cr_3_pr, sr_3_pr, bank_3_pr, dev_3_pr, ipot_3_pr, auto_3_pr, dk_3_pr, other_3_pr = graph_1_f(data_3,graph_1, dat) "
   ]
  },
  {
   "cell_type": "code",
   "execution_count": null,
   "metadata": {},
   "outputs": [],
   "source": [
    "data_1 = (cr_1_pr, sr_1_pr, bank_1_pr, dev_1_pr, ipot_1_pr, auto_1_pr, dk_1_pr, other_1_pr)\n",
    "data_2 = (cr_2_pr, sr_2_pr, bank_2_pr, dev_2_pr, ipot_2_pr, auto_2_pr, dk_2_pr, other_2_pr)\n",
    "data_3 = (cr_3_pr, sr_3_pr, bank_3_pr, dev_3_pr, ipot_3_pr, auto_3_pr, dk_3_pr, other_3_pr)"
   ]
  },
  {
   "cell_type": "code",
   "execution_count": null,
   "metadata": {},
   "outputs": [],
   "source": [
    "slide = prs.slides[slide_cred_1_4]"
   ]
  },
  {
   "cell_type": "code",
   "execution_count": null,
   "metadata": {},
   "outputs": [],
   "source": [
    "slide_chart = [shape for shape in slide.shapes if shape.has_chart]\n",
    "chart_data = ChartData()\n",
    "chart_data.categories = ['Крупные и 10+', 'Средние и 10-', 'Банки, суверены, администрации', 'Девелоперы и инвестиционные проекты',\n",
    "                        'Ипотека', 'КН, авто, КК', 'ДК', 'Прочие']\n",
    "chart_data.add_series(df_1_0.Report_date[0], (data_1))\n",
    "chart_data.add_series(df_2_0.Report_date[0], (data_2))\n",
    "chart_data.add_series(df_3_0.Report_date[0], (data_3))\n",
    "\n",
    "slide_chart[0].chart.replace_data(chart_data)"
   ]
  },
  {
   "cell_type": "code",
   "execution_count": null,
   "metadata": {},
   "outputs": [],
   "source": [
    "prs.save(presentation)"
   ]
  },
  {
   "cell_type": "markdown",
   "metadata": {},
   "source": [
    "### График 2 - Структура кредитного риска Группы по разрядам рейтинговой Мастер-шкалы"
   ]
  },
  {
   "cell_type": "code",
   "execution_count": null,
   "metadata": {},
   "outputs": [],
   "source": [
    "data_1 = df_1_0.Report_date[0]\n",
    "data_2 = df_2_0.Report_date[0]\n",
    "data_3 = df_3_0.Report_date[0]"
   ]
  },
  {
   "cell_type": "code",
   "execution_count": null,
   "metadata": {},
   "outputs": [],
   "source": [
    "ma_1, mb_1, mc_1, md_1, me_1, mf_1, mg_1, ms_1 = rating_df(data_1,dat)\n",
    "ma_2, mb_2, mc_2, md_2, me_2, mf_2, mg_2, ms_2 = rating_df(data_2,dat)\n",
    "ma_3, mb_3, mc_3, md_3, me_3, mf_3, mg_3, ms_3 = rating_df(data_3,dat)\n",
    "data_1 = (ma_1, mb_1, mc_1, md_1, me_1, mf_1, mg_1, ms_1)\n",
    "data_2 = (ma_2, mb_2, mc_2, md_2, me_2, mf_2, mg_2, ms_2)\n",
    "data_3 = (ma_3, mb_3, mc_3, md_3, me_3, mf_3, mg_3, ms_3)"
   ]
  },
  {
   "cell_type": "code",
   "execution_count": null,
   "metadata": {},
   "outputs": [],
   "source": [
    "slide_chart = [shape for shape in slide.shapes if shape.has_chart]\n",
    "chart_data = ChartData()\n",
    "chart_data.categories = ['MA', 'MB', 'MC', 'MD',\n",
    "                        'ME', 'MF', 'MG', 'MSD']\n",
    "chart_data.add_series(df_1_0.Report_date[0], (data_1))\n",
    "chart_data.add_series(df_2_0.Report_date[0], (data_2))\n",
    "chart_data.add_series(df_3_0.Report_date[0], (data_3))\n",
    "\n",
    "slide_chart[1].chart.replace_data(chart_data)"
   ]
  },
  {
   "cell_type": "code",
   "execution_count": null,
   "metadata": {},
   "outputs": [],
   "source": [
    "prs.save(presentation)"
   ]
  },
  {
   "cell_type": "code",
   "execution_count": null,
   "metadata": {},
   "outputs": [],
   "source": [
    "data_3 = df_3_0.Report_date[0]"
   ]
  },
  {
   "cell_type": "code",
   "execution_count": null,
   "metadata": {},
   "outputs": [],
   "source": [
    "ma, mb, mc, md, me, mf, mg, ms = rating_df_ms(data_3,dat)"
   ]
  },
  {
   "cell_type": "code",
   "execution_count": null,
   "metadata": {},
   "outputs": [],
   "source": [
    "ma = \"{0:.2f}%\".format(ma)\n",
    "last = [mb, mc, md, me, mf, mg, ms]\n",
    "last_a=[]\n",
    "for dats in last:\n",
    "    dats = \"{0:.1f}%\".format(dats)\n",
    "    last_a.append(dats)\n",
    "    \n",
    "mb=last_a[0]\n",
    "mc=last_a[1]\n",
    "md=last_a[2]\n",
    "me=last_a[3]\n",
    "mf=last_a[4]\n",
    "mg=last_a[5]\n",
    "ms=last_a[6]"
   ]
  },
  {
   "cell_type": "code",
   "execution_count": null,
   "metadata": {},
   "outputs": [],
   "source": [
    "slide_text = [shape for shape in slide.shapes if shape.has_text_frame]"
   ]
  },
  {
   "cell_type": "code",
   "execution_count": null,
   "metadata": {},
   "outputs": [],
   "source": [
    "text_data(2)"
   ]
  },
  {
   "cell_type": "code",
   "execution_count": null,
   "metadata": {},
   "outputs": [],
   "source": [
    "ma=ma.replace('.',',')\n",
    "mb=mb.replace('.',',')\n",
    "mc=mc.replace('.',',')\n",
    "md=md.replace('.',',')\n",
    "me=me.replace('.',',')\n",
    "mf=mf.replace('.',',')\n",
    "mg=mg.replace('.',',')\n",
    "ms=ms.replace('.',',')"
   ]
  },
  {
   "cell_type": "code",
   "execution_count": null,
   "metadata": {},
   "outputs": [],
   "source": [
    "text(8,ma)\n",
    "text(9,mb)\n",
    "text(10,mc)\n",
    "text(11,md)\n",
    "text(12,me)\n",
    "text(13,mf)\n",
    "text(14,mg)\n",
    "text(15,ms)"
   ]
  },
  {
   "cell_type": "code",
   "execution_count": null,
   "metadata": {},
   "outputs": [],
   "source": [
    "prs.save(presentation)"
   ]
  },
  {
   "cell_type": "markdown",
   "metadata": {},
   "source": [
    "## 7_1"
   ]
  },
  {
   "cell_type": "code",
   "execution_count": null,
   "metadata": {},
   "outputs": [],
   "source": [
    "data_1 = df_1_0.Report_date[0]\n",
    "data_2 = df_2_0.Report_date[0]\n",
    "data_3 = df_3_0.Report_date[0]"
   ]
  },
  {
   "cell_type": "code",
   "execution_count": null,
   "metadata": {},
   "outputs": [],
   "source": [
    "cr_1, sr_1, bank_1, dev_1, ipot_1, auto_1, other_1, cr_1_pr, sr_1_pr, bank_1_pr, dev_1_pr, ipot_1_pr, auto_1_pr, other_1_pr = graph_1_f_1(data_1,graph_1, dat)\n",
    "cr_2, sr_2, bank_2, dev_2, ipot_2, auto_2, other_2, cr_2_pr, sr_2_pr, bank_2_pr, dev_2_pr, ipot_2_pr, auto_2_pr, other_2_pr = graph_1_f_1(data_2,graph_1, dat) \n",
    "cr_3, sr_3, bank_3, dev_3, ipot_3, auto_3, other_3, cr_3_pr, sr_3_pr, bank_3_pr, dev_3_pr, ipot_3_pr, auto_3_pr, other_3_pr = graph_1_f_1(data_3,graph_1, dat) "
   ]
  },
  {
   "cell_type": "code",
   "execution_count": null,
   "metadata": {},
   "outputs": [],
   "source": [
    "data_1 = (cr_1_pr, sr_1_pr, bank_1_pr, dev_1_pr, ipot_1_pr, auto_1_pr, other_1_pr)\n",
    "data_2 = (cr_2_pr, sr_2_pr, bank_2_pr, dev_2_pr, ipot_2_pr, auto_2_pr, other_2_pr)\n",
    "data_3 = (cr_3_pr, sr_3_pr, bank_3_pr, dev_3_pr, ipot_3_pr, auto_3_pr, other_3_pr)"
   ]
  },
  {
   "cell_type": "code",
   "execution_count": null,
   "metadata": {},
   "outputs": [],
   "source": [
    "slide = prs.slides[slide_cred_7_1]"
   ]
  },
  {
   "cell_type": "code",
   "execution_count": null,
   "metadata": {},
   "outputs": [],
   "source": [
    "slide_chart = [shape for shape in slide.shapes if shape.has_chart]\n",
    "chart_data = ChartData()\n",
    "chart_data.categories = ['Крупные и 10+', 'Средние и 10-', 'Банки, суверены, администрации', 'Девелоперы и инвестиционные проекты',\n",
    "                        'Ипотека', 'КН, авто, КК', 'Прочие']\n",
    "chart_data.add_series(df_1_0.Report_date[0], (data_1))\n",
    "chart_data.add_series(df_2_0.Report_date[0], (data_2))\n",
    "chart_data.add_series(df_3_0.Report_date[0], (data_3))\n",
    "\n",
    "slide_chart[0].chart.replace_data(chart_data)"
   ]
  },
  {
   "cell_type": "code",
   "execution_count": null,
   "metadata": {},
   "outputs": [],
   "source": [
    "prs.save(presentation)"
   ]
  },
  {
   "cell_type": "markdown",
   "metadata": {},
   "source": [
    "## 7_4"
   ]
  },
  {
   "cell_type": "code",
   "execution_count": null,
   "metadata": {},
   "outputs": [],
   "source": [
    "dat_new = dat[dat['LE'] == 'Банк ВТБ']"
   ]
  },
  {
   "cell_type": "code",
   "execution_count": null,
   "metadata": {},
   "outputs": [],
   "source": [
    "data_1 = df_1_0.Report_date[0]\n",
    "data_2 = df_2_0.Report_date[0]\n",
    "data_3 = df_3_0.Report_date[0]"
   ]
  },
  {
   "cell_type": "code",
   "execution_count": null,
   "metadata": {},
   "outputs": [],
   "source": [
    "ma_1, mb_1, mc_1, md_1, me_1, mf_1, mg_1, ms_1 = rating_df(data_1,dat_new)\n",
    "ma_2, mb_2, mc_2, md_2, me_2, mf_2, mg_2, ms_2 = rating_df(data_2,dat_new)\n",
    "ma_3, mb_3, mc_3, md_3, me_3, mf_3, mg_3, ms_3 = rating_df(data_3,dat_new)"
   ]
  },
  {
   "cell_type": "code",
   "execution_count": null,
   "metadata": {},
   "outputs": [],
   "source": [
    "data_1 = (ma_1, mb_1, mc_1, md_1, me_1, mf_1, mg_1, ms_1)\n",
    "data_2 = (ma_2, mb_2, mc_2, md_2, me_2, mf_2, mg_2, ms_2)\n",
    "data_3 = (ma_3, mb_3, mc_3, md_3, me_3, mf_3, mg_3, ms_3)"
   ]
  },
  {
   "cell_type": "code",
   "execution_count": null,
   "metadata": {},
   "outputs": [],
   "source": [
    "slide = prs.slides[slide_cred_7_4]"
   ]
  },
  {
   "cell_type": "code",
   "execution_count": null,
   "metadata": {},
   "outputs": [],
   "source": [
    "slide_chart = [shape for shape in slide.shapes if shape.has_chart]\n",
    "chart_data = ChartData()\n",
    "chart_data.categories = ['MA', 'MB', 'MC', 'MD',\n",
    "                        'ME', 'MF', 'MG', 'MSD']\n",
    "chart_data.add_series(df_1_0.Report_date[0], (data_1))\n",
    "chart_data.add_series(df_2_0.Report_date[0], (data_2))\n",
    "chart_data.add_series(df_3_0.Report_date[0], (data_3))\n",
    "\n",
    "slide_chart[0].chart.replace_data(chart_data)"
   ]
  },
  {
   "cell_type": "code",
   "execution_count": null,
   "metadata": {},
   "outputs": [],
   "source": [
    "prs.save(presentation)"
   ]
  },
  {
   "cell_type": "code",
   "execution_count": null,
   "metadata": {},
   "outputs": [],
   "source": [
    "slide_text = [shape for shape in slide.shapes if shape.has_text_frame]"
   ]
  },
  {
   "cell_type": "code",
   "execution_count": null,
   "metadata": {},
   "outputs": [],
   "source": [
    "text_data(2)"
   ]
  },
  {
   "cell_type": "code",
   "execution_count": null,
   "metadata": {},
   "outputs": [],
   "source": [
    "data_3=df_3_0.Report_date[0]"
   ]
  },
  {
   "cell_type": "code",
   "execution_count": null,
   "metadata": {},
   "outputs": [],
   "source": [
    "ma, mb, mc, md, me, mf, mg, ms = rating_df_ms(data_3,dat_new)"
   ]
  },
  {
   "cell_type": "code",
   "execution_count": null,
   "metadata": {},
   "outputs": [],
   "source": [
    "ma = \"{0:.2f}%\".format(ma)\n",
    "last = [mb, mc, md, me, mf, mg, ms]\n",
    "last_a=[]\n",
    "for dats in last:\n",
    "    dats = \"{0:.1f}%\".format(dats)\n",
    "    last_a.append(dats)\n",
    "mb=last_a[0]\n",
    "mc=last_a[1]\n",
    "md=last_a[2]\n",
    "me=last_a[3]\n",
    "mf=last_a[4]\n",
    "mg=last_a[5]\n",
    "ms=last_a[6]"
   ]
  },
  {
   "cell_type": "code",
   "execution_count": null,
   "metadata": {},
   "outputs": [],
   "source": [
    "slide_text = [shape for shape in slide.shapes if shape.has_text_frame]"
   ]
  },
  {
   "cell_type": "code",
   "execution_count": null,
   "metadata": {},
   "outputs": [],
   "source": [
    "ma=ma.replace('.',',')\n",
    "mb=mb.replace('.',',')\n",
    "mc=mc.replace('.',',')\n",
    "md=md.replace('.',',')\n",
    "me=me.replace('.',',')\n",
    "mf=mf.replace('.',',')\n",
    "mg=mg.replace('.',',')\n",
    "ms=ms.replace('.',',')"
   ]
  },
  {
   "cell_type": "code",
   "execution_count": null,
   "metadata": {},
   "outputs": [],
   "source": [
    "text(9,ma)\n",
    "text(10,mb)\n",
    "text(11,mc)\n",
    "text(12,md)\n",
    "text(13,me)\n",
    "text(14,mf)\n",
    "text(15,mg)\n",
    "text(16,ms)"
   ]
  },
  {
   "cell_type": "code",
   "execution_count": null,
   "metadata": {},
   "outputs": [],
   "source": [
    "prs.save(presentation)"
   ]
  },
  {
   "cell_type": "markdown",
   "metadata": {},
   "source": [
    "### 1_5"
   ]
  },
  {
   "cell_type": "code",
   "execution_count": null,
   "metadata": {},
   "outputs": [],
   "source": [
    "for i in ['Overdue_body_NAS_mRUR','Overdue_other_NAS_mRUR', 'Overdue_percent_NAS_mRUR']:\n",
    "    df_1_0[i] = pd.to_numeric(df_1_0[i], errors='coerce')\n",
    "    df_2_0[i] = pd.to_numeric(df_2_0[i], errors='coerce')\n",
    "    df_3_0[i] = pd.to_numeric(df_3_0[i], errors='coerce')\n",
    "for i in ['Overdue_body_NAS_mRUR','Overdue_other_NAS_mRUR', 'Overdue_percent_NAS_mRUR']:\n",
    "    df_1_0[i].fillna(0, inplace=True)\n",
    "    df_3_0[i].fillna(0, inplace=True)\n",
    "    df_2_0[i].fillna(0, inplace=True)\n",
    "df_1_0['overdue'] = df_1_0['Overdue_body_NAS_mRUR'] + df_1_0['Overdue_other_NAS_mRUR'] + df_1_0['Overdue_percent_NAS_mRUR']\n",
    "df_2_0['overdue'] = df_2_0['Overdue_body_NAS_mRUR'] + df_2_0['Overdue_other_NAS_mRUR'] + df_2_0['Overdue_percent_NAS_mRUR']\n",
    "df_3_0['overdue'] = df_3_0['Overdue_body_NAS_mRUR'] + df_3_0['Overdue_other_NAS_mRUR'] + df_3_0['Overdue_percent_NAS_mRUR']"
   ]
  },
  {
   "cell_type": "code",
   "execution_count": null,
   "metadata": {},
   "outputs": [],
   "source": [
    "df_1 = df_1_0.query('VTB_group_member != 1 and LE_id != 21 and Type_product_id not in [90, 91]').reset_index(drop=True)\n",
    "df_1=df_1[(df_1['DPD_cont'] != 0)& (df_1['DPD_cont'].isnull() == False)].reset_index(drop=True)\n",
    "df_2 = df_2_0.query('VTB_group_member != 1 and LE_id != 21 and Type_product_id not in [90, 91]').reset_index(drop=True)\n",
    "df_2=df_2[(df_2['DPD_cont'] != 0)& (df_2['DPD_cont'].isnull() == False)].reset_index(drop=True)\n",
    "df_3 = df_3_0.query('VTB_group_member != 1 and LE_id != 21 and Type_product_id not in [90, 91]').reset_index(drop=True)\n",
    "df_3=df_3[(df_3['DPD_cont'] != 0)& (df_3['DPD_cont'].isnull() == False)].reset_index(drop=True)"
   ]
  },
  {
   "cell_type": "code",
   "execution_count": null,
   "metadata": {},
   "outputs": [],
   "source": [
    "gar_1, cr_f_1, cr_u_1, other_1, itogo_1 = slide_23_1(df_1)\n",
    "gar_2, cr_f_2, cr_u_2, other_2, itogo_2 = slide_23_1(df_2)\n",
    "gar_3,cr_f_3,cr_u_3,other_3,itogo_3= slide_23_1(df_3)"
   ]
  },
  {
   "cell_type": "code",
   "execution_count": null,
   "metadata": {},
   "outputs": [],
   "source": [
    "data = {'Тип инструмента':['Гарантии','Кредиты ФЛ','Кредиты ЮЛ','Прочие','Итого'],\n",
    "        data_1:[gar_1, cr_f_1, cr_u_1, other_1, itogo_1], data_2:[gar_2, cr_f_2, cr_u_2, other_2, itogo_2],\n",
    "       data_3: [gar_3,cr_f_3,cr_u_3,other_3,itogo_3]}\n",
    "df=pd.DataFrame(data=data)"
   ]
  },
  {
   "cell_type": "code",
   "execution_count": null,
   "metadata": {},
   "outputs": [],
   "source": [
    "for i in range(0, len(df)):\n",
    "    for j in range (1,4):\n",
    "        df.iloc[i,j] = \"{0:.0f}\".format(df.iloc[i,j])"
   ]
  },
  {
   "cell_type": "code",
   "execution_count": null,
   "metadata": {},
   "outputs": [],
   "source": [
    "slide = prs.slides[slide_cred_1_5]\n",
    "table = [shape for shape in slide.shapes if shape.has_table]"
   ]
  },
  {
   "cell_type": "code",
   "execution_count": null,
   "metadata": {},
   "outputs": [],
   "source": [
    "slide_text = [shape for shape in slide.shapes if shape.has_text_frame]"
   ]
  },
  {
   "cell_type": "code",
   "execution_count": null,
   "metadata": {},
   "outputs": [],
   "source": [
    "text_data(2)"
   ]
  },
  {
   "cell_type": "code",
   "execution_count": null,
   "metadata": {},
   "outputs": [],
   "source": [
    "for i in range(1,6):\n",
    "    for j in range(1,4):\n",
    "        table[2].table.cell(i,j).text = df.iloc[i-1, j]\n",
    "        run = table[2].table.cell(i,j).text_frame.paragraphs[0]\n",
    "        run.font.bold = False\n",
    "        run.font.size = Pt(8)\n",
    "        cell = table[2].table.cell(i, j)\n",
    "        cell.text_frame.paragraphs[0].alignment=PP_ALIGN.CENTER\n",
    "for j in range(1,4):\n",
    "    run = table[2].table.cell(5,j).text_frame.paragraphs[0]\n",
    "    run.font.bold = True"
   ]
  },
  {
   "cell_type": "code",
   "execution_count": null,
   "metadata": {},
   "outputs": [],
   "source": [
    "dates_heading(df_1_0, 1, table[2], Pt(8))\n",
    "dates_heading(df_2_0, 2, table[2], Pt(8))\n",
    "dates_heading(df_3_0, 3, table[2], Pt(8))"
   ]
  },
  {
   "cell_type": "code",
   "execution_count": null,
   "metadata": {},
   "outputs": [],
   "source": [
    "prs.save(presentation)"
   ]
  },
  {
   "cell_type": "code",
   "execution_count": null,
   "metadata": {},
   "outputs": [],
   "source": [
    "vtb_1, bm_1, kapital_1, liz_1, other_1, itogo_1 = slide_23_2(df_1)\n",
    "vtb_2, bm_2, kapital_2, liz_2, other_2, itogo_2 = slide_23_2(df_2)\n",
    "vtb_3, bm_3, kapital_3, liz_3, other_3, itogo_3 = slide_23_2(df_3)"
   ]
  },
  {
   "cell_type": "code",
   "execution_count": null,
   "metadata": {},
   "outputs": [],
   "source": [
    "data = {'Компания группы':['Банк ВТБ','БМ Банк','ВТБ Капитал','ВТБ Лизинг','Прочие ДК','Итого'],\n",
    "        data_1:[vtb_1, bm_1, kapital_1, liz_1, other_1, itogo_1], data_2:[vtb_2, bm_2, kapital_2, liz_2, other_2, itogo_2],\n",
    "       data_3: [vtb_3, bm_3, kapital_3, liz_3, other_3, itogo_3]}\n",
    "df=pd.DataFrame(data=data)"
   ]
  },
  {
   "cell_type": "code",
   "execution_count": null,
   "metadata": {},
   "outputs": [],
   "source": [
    "for i in range(0, len(df)):\n",
    "    for j in range (1,4):\n",
    "        df.iloc[i,j] = \"{0:.0f}\".format(df.iloc[i,j])\n",
    "for i in range(1,7):\n",
    "    for j in range(1,4):\n",
    "        table[1].table.cell(i,j).text = df.iloc[i-1, j]\n",
    "        run = table[1].table.cell(i,j).text_frame.paragraphs[0]\n",
    "        run.font.bold = False\n",
    "        run.font.size = Pt(8)\n",
    "        cell = table[1].table.cell(i, j)\n",
    "        cell.text_frame.paragraphs[0].alignment=PP_ALIGN.CENTER\n",
    "for j in range(1,4):\n",
    "    run = table[1].table.cell(6,j).text_frame.paragraphs[0]\n",
    "    run.font.bold = True"
   ]
  },
  {
   "cell_type": "code",
   "execution_count": null,
   "metadata": {},
   "outputs": [],
   "source": [
    "dates_heading(df_1_0, 1, table[1], Pt(8))\n",
    "dates_heading(df_2_0, 2, table[1], Pt(8))\n",
    "dates_heading(df_3_0, 3, table[1], Pt(8))"
   ]
  },
  {
   "cell_type": "code",
   "execution_count": null,
   "metadata": {},
   "outputs": [],
   "source": [
    "prs.save(presentation)"
   ]
  },
  {
   "cell_type": "code",
   "execution_count": null,
   "metadata": {},
   "outputs": [],
   "source": [
    "cib_1, mcb_1, other_1, rtl_1, treasury_1, itogo_1 = slide_23_3(df_1)\n",
    "cib_2, mcb_2, other_2, rtl_2, treasury_2, itogo_2 = slide_23_3(df_2)\n",
    "cib_3, mcb_3, other_3, rtl_3, treasury_3, itogo_3 = slide_23_3(df_3)"
   ]
  },
  {
   "cell_type": "code",
   "execution_count": null,
   "metadata": {},
   "outputs": [],
   "source": [
    "\n",
    "\n",
    "\n",
    "\n",
    "data = {'ГБЛ':['КИБ','СМБ','Прочие','РБ','Казначейство','Итого'],\n",
    "        data_1:[cib_1, mcb_1, other_1, rtl_1, treasury_1, itogo_1], data_2:[cib_2, mcb_2, other_2, rtl_2, treasury_2, itogo_2],\n",
    "       data_3: [cib_3, mcb_3, other_3, rtl_3, treasury_3, itogo_3]}\n",
    "df=pd.DataFrame(data=data)"
   ]
  },
  {
   "cell_type": "code",
   "execution_count": null,
   "metadata": {},
   "outputs": [],
   "source": [
    "for i in range(0, len(df)):\n",
    "    for j in range (1,4):\n",
    "        df.iloc[i,j] = \"{0:.0f}\".format(df.iloc[i,j])\n",
    "for i in range(1,7):\n",
    "    for j in range(1,4):\n",
    "        table[0].table.cell(i,j).text = df.iloc[i-1, j]\n",
    "        run = table[0].table.cell(i,j).text_frame.paragraphs[0]\n",
    "        run.font.bold = False\n",
    "        run.font.size = Pt(8)\n",
    "        cell = table[0].table.cell(i, j)\n",
    "        cell.text_frame.paragraphs[0].alignment=PP_ALIGN.CENTER\n",
    "for j in range(1,4):\n",
    "    run = table[0].table.cell(6,j).text_frame.paragraphs[0]\n",
    "    run.font.bold = True"
   ]
  },
  {
   "cell_type": "code",
   "execution_count": null,
   "metadata": {},
   "outputs": [],
   "source": [
    "dates_heading(df_1_0, 1, table[0], Pt(8))\n",
    "dates_heading(df_2_0, 2, table[0], Pt(8))\n",
    "dates_heading(df_3_0, 3, table[0], Pt(8))"
   ]
  },
  {
   "cell_type": "code",
   "execution_count": null,
   "metadata": {},
   "outputs": [],
   "source": [
    "prs.save(presentation)"
   ]
  },
  {
   "cell_type": "code",
   "execution_count": null,
   "metadata": {},
   "outputs": [],
   "source": [
    "\n",
    "first_1, second_1, third_1, itogo_1 = slide_23_4(df_1)\n",
    "first_2, second_2, third_2, itogo_2 = slide_23_4(df_2)\n",
    "first_3, second_3, third_3, itogo_3 = slide_23_4(df_3)"
   ]
  },
  {
   "cell_type": "code",
   "execution_count": null,
   "metadata": {},
   "outputs": [],
   "source": [
    "data = {'Cрок':['1','2','3','Итого'],\n",
    "        data_1:[first_1, second_1, third_1, itogo_1], data_2:[first_2, second_2, third_2, itogo_2],\n",
    "       data_3: [first_3, second_3, third_3, itogo_3]}\n",
    "df=pd.DataFrame(data=data)"
   ]
  },
  {
   "cell_type": "code",
   "execution_count": null,
   "metadata": {},
   "outputs": [],
   "source": [
    "for i in range(0, len(df)):\n",
    "    for j in range (1,4):\n",
    "        df.iloc[i,j] = \"{0:.0f}\".format(df.iloc[i,j])\n",
    "for i in range(1,5):\n",
    "    for j in range(1,4):\n",
    "        table[3].table.cell(i,j).text = df.iloc[i-1, j]\n",
    "        run = table[3].table.cell(i,j).text_frame.paragraphs[0]\n",
    "        run.font.bold = False\n",
    "        run.font.size = Pt(8)\n",
    "        cell = table[3].table.cell(i, j)\n",
    "        cell.text_frame.paragraphs[0].alignment=PP_ALIGN.CENTER\n",
    "for j in range(1,4):\n",
    "    run = table[3].table.cell(4,j).text_frame.paragraphs[0]\n",
    "    run.font.bold = True"
   ]
  },
  {
   "cell_type": "code",
   "execution_count": null,
   "metadata": {},
   "outputs": [],
   "source": [
    "dates_heading(df_1_0, 1, table[3], Pt(8))\n",
    "dates_heading(df_2_0, 2, table[3], Pt(8))\n",
    "dates_heading(df_3_0, 3, table[3], Pt(8))"
   ]
  },
  {
   "cell_type": "code",
   "execution_count": null,
   "metadata": {},
   "outputs": [],
   "source": [
    "prs.save(presentation)"
   ]
  },
  {
   "cell_type": "code",
   "execution_count": null,
   "metadata": {},
   "outputs": [],
   "source": [
    "list_2 = ['Value_cash_mRUR', 'Value_qusi_cash_mRUR', 'Value_equity_mRUR','Value_other_securities_mRUR',\n",
    "         'Value_real_estate_mRUR', 'Value_rec_mRUR', 'Value_equipment_mRUR', 'Value_moveable_mRUR', 'Value_goods_mRUR',\n",
    "         'Value_guaranty_mRUR', 'Value_other_mRUR']"
   ]
  },
  {
   "cell_type": "code",
   "execution_count": null,
   "metadata": {},
   "outputs": [],
   "source": [
    "for i in list_2:\n",
    "    df_1_0[i] = pd.to_numeric(df_1_0[i], errors='coerce')\n",
    "    df_2_0[i] = pd.to_numeric(df_2_0[i], errors='coerce')\n",
    "    df_3_0[i] = pd.to_numeric(df_3_0[i], errors='coerce')\n",
    "for i in list_2:\n",
    "    df_1_0[i].fillna(0, inplace=True)\n",
    "    df_3_0[i].fillna(0, inplace=True)\n",
    "    df_2_0[i].fillna(0, inplace=True)"
   ]
  },
  {
   "cell_type": "code",
   "execution_count": null,
   "metadata": {},
   "outputs": [],
   "source": [
    "df_1 = df_1_0.query('VTB_group_member != 1 and LE_id != 21 and Type_product_id not in [90, 91]').reset_index(drop=True)\n",
    "df_2 = df_2_0.query('VTB_group_member != 1 and LE_id != 21 and Type_product_id not in [90, 91]').reset_index(drop=True)\n",
    "df_3 = df_3_0.query('VTB_group_member != 1 and LE_id != 21 and Type_product_id not in [90, 91]').reset_index(drop=True)\n",
    "df_1=df_1[(df_1['Gross_balance_MIX_mRUR'] != 0)].reset_index(drop=True)\n",
    "df_2=df_2[(df_2['Gross_balance_MIX_mRUR'] != 0)].reset_index(drop=True)\n",
    "df_3=df_3[(df_3['Gross_balance_MIX_mRUR'] != 0)].reset_index(drop=True)"
   ]
  },
  {
   "cell_type": "code",
   "execution_count": null,
   "metadata": {},
   "outputs": [],
   "source": [
    "for df in [df_1, df_2, df_3]:\n",
    "    df['Coll_cash'] = df['Value_cash_mRUR'] + df['Value_qusi_cash_mRUR']\n",
    "    df['Coll_securities'] = df['Value_equity_mRUR'] + df['Value_other_securities_mRUR']\n",
    "    df['Coll_real_estate'] = df['Value_real_estate_mRUR']\n",
    "    df['Coll_receivables'] = df['Value_rec_mRUR']\n",
    "    df['Coll_equp_moveables'] = df['Value_equipment_mRUR'] + df['Value_moveable_mRUR']\n",
    "    df['Coll_goods'] = df['Value_goods_mRUR']\n",
    "    df['Coll_guar'] = df['Value_guaranty_mRUR']\n",
    "    df['Coll_other'] = df['Value_other_mRUR']\n",
    "    df['collateral_sum'] = df['Coll_cash']+df['Coll_securities']+df['Coll_real_estate']+df['Coll_receivables']+df['Coll_equp_moveables']+df['Coll_goods']+df['Coll_guar']+df['Coll_other']"
   ]
  },
  {
   "cell_type": "code",
   "execution_count": null,
   "metadata": {},
   "outputs": [],
   "source": [
    "df_1_1 = df_1.pivot_table(index = ['LE', 'LE_id', 'type_business','client_name_final_upd'], \n",
    "                         values = ['Gross_balance_MIX_mRUR','Coll_cash','Coll_securities','Coll_real_estate','Coll_receivables','Coll_equp_moveables',\n",
    "                                  'Coll_goods', 'Coll_guar', 'Coll_other', 'collateral_sum'], \n",
    "                          #columns=['LE','LE_id','Type_business','client_name_final_upd'], \n",
    "                         aggfunc = 'sum').reset_index()\n",
    "df_2_2 = df_2.pivot_table(index = ['LE', 'LE_id', 'type_business','client_name_final_upd'], \n",
    "                         values = ['Gross_balance_MIX_mRUR','Coll_cash', 'Coll_securities','Coll_real_estate','Coll_receivables','Coll_equp_moveables',\n",
    "                                  'Coll_goods', 'Coll_guar', 'Coll_other', 'collateral_sum'], \n",
    "                         aggfunc = 'sum').reset_index()\n",
    "df_3_3 = df_3.pivot_table(index = ['LE', 'LE_id', 'type_business','client_name_final_upd'], \n",
    "                         values = ['Gross_balance_MIX_mRUR','Coll_cash', 'Coll_securities','Coll_real_estate','Coll_receivables','Coll_equp_moveables',\n",
    "                                  'Coll_goods', 'Coll_guar', 'Coll_other', 'collateral_sum'], \n",
    "                         aggfunc = 'sum').reset_index()"
   ]
  },
  {
   "cell_type": "code",
   "execution_count": null,
   "metadata": {},
   "outputs": [],
   "source": [
    "Cash_1, Securities_1, Real_estate_1, Receivables_1, Equipment_and_moveables_1, Goods_1,Guarantees_1, Oth_collateral_1, Total_collateral_1 = colls(df_1_1)\n",
    "Cash_2, Securities_2, Real_estate_2, Receivables_2, Equipment_and_moveables_2, Goods_2,Guarantees_2, Oth_collateral_2, Total_collateral_2 = colls(df_2_2)\n",
    "Cash_3, Securities_3, Real_estate_3, Receivables_3, Equipment_and_moveables_3, Goods_3,Guarantees_3, Oth_collateral_3, Total_collateral_3 = colls(df_3_3)"
   ]
  },
  {
   "cell_type": "code",
   "execution_count": null,
   "metadata": {},
   "outputs": [],
   "source": [
    "data_1 = (Cash_1, Securities_1, Real_estate_1, Receivables_1, Equipment_and_moveables_1, Goods_1,Guarantees_1, Oth_collateral_1)\n",
    "data_2 = (Cash_2, Securities_2, Real_estate_2, Receivables_2, Equipment_and_moveables_2, Goods_2,Guarantees_2, Oth_collateral_2)\n",
    "data_3 = (Cash_3, Securities_3, Real_estate_3, Receivables_3, Equipment_and_moveables_3, Goods_3,Guarantees_3, Oth_collateral_3)"
   ]
  },
  {
   "cell_type": "code",
   "execution_count": null,
   "metadata": {},
   "outputs": [],
   "source": [
    "slide_chart = [shape for shape in slide.shapes if shape.has_chart]\n",
    "chart_data = ChartData()\n",
    "chart_data.categories = ['Финансовое и квазифинансовое обеспечение', 'Акции и прочие ценные бумаги', 'Недвижимое имущество',\n",
    "                        'Дебиторская задолженность', 'Оборудование и движимое имущество', 'Товары в обороте', \n",
    "                        'Гарантии', 'Прочее обеспечение']\n",
    "chart_data.add_series(df_1_0.Report_date[0], (data_1))\n",
    "chart_data.add_series(df_2_0.Report_date[0], (data_2))\n",
    "chart_data.add_series(df_3_0.Report_date[0], (data_3))\n",
    "\n",
    "slide_chart[0].chart.replace_data(chart_data)"
   ]
  },
  {
   "cell_type": "code",
   "execution_count": null,
   "metadata": {},
   "outputs": [],
   "source": [
    "prs.save(presentation)"
   ]
  },
  {
   "cell_type": "markdown",
   "metadata": {},
   "source": [
    "## 7_3"
   ]
  },
  {
   "cell_type": "code",
   "execution_count": null,
   "metadata": {},
   "outputs": [],
   "source": [
    "df_1 = df_1_0.query('VTB_group_member != 1 and LE_id == 1 and Type_product_id not in [90, 91]').reset_index(drop=True)\n",
    "df_1=df_1[(df_1['DPD_cont'] != 0)& (df_1['DPD_cont'].isnull() == False)].reset_index(drop=True)\n",
    "df_2 = df_2_0.query('VTB_group_member != 1 and LE_id == 1 and Type_product_id not in [90, 91]').reset_index(drop=True)\n",
    "df_2=df_2[(df_2['DPD_cont'] != 0)& (df_2['DPD_cont'].isnull() == False)].reset_index(drop=True)\n",
    "df_3 = df_3_0.query('VTB_group_member != 1 and LE_id == 1 and Type_product_id not in [90, 91]').reset_index(drop=True)\n",
    "df_3=df_3[(df_3['DPD_cont'] != 0)& (df_3['DPD_cont'].isnull() == False)].reset_index(drop=True)"
   ]
  },
  {
   "cell_type": "code",
   "execution_count": null,
   "metadata": {},
   "outputs": [],
   "source": [
    "gar_1, cr_f_1, cr_u_1, itogo_1 = slide_24_1(df_1)\n",
    "gar_2, cr_f_2, cr_u_2, itogo_2 = slide_24_1(df_2)\n",
    "gar_3, cr_f_3, cr_u_3, itogo_3 = slide_24_1(df_3)"
   ]
  },
  {
   "cell_type": "code",
   "execution_count": null,
   "metadata": {},
   "outputs": [],
   "source": [
    "data = {'Тип инструмента':['Гарантии','Кредиты ФЛ','Кредиты ЮЛ','Итого'],\n",
    "        data_1:[gar_1, cr_f_1, cr_u_1, itogo_1], data_2:[gar_2, cr_f_2, cr_u_2, itogo_2],\n",
    "       data_3: [gar_3,cr_f_3,cr_u_3,itogo_3]}\n",
    "df=pd.DataFrame(data=data)"
   ]
  },
  {
   "cell_type": "code",
   "execution_count": null,
   "metadata": {},
   "outputs": [],
   "source": [
    "for i in range(0, len(df)):\n",
    "    for j in range (1,4):\n",
    "        df.iloc[i,j] = \"{0:.0f}\".format(df.iloc[i,j])"
   ]
  },
  {
   "cell_type": "code",
   "execution_count": null,
   "metadata": {},
   "outputs": [],
   "source": [
    "slide = prs.slides[slide_cred_7_3]\n",
    "table = [shape for shape in slide.shapes if shape.has_table]\n",
    "for i in range(1,5):\n",
    "    for j in range(1,4):\n",
    "        table[1].table.cell(i,j).text = df.iloc[i-1, j]\n",
    "        run = table[1].table.cell(i,j).text_frame.paragraphs[0]\n",
    "        run.font.bold = False\n",
    "        run.font.size = Pt(8)\n",
    "        cell = table[1].table.cell(i, j)\n",
    "        cell.text_frame.paragraphs[0].alignment=PP_ALIGN.CENTER\n",
    "for j in range(1,4):\n",
    "    run = table[1].table.cell(4,j).text_frame.paragraphs[0]\n",
    "    run.font.bold = True"
   ]
  },
  {
   "cell_type": "code",
   "execution_count": null,
   "metadata": {},
   "outputs": [],
   "source": [
    "dates_heading(df_1_0, 1, table[1], Pt(8))\n",
    "dates_heading(df_2_0, 2, table[1], Pt(8))\n",
    "dates_heading(df_3_0, 3, table[1], Pt(8))"
   ]
  },
  {
   "cell_type": "code",
   "execution_count": null,
   "metadata": {},
   "outputs": [],
   "source": [
    "slide_text = [shape for shape in slide.shapes if shape.has_text_frame]"
   ]
  },
  {
   "cell_type": "code",
   "execution_count": null,
   "metadata": {},
   "outputs": [],
   "source": [
    "text_data(5)"
   ]
  },
  {
   "cell_type": "code",
   "execution_count": null,
   "metadata": {},
   "outputs": [],
   "source": [
    "cib_1, mcb_1, other_1, rtl_1, treasury_1, itogo_1 = slide_23_3(df_1)\n",
    "cib_2, mcb_2, other_2, rtl_2, treasury_2, itogo_2 = slide_23_3(df_2)\n",
    "cib_3, mcb_3, other_3, rtl_3, treasury_3, itogo_3 = slide_23_3(df_3)"
   ]
  },
  {
   "cell_type": "code",
   "execution_count": null,
   "metadata": {},
   "outputs": [],
   "source": [
    "data = {'ГБЛ':['КИБ','СМБ','Прочие','РБ','Казначейство','Итого'],\n",
    "        data_1:[cib_1, mcb_1, other_1, rtl_1, treasury_1, itogo_1], data_2:[cib_2, mcb_2, other_2, rtl_2, treasury_2, itogo_2],\n",
    "       data_3: [cib_3, mcb_3, other_3, rtl_3, treasury_3, itogo_3]}\n",
    "df=pd.DataFrame(data=data)"
   ]
  },
  {
   "cell_type": "code",
   "execution_count": null,
   "metadata": {},
   "outputs": [],
   "source": [
    "for i in range(0, len(df)):\n",
    "    for j in range (1,4):\n",
    "        df.iloc[i,j] = \"{0:.0f}\".format(df.iloc[i,j])\n",
    "for i in range(1,7):\n",
    "    for j in range(1,4):\n",
    "        table[0].table.cell(i,j).text = df.iloc[i-1, j]\n",
    "        run = table[0].table.cell(i,j).text_frame.paragraphs[0]\n",
    "        run.font.bold = False\n",
    "        run.font.size = Pt(8)\n",
    "        cell = table[0].table.cell(i, j)\n",
    "        cell.text_frame.paragraphs[0].alignment=PP_ALIGN.CENTER\n",
    "for j in range(1,4):\n",
    "    run = table[0].table.cell(6,j).text_frame.paragraphs[0]\n",
    "    run.font.bold = True"
   ]
  },
  {
   "cell_type": "code",
   "execution_count": null,
   "metadata": {},
   "outputs": [],
   "source": [
    "dates_heading(df_1_0, 1, table[0], Pt(8))\n",
    "dates_heading(df_2_0, 2, table[0], Pt(8))\n",
    "dates_heading(df_3_0, 3, table[0], Pt(8))"
   ]
  },
  {
   "cell_type": "code",
   "execution_count": null,
   "metadata": {},
   "outputs": [],
   "source": [
    "prs.save(presentation)"
   ]
  },
  {
   "cell_type": "code",
   "execution_count": null,
   "metadata": {},
   "outputs": [],
   "source": [
    "first_1, second_1, third_1, itogo_1 = slide_23_4(df_1)\n",
    "first_2, second_2, third_2, itogo_2 = slide_23_4(df_2)\n",
    "first_3, second_3, third_3, itogo_3 = slide_23_4(df_3)"
   ]
  },
  {
   "cell_type": "code",
   "execution_count": null,
   "metadata": {},
   "outputs": [],
   "source": [
    "data = {'Cрок':['1','2','3','Итого'],\n",
    "        data_1:[first_1, second_1, third_1, itogo_1], data_2:[first_2, second_2, third_2, itogo_2],\n",
    "       data_3: [first_3, second_3, third_3, itogo_3]}\n",
    "df=pd.DataFrame(data=data)\n",
    "for i in range(0, len(df)):\n",
    "    for j in range (1,4):\n",
    "        df.iloc[i,j] = \"{0:.0f}\".format(df.iloc[i,j])\n",
    "for i in range(1,5):\n",
    "    for j in range(1,4):\n",
    "        table[2].table.cell(i,j).text = df.iloc[i-1, j]\n",
    "        run = table[2].table.cell(i,j).text_frame.paragraphs[0]\n",
    "        run.font.bold = False\n",
    "        run.font.size = Pt(8)\n",
    "        cell = table[2].table.cell(i, j)\n",
    "        cell.text_frame.paragraphs[0].alignment=PP_ALIGN.CENTER\n",
    "for j in range(1,4):\n",
    "    run = table[2].table.cell(4,j).text_frame.paragraphs[0]\n",
    "    run.font.bold = True"
   ]
  },
  {
   "cell_type": "code",
   "execution_count": null,
   "metadata": {},
   "outputs": [],
   "source": [
    "dates_heading(df_1_0, 1, table[2], Pt(8))\n",
    "dates_heading(df_2_0, 2, table[2], Pt(8))\n",
    "dates_heading(df_3_0, 3, table[2], Pt(8))"
   ]
  },
  {
   "cell_type": "code",
   "execution_count": null,
   "metadata": {},
   "outputs": [],
   "source": [
    "prs.save(presentation)"
   ]
  },
  {
   "cell_type": "code",
   "execution_count": null,
   "metadata": {},
   "outputs": [],
   "source": [
    "df_1 = df_1_0.query('VTB_group_member != 1 and LE_id == 1 and Type_product_id not in [90, 91]').reset_index(drop=True)\n",
    "df_2 = df_2_0.query('VTB_group_member != 1 and LE_id == 1 and Type_product_id not in [90, 91]').reset_index(drop=True)\n",
    "df_3 = df_3_0.query('VTB_group_member != 1 and LE_id == 1 and Type_product_id not in [90, 91]').reset_index(drop=True)"
   ]
  },
  {
   "cell_type": "code",
   "execution_count": null,
   "metadata": {},
   "outputs": [],
   "source": [
    "df_1=df_1[(df_1['Gross_balance_MIX_mRUR'] != 0) ].reset_index(drop=True)\n",
    "df_2=df_2[(df_2['Gross_balance_MIX_mRUR'] != 0)].reset_index(drop=True)\n",
    "df_3=df_3[(df_3['Gross_balance_MIX_mRUR'] != 0)].reset_index(drop=True)"
   ]
  },
  {
   "cell_type": "code",
   "execution_count": null,
   "metadata": {},
   "outputs": [],
   "source": [
    "for df in [df_1, df_2, df_3]:\n",
    "    df['Coll_cash'] = df['Value_cash_mRUR'] + df['Value_qusi_cash_mRUR']\n",
    "    df['Coll_securities'] = df['Value_equity_mRUR'] + df['Value_other_securities_mRUR']\n",
    "    df['Coll_real_estate'] = df['Value_real_estate_mRUR']\n",
    "    df['Coll_receivables'] = df['Value_rec_mRUR']\n",
    "    df['Coll_equp_moveables'] = df['Value_equipment_mRUR'] + df['Value_moveable_mRUR']\n",
    "    df['Coll_goods'] = df['Value_goods_mRUR']\n",
    "    df['Coll_guar'] = df['Value_guaranty_mRUR']\n",
    "    df['Coll_other'] = df['Value_other_mRUR']\n",
    "    df['collateral_sum'] = df['Coll_cash']+df['Coll_securities']+df['Coll_real_estate']+df['Coll_receivables']+df['Coll_equp_moveables']+df['Coll_goods']+df['Coll_guar']+df['Coll_other']"
   ]
  },
  {
   "cell_type": "code",
   "execution_count": null,
   "metadata": {},
   "outputs": [],
   "source": [
    "df_1_1 = df_1.pivot_table(index = ['LE', 'LE_id', 'type_business','client_name_final_upd'], \n",
    "                         values = ['Gross_balance_MIX_mRUR','Coll_cash','Coll_securities','Coll_real_estate','Coll_receivables','Coll_equp_moveables',\n",
    "                                  'Coll_goods', 'Coll_guar', 'Coll_other', 'collateral_sum'], \n",
    "                         aggfunc = 'sum').reset_index(drop=True)\n",
    "df_2_2 = df_2.pivot_table(index = ['LE', 'LE_id', 'type_business','client_name_final_upd'], \n",
    "                         values = ['Gross_balance_MIX_mRUR','Coll_cash', 'Coll_securities','Coll_real_estate','Coll_receivables','Coll_equp_moveables',\n",
    "                                  'Coll_goods', 'Coll_guar', 'Coll_other', 'collateral_sum'], \n",
    "                         aggfunc = 'sum').reset_index(drop=True)\n",
    "df_3_3 = df_3.pivot_table(index = ['LE', 'LE_id', 'type_business','client_name_final_upd'], \n",
    "                         values = ['Gross_balance_MIX_mRUR','Coll_cash', 'Coll_securities','Coll_real_estate','Coll_receivables','Coll_equp_moveables',\n",
    "                                  'Coll_goods', 'Coll_guar', 'Coll_other', 'collateral_sum'], \n",
    "                         aggfunc = 'sum').reset_index(drop=True)"
   ]
  },
  {
   "cell_type": "code",
   "execution_count": null,
   "metadata": {},
   "outputs": [],
   "source": [
    "Cash_1, Securities_1, Real_estate_1, Receivables_1, Equipment_and_moveables_1, Goods_1,Guarantees_1, Oth_collateral_1, Total_collateral_1 = colls(df_1_1)\n",
    "Cash_2, Securities_2, Real_estate_2, Receivables_2, Equipment_and_moveables_2, Goods_2,Guarantees_2, Oth_collateral_2, Total_collateral_2 = colls(df_2_2)\n",
    "Cash_3, Securities_3, Real_estate_3, Receivables_3, Equipment_and_moveables_3, Goods_3,Guarantees_3, Oth_collateral_3, Total_collateral_3 = colls(df_3_3)\n"
   ]
  },
  {
   "cell_type": "code",
   "execution_count": null,
   "metadata": {},
   "outputs": [],
   "source": [
    "data_1 = (Cash_1, Securities_1, Real_estate_1, Receivables_1, Equipment_and_moveables_1, Goods_1,Guarantees_1, Oth_collateral_1)\n",
    "data_2 = (Cash_2, Securities_2, Real_estate_2, Receivables_2, Equipment_and_moveables_2, Goods_2,Guarantees_2, Oth_collateral_2)\n",
    "data_3 = (Cash_3, Securities_3, Real_estate_3, Receivables_3, Equipment_and_moveables_3, Goods_3,Guarantees_3, Oth_collateral_3)"
   ]
  },
  {
   "cell_type": "code",
   "execution_count": null,
   "metadata": {},
   "outputs": [],
   "source": [
    "slide_chart = [shape for shape in slide.shapes if shape.has_chart]\n",
    "chart_data = ChartData()\n",
    "chart_data.categories = ['Финансовое и квазифинансовое обеспечение', 'Акции и прочие ценные бумаги', 'Недвижимое имущество',\n",
    "                        'Дебиторская задолженность', 'Оборудование и движимое имущество', 'Товары в обороте', \n",
    "                        'Гарантии', 'Прочее обеспечение']\n",
    "chart_data.add_series(df_1_0.Report_date[0], (data_1))\n",
    "chart_data.add_series(df_2_0.Report_date[0], (data_2))\n",
    "chart_data.add_series(df_3_0.Report_date[0], (data_3))\n",
    "\n",
    "slide_chart[0].chart.replace_data(chart_data)"
   ]
  },
  {
   "cell_type": "code",
   "execution_count": null,
   "metadata": {},
   "outputs": [],
   "source": [
    "prs.save(presentation)"
   ]
  },
  {
   "cell_type": "markdown",
   "metadata": {},
   "source": [
    "## Слайд 6_2"
   ]
  },
  {
   "cell_type": "code",
   "execution_count": null,
   "metadata": {},
   "outputs": [],
   "source": [
    "EC_1 = ec[(ec['Подход'] == 'Групповой')& (ec['Методика'] == 'Вер.2')& (ec['Показатель'] == 'ЭК')& (ec['ДК'] != 'Почта Банк')].reset_index(drop=True)"
   ]
  },
  {
   "cell_type": "code",
   "execution_count": null,
   "metadata": {},
   "outputs": [],
   "source": [
    "EC_1['ДК']=EC_1['ДК'].fillna('-')\n",
    "for i in range (0, len(EC_1)): \n",
    "    datetime_object = EC_1['Дата'][i]\n",
    "    EC_1['Дата'][i] = datetime_object.strftime('%d.%m.%Y')\n",
    "dat_1 = df_1_0.Report_date[0]\n",
    "dat_2 = df_2_0.Report_date[0]\n",
    "dat_3 = df_3_0.Report_date[0]"
   ]
  },
  {
   "cell_type": "code",
   "execution_count": null,
   "metadata": {},
   "outputs": [],
   "source": [
    "data_dir = {}\n",
    "for i in ['Банк ВТБ','ВТБ Капитал','ВТБ Европа','ВТБ Лизинг','ВТБ Факторинг','ВТБ Беларусь','ВТБ Грузия','ВТБ Армения',\n",
    "         'ВТБ Казахстан','Западно-Сибирский коммерческий банк','СаровБизнес Банк','ВТБ Пенсионный фонд',\n",
    "         'ВТБ Азербайджан','БМ Банк','ВТБ Африка']:\n",
    "    data_dir['credit_' + i] = EC_1[(EC_1['Дата'] == dat_3) & (EC_1['Вид риска'] == 'Кредитный')& (EC_1['ДК'] == i)]['Значение, млн.руб.'].sum()/1000"
   ]
  },
  {
   "cell_type": "code",
   "execution_count": null,
   "metadata": {},
   "outputs": [],
   "source": [
    "data_1_sum = EC_1[(EC_1['Дата'] == dat_3) & (EC_1['Вид риска'] == 'Кредитный')]['Значение, млн.руб.'].sum()/1000\n",
    "data_1_other = data_1_sum-sum(data_dir.values())-EC_1[(EC_1['Дата'] == dat_3) & (EC_1['Вид риска'] == 'Кредитный') & (EC_1['ДК'] == '-')]['Значение, млн.руб.'].sum()/1000"
   ]
  },
  {
   "cell_type": "code",
   "execution_count": null,
   "metadata": {},
   "outputs": [],
   "source": [
    "data_1 =[]\n",
    "data_1.append(data_1_sum)\n",
    "for i in range (0,len(data_dir.values())):\n",
    "    data_1.append(list(data_dir.values())[i])\n",
    "data_1.append(data_1_other)"
   ]
  },
  {
   "cell_type": "code",
   "execution_count": null,
   "metadata": {},
   "outputs": [],
   "source": [
    "data_dir = {}\n",
    "for i in ['Банк ВТБ','ВТБ Капитал','ВТБ Европа','ВТБ Лизинг','ВТБ Факторинг','ВТБ Беларусь','ВТБ Грузия','ВТБ Армения',\n",
    "         'ВТБ Казахстан','Западно-Сибирский коммерческий банк','СаровБизнес Банк','ВТБ Пенсионный фонд',\n",
    "         'ВТБ Азербайджан','БМ Банк','ВТБ Африка']:\n",
    "    try:\n",
    "        data_dir['credit_' + i] = EC_1[(EC_1['Дата'] == dat_3) & (EC_1['ДК'] == i)]['Буфер ЭК'].sum()/1000\n",
    "    except:\n",
    "        data_dir['credit_' + i] = 0"
   ]
  },
  {
   "cell_type": "code",
   "execution_count": null,
   "metadata": {},
   "outputs": [],
   "source": [
    "try:\n",
    "    data_13_sum = EC_1[(EC_1['Дата'] == dat_3)]['Буфер ЭК'].sum()/1000\n",
    "except:\n",
    "    data_13_sum = 0\n",
    "try:\n",
    "    data_13_other = data_13_sum-sum(data_dir.values())\n",
    "except:\n",
    "    data_13_other = 0"
   ]
  },
  {
   "cell_type": "code",
   "execution_count": null,
   "metadata": {},
   "outputs": [],
   "source": [
    "data_13 =[]\n",
    "data_13.append(data_13_sum)\n",
    "for i in range (0,len(data_dir.values())):\n",
    "    data_13.append(list(data_dir.values())[i])\n",
    "data_13.append(data_13_other)"
   ]
  },
  {
   "cell_type": "code",
   "execution_count": null,
   "metadata": {},
   "outputs": [],
   "source": [
    "data_dir = {}\n",
    "for i in ['Банк ВТБ','ВТБ Капитал','ВТБ Европа','ВТБ Лизинг','ВТБ Факторинг','ВТБ Беларусь','ВТБ Грузия','ВТБ Армения',\n",
    "         'ВТБ Казахстан','Западно-Сибирский коммерческий банк','СаровБизнес Банк','ВТБ Пенсионный фонд',\n",
    "         'ВТБ Азербайджан','БМ Банк','ВТБ Африка']:\n",
    "    try:\n",
    "        data_dir['credit_' + i] = EC_1[(EC_1['Дата'] == dat_3) & (EC_1['ДК'] == i)]['ЭК с учетом буфера'].sum()/1000\n",
    "    except:\n",
    "        data_dir['credit_' + i] = 0"
   ]
  },
  {
   "cell_type": "code",
   "execution_count": null,
   "metadata": {},
   "outputs": [],
   "source": [
    "try:\n",
    "    data_14_sum = EC_1[(EC_1['Дата'] == dat_3)]['ЭК с учетом буфера'].sum()/1000\n",
    "except:\n",
    "    data_14_sum = 0\n",
    "try:\n",
    "    data_14_other = data_14_sum-sum(data_dir.values())-EC_1[(EC_1['Дата'] == dat_3) & (EC_1['ДК'] == '-')]['Значение, млн.руб.'].sum()/1000\n",
    "except:\n",
    "    data_14_other = 0"
   ]
  },
  {
   "cell_type": "code",
   "execution_count": null,
   "metadata": {},
   "outputs": [],
   "source": [
    "data_14 =[]\n",
    "data_14.append(data_14_sum)\n",
    "for i in range (0,len(data_dir.values())):\n",
    "    data_14.append(list(data_dir.values())[i])\n",
    "data_14.append(data_14_other)"
   ]
  },
  {
   "cell_type": "code",
   "execution_count": null,
   "metadata": {},
   "outputs": [],
   "source": [
    "data_dir = {}\n",
    "for i in ['Процентный','Валютный','Торговый']:\n",
    "    try:\n",
    "        data_dir['credit_' +'Банк ВТБ'+ i] = EC_1[(EC_1['Дата'] == dat_3) & (EC_1['Подвид риска'] == i)& (EC_1['ДК'] == 'Банк ВТБ')]['Значение, млн.руб.'].sum()/1000\n",
    "    except:\n",
    "        data_dir['credit_' + 'Банк ВТБ'+i] = 0\n",
    "    try:\n",
    "        data_dir['credit_' + 'ВТБ Капитал'+i] = EC_1[(EC_1['Дата'] == dat_3) & (EC_1['Подвид риска'] == i)& (EC_1['ДК'] == 'ВТБ Капитал')]['Значение, млн.руб.'].sum()/1000\n",
    "    except:\n",
    "        data_dir['credit_' + 'ВТБ Капитал'+i] = 0\n",
    "    try:\n",
    "        data_dir['credit_' + 'ВТБ Европа'+i] = EC_1[(EC_1['Дата'] == dat_3) & (EC_1['Подвид риска'] == i)& (EC_1['ДК'] == 'ВТБ Европа')]['Значение, млн.руб.'].sum()/1000\n",
    "    except:\n",
    "        data_dir['credit_' + 'ВТБ Европа'+i] = 0\n",
    "    try:\n",
    "        data_dir['credit_' + 'ВТБ Лизинг'+i] = EC_1[(EC_1['Дата'] == dat_3) & (EC_1['Подвид риска'] == i)& (EC_1['ДК'] == 'ВТБ Лизинг')]['Значение, млн.руб.'].sum()/1000\n",
    "    except:\n",
    "        data_dir['credit_' + 'ВТБ Лизинг'+i] = 0\n",
    "    try:\n",
    "        data_dir['credit_' + 'ВТБ Факторинг'+i] = EC_1[(EC_1['Дата'] == dat_3) & (EC_1['Подвид риска'] == i)& (EC_1['ДК'] == 'ВТБ Факторинг')]['Значение, млн.руб.'].sum()/1000\n",
    "    except:\n",
    "        data_dir['credit_' + 'ВТБ Факторинг'+i] = 0\n",
    "    try:\n",
    "        data_dir['credit_' + 'ВТБ Беларусь'+i] = EC_1[(EC_1['Дата'] == dat_3) & (EC_1['Подвид риска'] == i)& (EC_1['ДК'] == 'ВТБ Беларусь')]['Значение, млн.руб.'].sum()/1000\n",
    "    except:\n",
    "        data_dir['credit_' + 'ВТБ Беларусь'+i] = 0\n",
    "    try:\n",
    "        data_dir['credit_' + 'ВТБ Грузия'+i] = EC_1[(EC_1['Дата'] == dat_3) & (EC_1['Подвид риска'] == i)& (EC_1['ДК'] == 'ВТБ Грузия')]['Значение, млн.руб.'].sum()/1000\n",
    "    except:\n",
    "        data_dir['credit_' + 'ВТБ Грузия'+i] = 0\n",
    "    try:\n",
    "        data_dir['credit_' + 'ВТБ Армения'+i] = EC_1[(EC_1['Дата'] == dat_3) & (EC_1['Подвид риска'] == i)& (EC_1['ДК'] == 'ВТБ Армения')]['Значение, млн.руб.'].sum()/1000\n",
    "    except:\n",
    "        data_dir['credit_' + 'ВТБ Армения'+i] = 0\n",
    "    try:\n",
    "        data_dir['credit_' + 'ВТБ Казахстан'+i] = EC_1[(EC_1['Дата'] == dat_3) & (EC_1['Подвид риска'] == i)& (EC_1['ДК'] == 'ВТБ Казахстан')]['Значение, млн.руб.'].sum()/1000\n",
    "    except:\n",
    "        data_dir['credit_' + 'ВТБ Казахстан'+i] = 0\n",
    "    try:\n",
    "        data_dir['credit_' + 'ЗСКБ'+i] = EC_1[(EC_1['Дата'] == dat_3) & (EC_1['Подвид риска'] == i)& (EC_1['ДК'] == 'Западно-Сибирский коммерческий банк')]['Значение, млн.руб.'].sum()/1000\n",
    "    except:\n",
    "        data_dir['credit_' + 'ЗСКБ'+i] = 0\n",
    "    try:\n",
    "        data_dir['credit_' + 'Саров'+i] = EC_1[(EC_1['Дата'] == dat_3) & (EC_1['Подвид риска'] == i)& (EC_1['ДК'] == 'СаровБизнес Банк')]['Значение, млн.руб.'].sum()/1000\n",
    "    except:\n",
    "        data_dir['credit_' + 'Саров'+i] = 0\n",
    "    try:\n",
    "        data_dir['credit_' + 'ПФ'+i] = EC_1[(EC_1['Дата'] == dat_3) & (EC_1['Подвид риска'] == i)& (EC_1['ДК'] == 'ВТБ Пенсионный фонд')]['Значение, млн.руб.'].sum()/1000\n",
    "    except:\n",
    "        data_dir['credit_' + 'ПФ'+i] = 0\n",
    "    try:\n",
    "        data_dir['credit_' + 'ВТБ Азербайджан'+i] = EC_1[(EC_1['Дата'] == dat_3) & (EC_1['Подвид риска'] == i)& (EC_1['ДК'] == 'ВТБ Азербайджан')]['Значение, млн.руб.'].sum()/1000\n",
    "    except:\n",
    "        data_dir['credit_' + 'ВТБ Азербайджан'+i] = 0\n",
    "    try:\n",
    "        data_dir['credit_' + 'БМ'+i] = EC_1[(EC_1['Дата'] == dat_3) & (EC_1['Подвид риска'] == i)& (EC_1['ДК'] == 'БМ Банк')]['Значение, млн.руб.'].sum()/1000\n",
    "    except:\n",
    "        data_dir['credit_' + 'БМ'+i] = 0\n",
    "    try:\n",
    "        data_dir['credit_' + 'ВТБ Африка'+i] = EC_1[(EC_1['Дата'] == dat_3) & (EC_1['Подвид риска'] == i)& (EC_1['ДК'] == 'ВТБ Африка')]['Значение, млн.руб.'].sum()/1000\n",
    "    except:\n",
    "        data_dir['credit_' + 'ВТБ Африка'+i] = 0"
   ]
  },
  {
   "cell_type": "code",
   "execution_count": null,
   "metadata": {},
   "outputs": [],
   "source": [
    "try:\n",
    "    data_2_sum = EC_1[(EC_1['Дата'] == dat_3) & (EC_1['Подвид риска'] == 'Процентный')]['Значение, млн.руб.'].sum()/1000\n",
    "except:\n",
    "    data_2_sum = 0\n",
    "try:\n",
    "    data_2_other = data_2_sum-sum(list(data_dir.values())[0:15])-EC_1[(EC_1['Дата'] == dat_3) & (EC_1['Подвид риска'] == 'Процентный') & (EC_1['ДК'] == '-')]['Значение, млн.руб.'].sum()/1000\n",
    "except:\n",
    "    data_2_other = 0\n",
    "try:\n",
    "    data_3_sum = EC_1[(EC_1['Дата'] == dat_3) & (EC_1['Подвид риска'] == 'Валютный')]['Значение, млн.руб.'].sum()/1000\n",
    "except:\n",
    "    data_3_sum = 0\n",
    "try:\n",
    "    data_3_other = data_3_sum-sum(list(data_dir.values())[15:30])-EC_1[(EC_1['Дата'] == dat_3) & (EC_1['Подвид риска'] == 'Валютный') & (EC_1['ДК'] == '-')]['Значение, млн.руб.'].sum()/1000\n",
    "except:\n",
    "    data_3_other = 0\n",
    "try:\n",
    "    data_4_sum = EC_1[(EC_1['Дата'] == dat_3) & (EC_1['Подвид риска'] == 'Торговый')]['Значение, млн.руб.'].sum()/1000\n",
    "except:\n",
    "    data_4_sum = 0\n",
    "try:\n",
    "    data_4_other = data_4_sum-sum(list(data_dir.values())[30:45])-EC_1[(EC_1['Дата'] == dat_3) & (EC_1['Подвид риска'] == 'Торговый') & (EC_1['ДК'] == '-')]['Значение, млн.руб.'].sum()/1000\n",
    "except:\n",
    "    data_4_other = 0"
   ]
  },
  {
   "cell_type": "code",
   "execution_count": null,
   "metadata": {},
   "outputs": [],
   "source": [
    "def ff(data_2,data_2_other,data_2_sum,n,k):\n",
    "    data_2 =[]\n",
    "    data_2.append(data_2_sum)\n",
    "    for i in range(n,k):\n",
    "        data_2.append(list(data_dir.values())[i])\n",
    "    data_2.append(data_2_other)\n",
    "    return(data_2)"
   ]
  },
  {
   "cell_type": "code",
   "execution_count": null,
   "metadata": {},
   "outputs": [],
   "source": [
    "data_2 =[]\n",
    "data_3 =[]\n",
    "data_4 =[]\n",
    "data_2=ff(data_2,data_2_other,data_2_sum,0,15)\n",
    "data_3=ff(data_3,data_3_other,data_3_sum,15,30)\n",
    "data_4=ff(data_4,data_4_other,data_4_sum,30,45)"
   ]
  },
  {
   "cell_type": "code",
   "execution_count": null,
   "metadata": {},
   "outputs": [],
   "source": [
    "data_dir = {}\n",
    "for i in ['Операционный','Концентрации','Недвижимость','Пенсионный','Модельный','Ликвидности','Секъюритизации', 'Страновой']:\n",
    "    try:\n",
    "        data_dir['credit_' +'Банк ВТБ'+ i] = EC_1[(EC_1['Дата'] == dat_3) & (EC_1['Вид риска'] == i)& (EC_1['ДК'] == 'Банк ВТБ')]['Значение, млн.руб.'].sum()/1000\n",
    "    except:\n",
    "        data_dir['credit_' + 'Банк ВТБ'+i] = 0\n",
    "    try:\n",
    "        data_dir['credit_' + 'ВТБ Капитал'+i] = EC_1[(EC_1['Дата'] == dat_3) & (EC_1['Вид риска'] == i)& (EC_1['ДК'] == 'ВТБ Капитал')]['Значение, млн.руб.'].sum()/1000\n",
    "    except:\n",
    "        data_dir['credit_' + 'ВТБ Капитал'+i] = 0\n",
    "    try:\n",
    "        data_dir['credit_' + 'ВТБ Европа'+i] = EC_1[(EC_1['Дата'] == dat_3) & (EC_1['Вид риска'] == i)& (EC_1['ДК'] == 'ВТБ Европа')]['Значение, млн.руб.'].sum()/1000\n",
    "    except:\n",
    "        data_dir['credit_' + 'ВТБ Европа'+i] = 0\n",
    "    try:\n",
    "        data_dir['credit_' + 'ВТБ Лизинг'+i] = EC_1[(EC_1['Дата'] == dat_3) & (EC_1['Вид риска'] == i)& (EC_1['ДК'] == 'ВТБ Лизинг')]['Значение, млн.руб.'].sum()/1000\n",
    "    except:\n",
    "        data_dir['credit_' + 'ВТБ Лизинг'+i] = 0\n",
    "    try:\n",
    "        data_dir['credit_' + 'ВТБ Факторинг'+i] = EC_1[(EC_1['Дата'] == dat_3) & (EC_1['Вид риска'] == i)& (EC_1['ДК'] == 'ВТБ Факторинг')]['Значение, млн.руб.'].sum()/1000\n",
    "    except:\n",
    "        data_dir['credit_' + 'ВТБ Факторинг'+i] = 0\n",
    "    try:\n",
    "        data_dir['credit_' + 'ВТБ Беларусь'+i] = EC_1[(EC_1['Дата'] == dat_3) & (EC_1['Вид риска'] == i)& (EC_1['ДК'] == 'ВТБ Беларусь')]['Значение, млн.руб.'].sum()/1000\n",
    "    except:\n",
    "        data_dir['credit_' + 'ВТБ Беларусь'+i] = 0\n",
    "    try:\n",
    "        data_dir['credit_' + 'ВТБ Грузия'+i] = EC_1[(EC_1['Дата'] == dat_3) & (EC_1['Вид риска'] == i)& (EC_1['ДК'] == 'ВТБ Грузия')]['Значение, млн.руб.'].sum()/1000\n",
    "    except:\n",
    "        data_dir['credit_' + 'ВТБ Грузия'+i] = 0\n",
    "    try:\n",
    "        data_dir['credit_' + 'ВТБ Армения'+i] = EC_1[(EC_1['Дата'] == dat_3) & (EC_1['Вид риска'] == i)& (EC_1['ДК'] == 'ВТБ Армения')]['Значение, млн.руб.'].sum()/1000\n",
    "    except:\n",
    "        data_dir['credit_' + 'ВТБ Армения'+i] = 0\n",
    "    try:\n",
    "        data_dir['credit_' + 'ВТБ Казахстан'+i] = EC_1[(EC_1['Дата'] == dat_3) & (EC_1['Вид риска'] == i)& (EC_1['ДК'] == 'ВТБ Казахстан')]['Значение, млн.руб.'].sum()/1000\n",
    "    except:\n",
    "        data_dir['credit_' + 'ВТБ Казахстан'+i] = 0\n",
    "    try:\n",
    "        data_dir['credit_' + 'ЗСКБ'+i] = EC_1[(EC_1['Дата'] == dat_3) & (EC_1['Вид риска'] == i)& (EC_1['ДК'] == 'Западно-Сибирский коммерческий банк')]['Значение, млн.руб.'].sum()/1000\n",
    "    except:\n",
    "        data_dir['credit_' + 'ЗСКБ'+i] = 0\n",
    "    try:\n",
    "        data_dir['credit_' + 'Саров'+i] = EC_1[(EC_1['Дата'] == dat_3) & (EC_1['Вид риска'] == i)& (EC_1['ДК'] == 'СаровБизнес Банк')]['Значение, млн.руб.'].sum()/1000\n",
    "    except:\n",
    "        data_dir['credit_' + 'Саров'+i] = 0\n",
    "    try:\n",
    "        data_dir['credit_' + 'ПФ'+i] = EC_1[(EC_1['Дата'] == dat_3) & (EC_1['Вид риска'] == i)& (EC_1['ДК'] == 'ВТБ Пенсионный фонд')]['Значение, млн.руб.'].sum()/1000\n",
    "    except:\n",
    "        data_dir['credit_' + 'ПФ'+i] = 0\n",
    "    try:\n",
    "        data_dir['credit_' + 'ВТБ Азербайджан'+i] = EC_1[(EC_1['Дата'] == dat_3) & (EC_1['Вид риска'] == i)& (EC_1['ДК'] == 'ВТБ Азербайджан')]['Значение, млн.руб.'].sum()/1000\n",
    "    except:\n",
    "        data_dir['credit_' + 'ВТБ Азербайджан'+i] = 0\n",
    "    try:\n",
    "        data_dir['credit_' + 'БМ'+i] = EC_1[(EC_1['Дата'] == dat_3) & (EC_1['Вид риска'] == i)& (EC_1['ДК'] == 'БМ Банк')]['Значение, млн.руб.'].sum()/1000\n",
    "    except:\n",
    "        data_dir['credit_' + 'БМ'+i] = 0\n",
    "    try:\n",
    "        data_dir['credit_' + 'ВТБ Африка'+i] = EC_1[(EC_1['Дата'] == dat_3) & (EC_1['Вид риска'] == i)& (EC_1['ДК'] == 'ВТБ Африка')]['Значение, млн.руб.'].sum()/1000\n",
    "    except:\n",
    "        data_dir['credit_' + 'ВТБ Африка'+i] = 0"
   ]
  },
  {
   "cell_type": "code",
   "execution_count": null,
   "metadata": {},
   "outputs": [],
   "source": [
    "sum_1=sum(list(data_dir.values())[0:15])\n",
    "sum_2=sum(list(data_dir.values())[15:30])\n",
    "sum_3=sum(list(data_dir.values())[30:45])\n",
    "sum_4=sum(list(data_dir.values())[45:60])\n",
    "sum_5=sum(list(data_dir.values())[60:75])\n",
    "sum_6=sum(list(data_dir.values())[75:90])\n",
    "sum_7=sum(list(data_dir.values())[90:105])\n",
    "sum_8=sum(list(data_dir.values())[105:120])"
   ]
  },
  {
   "cell_type": "code",
   "execution_count": null,
   "metadata": {},
   "outputs": [],
   "source": [
    "other_1 = EC_1[(EC_1['Дата'] == dat_3) & (EC_1['Вид риска'] == 'Операционный')]['Значение, млн.руб.'].sum()/1000-sum_1-EC_1[(EC_1['Дата'] == dat_3) & (EC_1['Вид риска'] == 'Операционный') & (EC_1['ДК'] == '-')]['Значение, млн.руб.'].sum()/1000\n",
    "other_2 = EC_1[(EC_1['Дата'] == dat_3) & (EC_1['Вид риска'] == 'Концентрации')]['Значение, млн.руб.'].sum()/1000-sum_2-EC_1[(EC_1['Дата'] == dat_3) & (EC_1['Вид риска'] == 'Концентрации') & (EC_1['ДК'] == '-')]['Значение, млн.руб.'].sum()/1000\n",
    "other_3 = EC_1[(EC_1['Дата'] == dat_3) & (EC_1['Вид риска'] == 'Недвижимость')]['Значение, млн.руб.'].sum()/1000-sum_3-EC_1[(EC_1['Дата'] == dat_3) & (EC_1['Вид риска'] == 'Недвижимость') & (EC_1['ДК'] == '-')]['Значение, млн.руб.'].sum()/1000\n",
    "other_4 = EC_1[(EC_1['Дата'] == dat_3) & (EC_1['Вид риска'] == 'Пенсионный')]['Значение, млн.руб.'].sum()/1000-sum_4-EC_1[(EC_1['Дата'] == dat_3) & (EC_1['Вид риска'] == 'Пенсионный') & (EC_1['ДК'] == '-')]['Значение, млн.руб.'].sum()/1000\n",
    "other_5 = EC_1[(EC_1['Дата'] == dat_3) & (EC_1['Вид риска'] == 'Модельный')]['Значение, млн.руб.'].sum()/1000-sum_5-EC_1[(EC_1['Дата'] == dat_3) & (EC_1['Вид риска'] == 'Модельный') & (EC_1['ДК'] == '-')]['Значение, млн.руб.'].sum()/1000\n",
    "other_6 = EC_1[(EC_1['Дата'] == dat_3) & (EC_1['Вид риска'] == 'Ликвидности')]['Значение, млн.руб.'].sum()/1000-sum_6-EC_1[(EC_1['Дата'] == dat_3) & (EC_1['Вид риска'] == 'Ликвидности') & (EC_1['ДК'] == '-')]['Значение, млн.руб.'].sum()/1000\n",
    "other_7 = EC_1[(EC_1['Дата'] == dat_3) & (EC_1['Вид риска'] == 'Секъюритизации')]['Значение, млн.руб.'].sum()/1000-sum_7-EC_1[(EC_1['Дата'] == dat_3) & (EC_1['Вид риска'] == 'Секъюритизации') & (EC_1['ДК'] == '-')]['Значение, млн.руб.'].sum()/1000\n",
    "other_8 = EC_1[(EC_1['Дата'] == dat_3) & (EC_1['Вид риска'] == 'Страновой')]['Значение, млн.руб.'].sum()/1000-sum_8-EC_1[(EC_1['Дата'] == dat_3) & (EC_1['Вид риска'] == 'Страновой') & (EC_1['ДК'] == '-')]['Значение, млн.руб.'].sum()/1000"
   ]
  },
  {
   "cell_type": "code",
   "execution_count": null,
   "metadata": {},
   "outputs": [],
   "source": [
    "sum_1=EC_1[(EC_1['Дата'] == dat_3) & (EC_1['Вид риска'] == 'Операционный')]['Значение, млн.руб.'].sum()/1000\n",
    "sum_2=EC_1[(EC_1['Дата'] == dat_3) & (EC_1['Вид риска'] == 'Концентрации')]['Значение, млн.руб.'].sum()/1000\n",
    "sum_3=EC_1[(EC_1['Дата'] == dat_3) & (EC_1['Вид риска'] == 'Недвижимость')]['Значение, млн.руб.'].sum()/1000\n",
    "sum_4=EC_1[(EC_1['Дата'] == dat_3) & (EC_1['Вид риска'] == 'Пенсионный')]['Значение, млн.руб.'].sum()/1000\n",
    "sum_5=EC_1[(EC_1['Дата'] == dat_3) & (EC_1['Вид риска'] == 'Модельный')]['Значение, млн.руб.'].sum()/1000\n",
    "sum_6=EC_1[(EC_1['Дата'] == dat_3) & (EC_1['Вид риска'] == 'Ликвидности')]['Значение, млн.руб.'].sum()/1000\n",
    "sum_7=EC_1[(EC_1['Дата'] == dat_3) & (EC_1['Вид риска'] == 'Секъюритизации')]['Значение, млн.руб.'].sum()/1000\n",
    "sum_8=EC_1[(EC_1['Дата'] == dat_3) & (EC_1['Вид риска'] == 'Страновой')]['Значение, млн.руб.'].sum()/1000"
   ]
  },
  {
   "cell_type": "code",
   "execution_count": null,
   "metadata": {},
   "outputs": [],
   "source": [
    "data_5 =[]\n",
    "data_6 =[]\n",
    "data_7 =[]\n",
    "data_8 =[]\n",
    "data_9 =[]\n",
    "data_10 =[]\n",
    "data_11 =[]\n",
    "data_12 =[]\n",
    "data_5=ff(data_5,other_1,sum_1,0,15)\n",
    "data_6=ff(data_6,other_2,sum_2,15,30)\n",
    "data_7=ff(data_7,other_3,sum_3,30,45)\n",
    "data_8=ff(data_8,other_4,sum_4,45,60)\n",
    "data_9=ff(data_9,other_5,sum_5,60,75)\n",
    "data_10=ff(data_10,other_6,sum_6,75,90)\n",
    "data_11=ff(data_11,other_7,sum_7,90,105)\n",
    "data_12=ff(data_12,other_8,sum_8,105,120)"
   ]
  },
  {
   "cell_type": "code",
   "execution_count": null,
   "metadata": {},
   "outputs": [],
   "source": [
    "data = {'ff':data_1, 'g':data_2,\n",
    "       'h': data_3,'q':data_4, 'w':data_5,\n",
    "       'u': data_6,'y':data_7, 'e':data_8,\n",
    "       'z': data_9,'n':data_10, 'b':data_11,\n",
    "       'x': data_12,'c': data_13,'v': data_14}\n",
    "df=pd.DataFrame(data=data)"
   ]
  },
  {
   "cell_type": "code",
   "execution_count": null,
   "metadata": {},
   "outputs": [],
   "source": [
    "for i in range(0, len(df)):\n",
    "    for j in range (0,df.shape[1]):\n",
    "        if abs(df.iloc[i,j])<0.000000000001:\n",
    "            df.iloc[i,j]='-'\n",
    "        if df.iloc[i,j]==0:\n",
    "            df.iloc[i,j]='-'\n",
    "        if df.iloc[i,j]!='-':\n",
    "            df.iloc[i,j] = \"{0:.1f}\".format(df.iloc[i,j])\n",
    "        df.iloc[i,j]=df.iloc[i,j].replace('.',',')"
   ]
  },
  {
   "cell_type": "code",
   "execution_count": null,
   "metadata": {},
   "outputs": [],
   "source": [
    "slide = prs.slides[slide_6_2]\n",
    "table = [shape for shape in slide.shapes if shape.has_table]\n",
    "for i in range(2,19):\n",
    "    for j in range(1,15):\n",
    "        table[0].table.cell(i,j).text = df.iloc[i-2, j-1]\n",
    "        run = table[0].table.cell(i,j).text_frame.paragraphs[0]\n",
    "        run.font.bold = False\n",
    "        run.font.size = Pt(6)\n",
    "        cell = table[0].table.cell(i, j)\n",
    "        cell.text_frame.paragraphs[0].alignment=PP_ALIGN.CENTER\n",
    "for j in range(1,15):\n",
    "    run = table[0].table.cell(2,j).text_frame.paragraphs[0]\n",
    "    run.font.bold = True"
   ]
  },
  {
   "cell_type": "code",
   "execution_count": null,
   "metadata": {},
   "outputs": [],
   "source": [
    "for i in range(2,19):\n",
    "    for j in range(2,5):\n",
    "        run = table[0].table.cell(i,j).text_frame.paragraphs[0]\n",
    "        run.font.color.rgb = RGBColor(142,142,142)"
   ]
  },
  {
   "cell_type": "code",
   "execution_count": null,
   "metadata": {},
   "outputs": [],
   "source": [
    "slide_text = [shape for shape in slide.shapes if shape.has_text_frame]"
   ]
  },
  {
   "cell_type": "code",
   "execution_count": null,
   "metadata": {},
   "outputs": [],
   "source": [
    "text_data(3)"
   ]
  },
  {
   "cell_type": "code",
   "execution_count": null,
   "metadata": {},
   "outputs": [],
   "source": [
    "prs.save(presentation)"
   ]
  },
  {
   "cell_type": "markdown",
   "metadata": {},
   "source": [
    "## Слайд 6_3"
   ]
  },
  {
   "cell_type": "code",
   "execution_count": null,
   "metadata": {},
   "outputs": [],
   "source": [
    "CIB = ['CIB', 'КИБ']\n",
    "MCB = ['MCB', 'MCB_MASS', 'MCB_STANDART', 'MCB_TOP', 'SMALL', 'Средний и малый бизнес']\n",
    "RB = ['Retail', 'Retail_other', 'Retail_Mass', 'Retail_Private',\n",
    "       'Retail_Privelege', 'Retail_Other', 'Розничный бизнес']"
   ]
  },
  {
   "cell_type": "code",
   "execution_count": null,
   "metadata": {},
   "outputs": [],
   "source": [
    "EC_1['Сегмент']=EC_1['ГБЛ']"
   ]
  },
  {
   "cell_type": "code",
   "execution_count": null,
   "metadata": {},
   "outputs": [],
   "source": [
    "EC_1['Сегмент'] = EC_1['Сегмент'].apply(lambda x : 'КИБ' if x in CIB \n",
    "else 'СМБ' if x in MCB else 'РБ' if x in RB\n",
    "else 'Прочее')"
   ]
  },
  {
   "cell_type": "code",
   "execution_count": null,
   "metadata": {},
   "outputs": [],
   "source": [
    "def slide_6_3_(segm, dat):\n",
    "    ecc = EC_1[EC_1['Дата'] == dat]\n",
    "    piv_1 =ecc.pivot_table(index = ['Сегмент', 'Вид риска'], values = ['Значение, млн.руб.'], aggfunc='sum').reset_index()\n",
    "    piv_2 =ecc.pivot_table(index = ['Сегмент', 'Подвид риска'], values = ['Значение, млн.руб.'], aggfunc='sum').reset_index()\n",
    "    cib12=piv_2[piv_2['Сегмент'].isin(segm)]\n",
    "    cib1=piv_1[piv_1['Сегмент'].isin(segm)]\n",
    "    data_1=[]\n",
    "    data_1.append(cib1[cib1['Вид риска']== 'Кредитный']['Значение, млн.руб.'].values[0])\n",
    "    data_1.append(cib1[cib1['Вид риска']== 'Рыночный']['Значение, млн.руб.'].values[0])\n",
    "    try:\n",
    "        data_1.append(cib12[cib12['Подвид риска']== 'Процентный']['Значение, млн.руб.'].values[0])\n",
    "    except:\n",
    "        data_1.append('-')\n",
    "    try:\n",
    "        data_1.append(cib12[cib12['Подвид риска']== 'Валютный']['Значение, млн.руб.'].values[0])\n",
    "    except:\n",
    "        data_1.append('-')\n",
    "    try:\n",
    "        data_1.append(cib12[cib12['Подвид риска']== 'Торговый']['Значение, млн.руб.'].values[0])\n",
    "    except:\n",
    "        data_1.append('-')\n",
    "    data_1.append(cib1[cib1['Вид риска']== 'Операционный']['Значение, млн.руб.'].values[0])\n",
    "    try:\n",
    "        data_1.append(cib1[cib1['Вид риска']== 'Концентрации']['Значение, млн.руб.'].values[0])\n",
    "    except:\n",
    "        data_1.append('-')\n",
    "    data_1.append(cib1[cib1['Вид риска']== 'Недвижимость']['Значение, млн.руб.'].values[0])\n",
    "    try:\n",
    "        data_1.append(cib1[cib1['Вид риска']== 'Пенсионный']['Значение, млн.руб.'].values[0])\n",
    "    except:\n",
    "        data_1.append('-')\n",
    "    data_1.append(cib1[cib1['Вид риска']== 'Модельный']['Значение, млн.руб.'].values[0])\n",
    "    try:\n",
    "        data_1.append(cib1[cib1['Вид риска']== 'Ликвидности']['Значение, млн.руб.'].values[0])\n",
    "    except:\n",
    "        data_1.append('-')\n",
    "    try:\n",
    "        data_1.append(cib1[cib1['Вид риска']== 'Секъюритизации']['Значение, млн.руб.'].values[0])\n",
    "    except:\n",
    "        data_1.append('-')\n",
    "    data_1.append(cib1[cib1['Вид риска']== 'Страновой']['Значение, млн.руб.'].values[0])\n",
    "    data_1.append(ecc[ecc['Сегмент'].isin(segm)]['Буфер ЭК'].sum())\n",
    "    data_1.append(ecc[ecc['Сегмент'].isin(segm)]['ЭК с учетом буфера'].sum())\n",
    "    return data_1"
   ]
  },
  {
   "cell_type": "code",
   "execution_count": null,
   "metadata": {},
   "outputs": [],
   "source": [
    "def function_new(dat):   \n",
    "    ecc = EC_1[EC_1['Дата'] == dat]\n",
    "    piv_1 =ecc.pivot_table(index = ['Вид риска'], values = ['Значение, млн.руб.'], aggfunc='sum').reset_index()\n",
    "    piv_2 =ecc.pivot_table(index = ['Подвид риска'], values = ['Значение, млн.руб.'], aggfunc='sum').reset_index()\n",
    "    data_5=[]\n",
    "    data_5.append(piv_1[piv_1['Вид риска']== 'Кредитный']['Значение, млн.руб.'].values[0])\n",
    "    data_5.append(piv_1[piv_1['Вид риска']== 'Рыночный']['Значение, млн.руб.'].values[0])\n",
    "    try:\n",
    "        data_5.append(piv_2[piv_2['Подвид риска']== 'Процентный']['Значение, млн.руб.'].values[0])\n",
    "    except:\n",
    "        data_5.append('-')\n",
    "    try:\n",
    "        data_5.append(piv_2[piv_2['Подвид риска']== 'Валютный']['Значение, млн.руб.'].values[0])\n",
    "    except:\n",
    "        data_5.append('-')\n",
    "    try:\n",
    "        data_5.append(piv_2[piv_2['Подвид риска']== 'Торговый']['Значение, млн.руб.'].values[0])\n",
    "    except:\n",
    "        data_5.append('-')\n",
    "    data_5.append(piv_1[piv_1['Вид риска']== 'Операционный']['Значение, млн.руб.'].values[0])\n",
    "    try:\n",
    "        data_5.append(piv_1[piv_1['Вид риска']== 'Концентрации']['Значение, млн.руб.'].values[0])\n",
    "    except:\n",
    "        data_5.append('-')\n",
    "    data_5.append(piv_1[piv_1['Вид риска']== 'Недвижимость']['Значение, млн.руб.'].values[0])\n",
    "    try:\n",
    "        data_5.append(piv_1[piv_1['Вид риска']== 'Пенсионный']['Значение, млн.руб.'].values[0])\n",
    "    except:\n",
    "        data_5.append('-')\n",
    "    data_5.append(piv_1[piv_1['Вид риска']== 'Модельный']['Значение, млн.руб.'].values[0])\n",
    "    try:\n",
    "        data_5.append(piv_1[piv_1['Вид риска']== 'Ликвидности']['Значение, млн.руб.'].values[0])\n",
    "    except:\n",
    "        data_5.append('-')\n",
    "    try:\n",
    "        data_5.append(piv_1[piv_1['Вид риска']== 'Секъюритизации']['Значение, млн.руб.'].values[0])\n",
    "    except:\n",
    "        data_5.append('-')\n",
    "    data_5.append(piv_1[piv_1['Вид риска']== 'Страновой']['Значение, млн.руб.'].values[0])\n",
    "    data_5.append(ecc['Буфер ЭК'].sum())\n",
    "    data_5.append(ecc['ЭК с учетом буфера'].sum())\n",
    "    return data_5"
   ]
  },
  {
   "cell_type": "code",
   "execution_count": null,
   "metadata": {},
   "outputs": [],
   "source": [
    "data_1 = slide_6_3_(['КИБ'], dat_1)\n",
    "data_2 = slide_6_3_(['СМБ'], dat_1)\n",
    "data_3 = slide_6_3_(['РБ'], dat_1)\n",
    "data_4 = slide_6_3_(['Прочее'], dat_1)\n",
    "data_5=function_new(dat_1)\n",
    "data_6 = slide_6_3_(['КИБ'], dat_2)\n",
    "data_7 = slide_6_3_(['СМБ'], dat_2)\n",
    "data_8 = slide_6_3_(['РБ'], dat_2)\n",
    "data_9 = slide_6_3_(['Прочее'], dat_2)\n",
    "data_10=function_new(dat_2)\n",
    "data_11 = slide_6_3_(['КИБ'], dat_3)\n",
    "data_12 = slide_6_3_(['СМБ'], dat_3)\n",
    "data_13 = slide_6_3_(['РБ'], dat_3)\n",
    "data_14 = slide_6_3_(['Прочее'], dat_3)\n",
    "data_15=function_new(dat_3)"
   ]
  },
  {
   "cell_type": "code",
   "execution_count": null,
   "metadata": {},
   "outputs": [],
   "source": [
    "data = {'ff':data_1, 'g':data_2,\n",
    "       'h': data_3,'q':data_4, 'w':data_5,\n",
    "       'u': data_6,'y':data_7, 'e':data_8,\n",
    "       'z': data_9,'n':data_10, 'b':data_11,\n",
    "       'x': data_12,'c': data_13,'v': data_14,'ll': data_15}\n",
    "df=pd.DataFrame(data=data)"
   ]
  },
  {
   "cell_type": "code",
   "execution_count": null,
   "metadata": {},
   "outputs": [],
   "source": [
    "for i in range(0, len(df)):\n",
    "    for j in range (0,df.shape[1]):\n",
    "        if df.iloc[i,j]!='-':\n",
    "            df.iloc[i,j] =df.iloc[i,j]/1000\n",
    "            df.iloc[i,j] = \"{0:.1f}\".format(df.iloc[i,j])\n",
    "        df.iloc[i,j]=df.iloc[i,j].replace('.',',')"
   ]
  },
  {
   "cell_type": "code",
   "execution_count": null,
   "metadata": {},
   "outputs": [],
   "source": [
    "slide = prs.slides[slide_6_3]\n",
    "table = [shape for shape in slide.shapes if shape.has_table]\n",
    "for i in range(2,17):\n",
    "    for j in range(1,16):\n",
    "        table[0].table.cell(i,j).text = df.iloc[i-2, j-1]\n",
    "        run = table[0].table.cell(i,j).text_frame.paragraphs[0]\n",
    "        run.font.bold = False\n",
    "        run.font.size = Pt(6)\n",
    "        cell = table[0].table.cell(i, j)\n",
    "        cell.text_frame.paragraphs[0].alignment=PP_ALIGN.CENTER\n",
    "#for j in range(1,15):\n",
    "#    run = table[0].table.cell(2,j).text_frame.paragraphs[0]\n",
    " #   run.font.bold = True"
   ]
  },
  {
   "cell_type": "code",
   "execution_count": null,
   "metadata": {},
   "outputs": [],
   "source": [
    "for i in range(4,7):\n",
    "    for j in range(1,16):\n",
    "        run = table[0].table.cell(i,j).text_frame.paragraphs[0]\n",
    "        run.font.color.rgb = RGBColor(142,142,142)"
   ]
  },
  {
   "cell_type": "code",
   "execution_count": null,
   "metadata": {},
   "outputs": [],
   "source": [
    "for j in range(1,16):\n",
    "    run = table[0].table.cell(16,j).text_frame.paragraphs[0]\n",
    "    run.font.color.rgb = RGBColor(255,255,255)\n",
    "    run.font.bold = True"
   ]
  },
  {
   "cell_type": "code",
   "execution_count": null,
   "metadata": {},
   "outputs": [],
   "source": [
    "table[0].table.cell(0,1).text = dat_1\n",
    "run = table[0].table.cell(0,1).text_frame.paragraphs[0]\n",
    "run.font.bold = True\n",
    "run.font.size = Pt(6)\n",
    "run.font.color.rgb = RGBColor(255,255,255)\n",
    "table[0].table.cell(0, 1).text_frame.paragraphs[0].alignment=PP_ALIGN.CENTER"
   ]
  },
  {
   "cell_type": "code",
   "execution_count": null,
   "metadata": {},
   "outputs": [],
   "source": [
    "table[0].table.cell(0,6).text = dat_2\n",
    "run = table[0].table.cell(0,6).text_frame.paragraphs[0]\n",
    "run.font.bold = True\n",
    "run.font.size = Pt(6)\n",
    "run.font.color.rgb = RGBColor(255,255,255)\n",
    "table[0].table.cell(0, 6).text_frame.paragraphs[0].alignment=PP_ALIGN.CENTER"
   ]
  },
  {
   "cell_type": "code",
   "execution_count": null,
   "metadata": {},
   "outputs": [],
   "source": [
    "table[0].table.cell(0,11).text = dat_3\n",
    "run = table[0].table.cell(0,11).text_frame.paragraphs[0]\n",
    "run.font.bold = True\n",
    "run.font.size = Pt(6)\n",
    "run.font.color.rgb = RGBColor(255,255,255)\n",
    "table[0].table.cell(0, 11).text_frame.paragraphs[0].alignment=PP_ALIGN.CENTER"
   ]
  },
  {
   "cell_type": "code",
   "execution_count": null,
   "metadata": {},
   "outputs": [],
   "source": [
    "slide_text = [shape for shape in slide.shapes if shape.has_text_frame]"
   ]
  },
  {
   "cell_type": "code",
   "execution_count": null,
   "metadata": {},
   "outputs": [],
   "source": [
    "text_data(4)"
   ]
  },
  {
   "cell_type": "code",
   "execution_count": null,
   "metadata": {},
   "outputs": [],
   "source": [
    "prs.save(presentation)"
   ]
  },
  {
   "cell_type": "code",
   "execution_count": null,
   "metadata": {},
   "outputs": [],
   "source": [
    "for i in range (0, len(baza)):\n",
    "    if type(baza['Дата'][i])!= str:\n",
    "        datetime_object = baza['Дата'][i]\n",
    "        baza['Дата'][i] = datetime_object.strftime('%d.%m.%Y')\n",
    "data_1 =[]\n",
    "data_2 =[]\n",
    "data_3 =[]\n",
    "data_1.append(EC_1[(EC_1['Дата'] == dat_1)]['ЭК с учетом буфера'].sum()/1000)\n",
    "data_1.append(baza[(baza['Показатель риск-аппетита'] == 'Собственные средства (капитал) РСБУ')&(baza['Дата'] == dat_1)&(baza['Компания Группы'] == 'Группа ВТБ')]['Значение (число)'].to_list()[0])\n",
    "data_2.append(EC_1[(EC_1['Дата'] == dat_2)]['ЭК с учетом буфера'].sum()/1000)\n",
    "data_2.append(baza[(baza['Показатель риск-аппетита'] == 'Собственные средства (капитал) РСБУ')&(baza['Дата'] == dat_2)&(baza['Компания Группы'] == 'Группа ВТБ')]['Значение (число)'].to_list()[0])\n",
    "data_3.append(EC_1[(EC_1['Дата'] == dat_3)]['ЭК с учетом буфера'].sum()/1000)\n",
    "data_3.append(baza[(baza['Показатель риск-аппетита'] == 'Собственные средства (капитал) РСБУ')&(baza['Дата'] == dat_3)&(baza['Компания Группы'] == 'Группа ВТБ')]['Значение (число)'].to_list()[0])\n",
    "data_1.append(\"{0:.1%}\".format(data_1[1]/data_1[0]))\n",
    "data_2.append(\"{0:.1%}\".format(data_2[1]/data_2[0]))\n",
    "data_3.append(\"{0:.1%}\".format(data_3[1]/data_3[0]))\n",
    "data = {dat_1:data_1, dat_2:data_2,\n",
    "       dat_3: data_3}\n",
    "df=pd.DataFrame(data=data)\n",
    "for i in range(0, len(df)-1):\n",
    "    for j in range (0,df.shape[1]):\n",
    "        df.iloc[i,j] = \"{0:.1f}\".format(df.iloc[i,j])\n",
    "for i in range(0, len(df)):\n",
    "    for j in range (0,df.shape[1]):       \n",
    "        df.iloc[i,j]=df.iloc[i,j].replace('.',',')\n",
    "for i in range(1,4):\n",
    "    for j in range(1,4):\n",
    "        table[1].table.cell(i,j).text = df.iloc[i-1, j-1]\n",
    "        run = table[1].table.cell(i,j).text_frame.paragraphs[0]\n",
    "        run.font.bold = False\n",
    "        run.font.size = Pt(6)\n",
    "        cell = table[1].table.cell(i, j)\n",
    "        cell.text_frame.paragraphs[0].alignment=PP_ALIGN.CENTER\n",
    "table[1].table.cell(0,1).text = dat_1\n",
    "run = table[1].table.cell(0,1).text_frame.paragraphs[0]\n",
    "run.font.bold = True\n",
    "run.font.size = Pt(6)\n",
    "run.font.color.rgb = RGBColor(255,255,255)\n",
    "table[1].table.cell(0, 1).text_frame.paragraphs[0].alignment=PP_ALIGN.CENTER\n",
    "table[1].table.cell(0,2).text = dat_2\n",
    "run = table[1].table.cell(0,2).text_frame.paragraphs[0]\n",
    "run.font.bold = True\n",
    "run.font.size = Pt(6)\n",
    "run.font.color.rgb = RGBColor(255,255,255)\n",
    "table[1].table.cell(0, 2).text_frame.paragraphs[0].alignment=PP_ALIGN.CENTER\n",
    "table[1].table.cell(0,3).text = dat_3\n",
    "run = table[1].table.cell(0,3).text_frame.paragraphs[0]\n",
    "run.font.bold = True\n",
    "run.font.size = Pt(6)\n",
    "run.font.color.rgb = RGBColor(255,255,255)\n",
    "table[1].table.cell(0, 3).text_frame.paragraphs[0].alignment=PP_ALIGN.CENTER\n",
    "prs.save(presentation)"
   ]
  },
  {
   "cell_type": "code",
   "execution_count": null,
   "metadata": {},
   "outputs": [],
   "source": [
    "data_1 =[]\n",
    "data_2 =[]\n",
    "data_3 =[]\n",
    "data_1.append(\"{0:.0f}\".format(float(baza[(baza['Дата'] == dat_1)&(baza['Компания Группы'] == 'Группа ВТБ')&(baza['Показатель риск-аппетита'] == 'Собственные средства (капитал) РСБУ')]['Значение (число)'])/float(baza[(baza['Дата'] == dat_1)&(baza['Компания Группы'] == 'Группа ВТБ')&(baza['Показатель риск-аппетита'] == 'Достаточность капитала (Н20.0, РСБУ, %)')]['Значение (число)'])*11.5))\n",
    "data_1.append(\"{0:.0f}\".format(float(baza[(baza['Дата'] == dat_1)&(baza['Компания Группы'] == 'Группа ВТБ')&(baza['Показатель риск-аппетита'] == 'Собственные средства (капитал) РСБУ')]['Значение (число)'])/float(baza[(baza['Дата'] == dat_1)&(baza['Компания Группы'] == 'Группа ВТБ')&(baza['Показатель риск-аппетита'] == 'Достаточность капитала (Н20.0, РСБУ, %)')]['Значение (число)'])*8))\n",
    "data_2.append(\"{0:.0f}\".format(float(baza[(baza['Дата'] == dat_2)&(baza['Компания Группы'] == 'Группа ВТБ')&(baza['Показатель риск-аппетита'] == 'Собственные средства (капитал) РСБУ')]['Значение (число)'])/float(baza[(baza['Дата'] == dat_2)&(baza['Компания Группы'] == 'Группа ВТБ')&(baza['Показатель риск-аппетита'] == 'Достаточность капитала (Н20.0, РСБУ, %)')]['Значение (число)'])*11.5))\n",
    "data_2.append(\"{0:.0f}\".format(float(baza[(baza['Дата'] == dat_2)&(baza['Компания Группы'] == 'Группа ВТБ')&(baza['Показатель риск-аппетита'] == 'Собственные средства (капитал) РСБУ')]['Значение (число)'])/float(baza[(baza['Дата'] == dat_2)&(baza['Компания Группы'] == 'Группа ВТБ')&(baza['Показатель риск-аппетита'] == 'Достаточность капитала (Н20.0, РСБУ, %)')]['Значение (число)'])*8))\n",
    "data_3.append(\"{0:.0f}\".format(float(baza[(baza['Дата'] == dat_3)&(baza['Компания Группы'] == 'Группа ВТБ')&(baza['Показатель риск-аппетита'] == 'Собственные средства (капитал) РСБУ')]['Значение (число)'])/float(baza[(baza['Дата'] == dat_3)&(baza['Компания Группы'] == 'Группа ВТБ')&(baza['Показатель риск-аппетита'] == 'Достаточность капитала (Н20.0, РСБУ, %)')]['Значение (число)'])*11.5))\n",
    "data_3.append(\"{0:.0f}\".format(float(baza[(baza['Дата'] == dat_3)&(baza['Компания Группы'] == 'Группа ВТБ')&(baza['Показатель риск-аппетита'] == 'Собственные средства (капитал) РСБУ')]['Значение (число)'])/float(baza[(baza['Дата'] == dat_3)&(baza['Компания Группы'] == 'Группа ВТБ')&(baza['Показатель риск-аппетита'] == 'Достаточность капитала (Н20.0, РСБУ, %)')]['Значение (число)'])*8))\n",
    "data_1.append(\"{0:.0f}\".format(float(baza[(baza['Дата'] == dat_1)&(baza['Компания Группы'] == 'Группа ВТБ')&(baza['Показатель риск-аппетита'] == 'Собственные средства Группы (МСФО)')]['Значение (число)'])))\n",
    "data_2.append(\"{0:.0f}\".format(float(baza[(baza['Дата'] == dat_2)&(baza['Компания Группы'] == 'Группа ВТБ')&(baza['Показатель риск-аппетита'] == 'Собственные средства Группы (МСФО)')]['Значение (число)'])))\n",
    "data_3.append(\"{0:.0f}\".format(float(baza[(baza['Дата'] == dat_3)&(baza['Компания Группы'] == 'Группа ВТБ')&(baza['Показатель риск-аппетита'] == 'Собственные средства Группы (МСФО)')]['Значение (число)'])))"
   ]
  },
  {
   "cell_type": "code",
   "execution_count": null,
   "metadata": {},
   "outputs": [],
   "source": [
    "data = {dat_1:data_1, dat_2:data_2,\n",
    "       dat_3: data_3}\n",
    "df=pd.DataFrame(data=data)"
   ]
  },
  {
   "cell_type": "code",
   "execution_count": null,
   "metadata": {},
   "outputs": [],
   "source": [
    "for i in range(0, len(df)):\n",
    "    for j in range (0,df.shape[1]):       \n",
    "        df.iloc[i,j]=df.iloc[i,j].replace('.',',')\n",
    "for i in range(6,9):\n",
    "    for j in range(1,4):\n",
    "        table[1].table.cell(i,j).text = df.iloc[i-6, j-1]\n",
    "        run = table[1].table.cell(i,j).text_frame.paragraphs[0]\n",
    "        run.font.bold = False\n",
    "        run.font.size = Pt(6)\n",
    "        cell = table[1].table.cell(i, j)\n",
    "        cell.text_frame.paragraphs[0].alignment=PP_ALIGN.CENTER\n",
    "        run.font.color.rgb = RGBColor(86,86,86)"
   ]
  },
  {
   "cell_type": "code",
   "execution_count": null,
   "metadata": {},
   "outputs": [],
   "source": [
    "prs.save(presentation)"
   ]
  },
  {
   "cell_type": "markdown",
   "metadata": {},
   "source": [
    "### 6.4"
   ]
  },
  {
   "cell_type": "code",
   "execution_count": null,
   "metadata": {},
   "outputs": [],
   "source": [
    "EC_1 = ec[(ec['Подход'] == 'Соло')& (ec['Методика'] == 'Вер.2')& (ec['Показатель'] == 'ЭК')].reset_index(drop=True)"
   ]
  },
  {
   "cell_type": "code",
   "execution_count": null,
   "metadata": {},
   "outputs": [],
   "source": [
    "EC_1['ДК']=EC_1['ДК'].fillna('-')\n",
    "for i in range (0, len(EC_1)): \n",
    "    datetime_object = EC_1['Дата'][i]\n",
    "    EC_1['Дата'][i] = datetime_object.strftime('%d.%m.%Y')\n",
    "dat_1 = df_1_0.Report_date[0]\n",
    "dat_2 = df_2_0.Report_date[0]\n",
    "dat_3 = df_3_0.Report_date[0]"
   ]
  },
  {
   "cell_type": "code",
   "execution_count": null,
   "metadata": {},
   "outputs": [],
   "source": [
    "EC_1['Сегмент']=EC_1['ГБЛ']"
   ]
  },
  {
   "cell_type": "code",
   "execution_count": null,
   "metadata": {},
   "outputs": [],
   "source": [
    "EC_1['Сегмент'] = EC_1['Сегмент'].apply(lambda x : 'КИБ' if x in CIB \n",
    "else 'СМБ' if x in MCB else 'РБ' if x in RB\n",
    "else 'Прочее')"
   ]
  },
  {
   "cell_type": "code",
   "execution_count": null,
   "metadata": {},
   "outputs": [],
   "source": [
    "data_1 = slide_6_3_(['КИБ'], dat_1)\n",
    "data_2 = slide_6_3_(['СМБ'], dat_1)\n",
    "data_3 = slide_6_3_(['РБ'], dat_1)\n",
    "data_4 = slide_6_3_(['Прочее'], dat_1)\n",
    "data_5=function_new(dat_1)\n",
    "data_6 = slide_6_3_(['КИБ'], dat_2)\n",
    "data_7 = slide_6_3_(['СМБ'], dat_2)\n",
    "data_8 = slide_6_3_(['РБ'], dat_2)\n",
    "data_9 = slide_6_3_(['Прочее'], dat_2)\n",
    "data_10=function_new(dat_2)\n",
    "data_11 = slide_6_3_(['КИБ'], dat_3)\n",
    "data_12 = slide_6_3_(['СМБ'], dat_3)\n",
    "data_13 = slide_6_3_(['РБ'], dat_3)\n",
    "data_14 = slide_6_3_(['Прочее'], dat_3)\n",
    "data_15=function_new(dat_3)"
   ]
  },
  {
   "cell_type": "code",
   "execution_count": null,
   "metadata": {},
   "outputs": [],
   "source": [
    "data = {'ff':data_1, 'g':data_2,\n",
    "       'h': data_3,'q':data_4, 'w':data_5,\n",
    "       'u': data_6,'y':data_7, 'e':data_8,\n",
    "       'z': data_9,'n':data_10, 'b':data_11,\n",
    "       'x': data_12,'c': data_13,'v': data_14,'ll': data_15}\n",
    "df=pd.DataFrame(data=data)"
   ]
  },
  {
   "cell_type": "code",
   "execution_count": null,
   "metadata": {},
   "outputs": [],
   "source": [
    "for i in range(0, len(df)):\n",
    "    for j in range (0,df.shape[1]):\n",
    "        if df.iloc[i,j]!='-':\n",
    "            df.iloc[i,j] =df.iloc[i,j]/1000\n",
    "            df.iloc[i,j] = \"{0:.1f}\".format(df.iloc[i,j])\n",
    "        df.iloc[i,j]=df.iloc[i,j].replace('.',',')"
   ]
  },
  {
   "cell_type": "code",
   "execution_count": null,
   "metadata": {},
   "outputs": [],
   "source": [
    "df = df.drop(df.index[8]).reset_index(drop=True)"
   ]
  },
  {
   "cell_type": "code",
   "execution_count": null,
   "metadata": {},
   "outputs": [],
   "source": [
    "slide = prs.slides[slide_6_4]\n",
    "table = [shape for shape in slide.shapes if shape.has_table]\n",
    "for i in range(2,16):\n",
    "    for j in range(1,16):\n",
    "        table[0].table.cell(i,j).text = df.iloc[i-2, j-1]\n",
    "        run = table[0].table.cell(i,j).text_frame.paragraphs[0]\n",
    "        run.font.bold = False\n",
    "        run.font.size = Pt(6)\n",
    "        cell = table[0].table.cell(i, j)\n",
    "        cell.text_frame.paragraphs[0].alignment=PP_ALIGN.CENTER\n",
    "#for j in range(1,15):\n",
    "#    run = table[0].table.cell(2,j).text_frame.paragraphs[0]\n",
    " #   run.font.bold = True"
   ]
  },
  {
   "cell_type": "code",
   "execution_count": null,
   "metadata": {},
   "outputs": [],
   "source": [
    "for i in range(4,7):\n",
    "    for j in range(1,16):\n",
    "        run = table[0].table.cell(i,j).text_frame.paragraphs[0]\n",
    "        run.font.color.rgb = RGBColor(142,142,142)"
   ]
  },
  {
   "cell_type": "code",
   "execution_count": null,
   "metadata": {},
   "outputs": [],
   "source": [
    "for j in range(1,16):\n",
    "    run = table[0].table.cell(15,j).text_frame.paragraphs[0]\n",
    "    run.font.color.rgb = RGBColor(255,255,255)\n",
    "    run.font.bold = True"
   ]
  },
  {
   "cell_type": "code",
   "execution_count": null,
   "metadata": {},
   "outputs": [],
   "source": [
    "table[0].table.cell(0,1).text = dat_1\n",
    "run = table[0].table.cell(0,1).text_frame.paragraphs[0]\n",
    "run.font.bold = True\n",
    "run.font.size = Pt(6)\n",
    "run.font.color.rgb = RGBColor(255,255,255)\n",
    "table[0].table.cell(0, 1).text_frame.paragraphs[0].alignment=PP_ALIGN.CENTER"
   ]
  },
  {
   "cell_type": "code",
   "execution_count": null,
   "metadata": {},
   "outputs": [],
   "source": [
    "table[0].table.cell(0,6).text = dat_2\n",
    "run = table[0].table.cell(0,6).text_frame.paragraphs[0]\n",
    "run.font.bold = True\n",
    "run.font.size = Pt(6)\n",
    "run.font.color.rgb = RGBColor(255,255,255)\n",
    "table[0].table.cell(0, 6).text_frame.paragraphs[0].alignment=PP_ALIGN.CENTER"
   ]
  },
  {
   "cell_type": "code",
   "execution_count": null,
   "metadata": {},
   "outputs": [],
   "source": [
    "table[0].table.cell(0,11).text = dat_3\n",
    "run = table[0].table.cell(0,11).text_frame.paragraphs[0]\n",
    "run.font.bold = True\n",
    "run.font.size = Pt(6)\n",
    "run.font.color.rgb = RGBColor(255,255,255)\n",
    "table[0].table.cell(0, 11).text_frame.paragraphs[0].alignment=PP_ALIGN.CENTER"
   ]
  },
  {
   "cell_type": "code",
   "execution_count": null,
   "metadata": {},
   "outputs": [],
   "source": [
    "slide_text = [shape for shape in slide.shapes if shape.has_text_frame]"
   ]
  },
  {
   "cell_type": "code",
   "execution_count": null,
   "metadata": {},
   "outputs": [],
   "source": [
    "text_data(4)"
   ]
  },
  {
   "cell_type": "code",
   "execution_count": null,
   "metadata": {},
   "outputs": [],
   "source": [
    "prs.save(presentation)"
   ]
  },
  {
   "cell_type": "code",
   "execution_count": null,
   "metadata": {},
   "outputs": [],
   "source": [
    "for i in range (0, len(baza)):\n",
    "    if type(baza['Дата'][i])!= str:\n",
    "        datetime_object = baza['Дата'][i]\n",
    "        baza['Дата'][i] = datetime_object.strftime('%d.%m.%Y')\n",
    "data_1 =[]\n",
    "data_2 =[]\n",
    "data_3 =[]\n",
    "data_1.append(EC_1[(EC_1['Дата'] == dat_1)]['ЭК с учетом буфера'].sum()/1000)\n",
    "data_1.append(baza[(baza['Показатель риск-аппетита'] == 'Собственные средства (капитал) РСБУ')&(baza['Дата'] == dat_1)&(baza['Компания Группы'] == 'Банк ВТБ')]['Значение (число)'].to_list()[0])\n",
    "data_2.append(EC_1[(EC_1['Дата'] == dat_2)]['ЭК с учетом буфера'].sum()/1000)\n",
    "data_2.append(baza[(baza['Показатель риск-аппетита'] == 'Собственные средства (капитал) РСБУ')&(baza['Дата'] == dat_2)&(baza['Компания Группы'] == 'Банк ВТБ')]['Значение (число)'].to_list()[0])\n",
    "data_3.append(EC_1[(EC_1['Дата'] == dat_3)]['ЭК с учетом буфера'].sum()/1000)\n",
    "data_3.append(baza[(baza['Показатель риск-аппетита'] == 'Собственные средства (капитал) РСБУ')&(baza['Дата'] == dat_3)&(baza['Компания Группы'] == 'Банк ВТБ')]['Значение (число)'].to_list()[0])\n",
    "data_1.append(\"{0:.1%}\".format(data_1[1]/data_1[0]))\n",
    "data_2.append(\"{0:.1%}\".format(data_2[1]/data_2[0]))\n",
    "data_3.append(\"{0:.1%}\".format(data_3[1]/data_3[0]))\n",
    "data = {dat_1:data_1, dat_2:data_2,\n",
    "       dat_3: data_3}\n",
    "df=pd.DataFrame(data=data)\n",
    "for i in range(0, len(df)-1):\n",
    "    for j in range (0,df.shape[1]):\n",
    "        df.iloc[i,j] = \"{0:.1f}\".format(df.iloc[i,j])\n",
    "for i in range(0, len(df)):\n",
    "    for j in range (0,df.shape[1]):       \n",
    "        df.iloc[i,j]=df.iloc[i,j].replace('.',',')\n",
    "for i in range(1,4):\n",
    "    for j in range(1,4):\n",
    "        table[1].table.cell(i,j).text = df.iloc[i-1, j-1]\n",
    "        run = table[1].table.cell(i,j).text_frame.paragraphs[0]\n",
    "        run.font.bold = False\n",
    "        run.font.size = Pt(6)\n",
    "        cell = table[1].table.cell(i, j)\n",
    "        cell.text_frame.paragraphs[0].alignment=PP_ALIGN.CENTER\n",
    "table[1].table.cell(0,1).text = dat_1\n",
    "run = table[1].table.cell(0,1).text_frame.paragraphs[0]\n",
    "run.font.bold = True\n",
    "run.font.size = Pt(6)\n",
    "run.font.color.rgb = RGBColor(255,255,255)\n",
    "table[1].table.cell(0, 1).text_frame.paragraphs[0].alignment=PP_ALIGN.CENTER\n",
    "table[1].table.cell(0,2).text = dat_2\n",
    "run = table[1].table.cell(0,2).text_frame.paragraphs[0]\n",
    "run.font.bold = True\n",
    "run.font.size = Pt(6)\n",
    "run.font.color.rgb = RGBColor(255,255,255)\n",
    "table[1].table.cell(0, 2).text_frame.paragraphs[0].alignment=PP_ALIGN.CENTER\n",
    "table[1].table.cell(0,3).text = dat_3\n",
    "run = table[1].table.cell(0,3).text_frame.paragraphs[0]\n",
    "run.font.bold = True\n",
    "run.font.size = Pt(6)\n",
    "run.font.color.rgb = RGBColor(255,255,255)\n",
    "table[1].table.cell(0, 3).text_frame.paragraphs[0].alignment=PP_ALIGN.CENTER\n",
    "prs.save(presentation)"
   ]
  },
  {
   "cell_type": "code",
   "execution_count": null,
   "metadata": {},
   "outputs": [],
   "source": [
    "data_1 =[]\n",
    "data_2 =[]\n",
    "data_3 =[]\n",
    "data_1.append(\"{0:.0f}\".format(float(baza[(baza['Дата'] == dat_1)&(baza['Компания Группы'] == 'Банк ВТБ')&(baza['Показатель риск-аппетита'] == 'Собственные средства (капитал) РСБУ')]['Значение (число)'])/float(baza[(baza['Дата'] == dat_1)&(baza['Компания Группы'] == 'Группа ВТБ')&(baza['Показатель риск-аппетита'] == 'Достаточность капитала (Н20.0, РСБУ, %)')]['Значение (число)'])*10))\n",
    "data_1.append(\"{0:.0f}\".format(float(baza[(baza['Дата'] == dat_1)&(baza['Компания Группы'] == 'Банк ВТБ')&(baza['Показатель риск-аппетита'] == 'Собственные средства (капитал) РСБУ')]['Значение (число)'])/float(baza[(baza['Дата'] == dat_1)&(baza['Компания Группы'] == 'Группа ВТБ')&(baza['Показатель риск-аппетита'] == 'Достаточность капитала (Н20.0, РСБУ, %)')]['Значение (число)'])*8))\n",
    "data_2.append(\"{0:.0f}\".format(float(baza[(baza['Дата'] == dat_2)&(baza['Компания Группы'] == 'Банк ВТБ')&(baza['Показатель риск-аппетита'] == 'Собственные средства (капитал) РСБУ')]['Значение (число)'])/float(baza[(baza['Дата'] == dat_2)&(baza['Компания Группы'] == 'Группа ВТБ')&(baza['Показатель риск-аппетита'] == 'Достаточность капитала (Н20.0, РСБУ, %)')]['Значение (число)'])*10))\n",
    "data_2.append(\"{0:.0f}\".format(float(baza[(baza['Дата'] == dat_2)&(baza['Компания Группы'] == 'Банк ВТБ')&(baza['Показатель риск-аппетита'] == 'Собственные средства (капитал) РСБУ')]['Значение (число)'])/float(baza[(baza['Дата'] == dat_2)&(baza['Компания Группы'] == 'Группа ВТБ')&(baza['Показатель риск-аппетита'] == 'Достаточность капитала (Н20.0, РСБУ, %)')]['Значение (число)'])*8))\n",
    "data_3.append(\"{0:.0f}\".format(float(baza[(baza['Дата'] == dat_3)&(baza['Компания Группы'] == 'Банк ВТБ')&(baza['Показатель риск-аппетита'] == 'Собственные средства (капитал) РСБУ')]['Значение (число)'])/float(baza[(baza['Дата'] == dat_3)&(baza['Компания Группы'] == 'Группа ВТБ')&(baza['Показатель риск-аппетита'] == 'Достаточность капитала (Н20.0, РСБУ, %)')]['Значение (число)'])*10))\n",
    "data_3.append(\"{0:.0f}\".format(float(baza[(baza['Дата'] == dat_3)&(baza['Компания Группы'] == 'Банк ВТБ')&(baza['Показатель риск-аппетита'] == 'Собственные средства (капитал) РСБУ')]['Значение (число)'])/float(baza[(baza['Дата'] == dat_3)&(baza['Компания Группы'] == 'Группа ВТБ')&(baza['Показатель риск-аппетита'] == 'Достаточность капитала (Н20.0, РСБУ, %)')]['Значение (число)'])*8))"
   ]
  },
  {
   "cell_type": "code",
   "execution_count": null,
   "metadata": {},
   "outputs": [],
   "source": [
    "data = {dat_1:data_1, dat_2:data_2,\n",
    "       dat_3: data_3}\n",
    "df=pd.DataFrame(data=data)"
   ]
  },
  {
   "cell_type": "code",
   "execution_count": null,
   "metadata": {},
   "outputs": [],
   "source": [
    "for i in range(0, len(df)):\n",
    "    for j in range (0,df.shape[1]):       \n",
    "        df.iloc[i,j]=df.iloc[i,j].replace('.',',')\n",
    "for i in range(6,8):\n",
    "    for j in range(1,4):\n",
    "        table[1].table.cell(i,j).text = df.iloc[i-6, j-1]\n",
    "        run = table[1].table.cell(i,j).text_frame.paragraphs[0]\n",
    "        run.font.bold = False\n",
    "        run.font.size = Pt(6)\n",
    "        cell = table[1].table.cell(i, j)\n",
    "        cell.text_frame.paragraphs[0].alignment=PP_ALIGN.CENTER\n",
    "        run.font.color.rgb = RGBColor(86,86,86)"
   ]
  },
  {
   "cell_type": "code",
   "execution_count": null,
   "metadata": {},
   "outputs": [],
   "source": [
    "prs.save(presentation)"
   ]
  },
  {
   "cell_type": "markdown",
   "metadata": {},
   "source": [
    "## Слайд 6_1"
   ]
  },
  {
   "cell_type": "code",
   "execution_count": null,
   "metadata": {},
   "outputs": [],
   "source": [
    "def group_6_1(dat_2):\n",
    "    data_r=ec[ec['Дата'] == datetime.strptime(dat_2, '%d.%m.%Y').strftime('%Y-%m-%d')].reset_index(drop=True)\n",
    "    dat = ec['Дата'][1].strftime('%d.%m.%y')\n",
    "    data = data_r.query('Методика == \"Вер.2\" and Показатель == \"ЭК\" and Подход == \"Групповой\"').reset_index(drop=True)\n",
    "    data = data.query('ДК != \"Почта Банк\"').reset_index(drop=True)\n",
    "    CIB = ['CIB', 'КИБ']\n",
    "    MCB = ['MCB', 'MCB_MASS', 'MCB_STANDART', 'MCB_TOP', 'SMALL', 'Средний и малый бизнес']\n",
    "    Retail = ['Retail', 'Retail_Mass', 'Retail_other', 'Retail_Private', 'Retail_Privelege', 'Розничный бизнес']\n",
    "    Treasury = ['Treasury', 'Казначейство']\n",
    "    strange= ['Corp_centre']\n",
    "    #Прочее - все остальное\n",
    "    data['ГБЛ'] = data['ГБЛ'].apply(lambda x : 'ГБЛ КИБ' if x in CIB \n",
    "    else 'ГБЛ СМБ' if x in MCB else 'ГБЛ РБ' if x in Retail\n",
    "    else 'Казначейство' if x in Treasury else 'Corp_centre' if x in strange else 'Прочее')\n",
    "    data['Сегмент_new'] = ''\n",
    "    data['Вид_риска_new'] = ''\n",
    "    for i in range (0, len(data)):\n",
    "        if data['ГБЛ'][i] == 'ГБЛ КИБ':\n",
    "            if data['Вид риска'][i] == 'Концентрации':\n",
    "                data['Сегмент_new'][i] = 'ГБЛ КИБ'\n",
    "                data['Вид_риска_new'][i] = 'Риск концентрации'\n",
    "            if data['Вид риска'][i] == 'Кредитный':\n",
    "                data['Сегмент_new'][i] = 'ГБЛ КИБ'\n",
    "                data['Вид_риска_new'][i] = 'Кредитный риск'\n",
    "            if data['Вид риска'][i] == 'Рыночный':\n",
    "                if data['Подвид риска'][i] == 'Торговый':\n",
    "                    data['Сегмент_new'][i] = 'ГБЛ КИБ'\n",
    "                    data['Вид_риска_new'][i] = 'Рыночный риск торговой книги'\n",
    "            if data['Вид риска'][i] == 'Страновой':\n",
    "                data['Сегмент_new'][i] = 'ГБЛ КИБ'\n",
    "                data['Вид_риска_new'][i] = 'Страновой риск' \n",
    "\n",
    "        if data['ГБЛ'][i] == 'ГБЛ СМБ':\n",
    "            if data['Вид риска'][i] == 'Концентрации' or data['Вид риска'][i] == 'Кредитный':\n",
    "                data['Сегмент_new'][i] = 'ГБЛ СМБ'\n",
    "                data['Вид_риска_new'][i] = 'Кредитный риск'       \n",
    "\n",
    "        if data['ГБЛ'][i] == 'ГБЛ РБ':\n",
    "            if data['Вид риска'][i] == 'Концентрации' or data['Вид риска'][i] == 'Кредитный':\n",
    "                data['Сегмент_new'][i] = 'ГБЛ РБ'\n",
    "                data['Вид_риска_new'][i] = 'Кредитный риск'\n",
    "            if data['Вид риска'][i] == 'Рыночный':\n",
    "                if data['Подвид риска'][i] == 'Торговый':\n",
    "                    data['Сегмент_new'][i] = 'ГБЛ РБ'\n",
    "                    data['Вид_риска_new'][i] = 'Рыночный риск торговой книги'\n",
    "            if data['Вид риска'][i] == 'Секъюритизации':\n",
    "                data['Сегмент_new'][i] = 'ГБЛ РБ'\n",
    "                data['Вид_риска_new'][i] = 'Риск секъюритизации'\n",
    "\n",
    "        if data['Вид риска'][i] == 'Рыночный' and data['Подвид риска'][i] == 'Процентный':\n",
    "            data['Сегмент_new'][i] = 'Казначейство'\n",
    "            data['Вид_риска_new'][i] = 'Процентный риск'   \n",
    "        if data['Вид риска'][i] == 'Рыночный' and data['Подвид риска'][i] == 'Валютный':\n",
    "            data['Сегмент_new'][i] = 'Казначейство'\n",
    "            data['Вид_риска_new'][i] = 'Валютный риск'      \n",
    "\n",
    "        if data['ГБЛ'][i] == 'Казначейство':\n",
    "            if data['Вид риска'][i] == 'Концентрации' or data['Вид риска'][i] == 'Кредитный':\n",
    "                data['Сегмент_new'][i] = 'Казначейство'\n",
    "                data['Вид_риска_new'][i] = 'Кредитный риск'\n",
    "            if data['Вид риска'][i] == 'Ликвидности':\n",
    "                data['Сегмент_new'][i] = 'Казначейство'\n",
    "                data['Вид_риска_new'][i] = 'Риск ликвидности'\n",
    "            if data['Вид риска'][i] == 'Страновой':\n",
    "                data['Сегмент_new'][i] = 'Казначейство'\n",
    "                data['Вид_риска_new'][i] = 'Страновой риск' \n",
    "        if data['ГБЛ'][i] == 'Corp_centre':\n",
    "            if data['Вид риска'][i] == 'Рыночный' and data['Подвид риска'][i] == 'Валютный':\n",
    "                data['Сегмент_new'][i] = 'Казначейство'\n",
    "                data['Вид_риска_new'][i] = 'Валютный риск'\n",
    "            else:\n",
    "                if data['Вид риска'][i] == 'Рыночный' and data['Подвид риска'][i] == 'Процентный':\n",
    "                    data['Сегмент_new'][i] = 'Казначейство'\n",
    "                    data['Вид_риска_new'][i] = 'Процентный риск' \n",
    "                else:\n",
    "                    data['Сегмент_new'][i] = 'Прочее'\n",
    "                    data['Вид_риска_new'][i] = 'Прочие риски'\n",
    "    data['Сегмент_new'] = data['Сегмент_new'].replace('', 'Прочее')\n",
    "    data['Вид_риска_new'] = data['Вид_риска_new'].replace('', 'Прочие риски')\n",
    "    bufer = data['Буфер ЭК'].sum()\n",
    "    table = data.pivot_table(index = ['Сегмент_new', 'Вид_риска_new'], values = ['Значение, млн.руб.'\n",
    "        ], aggfunc='sum').reset_index()\n",
    "    table.loc[table.query('Сегмент_new == \"Прочее\"').index,'Значение, млн.руб.'] = table.loc[table.query('Сегмент_new == \"Прочее\"').index,'Значение, млн.руб.'] +bufer\n",
    "    table=table.rename(columns = {'Сегмент_new':'Сегмент', 'Вид_риска_new':'Вид риска','Значение, млн.руб.':'ЭК на дату в млн. руб.'})\n",
    "    try: \n",
    "        line_1 = pd.DataFrame({\"Сегмент\": 'ГБЛ РБ', \"Вид риска\": 'ГБЛ РБ (Итого)', \"ЭК на дату в млн. руб.\": sum(table.query('Сегмент == \"ГБЛ РБ\"')['ЭК на дату в млн. руб.'])}, index=[None])\n",
    "        table = pd.concat([table.iloc[:(table.query('Сегмент == \"ГБЛ РБ\"').index[0])], line_1, table.iloc[table.query('Сегмент == \"ГБЛ РБ\"').index[0]:]]).reset_index(drop=True)\n",
    "    except:\n",
    "        pass\n",
    "\n",
    "    try:\n",
    "        line_2 = pd.DataFrame({\"Сегмент\": 'ГБЛ СМБ', \"Вид риска\": 'ГБЛ СМБ (Итого)', \"ЭК на дату в млн. руб.\": sum(table.query('Сегмент == \"ГБЛ СМБ\"')['ЭК на дату в млн. руб.'])}, index=[None])\n",
    "        table = pd.concat([table.iloc[:(table.query('Сегмент == \"ГБЛ СМБ\"').index[0])], line_2, table.iloc[table.query('Сегмент == \"ГБЛ СМБ\"').index[0]:]]).reset_index(drop=True)\n",
    "    except:\n",
    "        pass\n",
    "\n",
    "    try:\n",
    "        line_3 = pd.DataFrame({\"Сегмент\": 'Казначейство', \"Вид риска\": 'Казначейство (Итого)', \"ЭК на дату в млн. руб.\": sum(table.query('Сегмент == \"Казначейство\"')['ЭК на дату в млн. руб.'])}, index=[None])\n",
    "        table = pd.concat([table.iloc[:(table.query('Сегмент == \"Казначейство\"').index[0])], line_3, table.iloc[table.query('Сегмент == \"Казначейство\"').index[0]:]]).reset_index(drop=True)\n",
    "    except:\n",
    "        pass\n",
    "\n",
    "    try:\n",
    "        line_0 = pd.DataFrame({\"Сегмент\": 'ГБЛ КИБ', \"Вид риска\": 'ГБЛ КИБ (Итого)', \"ЭК на дату в млн. руб.\": sum(table.query('Сегмент == \"ГБЛ КИБ\"')['ЭК на дату в млн. руб.'])}, index=[None])\n",
    "        table = pd.concat([line_0, table])\n",
    "    except:\n",
    "        pass\n",
    "    capital=float(baza[(baza['Показатель риск-аппетита'] == 'Собственные средства (капитал) РСБУ')&(baza['Дата'] == dat_2)&(baza['Компания Группы'] == 'Группа ВТБ')]['Значение (число)']*1000)\n",
    "    list_1 = [i for i in range(0, table.shape[0])]\n",
    "    table.index = list_1\n",
    "    if int(table[table['Вид риска'] == 'ГБЛ КИБ (Итого)']['ЭК на дату в млн. руб.']) == 0:\n",
    "        table.drop(table[table['Вид риска'] == 'ГБЛ КИБ (Итого)'].index, inplace=True)\n",
    "        list_1 = [i for i in range(0, table.shape[0])]\n",
    "        table.index = list_1\n",
    "    table = pd.concat([table.iloc[:(table.query('Сегмент == \"ГБЛ РБ\"').index[0])], table.iloc[(table.query('Сегмент == \"ГБЛ СМБ\"').index[0]):(table.query('Сегмент == \"ГБЛ СМБ\"').index[1]+1)],table.iloc[(table.query('Сегмент == \"ГБЛ РБ\"').index[0]):(table.query('Сегмент == \"ГБЛ РБ\"').index[-1]+1)],table.iloc[(table.query('Сегмент == \"Казначейство\"').index[0]):]]).reset_index(drop=True)\n",
    "    line_ = table[(table['Сегмент'] == \"Казначейство\")&(table['Вид риска'] == \"Валютный риск\")]\n",
    "    table = pd.concat([table.iloc[(table.query('Сегмент == \"ГБЛ КИБ\"').index[0]):(table.query('Сегмент == \"Казначейство\"').index[1])], table.iloc[(table[(table['Сегмент'] == \"Казначейство\")&(table['Вид риска'] == \"Кредитный риск\")].index[0]):(table[(table['Сегмент'] == \"Казначейство\")&(table['Вид риска'] == \"Процентный риск\")].index[0]+1)], line_, table.iloc[(table[(table['Сегмент'] == \"Казначейство\")&(table['Вид риска'] == \"Риск ликвидности\")].index[0]):]]).reset_index(drop=True)\n",
    "    table['ЭК на дату в %'] = ''\n",
    "    table.loc[table.index[-1]+1,'Сегмент']='Итого'\n",
    "    table.loc[table.index[-1],'Вид риска']='Итого'\n",
    "    itogo=0\n",
    "    try:\n",
    "        itogo=itogo+float(table.loc[table[table['Вид риска'] == 'ГБЛ КИБ (Итого)'].index,'ЭК на дату в млн. руб.'])\n",
    "    except:\n",
    "        pass\n",
    "    try:\n",
    "        itogo=itogo+float(table.loc[table[table['Вид риска'] == 'ГБЛ СМБ (Итого)'].index,'ЭК на дату в млн. руб.'])\n",
    "    except:\n",
    "        pass\n",
    "    try:\n",
    "        itogo=itogo+float(table.loc[table[table['Вид риска'] == 'ГБЛ РБ (Итого)'].index,'ЭК на дату в млн. руб.'])\n",
    "    except:\n",
    "        pass\n",
    "    try:\n",
    "        itogo=itogo+float(table.loc[table[table['Вид риска'] == 'Казначейство (Итого)'].index,'ЭК на дату в млн. руб.'])\n",
    "    except:\n",
    "        pass\n",
    "    try:\n",
    "        itogo=itogo+float(table.loc[table[table['Вид риска'] == 'Прочие риски'].index,'ЭК на дату в млн. руб.'])\n",
    "    except:\n",
    "        pass\n",
    "    table.loc[table.index[-1], 'ЭК на дату в млн. руб.'] = itogo\n",
    "    table['ЭК на дату в %'] = table['ЭК на дату в млн. руб.']/capital*100\n",
    "    for i in range(0, table.shape[0]):\n",
    "        table['ЭК на дату в %'][i] = \"{0:.1f}%\".format(float(table['ЭК на дату в %'][i]))\n",
    "        table['ЭК на дату в млн. руб.'][i] = table['ЭК на дату в млн. руб.'][i]/1000\n",
    "    table['ЭК на дату в %'] = table['ЭК на дату в %'].apply(lambda x: x.replace('.', ','))\n",
    "    return table"
   ]
  },
  {
   "cell_type": "code",
   "execution_count": null,
   "metadata": {},
   "outputs": [],
   "source": [
    "table_1=group_6_1(dat_2)\n",
    "table_2=group_6_1(dat_3)"
   ]
  },
  {
   "cell_type": "code",
   "execution_count": null,
   "metadata": {},
   "outputs": [],
   "source": [
    "table_2['delta']=table_2['ЭК на дату в млн. руб.']-table_1['ЭК на дату в млн. руб.']\n",
    "for i in range(0, table_2.shape[0]):\n",
    "    table_2['ЭК на дату в млн. руб.'][i] = \"{0:.1f}\".format(table_2['ЭК на дату в млн. руб.'][i])\n",
    "    table_2['delta'][i] = \"{0:.1f}\".format(table_2['delta'][i])\n",
    "for i in range(0, table_1.shape[0]):\n",
    "    table_1['ЭК на дату в млн. руб.'][i] = \"{0:.1f}\".format(table_1['ЭК на дату в млн. руб.'][i])\n",
    "for i in range(0, table_1.shape[0]):\n",
    "    for j in range(1, table_1.shape[1]):\n",
    "        table_1.iloc[i,j] = str(table_1.iloc[i,j]).replace('.',',')\n",
    "for i in range(0, table_2.shape[0]):\n",
    "    for j in range(1, table_2.shape[1]):\n",
    "        table_2.iloc[i,j] = str(table_2.iloc[i,j]).replace('.',',')"
   ]
  },
  {
   "cell_type": "code",
   "execution_count": null,
   "metadata": {},
   "outputs": [],
   "source": [
    "table_1.iloc[5,2] = ''\n",
    "table_1.iloc[5,3] = ''\n",
    "table_2.iloc[5,2] = ''\n",
    "table_2.iloc[5,3] = ''"
   ]
  },
  {
   "cell_type": "code",
   "execution_count": null,
   "metadata": {},
   "outputs": [],
   "source": [
    "slide = prs.slides[slide_6_1]\n",
    "table = [shape for shape in slide.shapes if shape.has_table]\n",
    "for i in range(3,20):\n",
    "    for j in range(1,3):\n",
    "        table[0].table.cell(i,j).text = table_1.iloc[i-3, j+1]\n",
    "        run = table[0].table.cell(i,j).text_frame.paragraphs[0]\n",
    "        run.font.bold = False\n",
    "        run.font.size = Pt(6)\n",
    "        cell = table[0].table.cell(i, j)\n",
    "        cell.text_frame.paragraphs[0].alignment=PP_ALIGN.RIGHT\n",
    "for i in range(21,23):\n",
    "    for j in range(1,3):\n",
    "        table[0].table.cell(i,j).text = table_1.iloc[i-4, j+1]\n",
    "        run = table[0].table.cell(i,j).text_frame.paragraphs[0]\n",
    "        run.font.bold = False\n",
    "        run.font.size = Pt(6)\n",
    "        cell = table[0].table.cell(i, j)\n",
    "        cell.text_frame.paragraphs[0].alignment=PP_ALIGN.RIGHT\n",
    "table[0].table.cell(23,1).text = \"{0:.1f}\".format(float(baza[(baza['Показатель риск-аппетита'] == 'Собственные средства (капитал) РСБУ')&(baza['Дата'] == dat_2)&(baza['Компания Группы'] == 'Группа ВТБ')]['Значение (число)']))\n",
    "run = table[0].table.cell(23,1).text_frame.paragraphs[0]\n",
    "run.font.bold = False\n",
    "run.font.size = Pt(6)\n",
    "cell = table[0].table.cell(23, 1)\n",
    "cell.text_frame.paragraphs[0].alignment=PP_ALIGN.RIGHT\n",
    "for j in range(1,3):\n",
    "    run = table[0].table.cell(3,j).text_frame.paragraphs[0]\n",
    "    run.font.bold = True\n",
    "    run = table[0].table.cell(9,j).text_frame.paragraphs[0]\n",
    "    run.font.bold = True\n",
    "    run = table[0].table.cell(10,j).text_frame.paragraphs[0]\n",
    "    run.font.bold = True\n",
    "    run = table[0].table.cell(14,j).text_frame.paragraphs[0]\n",
    "    run.font.bold = True\n",
    "    run = table[0].table.cell(22,j).text_frame.paragraphs[0]\n",
    "    run.font.bold = True\n",
    "table[0].table.cell(1,1).text = dat_2\n",
    "run = table[0].table.cell(1,1).text_frame.paragraphs[0]\n",
    "run.font.size = Pt(6)\n",
    "cell = table[0].table.cell(1, 1)\n",
    "cell.text_frame.paragraphs[0].alignment=PP_ALIGN.CENTER\n",
    "table[0].table.cell(1,7).text = dat_3\n",
    "run = table[0].table.cell(1,7).text_frame.paragraphs[0]\n",
    "run.font.size = Pt(6)\n",
    "cell = table[0].table.cell(1, 7)\n",
    "cell.text_frame.paragraphs[0].alignment=PP_ALIGN.CENTER"
   ]
  },
  {
   "cell_type": "code",
   "execution_count": null,
   "metadata": {},
   "outputs": [],
   "source": [
    "for i in range(3,20):\n",
    "    for j in range(6,8):\n",
    "        table[0].table.cell(i,j).text = table_2.iloc[i-3, j-4]\n",
    "        run = table[0].table.cell(i,j).text_frame.paragraphs[0]\n",
    "        run.font.bold = False\n",
    "        run.font.size = Pt(6)\n",
    "        cell = table[0].table.cell(i, j)\n",
    "        cell.text_frame.paragraphs[0].alignment=PP_ALIGN.RIGHT\n",
    "for i in range(21,23):\n",
    "    for j in range(6,8):\n",
    "        table[0].table.cell(i,j).text = table_2.iloc[i-4, j-4]\n",
    "        run = table[0].table.cell(i,j).text_frame.paragraphs[0]\n",
    "        run.font.bold = False\n",
    "        run.font.size = Pt(6)\n",
    "        cell = table[0].table.cell(i, j)\n",
    "        cell.text_frame.paragraphs[0].alignment=PP_ALIGN.RIGHT\n",
    "table[0].table.cell(23,6).text = \"{0:.1f}\".format(float(baza[(baza['Показатель риск-аппетита'] == 'Собственные средства (капитал) РСБУ')&(baza['Дата'] == dat_3)&(baza['Компания Группы'] == 'Группа ВТБ')]['Значение (число)']))\n",
    "run = table[0].table.cell(23,6).text_frame.paragraphs[0]\n",
    "run.font.bold = False\n",
    "run.font.size = Pt(6)\n",
    "cell = table[0].table.cell(23,6)\n",
    "cell.text_frame.paragraphs[0].alignment=PP_ALIGN.RIGHT\n",
    "for j in range(6,8):\n",
    "    run = table[0].table.cell(3,j).text_frame.paragraphs[0]\n",
    "    run.font.bold = True\n",
    "    run = table[0].table.cell(9,j).text_frame.paragraphs[0]\n",
    "    run.font.bold = True\n",
    "    run = table[0].table.cell(10,j).text_frame.paragraphs[0]\n",
    "    run.font.bold = True\n",
    "    run = table[0].table.cell(14,j).text_frame.paragraphs[0]\n",
    "    run.font.bold = True\n",
    "    run = table[0].table.cell(22,j).text_frame.paragraphs[0]\n",
    "    run.font.bold = True"
   ]
  },
  {
   "cell_type": "code",
   "execution_count": null,
   "metadata": {},
   "outputs": [],
   "source": [
    "table_2.iloc[5,4] = ''"
   ]
  },
  {
   "cell_type": "code",
   "execution_count": null,
   "metadata": {},
   "outputs": [],
   "source": [
    "for i in range(3,20):\n",
    "    table[0].table.cell(i,11).text = table_2.iloc[i-3, 4]\n",
    "    run = table[0].table.cell(i,11).text_frame.paragraphs[0]\n",
    "    run.font.bold = False\n",
    "    run.font.size = Pt(6)\n",
    "    cell = table[0].table.cell(i, 11)\n",
    "    cell.text_frame.paragraphs[0].alignment=PP_ALIGN.RIGHT\n",
    "for i in range(21,23):\n",
    "    table[0].table.cell(i,11).text = table_2.iloc[i-4, 4]\n",
    "    run = table[0].table.cell(i,11).text_frame.paragraphs[0]\n",
    "    run.font.bold = False\n",
    "    run.font.size = Pt(6)\n",
    "    cell = table[0].table.cell(i, 11)\n",
    "    cell.text_frame.paragraphs[0].alignment=PP_ALIGN.RIGHT\n",
    "run = table[0].table.cell(3,11).text_frame.paragraphs[0]\n",
    "run.font.bold = True\n",
    "run = table[0].table.cell(9,11).text_frame.paragraphs[0]\n",
    "run.font.bold = True\n",
    "run = table[0].table.cell(10,11).text_frame.paragraphs[0]\n",
    "run.font.bold = True\n",
    "run = table[0].table.cell(14,11).text_frame.paragraphs[0]\n",
    "run.font.bold = True\n",
    "run = table[0].table.cell(22,11).text_frame.paragraphs[0]\n",
    "run.font.bold = True"
   ]
  },
  {
   "cell_type": "code",
   "execution_count": null,
   "metadata": {},
   "outputs": [],
   "source": [
    "prs.save(presentation)"
   ]
  },
  {
   "cell_type": "code",
   "execution_count": null,
   "metadata": {},
   "outputs": [],
   "source": [
    "##Банк"
   ]
  },
  {
   "cell_type": "code",
   "execution_count": null,
   "metadata": {},
   "outputs": [],
   "source": [
    "def bank_6_1(dat_2):\n",
    "    data_r=ec[ec['Дата'] == datetime.strptime(dat_2, '%d.%m.%Y').strftime('%Y-%m-%d')].reset_index(drop=True)\n",
    "    dat = ec['Дата'][1].strftime('%d.%m.%y')\n",
    "    data = data_r.query('Методика == \"Вер.2\" and Показатель == \"ЭК\" and Подход == \"Соло\"').reset_index(drop=True)\n",
    "    data = data.query('ДК != \"Почта Банк\"').reset_index(drop=True)\n",
    "    data=data.query('ДК == \"Банк ВТБ\"')\n",
    "    CIB = ['CIB', 'КИБ']\n",
    "    MCB = ['MCB', 'MCB_MASS', 'MCB_STANDART', 'MCB_TOP', 'SMALL', 'Средний и малый бизнес']\n",
    "    Retail = ['Retail', 'Retail_Mass', 'Retail_other', 'Retail_Private', 'Retail_Privelege', 'Розничный бизнес']\n",
    "    Treasury = ['Treasury', 'Казначейство']\n",
    "    strange= ['Corp_centre']\n",
    "    #Прочее - все остальное\n",
    "    data['ГБЛ'] = data['ГБЛ'].apply(lambda x : 'ГБЛ КИБ' if x in CIB \n",
    "    else 'ГБЛ СМБ' if x in MCB else 'ГБЛ РБ' if x in Retail\n",
    "    else 'Казначейство' if x in Treasury else 'Прочее')\n",
    "    data['Сегмент_new'] = ''\n",
    "    data['Вид_риска_new'] = ''\n",
    "    for i in range (0, len(data)):\n",
    "        if data['ГБЛ'][i] == 'ГБЛ КИБ':\n",
    "            if data['Вид риска'][i] == 'Концентрации':\n",
    "                data['Сегмент_new'][i] = 'ГБЛ КИБ'\n",
    "                data['Вид_риска_new'][i] = 'Риск концентрации'\n",
    "            if data['Вид риска'][i] == 'Кредитный':\n",
    "                data['Сегмент_new'][i] = 'ГБЛ КИБ'\n",
    "                data['Вид_риска_new'][i] = 'Кредитный риск'\n",
    "            if data['Вид риска'][i] == 'Рыночный':\n",
    "                if data['Подвид риска'][i] == 'Торговый':\n",
    "                    data['Сегмент_new'][i] = 'ГБЛ КИБ'\n",
    "                    data['Вид_риска_new'][i] = 'Рыночный риск торговой книги'\n",
    "            if data['Вид риска'][i] == 'Страновой':\n",
    "                data['Сегмент_new'][i] = 'ГБЛ КИБ'\n",
    "                data['Вид_риска_new'][i] = 'Страновой риск' \n",
    "\n",
    "        if data['ГБЛ'][i] == 'ГБЛ СМБ':\n",
    "            if data['Вид риска'][i] == 'Концентрации' or data['Вид риска'][i] == 'Кредитный':\n",
    "                data['Сегмент_new'][i] = 'ГБЛ СМБ'\n",
    "                data['Вид_риска_new'][i] = 'Кредитный риск'       \n",
    "\n",
    "        if data['ГБЛ'][i] == 'ГБЛ РБ':\n",
    "            if data['Вид риска'][i] == 'Концентрации' or data['Вид риска'][i] == 'Кредитный':\n",
    "                data['Сегмент_new'][i] = 'ГБЛ РБ'\n",
    "                data['Вид_риска_new'][i] = 'Кредитный риск'\n",
    "            if data['Вид риска'][i] == 'Рыночный':\n",
    "                if data['Подвид риска'][i] == 'Торговый':\n",
    "                    data['Сегмент_new'][i] = 'ГБЛ РБ'\n",
    "                    data['Вид_риска_new'][i] = 'Рыночный риск торговой книги'\n",
    "            if data['Вид риска'][i] == 'Секъюритизации':\n",
    "                data['Сегмент_new'][i] = 'ГБЛ РБ'\n",
    "                data['Вид_риска_new'][i] = 'Риск секъюритизации'\n",
    "\n",
    "        if data['Вид риска'][i] == 'Рыночный' and data['Подвид риска'][i] == 'Процентный':\n",
    "            data['Сегмент_new'][i] = 'Казначейство'\n",
    "            data['Вид_риска_new'][i] = 'Процентный риск'   \n",
    "        if data['Вид риска'][i] == 'Рыночный' and data['Подвид риска'][i] == 'Валютный':\n",
    "            data['Сегмент_new'][i] = 'Казначейство'\n",
    "            data['Вид_риска_new'][i] = 'Валютный риск'      \n",
    "\n",
    "        if data['ГБЛ'][i] == 'Казначейство':\n",
    "            if data['Вид риска'][i] == 'Концентрации' or data['Вид риска'][i] == 'Кредитный':\n",
    "                data['Сегмент_new'][i] = 'Казначейство'\n",
    "                data['Вид_риска_new'][i] = 'Кредитный риск'\n",
    "            if data['Вид риска'][i] == 'Ликвидности':\n",
    "                data['Сегмент_new'][i] = 'Казначейство'\n",
    "                data['Вид_риска_new'][i] = 'Риск ликвидности'\n",
    "            if data['Вид риска'][i] == 'Страновой':\n",
    "                data['Сегмент_new'][i] = 'Казначейство'\n",
    "                data['Вид_риска_new'][i] = 'Страновой риск' \n",
    "    data['Сегмент_new'] = data['Сегмент_new'].replace('', 'Прочее')\n",
    "    data['Вид_риска_new'] = data['Вид_риска_new'].replace('', 'Прочие риски')\n",
    "    bufer = data['Буфер ЭК'].sum()\n",
    "    table = data.pivot_table(index = ['Сегмент_new', 'Вид_риска_new'], values = ['Значение, млн.руб.'\n",
    "        ], aggfunc='sum').reset_index()\n",
    "    table.loc[table.query('Сегмент_new == \"Прочее\"').index,'Значение, млн.руб.'] = table.loc[table.query('Сегмент_new == \"Прочее\"').index,'Значение, млн.руб.'] +bufer\n",
    "    table=table.rename(columns = {'Сегмент_new':'Сегмент', 'Вид_риска_new':'Вид риска','Значение, млн.руб.':'ЭК на дату в млн. руб.'})\n",
    "    try: \n",
    "        line_1 = pd.DataFrame({\"Сегмент\": 'ГБЛ РБ', \"Вид риска\": 'ГБЛ РБ (Итого)', \"ЭК на дату в млн. руб.\": sum(table.query('Сегмент == \"ГБЛ РБ\"')['ЭК на дату в млн. руб.'])}, index=[None])\n",
    "        table = pd.concat([table.iloc[:(table.query('Сегмент == \"ГБЛ РБ\"').index[0])], line_1, table.iloc[table.query('Сегмент == \"ГБЛ РБ\"').index[0]:]]).reset_index(drop=True)\n",
    "    except:\n",
    "        pass\n",
    "\n",
    "    try:\n",
    "        line_2 = pd.DataFrame({\"Сегмент\": 'ГБЛ СМБ', \"Вид риска\": 'ГБЛ СМБ (Итого)', \"ЭК на дату в млн. руб.\": sum(table.query('Сегмент == \"ГБЛ СМБ\"')['ЭК на дату в млн. руб.'])}, index=[None])\n",
    "        table = pd.concat([table.iloc[:(table.query('Сегмент == \"ГБЛ СМБ\"').index[0])], line_2, table.iloc[table.query('Сегмент == \"ГБЛ СМБ\"').index[0]:]]).reset_index(drop=True)\n",
    "    except:\n",
    "        pass\n",
    "\n",
    "    try:\n",
    "        line_3 = pd.DataFrame({\"Сегмент\": 'Казначейство', \"Вид риска\": 'Казначейство (Итого)', \"ЭК на дату в млн. руб.\": sum(table.query('Сегмент == \"Казначейство\"')['ЭК на дату в млн. руб.'])}, index=[None])\n",
    "        table = pd.concat([table.iloc[:(table.query('Сегмент == \"Казначейство\"').index[0])], line_3, table.iloc[table.query('Сегмент == \"Казначейство\"').index[0]:]]).reset_index(drop=True)\n",
    "    except:\n",
    "        pass\n",
    "\n",
    "    try:\n",
    "        line_0 = pd.DataFrame({\"Сегмент\": 'ГБЛ КИБ', \"Вид риска\": 'ГБЛ КИБ (Итого)', \"ЭК на дату в млн. руб.\": sum(table.query('Сегмент == \"ГБЛ КИБ\"')['ЭК на дату в млн. руб.'])}, index=[None])\n",
    "        table = pd.concat([line_0, table])\n",
    "    except:\n",
    "        pass\n",
    "    list_1 = [i for i in range(0, table.shape[0])]\n",
    "    table.index = list_1\n",
    "    if int(table[table['Вид риска'] == 'ГБЛ КИБ (Итого)']['ЭК на дату в млн. руб.']) == 0:\n",
    "        table.drop(table[table['Вид риска'] == 'ГБЛ КИБ (Итого)'].index, inplace=True)\n",
    "        list_1 = [i for i in range(0, table.shape[0])]\n",
    "        table.index = list_1\n",
    "    table = pd.concat([table.iloc[:(table.query('Сегмент == \"ГБЛ РБ\"').index[0])], table.iloc[(table.query('Сегмент == \"ГБЛ СМБ\"').index[0]):(table.query('Сегмент == \"ГБЛ СМБ\"').index[1]+1)],table.iloc[(table.query('Сегмент == \"ГБЛ РБ\"').index[0]):(table.query('Сегмент == \"ГБЛ РБ\"').index[-1]+1)],table.iloc[(table.query('Сегмент == \"Казначейство\"').index[0]):]]).reset_index(drop=True)\n",
    "    line_ = table[(table['Сегмент'] == \"Казначейство\")&(table['Вид риска'] == \"Валютный риск\")]\n",
    "    table = pd.concat([table.iloc[(table.query('Сегмент == \"ГБЛ КИБ\"').index[0]):(table.query('Сегмент == \"Казначейство\"').index[1])], table.iloc[(table[(table['Сегмент'] == \"Казначейство\")&(table['Вид риска'] == \"Кредитный риск\")].index[0]):(table[(table['Сегмент'] == \"Казначейство\")&(table['Вид риска'] == \"Процентный риск\")].index[0]+1)], line_, table.iloc[(table[(table['Сегмент'] == \"Казначейство\")&(table['Вид риска'] == \"Риск ликвидности\")].index[0]):]]).reset_index(drop=True)\n",
    "    table['ЭК на дату в %'] = ''\n",
    "    table.loc[table.index[-1]+1,'Сегмент']='Итого'\n",
    "    table.loc[table.index[-1],'Вид риска']='Итого'\n",
    "    itogo=0\n",
    "    try:\n",
    "        itogo=itogo+float(table.loc[table[table['Вид риска'] == 'ГБЛ КИБ (Итого)'].index,'ЭК на дату в млн. руб.'])\n",
    "    except:\n",
    "        pass\n",
    "    try:\n",
    "        itogo=itogo+float(table.loc[table[table['Вид риска'] == 'ГБЛ СМБ (Итого)'].index,'ЭК на дату в млн. руб.'])\n",
    "    except:\n",
    "        pass\n",
    "    try:\n",
    "        itogo=itogo+float(table.loc[table[table['Вид риска'] == 'ГБЛ РБ (Итого)'].index,'ЭК на дату в млн. руб.'])\n",
    "    except:\n",
    "        pass\n",
    "    try:\n",
    "        itogo=itogo+float(table.loc[table[table['Вид риска'] == 'Казначейство (Итого)'].index,'ЭК на дату в млн. руб.'])\n",
    "    except:\n",
    "        pass\n",
    "    try:\n",
    "        itogo=itogo+float(table.loc[table[table['Вид риска'] == 'Прочие риски'].index,'ЭК на дату в млн. руб.'])\n",
    "    except:\n",
    "        pass\n",
    "    table.loc[table.index[-1], 'ЭК на дату в млн. руб.'] = itogo\n",
    "    capital_bank=float(baza[(baza['Показатель риск-аппетита'] == 'Собственные средства (капитал) РСБУ')&(baza['Дата'] == dat_2)&(baza['Компания Группы'] == 'Банк ВТБ')]['Значение (число)']*1000)\n",
    "    table['ЭК на дату в %'] = table['ЭК на дату в млн. руб.']/capital_bank*100\n",
    "    for i in range(0, table.shape[0]):\n",
    "        table['ЭК на дату в %'][i] = \"{0:.1f}%\".format(float(table['ЭК на дату в %'][i]))\n",
    "        table['ЭК на дату в млн. руб.'][i] = table['ЭК на дату в млн. руб.'][i]/1000\n",
    "    table['ЭК на дату в %'] = table['ЭК на дату в %'].apply(lambda x: x.replace('.', ','))\n",
    "    return table"
   ]
  },
  {
   "cell_type": "code",
   "execution_count": null,
   "metadata": {},
   "outputs": [],
   "source": [
    "table_1=bank_6_1(dat_2)\n",
    "table_2=bank_6_1(dat_3)"
   ]
  },
  {
   "cell_type": "code",
   "execution_count": null,
   "metadata": {},
   "outputs": [],
   "source": [
    "table_2['delta']=table_2['ЭК на дату в млн. руб.']-table_1['ЭК на дату в млн. руб.']\n",
    "for i in range(0, table_2.shape[0]):\n",
    "    table_2['ЭК на дату в млн. руб.'][i] = \"{0:.1f}\".format(table_2['ЭК на дату в млн. руб.'][i])\n",
    "    table_2['delta'][i] = \"{0:.1f}\".format(table_2['delta'][i])\n",
    "for i in range(0, table_1.shape[0]):\n",
    "    table_1['ЭК на дату в млн. руб.'][i] = \"{0:.1f}\".format(table_1['ЭК на дату в млн. руб.'][i])"
   ]
  },
  {
   "cell_type": "code",
   "execution_count": null,
   "metadata": {},
   "outputs": [],
   "source": [
    "for i in range(0, table_2.shape[0]):\n",
    "    if table_2['delta'][i]>0:\n",
    "        table_2['delta'][i]='+'+str(table_2['delta'][i])"
   ]
  },
  {
   "cell_type": "code",
   "execution_count": null,
   "metadata": {},
   "outputs": [],
   "source": [
    "for i in range(0, table_1.shape[0]):\n",
    "    for j in range(1, table_1.shape[1]):\n",
    "        table_1.iloc[i,j] = str(table_1.iloc[i,j]).replace('.',',')\n",
    "for i in range(0, table_2.shape[0]):\n",
    "    for j in range(1, table_2.shape[1]):\n",
    "        table_2.iloc[i,j] = str(table_2.iloc[i,j]).replace('.',',')"
   ]
  },
  {
   "cell_type": "code",
   "execution_count": null,
   "metadata": {},
   "outputs": [],
   "source": [
    "table_1.iloc[5,2] = ''\n",
    "table_1.iloc[5,3] = ''\n",
    "table_2.iloc[5,2] = ''\n",
    "table_2.iloc[5,3] = ''\n",
    "table_2.iloc[5,4] = ''"
   ]
  },
  {
   "cell_type": "code",
   "execution_count": null,
   "metadata": {},
   "outputs": [],
   "source": [
    "slide = prs.slides[slide_6_1]\n",
    "table = [shape for shape in slide.shapes if shape.has_table]"
   ]
  },
  {
   "cell_type": "code",
   "execution_count": null,
   "metadata": {},
   "outputs": [],
   "source": [
    "for i in range(3,13):\n",
    "    for j in range(12,14):\n",
    "        table[0].table.cell(i,j).text = table_1.iloc[i-3, j-10]\n",
    "        run = table[0].table.cell(i,j).text_frame.paragraphs[0]\n",
    "        run.font.bold = False\n",
    "        run.font.size = Pt(6)\n",
    "        cell = table[0].table.cell(i, j)\n",
    "        cell.text_frame.paragraphs[0].alignment=PP_ALIGN.RIGHT\n",
    "for i in range(14,20):\n",
    "    for j in range(12,14):\n",
    "        table[0].table.cell(i,j).text = table_1.iloc[i-4, j-10]\n",
    "        run = table[0].table.cell(i,j).text_frame.paragraphs[0]\n",
    "        run.font.bold = False\n",
    "        run.font.size = Pt(6)\n",
    "        cell = table[0].table.cell(i, j)\n",
    "        cell.text_frame.paragraphs[0].alignment=PP_ALIGN.RIGHT\n",
    "for i in range(21,23):\n",
    "    for j in range(12,14):\n",
    "        table[0].table.cell(i,j).text = table_1.iloc[i-5, j-10]\n",
    "        run = table[0].table.cell(i,j).text_frame.paragraphs[0]\n",
    "        run.font.bold = False\n",
    "        run.font.size = Pt(6)\n",
    "        cell = table[0].table.cell(i, j)\n",
    "        cell.text_frame.paragraphs[0].alignment=PP_ALIGN.RIGHT"
   ]
  },
  {
   "cell_type": "code",
   "execution_count": null,
   "metadata": {},
   "outputs": [],
   "source": [
    "table[0].table.cell(23,12).text = \"{0:.1f}\".format(float(baza[(baza['Показатель риск-аппетита'] == 'Собственные средства (капитал) РСБУ')&(baza['Дата'] == dat_2)&(baza['Компания Группы'] == 'Банк ВТБ')]['Значение (число)']))\n",
    "run = table[0].table.cell(23,12).text_frame.paragraphs[0]\n",
    "run.font.bold = False\n",
    "run.font.size = Pt(6)\n",
    "cell = table[0].table.cell(23,12)\n",
    "cell.text_frame.paragraphs[0].alignment=PP_ALIGN.RIGHT\n",
    "for j in range(12,14):\n",
    "    run = table[0].table.cell(3,j).text_frame.paragraphs[0]\n",
    "    run.font.bold = True\n",
    "    run = table[0].table.cell(9,j).text_frame.paragraphs[0]\n",
    "    run.font.bold = True\n",
    "    run = table[0].table.cell(10,j).text_frame.paragraphs[0]\n",
    "    run.font.bold = True\n",
    "    run = table[0].table.cell(14,j).text_frame.paragraphs[0]\n",
    "    run.font.bold = True\n",
    "    run = table[0].table.cell(22,j).text_frame.paragraphs[0]\n",
    "    run.font.bold = True\n",
    "table[0].table.cell(1,12).text = dat_2\n",
    "run = table[0].table.cell(1,12).text_frame.paragraphs[0]\n",
    "run.font.size = Pt(6)\n",
    "cell = table[0].table.cell(1, 12)\n",
    "cell.text_frame.paragraphs[0].alignment=PP_ALIGN.CENTER\n",
    "table[0].table.cell(1,17).text = dat_3\n",
    "run = table[0].table.cell(1,17).text_frame.paragraphs[0]\n",
    "run.font.size = Pt(6)\n",
    "cell = table[0].table.cell(1, 17)\n",
    "cell.text_frame.paragraphs[0].alignment=PP_ALIGN.CENTER"
   ]
  },
  {
   "cell_type": "code",
   "execution_count": null,
   "metadata": {},
   "outputs": [],
   "source": [
    "for i in range(3,13):\n",
    "    for j in range(17,19):\n",
    "        table[0].table.cell(i,j).text = table_2.iloc[i-3, j-15]\n",
    "        run = table[0].table.cell(i,j).text_frame.paragraphs[0]\n",
    "        run.font.bold = False\n",
    "        run.font.size = Pt(6)\n",
    "        cell = table[0].table.cell(i, j)\n",
    "        cell.text_frame.paragraphs[0].alignment=PP_ALIGN.RIGHT\n",
    "for i in range(14,20):\n",
    "    for j in range(17,19):\n",
    "        table[0].table.cell(i,j).text = table_2.iloc[i-4, j-15]\n",
    "        run = table[0].table.cell(i,j).text_frame.paragraphs[0]\n",
    "        run.font.bold = False\n",
    "        run.font.size = Pt(6)\n",
    "        cell = table[0].table.cell(i, j)\n",
    "        cell.text_frame.paragraphs[0].alignment=PP_ALIGN.RIGHT\n",
    "for i in range(21,23):\n",
    "    for j in range(17,19):\n",
    "        table[0].table.cell(i,j).text = table_2.iloc[i-5, j-15]\n",
    "        run = table[0].table.cell(i,j).text_frame.paragraphs[0]\n",
    "        run.font.bold = False\n",
    "        run.font.size = Pt(6)\n",
    "        cell = table[0].table.cell(i, j)\n",
    "        cell.text_frame.paragraphs[0].alignment=PP_ALIGN.RIGHT"
   ]
  },
  {
   "cell_type": "code",
   "execution_count": null,
   "metadata": {},
   "outputs": [],
   "source": [
    "table[0].table.cell(23,17).text = \"{0:.1f}\".format(float(baza[(baza['Показатель риск-аппетита'] == 'Собственные средства (капитал) РСБУ')&(baza['Дата'] == dat_2)&(baza['Компания Группы'] == 'Банк ВТБ')]['Значение (число)']))\n",
    "run = table[0].table.cell(23,17).text_frame.paragraphs[0]\n",
    "run.font.bold = False\n",
    "run.font.size = Pt(6)\n",
    "cell = table[0].table.cell(23,17)\n",
    "cell.text_frame.paragraphs[0].alignment=PP_ALIGN.RIGHT\n",
    "for j in range(17,19):\n",
    "    run = table[0].table.cell(3,j).text_frame.paragraphs[0]\n",
    "    run.font.bold = True\n",
    "    run = table[0].table.cell(9,j).text_frame.paragraphs[0]\n",
    "    run.font.bold = True\n",
    "    run = table[0].table.cell(10,j).text_frame.paragraphs[0]\n",
    "    run.font.bold = True\n",
    "    run = table[0].table.cell(14,j).text_frame.paragraphs[0]\n",
    "    run.font.bold = True\n",
    "    run = table[0].table.cell(22,j).text_frame.paragraphs[0]\n",
    "    run.font.bold = True\n",
    "table[0].table.cell(1,15).text = dat_2\n",
    "run = table[0].table.cell(1,15).text_frame.paragraphs[0]\n",
    "run.font.size = Pt(6)\n",
    "cell = table[0].table.cell(1, 15)\n",
    "cell.text_frame.paragraphs[0].alignment=PP_ALIGN.CENTER\n",
    "table[0].table.cell(1,20).text = dat_3\n",
    "run = table[0].table.cell(1,20).text_frame.paragraphs[0]\n",
    "run.font.size = Pt(6)\n",
    "cell = table[0].table.cell(1,20)\n",
    "cell.text_frame.paragraphs[0].alignment=PP_ALIGN.CENTER"
   ]
  },
  {
   "cell_type": "code",
   "execution_count": null,
   "metadata": {},
   "outputs": [],
   "source": [
    "for i in range(3,13):\n",
    "    table[0].table.cell(i,22).text = table_2.iloc[i-3, 4]\n",
    "    run = table[0].table.cell(i,22).text_frame.paragraphs[0]\n",
    "    run.font.bold = False\n",
    "    run.font.size = Pt(6)\n",
    "    cell = table[0].table.cell(i, 22)\n",
    "    cell.text_frame.paragraphs[0].alignment=PP_ALIGN.RIGHT\n",
    "for i in range(14,20):\n",
    "    table[0].table.cell(i,22).text = table_2.iloc[i-4, 4]\n",
    "    run = table[0].table.cell(i,22).text_frame.paragraphs[0]\n",
    "    run.font.bold = False\n",
    "    run.font.size = Pt(6)\n",
    "    cell = table[0].table.cell(i, 22)\n",
    "    cell.text_frame.paragraphs[0].alignment=PP_ALIGN.RIGHT\n",
    "for i in range(21,23):\n",
    "    table[0].table.cell(i,22).text = table_2.iloc[i-5, 4]\n",
    "    run = table[0].table.cell(i,22).text_frame.paragraphs[0]\n",
    "    run.font.bold = False\n",
    "    run.font.size = Pt(6)\n",
    "    cell = table[0].table.cell(i,22)\n",
    "    cell.text_frame.paragraphs[0].alignment=PP_ALIGN.RIGHT\n",
    "run = table[0].table.cell(3,22).text_frame.paragraphs[0]\n",
    "run.font.bold = True\n",
    "run = table[0].table.cell(9,22).text_frame.paragraphs[0]\n",
    "run.font.bold = True\n",
    "run = table[0].table.cell(10,22).text_frame.paragraphs[0]\n",
    "run.font.bold = True\n",
    "run = table[0].table.cell(14,22).text_frame.paragraphs[0]\n",
    "run.font.bold = True\n",
    "run = table[0].table.cell(22,22).text_frame.paragraphs[0]\n",
    "run.font.bold = True"
   ]
  },
  {
   "cell_type": "code",
   "execution_count": null,
   "metadata": {},
   "outputs": [],
   "source": [
    "prs.save(presentation)"
   ]
  },
  {
   "cell_type": "code",
   "execution_count": null,
   "metadata": {},
   "outputs": [],
   "source": []
  },
  {
   "cell_type": "code",
   "execution_count": null,
   "metadata": {},
   "outputs": [],
   "source": []
  },
  {
   "cell_type": "code",
   "execution_count": null,
   "metadata": {},
   "outputs": [],
   "source": []
  }
 ],
 "metadata": {
  "anaconda-cloud": {},
  "kernelspec": {
   "display_name": "Python 3",
   "language": "python",
   "name": "python3"
  },
  "language_info": {
   "codemirror_mode": {
    "name": "ipython",
    "version": 3
   },
   "file_extension": ".py",
   "mimetype": "text/x-python",
   "name": "python",
   "nbconvert_exporter": "python",
   "pygments_lexer": "ipython3",
   "version": "3.8.5"
  }
 },
 "nbformat": 4,
 "nbformat_minor": 1
}
